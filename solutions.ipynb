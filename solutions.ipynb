{
 "cells": [
  {
   "cell_type": "code",
   "execution_count": null,
   "id": "aa5857c5-bf95-4a1c-ac0a-38b8ad393632",
   "metadata": {},
   "outputs": [],
   "source": [
    "# Exercise 1: Calculate Area of Rectangle\n",
    "# Write a Python program to calculate the area of a rectangle with length 5 and width 3. Print the result to the console.\n",
    "\n",
    "# Define variables\n",
    "length = 5\n",
    "width = 3\n",
    "\n",
    "# Calculate area\n",
    "area = length * width\n",
    "\n",
    "# Print area\n",
    "print(\"Area of rectangle:\", area)\n"
   ]
  },
  {
   "cell_type": "code",
   "execution_count": null,
   "id": "babb4f50-0fdb-445f-b7d6-b625c83003fd",
   "metadata": {},
   "outputs": [],
   "source": [
    "# Exercise 2: Reverse a String\n",
    "# Write a Python program to reverse the string \"hello\" and print the result to the console.\n",
    "\n",
    "# Define string\n",
    "text = \"hello\"\n",
    "\n",
    "# Reverse string\n",
    "reversed_text = text[::-1]\n",
    "\n",
    "# Print reversed string\n",
    "print(\"Reversed String:\", reversed_text)\n"
   ]
  },
  {
   "cell_type": "code",
   "execution_count": null,
   "id": "805649f8-0396-42ad-835f-e3686d2883de",
   "metadata": {},
   "outputs": [],
   "source": [
    "# Exercise:\n",
    "# Write a function that takes a list of numbers as input and returns the sum of all the numbers in the list.\n",
    "\n",
    "def sum_of_list(numbers):\n",
    "    return sum(numbers)\n",
    "\n",
    "# Test the function\n",
    "print(sum_of_list([1, 2, 3, 4, 5]))  # Output: 15\n"
   ]
  },
  {
   "cell_type": "code",
   "execution_count": null,
   "id": "04d38646-fb4c-49da-811d-ffab2c3b6dfe",
   "metadata": {},
   "outputs": [],
   "source": [
    "# Exercise:\n",
    "# Write a function that takes two lists as input and returns a new list that contains only the unique elements from both lists.\n",
    "\n",
    "def unique_elements(list1, list2):\n",
    "    set1 = set(list1)\n",
    "    set2 = set(list2)\n",
    "    return list(set1.union(set2))\n",
    "\n",
    "# Test the function\n",
    "print(unique_elements([1, 2, 3], [3, 4, 5]))  # Output: [1, 2, 3, 4, 5]\n"
   ]
  },
  {
   "cell_type": "code",
   "execution_count": null,
   "id": "9631486d-f13c-4b1d-9e77-f455e1c23d45",
   "metadata": {},
   "outputs": [],
   "source": [
    "# Exercise 1: \n",
    "# Write a Python program to check if a given number is positive, negative, or zero.\n",
    "\n",
    "num = float(input(\"Enter a number: \"))\n",
    "if num > 0:\n",
    "    print(\"Positive number\")\n",
    "elif num < 0:\n",
    "    print(\"Negative number\")\n",
    "else:\n",
    "    print(\"Zero\")\n"
   ]
  },
  {
   "cell_type": "code",
   "execution_count": null,
   "id": "825e915e-c669-472b-83a0-4ef80b6bb9e5",
   "metadata": {},
   "outputs": [],
   "source": [
    "# Exercise 2: \n",
    "# Write a Python program to check if a given year is a leap year or not.\n",
    "\n",
    "year = int(input(\"Enter a year: \"))\n",
    "if (year % 4 == 0 and year % 100 != 0) or (year % 400 == 0):\n",
    "    print(f\"{year} is a leap year\")\n",
    "else:\n",
    "    print(f\"{year} is not a leap year\")\n"
   ]
  },
  {
   "cell_type": "code",
   "execution_count": null,
   "id": "f37f038d-c61b-4739-84f3-4f90cb9cc6bd",
   "metadata": {},
   "outputs": [],
   "source": [
    "# Exercise 1: \n",
    "# Write a Python program to calculate the factorial of a number using a `for` loop.\n",
    "num = int(input(\"Enter a number: \"))\n",
    "\n",
    "factorial = 1\n",
    "for i in range(1, num + 1):\n",
    "    factorial *= i\n",
    "print(f\"The factorial of {num} is {factorial}\")\n"
   ]
  },
  {
   "cell_type": "code",
   "execution_count": null,
   "id": "5243073f-3c19-4e63-b9ab-365ba3c96025",
   "metadata": {},
   "outputs": [],
   "source": [
    "# Exercise 2: \n",
    "# Write a Python program to print the Fibonacci sequence up to a certain number using a `while` loop.\n",
    "\n",
    "limit = int(input(\"Enter the limit: \"))\n",
    "a, b = 0, 1\n",
    "while a <= limit:\n",
    "    print(a)\n",
    "    a, b = b, a + b\n",
    "    "
   ]
  },
  {
   "cell_type": "code",
   "execution_count": null,
   "id": "ee5afcf0-91ab-4ae5-84df-ba2ca1e60326",
   "metadata": {},
   "outputs": [],
   "source": [
    "# Exercise 1: \n",
    "# Write a list comprehension to create a list of cubes of numbers from 1 to 5.**\n",
    "\n",
    "cubes = [x ** 3 for x in range(1, 6)]\n",
    "print(cubes)\n"
   ]
  },
  {
   "cell_type": "code",
   "execution_count": null,
   "id": "f28f2ef2-b0f6-4a75-a926-735cb075af66",
   "metadata": {},
   "outputs": [],
   "source": [
    "# Exercise 2: \n",
    "# Write a dictionary comprehension to create a dictionary where keys are numbers from 1 to 5 and values are their squares.**\n",
    "\n",
    "square_dict = {x: x ** 2 for x in range(1, 6)}\n",
    "print(square_dict)\n"
   ]
  },
  {
   "cell_type": "code",
   "execution_count": null,
   "id": "dd707edf-b430-4144-969f-4cd56fb69ae7",
   "metadata": {},
   "outputs": [],
   "source": [
    "#Exercise 1: \n",
    "# Write a function to calculate the factorial of a number.**\n",
    "\n",
    "def factorial(n):\n",
    "    if n == 0:\n",
    "        return 1\n",
    "    else:\n",
    "        return n * factorial(n - 1)\n",
    "\n",
    "result = factorial(5)\n",
    "print(result)\n"
   ]
  },
  {
   "cell_type": "code",
   "execution_count": null,
   "id": "bcc1e300-8263-4149-9036-7bcb4ec574ba",
   "metadata": {},
   "outputs": [],
   "source": [
    "#Exercise 2: \n",
    "# Write a function to check if a number is prime or not.**\n",
    "\n",
    "def is_prime(n):\n",
    "    if n <= 1:\n",
    "        return False\n",
    "    for i in range(2, int(n**0.5) + 1):\n",
    "        if n % i == 0:\n",
    "            return False\n",
    "    return True\n",
    "\n",
    "print(is_prime(11))\n"
   ]
  },
  {
   "cell_type": "code",
   "execution_count": null,
   "id": "7f29a9e2-4540-413e-9e8b-e028af9636c4",
   "metadata": {},
   "outputs": [],
   "source": [
    "# Exercise 1: \n",
    "# Write a Python program to count the number of vowels in a string.**\n",
    "\n",
    "def count_vowels(text):\n",
    "    count = 0\n",
    "    vowels = \"aeiouAEIOU\"\n",
    "    for char in text:\n",
    "        if char in vowels:\n",
    "            count += 1\n",
    "    return count\n",
    "\n",
    "text = \"Python programming\"\n",
    "print(count_vowels(text))\n"
   ]
  },
  {
   "cell_type": "code",
   "execution_count": null,
   "id": "93d89c5f-4390-43ee-a78f-fafbf30cb6b3",
   "metadata": {},
   "outputs": [],
   "source": [
    "# Exercise 2: \n",
    "# Write a Python program to check if a string is a palindrome.**\n",
    "\n",
    "def is_palindrome(text):\n",
    "    # Remove whitespace and convert to lowercase\n",
    "    text = text.replace(\" \", \"\").lower()\n",
    "    # Check if the string is equal to its reverse\n",
    "    return text == text[::-1]\n",
    "\n",
    "text = \"radar\"\n",
    "print(is_palindrome(text))\n"
   ]
  },
  {
   "cell_type": "code",
   "execution_count": null,
   "id": "fcd866eb-09b0-43d5-a93e-d2355a01816b",
   "metadata": {},
   "outputs": [],
   "source": [
    "# Exercise 1: \n",
    "# Create a 2D array of shape (3, 3) with values ranging from 1 to 9.**\n",
    "\n",
    "arr2d = np.arange(1, 10).reshape(3, 3)\n",
    "print(arr2d)\n"
   ]
  },
  {
   "cell_type": "code",
   "execution_count": null,
   "id": "178e7ce7-8dbe-4f98-acbb-d2161667127d",
   "metadata": {},
   "outputs": [],
   "source": [
    "# Exercise 2: \n",
    "# Compute the dot product of two matrices: [[1, 2], [3, 4]] and [[5, 6], [7, 8]].**\n",
    "\n",
    "arr1 = np.array([[1, 2], [3, 4]])\n",
    "arr2 = np.array([[5, 6], [7, 8]])\n",
    "dot_product = np.dot(arr1, arr2)\n",
    "print(dot_product)\n"
   ]
  },
  {
   "cell_type": "code",
   "execution_count": null,
   "id": "325ef5b8-2fe0-4c6f-8d22-2397d0b7c3da",
   "metadata": {},
   "outputs": [],
   "source": [
    "# Exercise 1: \n",
    "# Create a DataFrame from the following data:\n",
    "#   \n",
    "#   Name    Age    Salary\n",
    "#   Alice   25     50000\n",
    "#   Bob     30     60000\n",
    "#   Charlie 35     70000\n",
    "#   \n",
    "\n",
    "data = {'Name': ['Alice', 'Bob', 'Charlie'],\n",
    "        'Age': [25, 30, 35],\n",
    "        'Salary': [50000, 60000, 70000]}\n",
    "df = pd.DataFrame(data)\n",
    "print(df)\n"
   ]
  },
  {
   "cell_type": "code",
   "execution_count": null,
   "id": "440c42b1-6685-46e7-a2c7-e76f381f8894",
   "metadata": {},
   "outputs": [],
   "source": [
    "# Exercise 2: \n",
    "# Read a CSV file named 'sales_data.csv' into a DataFrame and display the first 5 rows.\n",
    "\n",
    "df = pd.read_csv('sales_data.csv')\n",
    "print(df.head())\n"
   ]
  },
  {
   "cell_type": "code",
   "execution_count": null,
   "id": "fd9d71f6-a4bd-4bfd-8586-8185629f8354",
   "metadata": {},
   "outputs": [],
   "source": [
    "# Exercise 3: \n",
    "# Select the rows where the salary is greater than 60000.\n",
    "\n",
    "print(df[df['Salary'] > 60000])\n"
   ]
  },
  {
   "cell_type": "code",
   "execution_count": null,
   "id": "da38ede3-168f-419b-9d48-34aa439d5cdb",
   "metadata": {},
   "outputs": [],
   "source": [
    "# Exercise 1: \n",
    "# Create a histogram of 1000 random numbers sampled from a normal distribution with mean 0 and standard deviation 1.\n",
    "\n",
    "import numpy as np\n",
    "\n",
    "data = np.random.normal(0, 1, 1000)\n",
    "plt.hist(data, bins=30)\n",
    "plt.xlabel('Value')\n",
    "plt.ylabel('Frequency')\n",
    "plt.title('Histogram')\n",
    "plt.show()\n"
   ]
  },
  {
   "cell_type": "code",
   "execution_count": null,
   "id": "cac47144-13b2-4b29-b656-b09fb9ca9793",
   "metadata": {},
   "outputs": [],
   "source": [
    "# Exercise 2: \n",
    "# Read a CSV file named 'data.csv' into a DataFrame and create a bar plot of the 'Sales' column.\n",
    "\n",
    "import pandas as pd\n",
    "\n",
    "df = pd.read_csv('data.csv')\n",
    "plt.bar(df.index, df['Sales'])\n",
    "plt.xlabel('Index')\n",
    "plt.ylabel('Sales')\n",
    "plt.title('Bar Plot')\n",
    "plt.show()\n"
   ]
  },
  {
   "cell_type": "code",
   "execution_count": null,
   "id": "7886ce78-478a-478d-9905-555d55ef9b9c",
   "metadata": {},
   "outputs": [],
   "source": [
    "# Exercise 3: \n",
    "# Create a box plot of the 'Age' column from the DataFrame created in Exercise 2.\n",
    "\n",
    "sns.boxplot(x='Age', data=df)\n",
    "plt.xlabel('Age')\n",
    "plt.title('Box Plot')\n",
    "plt.show()\n"
   ]
  },
  {
   "cell_type": "code",
   "execution_count": null,
   "id": "744c79ec-5b1e-4d30-a904-005afcf15f7c",
   "metadata": {},
   "outputs": [],
   "source": [
    "# Exercise 1: \n",
    "# Read a CSV file named 'sales_data.csv' into a DataFrame and display the first 5 rows.\n",
    "\n",
    "df = pd.read_csv('sales_data.csv')\n",
    "print(df.head())\n"
   ]
  },
  {
   "cell_type": "code",
   "execution_count": null,
   "id": "c56b563e-0eb4-4567-99c8-fc0270a77957",
   "metadata": {},
   "outputs": [],
   "source": [
    "# Exercise 2: \n",
    "# Handle missing values in the DataFrame created in Exercise 1 by filling them with the mean of the respective column.\n",
    "\n",
    "df.fillna(df.mean(), inplace=True)\n",
    "print(df.head())\n"
   ]
  },
  {
   "cell_type": "code",
   "execution_count": null,
   "id": "2b7e22aa-62f2-434a-b5f8-74f6a32da5f5",
   "metadata": {},
   "outputs": [],
   "source": [
    "# Exercise 3: \n",
    "# Create a new column in the DataFrame created in Exercise 1, which calculates the profit (Revenue - Cost).\n",
    "\n",
    "df['Profit'] = df['Revenue'] - df['Cost']\n",
    "print(df.head())\n"
   ]
  },
  {
   "cell_type": "code",
   "execution_count": null,
   "id": "636e48a4-8c33-4f5f-bba9-6eba4de150dd",
   "metadata": {},
   "outputs": [],
   "source": [
    "# Exercise 1: \n",
    "# Load a CSV file named 'data.csv' into a DataFrame and display the first 5 rows.\n",
    "\n",
    "import pandas as pd\n",
    "\n",
    "df = pd.read_csv('data.csv')\n",
    "print(df.head())\n"
   ]
  },
  {
   "cell_type": "code",
   "execution_count": null,
   "id": "3718c218-a7e1-46e7-8cf1-d6f5dd8ca47d",
   "metadata": {},
   "outputs": [],
   "source": [
    "# Exercise 2: \n",
    "# Calculate summary statistics for the DataFrame created in Exercise 1.\n",
    "\n",
    "import pandas as pd\n",
    "\n",
    "df = pd.read_csv('data.csv')\n",
    "print(df.describe())\n"
   ]
  },
  {
   "cell_type": "code",
   "execution_count": null,
   "id": "c673adbf-a4d3-4e32-9430-f1853f50680f",
   "metadata": {},
   "outputs": [],
   "source": [
    "# Exercise 3: \n",
    "# Create a box plot of the 'Income' column from the DataFrame created in Exercise 1.\n",
    "\n",
    "import seaborn as sns\n",
    "\n",
    "df = pd.read_csv('data.csv')\n",
    "sns.boxplot(data=df, y='Income')\n"
   ]
  },
  {
   "cell_type": "code",
   "execution_count": null,
   "id": "4c2cc068-51d1-4cca-9f3b-06540c520f0b",
   "metadata": {},
   "outputs": [],
   "source": [
    "# Exercise 1: \n",
    "# Load the Breast Cancer dataset from `sklearn.datasets`.\n",
    "\n",
    "from sklearn.datasets import load_breast_cancer\n",
    "\n",
    "# Load the Breast Cancer dataset\n",
    "breast_cancer = load_breast_cancer()\n",
    "X_bc, y_bc = breast_cancer.data, breast_cancer.target\n"
   ]
  },
  {
   "cell_type": "code",
   "execution_count": null,
   "id": "6f9412fb-5f96-469f-b3f1-4a86a21ce419",
   "metadata": {},
   "outputs": [],
   "source": [
    "# Exercise 2: \n",
    "# Train a Decision Tree classifier on the Breast Cancer dataset and evaluate its performance.\n",
    "\n",
    "from sklearn.tree import DecisionTreeClassifier\n",
    "\n",
    "# Train the Decision Tree classifier\n",
    "dt_model = DecisionTreeClassifier()\n",
    "dt_model.fit(X_bc, y_bc)\n",
    "\n",
    "# Make predictions\n",
    "y_pred_dt = dt_model.predict(X_bc)\n",
    "\n",
    "# Evaluate the model\n",
    "accuracy_dt = accuracy_score(y_bc, y_pred_dt)\n",
    "print(\"Decision Tree Accuracy:\", accuracy_dt)\n"
   ]
  },
  {
   "cell_type": "code",
   "execution_count": null,
   "id": "c95828af-7cfe-44eb-ad96-a95641b77156",
   "metadata": {},
   "outputs": [],
   "source": [
    "# Exercise 3: \n",
    "# Use K-Means clustering on the Iris dataset and visualize the clusters.\n",
    "\n",
    "from sklearn.cluster import KMeans\n",
    "import matplotlib.pyplot as plt\n",
    "\n",
    "# Apply K-Means clustering\n",
    "kmeans = KMeans(n_clusters=3)\n",
    "kmeans.fit(X)\n",
    "labels = kmeans.labels_\n",
    "\n",
    "# Visualize the clusters\n",
    "plt.scatter(X[:, 0], X[:, 1], c=labels, cmap='viridis')\n",
    "plt.xlabel('Sepal Length')\n",
    "plt.ylabel('Sepal Width')\n",
    "plt.title('K-Means Clustering')\n",
    "plt.show()\n"
   ]
  }
 ],
 "metadata": {
  "kernelspec": {
   "display_name": "Python 3 (ipykernel)",
   "language": "python",
   "name": "python3"
  },
  "language_info": {
   "codemirror_mode": {
    "name": "ipython",
    "version": 3
   },
   "file_extension": ".py",
   "mimetype": "text/x-python",
   "name": "python",
   "nbconvert_exporter": "python",
   "pygments_lexer": "ipython3",
   "version": "3.8.18"
  }
 },
 "nbformat": 4,
 "nbformat_minor": 5
}
