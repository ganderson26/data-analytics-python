{
 "cells": [
  {
   "cell_type": "markdown",
   "id": "6254d9a4-3e82-4dc2-a6d5-0c79422d08cf",
   "metadata": {},
   "source": [
    "# Data Analytics with Python\n",
    "\n",
    "## Overview\n",
    "\n",
    "This course will provide you with the essential knowledge and skills to effectively analyze, visualize, and \n",
    "derive insights from data using Python.\n",
    "\n",
    "Afer we have setup our Python development environment, we will take a quick overview of Python basics. Then we will study\n",
    "various packages and libraries commonly used for data analytics.\n",
    "\n",
    "Lastly, we will take a quick look at machine learning with a few case studies.\n"
   ]
  },
  {
   "cell_type": "markdown",
   "id": "de9ab02c-d408-4af0-bab4-90a0d45cf3a7",
   "metadata": {},
   "source": [
    "## Objectives\n",
    "\n",
    "1. Understand the significance of data analytics.\n",
    "2. Explore the lifecycle of a data analytics project and the role of Python in each stage.\n",
    "3. Gain familiarity with essential Python libraries for data manipulation, analysis, and visualization.\n",
    "4. Learn how to set up a Python environment for data analytics using Jupyter Notebooks.\n"
   ]
  },
  {
   "cell_type": "markdown",
   "id": "e147fa26-05e2-40b6-a5d5-494cf771c38e",
   "metadata": {},
   "source": [
    "## Prerequisites\n",
    "\n",
    "Some programming basics is recommended.\n"
   ]
  },
  {
   "cell_type": "markdown",
   "id": "5bdfc7a3-59d4-4306-8be0-1f1f85e20f40",
   "metadata": {},
   "source": [
    "## Agenda\n",
    "\n",
    "We usually spend some time with setup in the first day. After that, we can expect to cover Python and NumPy on the first day and maybe into the second day. On day 2, we will cover Pandas and Visualization. On the last day, we will take a look at Data Wrangling, Exploration and Machine Learning with SkLearn. There are a few case studies we will work on.\n"
   ]
  },
  {
   "cell_type": "markdown",
   "id": "ed820b36-687f-4407-ab27-1c7fdd7f9977",
   "metadata": {},
   "source": [
    "## Hours\n",
    "\n",
    "We will start CST at 9am and end at 4pm with lunch at 12 for 1 hour. We will have a few short breaks. We will try to end each day with a lab.\n"
   ]
  },
  {
   "cell_type": "markdown",
   "id": "2eec0bfd-6631-4a17-82d9-2647d62bcca7",
   "metadata": {},
   "source": [
    "## Outline\n"
   ]
  },
  {
   "cell_type": "markdown",
   "id": "5d87d33e-4de0-4a6e-94ef-75d6cb752e45",
   "metadata": {},
   "source": [
    "### 1. Setup\n",
    "\n",
    "1. [Setup a Python Development Environment](1-setup/1-setup.ipynb)\n",
    "2. [Test Setup](1-setup/2-test-setup.ipynb)\n",
    "3. [Getting Started with JupyterLab](1-setup/3-jupyter-lab.ipynb)\n"
   ]
  },
  {
   "cell_type": "markdown",
   "id": "e5fc8543-fc71-4a33-a046-66d23f9a74f1",
   "metadata": {},
   "source": [
    "### 2. Overview\n",
    "\n",
    "1. [What is Data Analysis?](2-overview/1-data-analytics.ipynb)\n",
    "2. [What is the Difference between Data Analysis and Data Science?](2-overview/2-data-analytics-vs-data-science.ipynb)\n"
   ]
  },
  {
   "cell_type": "markdown",
   "id": "516db19f-9fd9-4842-a110-7e059fd4512c",
   "metadata": {
    "jp-MarkdownHeadingCollapsed": true,
    "tags": []
   },
   "source": [
    "### 3. Python\n",
    "\n",
    "1. [Introduction](3-python/1-python-intro.ipynb)\n",
    "2. [Data Types and Variables](3-python/2-python-data-types-variables.ipynb)\n",
    "3. [Data Structures](3-python/3-python-data-structures.ipynb)\n",
    "4. [Conditionals](3-python/4-python-conditionals.ipynb)\n",
    "5. [Loops](3-python/5-python-loops.ipynb)\n",
    "6. [Comprehensions](3-python/6-python-comprehensions.ipynb)\n",
    "7. [Functions](3-python/7-python-functions.ipynb)\n",
    "8. [Strings](3-python/8-python-strings.ipynb)\n"
   ]
  },
  {
   "cell_type": "markdown",
   "id": "e7e7d930-c12b-445d-bb21-04f8ddc8d028",
   "metadata": {},
   "source": [
    "### 4. Numpy\n",
    "\n",
    "1. [Introduction](4-numpy/1-numpy-intro.ipynb)\n",
    "2. [Basic Arrays](4-numpy/2-numpy-arrays.ipynb)\n",
    "3. [Mathematical Functions](4-numpy/3-numpy-math.ipynb)\n",
    "4. [Handy Arrays](4-numpy/4-numpy-handy-arrays.ipynb)\n",
    "5. [Indexing and Slicing](4-numpy/5-numpy-index-slice.ipynb)\n",
    "6. [Benchmark](4-numpy/6-numpy-benchmark.ipynb)\n",
    "7. [Exercises](4-numpy/7-numpy-exercises.ipynb)\n"
   ]
  },
  {
   "cell_type": "markdown",
   "id": "bfbbf1b7-bbab-4b22-90ac-5cb31b24d399",
   "metadata": {},
   "source": [
    "### 5. Pandas\n",
    "\n",
    "1. [Introduction](5-pandas/1-pandas-intro.ipynb)\n",
    "2. [Basics](5-pandas/2-pandas-basics.ipynb)\n",
    "3. [Indexing](5-pandas/3-pandas-indexing.ipynb)\n",
    "4. [Filter](5-pandas/4-pandas-filter.ipynb)\n",
    "5. [Group By](5-pandas/5-pandas-groupby.ipynb)\n",
    "6. [Operations](5-pandas/6-pandas-operations.ipynb)\n"
   ]
  },
  {
   "cell_type": "markdown",
   "id": "b75c7516-90c6-4f1f-83d7-62ea20c1be0e",
   "metadata": {},
   "source": [
    "### 6. Visualization\n",
    "\n",
    "1. [Introduction](6-visualization/1-visualization-intro.ipynb)\n",
    "2. [Basics](6-visualization/2-visualization-basics.ipynb)\n",
    "3. [Box Plots](6-visualization/3-visualization-box-plots.ipynb)\n",
    "4. [Histograms](6-visualization/4-visualization-histograms.ipynb)\n",
    "5. [Scatter Plots](6-visualization/5-visualization-scatter-plots.ipynb)\n",
    "6. [Pair Plots](6-visualization/6-visualization-pair-plots.ipynb)\n",
    "7. [Violin Plots](6-visualization/7-visualization-violin-plots.ipynb)\n",
    "8. [Subplots](6-visualization/8-visualization-subplots.ipynb)\n",
    "9. [Heatmaps](6-visualization/9-visualization-heatmaps.ipynb)\n"
   ]
  },
  {
   "cell_type": "markdown",
   "id": "d9a139b3-f5e1-4211-820c-b4ef0032ef18",
   "metadata": {},
   "source": [
    "### 7. Wrangling\n",
    "\n",
    "1. [Introduction](7-wrangling/1-wrangling-intro.ipynb)\n",
    "2. [Basics](7-wrangling/2-wrangling-basics.ipynb)\n",
    "3. [Duplicates](7-wrangling/3-wrangling-duplicates.ipynb)\n",
    "4. [Dates](7-wrangling/4-wrangling-dates.ipynb)\n",
    "5. [Incorrect Values](7-wrangling/5-wrangling-incorrect-values.ipynb)\n",
    "6. [Missing Info](7-wrangling/6-wrangling-missing-info.ipynb)\n",
    "7. [Type Conversion](7-wrangling/7-wrangling-type-conversion.ipynb)\n"
   ]
  },
  {
   "cell_type": "markdown",
   "id": "f6de173f-4f93-4aa8-a2e3-8f4bdbb90111",
   "metadata": {},
   "source": [
    "### 8. Exploration\n",
    "\n",
    "1. [Introduction](8-exploration/1-exploration-intro.ipynb)\n"
   ]
  },
  {
   "cell_type": "markdown",
   "id": "18decdd5-9bd7-4e41-af16-4988375bbd08",
   "metadata": {},
   "source": [
    "### 9. Sklearn\n",
    "\n",
    "1. [Introduction](9-sklearn/1-sklearn-intro.ipynb)\n"
   ]
  },
  {
   "cell_type": "markdown",
   "id": "83149009-e387-4907-9df0-fba6024bbe24",
   "metadata": {},
   "source": [
    "### 10. Excel\n",
    "\n",
    "1. [Introduction](10-excel/1-excel-intro.ipynb)\n",
    "2. [Reading and Writing](10-excel/2-excel-reading-writing.ipynb)\n"
   ]
  },
  {
   "cell_type": "markdown",
   "id": "61fd35c6-888d-4d3c-a419-0a040a58a71f",
   "metadata": {},
   "source": [
    "### 11. GUI\n",
    "\n",
    "1. [Introduction](11-gui/1-gui-intro.ipynb)\n"
   ]
  },
  {
   "cell_type": "markdown",
   "id": "8e43eebd-3426-4b0b-a21c-169e8f9c8974",
   "metadata": {
    "tags": []
   },
   "source": [
    "### 12. Case Studies\n",
    "\n",
    "1. [GUI Unemployment Rates](12-case-studies/case-study-unemployment-excel-gui/analyze-unemployment-rates.ipynb)\n",
    "2. [Predict Waiter Tips](12-case-studies/case-study-waiter-tips-sklearn/predict-waiter-tips.ipynb)\n"
   ]
  },
  {
   "cell_type": "markdown",
   "id": "18917b7c-8801-46a7-82ce-e57b4d351e5e",
   "metadata": {},
   "source": [
    "### Resources\n",
    "\n",
    "[Additional Case Studies and Other Information](resources/resources.ipynb)\n"
   ]
  },
  {
   "cell_type": "markdown",
   "id": "168ab288-7e64-4746-a5f7-370146ec9b0f",
   "metadata": {},
   "source": [
    "<details>\n",
    "<summary><b>Instructor Notes</b></summary>\n",
    "\n",
    "Ask Questions!\n",
    "    \n",
    " \n",
    "\n",
    "</details>"
   ]
  }
 ],
 "metadata": {
  "kernelspec": {
   "display_name": "Python 3 (ipykernel)",
   "language": "python",
   "name": "python3"
  },
  "language_info": {
   "codemirror_mode": {
    "name": "ipython",
    "version": 3
   },
   "file_extension": ".py",
   "mimetype": "text/x-python",
   "name": "python",
   "nbconvert_exporter": "python",
   "pygments_lexer": "ipython3",
   "version": "3.11.5"
  }
 },
 "nbformat": 4,
 "nbformat_minor": 5
}
