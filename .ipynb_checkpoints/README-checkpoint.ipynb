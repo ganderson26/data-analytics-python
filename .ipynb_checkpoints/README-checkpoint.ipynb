{
 "cells": [
  {
   "cell_type": "markdown",
   "id": "6254d9a4-3e82-4dc2-a6d5-0c79422d08cf",
   "metadata": {},
   "source": [
    "# Data Analytics with Python\n",
    "\n",
    "## Overview\n",
    "\n",
    "This course will provide you with the essential knowledge and skills to effectively analyze, visualize, and \n",
    "derive insights from data using Python.\n",
    "\n",
    "Afer we have setup our Python development environment, we will take a quick overview of Python basics. Then we will study\n",
    "various packages and libraries commonly used for data analytics.\n",
    "\n",
    "Lastly, we will take a quick look at machine learning with a few case studies.\n"
   ]
  },
  {
   "cell_type": "markdown",
   "id": "de9ab02c-d408-4af0-bab4-90a0d45cf3a7",
   "metadata": {},
   "source": [
    "## Objectives\n",
    "\n",
    "1. Understand the significance of data analytics.\n",
    "2. Explore the lifecycle of a data analytics project and the role of Python in each stage.\n",
    "3. Gain familiarity with essential Python libraries for data manipulation, analysis, and visualization.\n",
    "4. Learn how to set up a Python environment for data analytics using Jupyter Notebooks.\n"
   ]
  },
  {
   "cell_type": "markdown",
   "id": "e147fa26-05e2-40b6-a5d5-494cf771c38e",
   "metadata": {},
   "source": [
    "## Prerequisites\n",
    "\n",
    "Some programming basics is recommended.\n"
   ]
  },
  {
   "cell_type": "markdown",
   "id": "5bdfc7a3-59d4-4306-8be0-1f1f85e20f40",
   "metadata": {},
   "source": [
    "## Agenda\n",
    "\n",
    "We usually spend some time with setup in the first day. After that, we can expect to cover Python and NumPy on the first day and maybe into the second day. On day 2, we will cover Pandas and Visualization. On the last day, we will take a look at Data Wrangling, Exploration and Machine Learning with SkLearn. There are a few case studies we will work on.\n"
   ]
  },
  {
   "cell_type": "markdown",
   "id": "ed820b36-687f-4407-ab27-1c7fdd7f9977",
   "metadata": {},
   "source": [
    "## Hours\n",
    "\n",
    "We will start CST at 9am and end at 4pm with lunch at 12 for 1 hour. We will have a few short breaks. We will try to end each day with a lab.\n"
   ]
  },
  {
   "cell_type": "markdown",
   "id": "2eec0bfd-6631-4a17-82d9-2647d62bcca7",
   "metadata": {},
   "source": [
    "## Outline\n"
   ]
  },
  {
   "cell_type": "markdown",
   "id": "5d87d33e-4de0-4a6e-94ef-75d6cb752e45",
   "metadata": {},
   "source": [
    "### Setup\n",
    "\n",
    "1. [Setup a Python Development Environment](setup/1-setup.ipynb)\n",
    "2. [Test Setup](setup/2-test-setup.ipynb)\n",
    "3. [Getting Started with JupyterLab](setup/3-jupyter-lab.ipynb)\n"
   ]
  },
  {
   "cell_type": "markdown",
   "id": "e5fc8543-fc71-4a33-a046-66d23f9a74f1",
   "metadata": {},
   "source": [
    "### Overview\n",
    "\n",
    "1. [What is Data Analysis?](overview/1-data-analytics.ipynb)\n",
    "2. [What is the Difference between Data Analysis and Data Science?](overview/2-data-analytics-vs-data-science.ipynb)\n"
   ]
  },
  {
   "cell_type": "markdown",
   "id": "516db19f-9fd9-4842-a110-7e059fd4512c",
   "metadata": {},
   "source": [
    "### Python\n",
    "\n",
    "1. [Introduction](python/1-python-intro.ipynb)\n",
    "2. [Data Types and Variables](python/2-python-data-types-variables.ipynb)\n",
    "3. [Data Structures](python/3-python-data-structures.ipynb)\n",
    "4. [Conditionals](python/4-python-conditionals.ipynb)\n",
    "5. [Loops](python/5-python-loops.ipynb)\n",
    "6. [Comprehensions](python/6-python-comprehensions.ipynb)\n",
    "7. [Functions](python/7-python-functions.ipynb)\n",
    "8. [Strings](python/8-python-strings.ipynb)\n"
   ]
  },
  {
   "cell_type": "markdown",
   "id": "e7e7d930-c12b-445d-bb21-04f8ddc8d028",
   "metadata": {},
   "source": [
    "### Numpy\n",
    "\n",
    "1. [Introduction](numpy/1-numpy-intro.ipynb)\n"
   ]
  },
  {
   "cell_type": "markdown",
   "id": "bfbbf1b7-bbab-4b22-90ac-5cb31b24d399",
   "metadata": {},
   "source": [
    "### Pandas\n",
    "\n",
    "1. [Introduction](pandas/1-pandas-intro.ipynb)\n",
    "2. [Indexing](pandas/2-pandas-indexing.ipynb)\n",
    "3. [Filter](pandas/3-pandas-filter.ipynb)\n",
    "4. [Group By](pandas/4-pandas-groupby.ipynb)\n",
    "5. [Operations](pandas/5-pandas-operations.ipynb)\n"
   ]
  },
  {
   "cell_type": "markdown",
   "id": "b75c7516-90c6-4f1f-83d7-62ea20c1be0e",
   "metadata": {},
   "source": [
    "### Visualization\n",
    "\n",
    "1. [Introduction](visualization/1-visualization-intro.ipynb)\n",
    "2. [Box Plots](visualization/2-visualization-box-plots.ipynb)\n",
    "3. [Histograms](visualization/3-visualization-histograms.ipynb)\n",
    "4. [Scatter Plots](visualization/4-visualization-scatter-plots.ipynb)\n",
    "5. [Pair Plots](visualization/5-visualization-pair-plots.ipynb)\n",
    "6. [Violin Plots](visualization/6-visualization-violin-plots.ipynb)\n",
    "7. [Subplots](visualization/7-visualization-subplots.ipynb)\n",
    "8. [Heatmaps](visualization/8-visualization-heatmaps.ipynb)\n"
   ]
  },
  {
   "cell_type": "markdown",
   "id": "d9a139b3-f5e1-4211-820c-b4ef0032ef18",
   "metadata": {},
   "source": [
    "### Wrangling\n",
    "\n",
    "1. [Introduction](wrangling/1-wrangling-intro.ipynb)\n",
    "2. [Duplicates](wrangling/2-wrangling-duplicates.ipynb)\n",
    "3. [Dates](wrangling/3-wrangling-dates.ipynb)\n",
    "4. [Incorrect Values](wrangling/4-wrangling-incorrect-values.ipynb)\n",
    "5. [Missing Info](wrangling/5-wrangling-missing-info.ipynb)\n",
    "6. [Type Conversion](wrangling/6-wrangling-type-conversion.ipynb)\n"
   ]
  },
  {
   "cell_type": "markdown",
   "id": "f6de173f-4f93-4aa8-a2e3-8f4bdbb90111",
   "metadata": {},
   "source": [
    "### Exploration\n",
    "\n",
    "1. [Introduction](exploration/1-exploration-intro.ipynb)\n"
   ]
  },
  {
   "cell_type": "markdown",
   "id": "18decdd5-9bd7-4e41-af16-4988375bbd08",
   "metadata": {},
   "source": [
    "### Sklearn\n",
    "\n",
    "1. [Introduction](sklearn/1-sklearn-intro.ipynb)\n"
   ]
  },
  {
   "cell_type": "markdown",
   "id": "83149009-e387-4907-9df0-fba6024bbe24",
   "metadata": {},
   "source": [
    "### Excel\n",
    "\n",
    "1. [Introduction](excel/1-excel-intro.ipynb)\n"
   ]
  },
  {
   "cell_type": "markdown",
   "id": "61fd35c6-888d-4d3c-a419-0a040a58a71f",
   "metadata": {},
   "source": [
    "### GUI\n",
    "\n",
    "1. [Introduction](gui/1-gui-intro.ipynb)\n"
   ]
  },
  {
   "cell_type": "markdown",
   "id": "8e43eebd-3426-4b0b-a21c-169e8f9c8974",
   "metadata": {
    "tags": []
   },
   "source": [
    "### Case Studies\n",
    "\n",
    "1. [GUI Unemployment Rates](case-study-unemployment-excel-gui/analyze-unemployment-rates.ipynb)\n",
    "2. [Predict Waiter Tips](case-study-waiter-tips-sklearn/predict-waiter-tips.ipynb)\n"
   ]
  },
  {
   "cell_type": "markdown",
   "id": "18917b7c-8801-46a7-82ce-e57b4d351e5e",
   "metadata": {},
   "source": [
    "### Resources\n",
    "\n",
    "[Additional Case Studies and Other Information](resources/resources.ipynb)\n"
   ]
  },
  {
   "cell_type": "markdown",
   "id": "168ab288-7e64-4746-a5f7-370146ec9b0f",
   "metadata": {},
   "source": [
    "<details>\n",
    "<summary><b>Instructor Notes</b></summary>\n",
    "\n",
    "Ask Questions!\n",
    "    \n",
    " \n",
    "\n",
    "</details>"
   ]
  }
 ],
 "metadata": {
  "kernelspec": {
   "display_name": "Python 3 (ipykernel)",
   "language": "python",
   "name": "python3"
  },
  "language_info": {
   "codemirror_mode": {
    "name": "ipython",
    "version": 3
   },
   "file_extension": ".py",
   "mimetype": "text/x-python",
   "name": "python",
   "nbconvert_exporter": "python",
   "pygments_lexer": "ipython3",
   "version": "3.12.2"
  }
 },
 "nbformat": 4,
 "nbformat_minor": 5
}
