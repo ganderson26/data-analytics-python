{
 "cells": [
  {
   "cell_type": "raw",
   "id": "a6ed29a5-652d-4368-8548-fd3acb89e6af",
   "metadata": {},
   "source": [
    "# Data Analytics with Python\n",
    "\n",
    "## Overview\n",
    "\n",
    "This course will provide you with the essential knowledge and skills to effectively analyze, visualize, and \n",
    "derive insights from data using Python.\n",
    "\n",
    "## Objectives\n",
    "1. Understand the significance of data analytics.\n",
    "2. Explore the lifecycle of a data analytics project and the role of Python in each stage.\n",
    "3. Gain familiarity with essential Python libraries for data manipulation, analysis, and visualization.\n",
    "4. Learn how to set up a Python environment for data analytics using Jupyter Notebooks.\n",
    "\n",
    "## Prerequisites\n",
    "\n",
    "\n",
    "## Outline\n",
    "\n",
    "### Setup\n",
    "1. [Setup a Python Development Environment](setup/1-setup.ipynb)\n",
    "2. [Test Setup](setup/2-test-setup.ipynb)\n",
    "3. [Getting Started with JupyterLab](setup/3-jupyter-lab.ipynb)\n",
    "\n",
    "### Overview\n",
    "1. [What is Data Analysis?](overview/1-data-analytics.ipynb)\n",
    "2. [What is the Difference between Data Analysis and Data Science?](overview/2-data-analytics-vs-data-science.ipynb)\n",
    "\n",
    "### Python\n",
    "1. [Introduction](python/1-python-intro.ipynb)\n",
    "2. [Data Types and Variables](python/2-python-data-types-variables.ipynb)\n",
    "3. [Data Structures](python/3-python-data-structures.ipynb)\n",
    "4. [Conditionals](python/4-python-conditionals.ipynb)\n",
    "5. [Loops](python/5-python-loops.ipynb)\n",
    "6. [Comprehensions](python/6-python-comprehensions.ipynb)\n",
    "7. [Functions](python/7-python-functions.ipynb)\n",
    "8. [Strings](python/8-python-strings.ipynb)\n",
    "\n",
    "### Numpy\n",
    "1. [Introduction](numpy/1-numpy-intro.ipynb)\n",
    "\n",
    "### Pandas\n",
    "1. [Introduction](pandas/1-pandas-intro.ipynb)\n",
    "\n",
    "### Visualization\n",
    "1. [Introduction](visualization/1-visualization-intro.ipynb)\n",
    "\n",
    "### Wrangling\n",
    "1. [Introduction](wrangling/1-wrangling-intro.ipynb)\n",
    "\n",
    "### Exploration\n",
    "1. [Introduction](exploration/1-exploration-intro.ipynb)\n",
    "\n",
    "### Sklearn\n",
    "1. [Introduction](sklearn/1-sklearn-intro.ipynb)\n",
    "\n",
    "### Resources\n",
    "[Additional Case Studies and Other Information](resources/resources.ipynb)\n"
   ]
  }
 ],
 "metadata": {
  "kernelspec": {
   "display_name": "Python 3 (ipykernel)",
   "language": "python",
   "name": "python3"
  },
  "language_info": {
   "codemirror_mode": {
    "name": "ipython",
    "version": 3
   },
   "file_extension": ".py",
   "mimetype": "text/x-python",
   "name": "python",
   "nbconvert_exporter": "python",
   "pygments_lexer": "ipython3",
   "version": "3.8.18"
  }
 },
 "nbformat": 4,
 "nbformat_minor": 5
}
