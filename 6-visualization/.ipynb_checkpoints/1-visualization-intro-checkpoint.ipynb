{
 "cells": [
  {
   "cell_type": "markdown",
   "id": "289131bf-5fc4-430c-86e0-d646a5955917",
   "metadata": {},
   "source": [
    "# Python Tutorial: Data Visualization\n",
    "\n",
    "Data visualization is the graphical representation of data to uncover patterns, trends, and insights. Python offers several libraries for creating visualizations, with Matplotlib and Seaborn being the most popular ones. In this tutorial, we'll focus on Matplotlib for basic plotting and Seaborn for more advanced visualizations.\n"
   ]
  },
  {
   "cell_type": "markdown",
   "id": "a365db2f-def7-4e75-a114-2ebbdb730b2d",
   "metadata": {},
   "source": [
    "## Matplotlib and Seaborn\n",
    "\n",
    "https://matplotlib.org\n",
    "\n",
    "https://seaborn.pydata.org\n"
   ]
  },
  {
   "cell_type": "markdown",
   "id": "028c2370-0a84-41ee-bd91-64bc84d8c6a1",
   "metadata": {},
   "source": [
    "## Summary\n",
    "\n",
    "Data visualization is a powerful tool for gaining insights from data and communicating findings effectively. Python offers a rich ecosystem of libraries for creating various types of visualizations, allowing you to explore and present your data in meaningful ways.\n"
   ]
  },
  {
   "cell_type": "markdown",
   "id": "d7fb6d9d-d78f-403b-a9cc-0e6df6acff95",
   "metadata": {},
   "source": [
    "<details>\n",
    "<summary><b>Instructor Notes</b></summary>\n",
    "\n",
    "Nothing to add...\n",
    "\n",
    "</details>"
   ]
  }
 ],
 "metadata": {
  "kernelspec": {
   "display_name": "Python 3 (ipykernel)",
   "language": "python",
   "name": "python3"
  },
  "language_info": {
   "codemirror_mode": {
    "name": "ipython",
    "version": 3
   },
   "file_extension": ".py",
   "mimetype": "text/x-python",
   "name": "python",
   "nbconvert_exporter": "python",
   "pygments_lexer": "ipython3",
   "version": "3.11.5"
  }
 },
 "nbformat": 4,
 "nbformat_minor": 5
}
