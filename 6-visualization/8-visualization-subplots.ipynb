{
 "cells": [
  {
   "cell_type": "markdown",
   "id": "2790dffd-70ac-4e1f-8d1b-f50980e98a0f",
   "metadata": {},
   "source": [
    "# Python Tutorial: Subplots in Python with Matplotlib\n",
    "\n",
    "Subplots in Matplotlib allow you to display multiple plots within a single figure, making it easier to compare different datasets or visualize related information. In this tutorial, we'll learn how to create subplots in Python using Matplotlib, along with examples, exercises, and solutions.\n"
   ]
  },
  {
   "cell_type": "markdown",
   "id": "f7843074-636c-4c08-9215-a1600e338d3f",
   "metadata": {},
   "source": [
    "### Prerequisites\n",
    "\n",
    "Before starting this tutorial, make sure you have the following installed:\n",
    "\n",
    "- Python (https://www.python.org/downloads/)\n",
    "- Matplotlib library (can be installed via pip: `pip install matplotlib`)\n"
   ]
  },
  {
   "cell_type": "markdown",
   "id": "7be7dca0-32ab-4a97-bf53-8346f49aa14c",
   "metadata": {},
   "source": [
    "### Basic Subplots\n",
    "\n",
    "Let's start by creating a simple example with two subplots side by side:\n"
   ]
  },
  {
   "cell_type": "code",
   "execution_count": null,
   "id": "812562e8-272e-4b40-8018-283e3f828577",
   "metadata": {},
   "outputs": [],
   "source": [
    "import matplotlib.pyplot as plt\n",
    "\n",
    "# Create some data\n",
    "x = range(10)\n",
    "y1 = [i for i in x]\n",
    "y2 = [i**2 for i in x]\n",
    "\n",
    "# Create subplots\n",
    "plt.figure(figsize=(10, 4))\n",
    "\n",
    "plt.subplot(1, 2, 1)  # 1 row, 2 columns, first subplot\n",
    "plt.plot(x, y1)\n",
    "plt.title('Linear')\n",
    "\n",
    "plt.subplot(1, 2, 2)  # 1 row, 2 columns, second subplot\n",
    "plt.plot(x, y2)\n",
    "plt.title('Quadratic')\n",
    "\n",
    "plt.tight_layout()\n",
    "plt.show()\n"
   ]
  },
  {
   "cell_type": "markdown",
   "id": "7fe47bc3-90d5-4dd4-a794-619405946502",
   "metadata": {},
   "source": [
    "In this example, we have two subplots arranged side by side, each displaying different data.\n"
   ]
  },
  {
   "cell_type": "markdown",
   "id": "26b96fb2-0375-4dab-b2ca-d168fbf74690",
   "metadata": {},
   "source": [
    "### Exercise 1:\n",
    "\n",
    "Create a subplot with three plots stacked vertically. Plot sine, cosine, and tangent functions in each subplot.\n"
   ]
  },
  {
   "cell_type": "code",
   "execution_count": null,
   "id": "1329c149-7146-42f9-bf44-7416e80c2488",
   "metadata": {},
   "outputs": [],
   "source": [
    "# Solution\n"
   ]
  },
  {
   "cell_type": "markdown",
   "id": "eeea881d-77bb-46fd-b4fa-85c6d7fb96eb",
   "metadata": {},
   "source": [
    "### Subplots with Different Sizes\n",
    "\n",
    "Sometimes, you may want subplots of different sizes. Let's create an example with two subplots, one larger than the other:\n"
   ]
  },
  {
   "cell_type": "code",
   "execution_count": null,
   "id": "7828c574-1d9c-47ed-86b0-741a72febd19",
   "metadata": {},
   "outputs": [],
   "source": [
    "plt.figure(figsize=(10, 6))\n",
    "\n",
    "plt.subplot(2, 1, 1)  # 2 rows, 1 column, first subplot\n",
    "plt.plot(x, y1)\n",
    "plt.title('Linear')\n",
    "\n",
    "plt.subplot(2, 1, 2)  # 2 rows, 1 column, second subplot\n",
    "plt.plot(x, y2)\n",
    "plt.title('Quadratic')\n",
    "\n",
    "plt.tight_layout()\n",
    "plt.show()\n"
   ]
  },
  {
   "cell_type": "markdown",
   "id": "f06820c7-07fa-48db-9915-0508800b2af2",
   "metadata": {},
   "source": [
    "### Exercise 2:\n",
    "\n",
    "Create a 2x2 grid of subplots. Plot different mathematical functions (e.g., square root, exponential, logarithmic) in each subplot.\n"
   ]
  },
  {
   "cell_type": "code",
   "execution_count": null,
   "id": "1f1db18c-30a9-4421-ae28-03ec0fd0e144",
   "metadata": {},
   "outputs": [],
   "source": [
    "# Solution\n"
   ]
  },
  {
   "cell_type": "markdown",
   "id": "90ebbb1f-2b8c-4d8f-abec-2ba3f21db391",
   "metadata": {},
   "source": [
    "## Summary\n",
    "\n",
    "In this tutorial, we learned how to create subplots in Python using Matplotlib. Subplots are a powerful tool for visualizing multiple datasets within the same figure. By arranging subplots in various configurations, you can effectively compare and analyze different aspects of your data. Practice creating subplots with different layouts and datasets to become more comfortable with this functionality.\n"
   ]
  },
  {
   "cell_type": "markdown",
   "id": "9b4a744a-8348-44ef-9580-7a8cf4719c90",
   "metadata": {},
   "source": [
    "<details>\n",
    "<summary><b>Instructor Notes</b></summary>\n",
    "\n",
    "Nothing to add...\n",
    "\n",
    "</details>"
   ]
  }
 ],
 "metadata": {
  "kernelspec": {
   "display_name": "Python 3 (ipykernel)",
   "language": "python",
   "name": "python3"
  },
  "language_info": {
   "codemirror_mode": {
    "name": "ipython",
    "version": 3
   },
   "file_extension": ".py",
   "mimetype": "text/x-python",
   "name": "python",
   "nbconvert_exporter": "python",
   "pygments_lexer": "ipython3",
   "version": "3.11.5"
  }
 },
 "nbformat": 4,
 "nbformat_minor": 5
}
