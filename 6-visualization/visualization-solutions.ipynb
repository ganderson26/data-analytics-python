{
 "cells": [
  {
   "cell_type": "code",
   "execution_count": null,
   "id": "ba4d45d5-b258-493f-8870-7048e4bfb19a",
   "metadata": {},
   "outputs": [],
   "source": [
    "# Exercise 1: \n",
    "# Create a box plot with horizontal orientation for a dataset of your choice.\n",
    "\n",
    "plt.figure(figsize=(8, 6))\n",
    "sns.boxplot(data=data, orient='h')\n",
    "plt.title('Horizontal Box Plot')\n",
    "plt.show()\n"
   ]
  },
  {
   "cell_type": "code",
   "execution_count": null,
   "id": "c8d3e6fa-840f-4bb9-a4ae-1c0c049cdac2",
   "metadata": {},
   "outputs": [],
   "source": [
    "# Exercise 2: \n",
    "# Change the color of the boxes and whiskers in the box plot.\n",
    "\n",
    "plt.figure(figsize=(8, 6))\n",
    "sns.boxplot(data=data, color='green')\n",
    "plt.title('Box Plot with Custom Color')\n",
    "plt.show()\n"
   ]
  },
  {
   "cell_type": "code",
   "execution_count": null,
   "id": "e88e26c8-18ac-4748-bac7-a267bd59110b",
   "metadata": {},
   "outputs": [],
   "source": [
    "# Exercise 3: \n",
    "# Create a box plot with three groups of data.\n",
    "\n",
    "# Generate random data with three groups\n",
    "np.random.seed(0)\n",
    "\n",
    "data_group1 = np.random.normal(loc=0, scale=1, size=100)\n",
    "data_group2 = np.random.normal(loc=1, scale=1, size=100)\n",
    "data_group3 = np.random.normal(loc=2, scale=1, size=100)\n",
    "\n",
    "# Create a box plot with three groups\n",
    "plt.figure(figsize=(8, 6))\n",
    "sns.boxplot(data=[data_group1, data_group2, data_group3])\n",
    "plt.title('Box Plot with Three Groups')\n",
    "plt.show()\n"
   ]
  },
  {
   "cell_type": "code",
   "execution_count": null,
   "id": "97576b1d-55aa-46f8-9cf0-3a4d1892fa15",
   "metadata": {},
   "outputs": [],
   "source": [
    "# Exercise 4: \n",
    "# Create a box plot with categorical data.\n",
    "\n",
    "# Create a DataFrame with categorical data\n",
    "categories = ['X', 'Y', 'Z']\n",
    "data_categorical = np.random.normal(loc=0, scale=1, size=(100, len(categories)))\n",
    "df_categorical = pd.DataFrame(data_categorical, columns=categories)\n",
    "\n",
    "# Create a box plot with categorical data\n",
    "plt.figure(figsize=(8, 6))\n",
    "sns.boxplot(data=df_categorical)\n",
    "plt.title('Box Plot with Categorical Data')\n",
    "plt.show()\n"
   ]
  },
  {
   "cell_type": "code",
   "execution_count": null,
   "id": "478714bf-da03-428b-9f36-5bdcb11b6cbf",
   "metadata": {},
   "outputs": [],
   "source": [
    "# Exercise\n",
    "# Create a histogram for the following dataset:\n",
    "#\n",
    "#import numpy as np\n",
    "#\n",
    "# Generate 1000 random numbers from a normal distribution\n",
    "#data = np.random.normal(loc=0, scale=1, size=1000)\n",
    "\n",
    "# Plot the histogram with 20 bins\n",
    "# Add appropriate labels and title\n",
    "# Choose a color of your choice\n",
    "\n",
    "import matplotlib.pyplot as plt\n",
    "\n",
    "# Generate 1000 random numbers from a normal distribution\n",
    "data = np.random.normal(loc=0, scale=1, size=1000)\n",
    "\n",
    "# Plot the histogram with 20 bins\n",
    "plt.hist(data, bins=20, color='green', edgecolor='black')\n",
    "plt.xlabel('Value')\n",
    "plt.ylabel('Frequency')\n",
    "plt.title('Histogram of Random Data')\n",
    "plt.show()\n"
   ]
  },
  {
   "cell_type": "code",
   "execution_count": null,
   "id": "deaa4ecd-7a84-49af-b044-76bae043d8ef",
   "metadata": {},
   "outputs": [],
   "source": [
    "# Exercise 1: \n",
    "# Create a scatter plot with data from two different arrays `x1` and `y1`.\n",
    "\n",
    "x1 = np.random.rand(50)\n",
    "y1 = np.random.rand(50)\n",
    "\n",
    "plt.scatter(x1, y1)\n",
    "plt.xlabel('X-axis')\n",
    "plt.ylabel('Y-axis')\n",
    "plt.title('Scatter Plot with x1 and y1')\n",
    "plt.show()\n"
   ]
  },
  {
   "cell_type": "code",
   "execution_count": null,
   "id": "705e95a9-b0cf-45b2-aef7-6a640ed2e4bb",
   "metadata": {},
   "outputs": [],
   "source": [
    "# Exercise 2: \n",
    "# Customize the plot by changing marker shapes and colors.\n",
    "\n",
    "plt.scatter(x1, y1, s=100, c='blue', marker='^', alpha=0.7)\n",
    "plt.xlabel('X-axis')\n",
    "plt.ylabel('Y-axis')\n",
    "plt.title('Customized Scatter Plot')\n",
    "plt.show()\n"
   ]
  },
  {
   "cell_type": "code",
   "execution_count": null,
   "id": "b86b8adc-49f5-4c69-bfdd-5437526fc991",
   "metadata": {},
   "outputs": [],
   "source": [
    "# Exercise 3: \n",
    "# Add labels to the x-axis and y-axis.\n",
    "\n",
    "plt.scatter(x1, y1)\n",
    "plt.xlabel('X-axis')\n",
    "plt.ylabel('Y-axis')\n",
    "plt.title('Scatter Plot with x1 and y1')\n",
    "plt.show()\n"
   ]
  },
  {
   "cell_type": "code",
   "execution_count": null,
   "id": "44888dfc-a8e6-4caa-bc22-9dcb447250c1",
   "metadata": {},
   "outputs": [],
   "source": [
    "# Exercise\n",
    "# Load the \"tips\" dataset from seaborn and create a pair plot to visualize the relationships between total bill, tip, and size.\n",
    "\n",
    "#tips = sns.load_dataset('tips')\n",
    "#sns.pairplot(tips[['total_bill', 'tip', 'size']])\n",
    "#plt.show()\n",
    "\n",
    "import seaborn as sns\n",
    "import matplotlib.pyplot as plt\n",
    "\n",
    "tips = sns.load_dataset('tips')\n",
    "sns.pairplot(tips[['total_bill', 'tip', 'size']])\n",
    "plt.show()\n"
   ]
  },
  {
   "cell_type": "code",
   "execution_count": null,
   "id": "01f1807d-58b6-46ef-837c-e968277338dc",
   "metadata": {},
   "outputs": [],
   "source": [
    "# Exercise 1: \n",
    "# Create a violin plot using your own set of data.\n",
    "\n",
    "import seaborn as sns\n",
    "import matplotlib.pyplot as plt\n",
    "\n",
    "# Your data\n",
    "my_data = [10, 20, 30, 40, 50]\n",
    "\n",
    "# Create violin plot\n",
    "sns.violinplot(data=my_data)\n",
    "\n",
    "# Show plot\n",
    "plt.show()\n"
   ]
  },
  {
   "cell_type": "code",
   "execution_count": null,
   "id": "395360b5-ae68-487b-bf55-60f1b7423340",
   "metadata": {},
   "outputs": [],
   "source": [
    "# Exercise 2: \n",
    "# Customize the violin plot by changing the color and width.\n",
    "\n",
    "import seaborn as sns\n",
    "import matplotlib.pyplot as plt\n",
    "\n",
    "# Your data\n",
    "my_data = [10, 20, 30, 40, 50]\n",
    "\n",
    "# Customizing violin plot\n",
    "sns.violinplot(data=my_data, color=\"orange\", linewidth=2, width=0.7)\n",
    "\n",
    "# Show plot\n",
    "plt.show()\n"
   ]
  },
  {
   "cell_type": "code",
   "execution_count": null,
   "id": "d96d7c9f-b9ca-4e05-a50e-9d51cda9a11a",
   "metadata": {},
   "outputs": [],
   "source": [
    "# Exercise 3: \n",
    "# Create a violin plot with multiple groups using different colors for each group.\n",
    "\n",
    "import seaborn as sns\n",
    "import pandas as pd\n",
    "\n",
    "# Sample data\n",
    "data = pd.DataFrame({\n",
    "    'Group': ['A'] * 100 + ['B'] * 100 + ['C'] * 100,  # Three groups A, B, and C\n",
    "    'Value': list(range(100)) + list(range(100, 200)) + list(range(50, 150))  # Values for each group\n",
    "})\n",
    "\n",
    "# Create a violin plot\n",
    "sns.violinplot(x='Group', y='Value', data=data, palette=\"husl\")\n",
    "\n",
    "# Show the plot\n",
    "import matplotlib.pyplot as plt\n",
    "plt.show()\n",
    "\n"
   ]
  },
  {
   "cell_type": "code",
   "execution_count": null,
   "id": "b8d51f3c-ee37-4ea6-b249-aa85408668a8",
   "metadata": {},
   "outputs": [],
   "source": [
    "# Exercise 1:\n",
    "# Create a subplot with three plots stacked vertically. Plot sine, cosine, and tangent functions in each subplot.\n",
    "\n",
    "import numpy as np\n",
    "\n",
    "x = np.linspace(0, 2*np.pi, 100)\n",
    "y1 = np.sin(x)\n",
    "y2 = np.cos(x)\n",
    "y3 = np.tan(x)\n",
    "\n",
    "plt.figure(figsize=(6, 8))\n",
    "\n",
    "plt.subplot(3, 1, 1)  # 3 rows, 1 column, first subplot\n",
    "plt.plot(x, y1)\n",
    "plt.title('Sine')\n",
    "\n",
    "plt.subplot(3, 1, 2)  # 3 rows, 1 column, second subplot\n",
    "plt.plot(x, y2)\n",
    "plt.title('Cosine')\n",
    "\n",
    "plt.subplot(3, 1, 3)  # 3 rows, 1 column, third subplot\n",
    "plt.plot(x, y3)\n",
    "plt.title('Tangent')\n",
    "\n",
    "plt.tight_layout()\n",
    "plt.show()\n"
   ]
  },
  {
   "cell_type": "code",
   "execution_count": null,
   "id": "51b1cb2b-0225-4d93-aa78-ad3e7682a3a8",
   "metadata": {},
   "outputs": [],
   "source": [
    "# Exercise 2:\n",
    "# Create a 2x2 grid of subplots. Plot different mathematical functions (e.g., square root, exponential, logarithmic) in each subplot.\n",
    "\n",
    "x = np.linspace(0.1, 10, 100)\n",
    "y1 = np.sqrt(x)\n",
    "y2 = np.exp(x)\n",
    "y3 = np.log(x)\n",
    "\n",
    "plt.figure(figsize=(10, 8))\n",
    "\n",
    "plt.subplot(2, 2, 1)  # 2 rows, 2 columns, first subplot\n",
    "plt.plot(x, y1)\n",
    "plt.title('Square Root')\n",
    "\n",
    "plt.subplot(2, 2, 2)  # 2 rows, 2 columns, second subplot\n",
    "plt.plot(x, y2)\n",
    "plt.title('Exponential')\n",
    "\n",
    "plt.subplot(2, 2, 3)  # 2 rows, 2 columns, third subplot\n",
    "plt.plot(x, y3)\n",
    "plt.title('Logarithmic')\n",
    "\n",
    "plt.tight_layout()\n",
    "plt.show()\n"
   ]
  },
  {
   "cell_type": "code",
   "execution_count": null,
   "id": "951f5828-1488-4f8d-8347-d29f55857718",
   "metadata": {},
   "outputs": [],
   "source": [
    "# Exercise 1: \n",
    "# Create a heatmap from a 2D array of your choice.\n",
    "\n",
    "data = np.random.randint(0, 100, size=(10, 10))  # Create a random 10x10 array\n",
    "plt.imshow(data, cmap='viridis', interpolation='nearest')\n",
    "plt.colorbar(label='Values')\n",
    "plt.show()\n"
   ]
  },
  {
   "cell_type": "code",
   "execution_count": null,
   "id": "c53e44ac-9f7a-4e3f-b2de-515813ec0a1e",
   "metadata": {},
   "outputs": [],
   "source": [
    "# Exercise 2: \n",
    "# Customize the colormap and interpolation method of the heatmap.\n",
    "\n",
    "plt.imshow(data, cmap='cool', interpolation='bicubic')\n",
    "plt.colorbar(label='Values')\n",
    "plt.show()\n"
   ]
  },
  {
   "cell_type": "code",
   "execution_count": null,
   "id": "1c2c3f13-87c0-45e6-90af-d570cc07852f",
   "metadata": {},
   "outputs": [],
   "source": [
    "# Exercise 3: \n",
    "# Add labels to the x-axis, y-axis, and color bar.\n",
    "\n",
    "plt.imshow(data, cmap='hot', interpolation='nearest')\n",
    "plt.colorbar(label='Intensity')\n",
    "plt.xlabel('X-axis')\n",
    "plt.ylabel('Y-axis')\n",
    "plt.show()\n"
   ]
  },
  {
   "cell_type": "code",
   "execution_count": null,
   "id": "edab580d-9815-4e58-9b19-f1036c4a43a2",
   "metadata": {},
   "outputs": [],
   "source": [
    "# Exercise 4: \n",
    "# Display multiple heatmaps side by side using subplots.\n",
    "\n",
    "fig, axs = plt.subplots(1, 2, figsize=(10, 5))  # Create subplots\n",
    "axs[0].imshow(data, cmap='hot', interpolation='nearest')\n",
    "axs[0].set_title('Heatmap 1')\n",
    "axs[0].set_xlabel('X-axis')\n",
    "axs[0].set_ylabel('Y-axis')\n",
    "\n",
    "axs[1].imshow(data, cmap='cool', interpolation='bicubic')\n",
    "axs[1].set_title('Heatmap 2')\n",
    "axs[1].set_xlabel('X-axis')\n",
    "axs[1].set_ylabel('Y-axis')\n",
    "\n",
    "plt.show()\n"
   ]
  }
 ],
 "metadata": {
  "kernelspec": {
   "display_name": "Python 3 (ipykernel)",
   "language": "python",
   "name": "python3"
  },
  "language_info": {
   "codemirror_mode": {
    "name": "ipython",
    "version": 3
   },
   "file_extension": ".py",
   "mimetype": "text/x-python",
   "name": "python",
   "nbconvert_exporter": "python",
   "pygments_lexer": "ipython3",
   "version": "3.12.2"
  }
 },
 "nbformat": 4,
 "nbformat_minor": 5
}
