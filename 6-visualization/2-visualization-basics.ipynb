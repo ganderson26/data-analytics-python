{
 "cells": [
  {
   "cell_type": "markdown",
   "id": "289131bf-5fc4-430c-86e0-d646a5955917",
   "metadata": {},
   "source": [
    "# Python Tutorial: Data Visualization Basics\n",
    "\n",
    "Getting started with the Basics.\n"
   ]
  },
  {
   "cell_type": "markdown",
   "id": "7dbdd2b4-86a3-49af-a4a5-10e1d1289d99",
   "metadata": {},
   "source": [
    "## Installation\n",
    "\n",
    "You can install Matplotlib and Seaborn using pip:\n"
   ]
  },
  {
   "cell_type": "code",
   "execution_count": null,
   "id": "b514b12b-c0b2-4023-9371-9da9a907c989",
   "metadata": {},
   "outputs": [],
   "source": [
    "pip install matplotlib seaborn\n"
   ]
  },
  {
   "cell_type": "code",
   "execution_count": null,
   "id": "b487c623-9687-4d5d-93d4-726ad4b43fe2",
   "metadata": {},
   "outputs": [],
   "source": [
    "import matplotlib.pyplot as plt\n"
   ]
  },
  {
   "cell_type": "markdown",
   "id": "37dc40eb-2bf6-4e21-8f71-7d2a68fe143d",
   "metadata": {},
   "source": [
    "## Basic Plotting with Matplotlib\n"
   ]
  },
  {
   "cell_type": "code",
   "execution_count": null,
   "id": "704d56a5-7e14-44f9-9137-5fddca3d6eac",
   "metadata": {},
   "outputs": [],
   "source": [
    "# Create data\n",
    "x = [1, 2, 3, 4, 5]\n",
    "y = [2, 3, 5, 7, 11]\n",
    "\n",
    "# Plot data\n",
    "plt.plot(x, y)\n",
    "plt.xlabel('X-axis')\n",
    "plt.ylabel('Y-axis')\n",
    "plt.title('Line Plot')\n",
    "\n",
    "plt.show()\n"
   ]
  },
  {
   "cell_type": "markdown",
   "id": "028c2370-0a84-41ee-bd91-64bc84d8c6a1",
   "metadata": {},
   "source": [
    "## Summary\n",
    "\n",
    "Data visualization is a powerful tool for gaining insights from data and communicating findings effectively. Python offers a rich ecosystem of libraries for creating various types of visualizations, allowing you to explore and present your data in meaningful ways.\n"
   ]
  },
  {
   "cell_type": "markdown",
   "id": "d7fb6d9d-d78f-403b-a9cc-0e6df6acff95",
   "metadata": {},
   "source": [
    "<details>\n",
    "<summary><b>Instructor Notes</b></summary>\n",
    "\n",
    "Nothing to add...\n",
    "\n",
    "</details>"
   ]
  }
 ],
 "metadata": {
  "kernelspec": {
   "display_name": "Python 3 (ipykernel)",
   "language": "python",
   "name": "python3"
  },
  "language_info": {
   "codemirror_mode": {
    "name": "ipython",
    "version": 3
   },
   "file_extension": ".py",
   "mimetype": "text/x-python",
   "name": "python",
   "nbconvert_exporter": "python",
   "pygments_lexer": "ipython3",
   "version": "3.11.5"
  }
 },
 "nbformat": 4,
 "nbformat_minor": 5
}
