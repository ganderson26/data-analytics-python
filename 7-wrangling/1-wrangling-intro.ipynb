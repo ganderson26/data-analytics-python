{
 "cells": [
  {
   "cell_type": "markdown",
   "id": "df0fbcc3-22ec-48e8-a2ca-bc9e7e9599b2",
   "metadata": {},
   "source": [
    "# Python Tutorial: Data Wrangling\n",
    "\n",
    "Data wrangling, also known as data munging, is the process of cleaning, transforming, and enriching raw data into a more usable format for analysis. Python offers several libraries for data wrangling, with pandas being one of the most commonly used ones.\n"
   ]
  },
  {
   "cell_type": "markdown",
   "id": "557d0dab-cfde-4de4-a295-d3f3fb95e9c5",
   "metadata": {},
   "source": [
    "## Summary\n",
    "\n",
    "Data wrangling is an essential step in the data analysis process, as it ensures that the data is clean, consistent, and in the right format for analysis. Python, with libraries like pandas, provides powerful tools for performing various data wrangling tasks efficiently.\n",
    "                                                                                                                                                                                                                     "
   ]
  },
  {
   "cell_type": "markdown",
   "id": "3523dddd-7a78-475d-ac47-b163469cd4b8",
   "metadata": {},
   "source": [
    "<details>\n",
    "<summary><b>Instructor Notes</b></summary>\n",
    "\n",
    "Nothing to add...\n",
    "\n",
    "</details>"
   ]
  }
 ],
 "metadata": {
  "kernelspec": {
   "display_name": "Python 3 (ipykernel)",
   "language": "python",
   "name": "python3"
  },
  "language_info": {
   "codemirror_mode": {
    "name": "ipython",
    "version": 3
   },
   "file_extension": ".py",
   "mimetype": "text/x-python",
   "name": "python",
   "nbconvert_exporter": "python",
   "pygments_lexer": "ipython3",
   "version": "3.11.5"
  }
 },
 "nbformat": 4,
 "nbformat_minor": 5
}
