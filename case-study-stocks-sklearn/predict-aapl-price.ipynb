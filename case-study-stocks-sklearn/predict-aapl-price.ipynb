{
 "cells": [
  {
   "cell_type": "code",
   "execution_count": null,
   "id": "56484721-d3c8-4e14-ab68-9f73dcab8682",
   "metadata": {
    "tags": []
   },
   "outputs": [],
   "source": [
    "pip install pandas scikit-learn\n"
   ]
  },
  {
   "cell_type": "code",
   "execution_count": null,
   "id": "03d00f56-3751-476c-9d8b-aa562b381f85",
   "metadata": {},
   "outputs": [],
   "source": [
    "# Download data\n",
    "#import yfinance as yf\n",
    "#stocks = ['AAPL']\n",
    "#start_date = '2023-03-07'\n",
    "#end_date = '2024-03-07'\n",
    "#data = yf.download(tickers=stocks, start=start_date, end=end_date)\n",
    "\n",
    "#data.to_csv('AAPL.csv', encoding='utf-8', index=False)\n"
   ]
  },
  {
   "cell_type": "code",
   "execution_count": null,
   "id": "7970d5dd-882c-47f5-95bb-6a742da92b15",
   "metadata": {},
   "outputs": [],
   "source": [
    "# Importing necessary libraries\n",
    "import pandas as pd\n",
    "import numpy as np\n",
    "from sklearn.model_selection import train_test_split\n",
    "from sklearn.linear_model import LinearRegression\n",
    "import yfinance as yf\n",
    "\n",
    "# Function to get historical stock price data\n",
    "def get_stock_data(ticker, start_date, end_date):\n",
    "    data =  pd.read_csv('AAPL.csv')\n",
    "    return data\n",
    "\n",
    "# Function to preprocess data and train the model\n",
    "def predict_stock_price(ticker, start_date, end_date, prediction_days):\n",
    "    # Getting historical stock data\n",
    "    stock_data = get_stock_data(ticker, start_date, end_date)\n",
    "    \n",
    "    # Feature engineering: using previous 'n' days' closing prices as features\n",
    "    for i in range(1, prediction_days+1):\n",
    "        stock_data[f'Close_Lag_{i}'] = stock_data['Close'].shift(i)\n",
    "    \n",
    "    # Dropping rows with NaN values\n",
    "    stock_data.dropna(inplace=True)\n",
    "    \n",
    "    # Splitting data into features and target variable\n",
    "    X = stock_data.drop(['Close'], axis=1)\n",
    "    y = stock_data['Close']\n",
    "    \n",
    "    # Splitting data into training and testing sets\n",
    "    X_train, X_test, y_train, y_test = train_test_split(X, y, test_size=0.2, random_state=42)\n",
    "    \n",
    "    # Initializing and training the linear regression model\n",
    "    model = LinearRegression()\n",
    "    model.fit(X_train, y_train)\n",
    "    \n",
    "    # Predicting stock prices for the next 'prediction_days' days\n",
    "    last_days_data = X[-prediction_days:]\n",
    "    predicted_prices = model.predict(last_days_data)\n",
    "    \n",
    "    return predicted_prices\n",
    "\n",
    "# Example usage\n",
    "if __name__ == \"__main__\":\n",
    "    # Ticker symbol of the stock you want to predict\n",
    "    ticker = \"AAPL\"\n",
    "    # Date range for historical data (format: \"YYYY-MM-DD\")\n",
    "    start_date = '2023-03-07'\n",
    "    end_date = '2024-03-01'\n",
    "    # Number of days to predict into the future\n",
    "    prediction_days = 5\n",
    "    \n",
    "    # Predict stock prices\n",
    "    predicted_prices = predict_stock_price(ticker, start_date, end_date, prediction_days)\n",
    "    \n",
    "    # Print the predicted prices for the next 'prediction_days' days\n",
    "    print(ticker + f\" Prediction for the next {prediction_days} days starting \" + end_date)\n",
    "\n",
    "    for i in range(prediction_days):\n",
    "        print(f\"Predicted price for Day {i+1}: {predicted_prices[i]}\")\n"
   ]
  },
  {
   "cell_type": "markdown",
   "id": "25be90ac-9e09-4527-b0d2-a94a875f2437",
   "metadata": {},
   "source": [
    "<details>\n",
    "<summary><b>Instructor Notes</b></summary>\n",
    "\n",
    "Nothing to add...\n",
    "\n",
    "</details>"
   ]
  }
 ],
 "metadata": {
  "kernelspec": {
   "display_name": "Python 3 (ipykernel)",
   "language": "python",
   "name": "python3"
  },
  "language_info": {
   "codemirror_mode": {
    "name": "ipython",
    "version": 3
   },
   "file_extension": ".py",
   "mimetype": "text/x-python",
   "name": "python",
   "nbconvert_exporter": "python",
   "pygments_lexer": "ipython3",
   "version": "3.12.2"
  }
 },
 "nbformat": 4,
 "nbformat_minor": 5
}
