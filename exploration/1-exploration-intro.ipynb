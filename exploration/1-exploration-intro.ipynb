{
 "cells": [
  {
   "cell_type": "markdown",
   "id": "00b8aba6-f075-4b88-ad05-f79ac7c8daa2",
   "metadata": {},
   "source": [
    "# Python Tutorial: Data Exploration\n",
    "\n",
    "Data exploration is the process of gaining insights and understanding from a dataset by analyzing its characteristics, distributions, and relationships between variables. Python offers several libraries for data exploration, including pandas, Matplotlib, and Seaborn.\n",
    "                                                                                                                                                                                            "
   ]
  },
  {
   "cell_type": "markdown",
   "id": "d203764f-80c2-40c0-9591-e33f938e6db5",
   "metadata": {},
   "source": [
    "Steps:\n",
    "1. Installation.\n",
    "2. Load libaries.\n",
    "3. Load the dataset.\n",
    "4. Explore the dataset.\n",
    "5. Data cleaning.\n",
    "6. Data visualization.\n",
    "\n"
   ]
  },
  {
   "cell_type": "markdown",
   "id": "1095f018-7900-43ec-855a-fe6ecedf3502",
   "metadata": {},
   "source": [
    "## 1. Installation.\n",
    "  \n",
    "You can install scikit-learn using pip:\n"
   ]
  },
  {
   "cell_type": "code",
   "execution_count": null,
   "id": "3b67ab27-32ab-4a18-af1b-028bd74615e6",
   "metadata": {},
   "outputs": [],
   "source": [
    "pip install pandas numpy seaborn matplotlib\n"
   ]
  },
  {
   "cell_type": "markdown",
   "id": "2446c2c2-be45-4413-aef9-df18249bad0e",
   "metadata": {},
   "source": [
    "## 2. Load libraries.\n",
    "\n",
    "- Pandas : Data structures and operations for manipulating numerical tables and time series.\n",
    "- Seaborn : High-level interface for drawing attractive and informative statistical graphics.\n",
    "- Matplotlib : Object-oriented API for embedding plots into applications using general-purpose GUI toolkits like Tkinter, wxPython, Qt, or GTK.\n"
   ]
  },
  {
   "cell_type": "code",
   "execution_count": null,
   "id": "570f90b7-37a2-4aee-82f3-a8492781eeb3",
   "metadata": {},
   "outputs": [],
   "source": [
    "# Load libraries \n",
    "import pandas as pd\n",
    "import seaborn as sns\n",
    "import numpy as np\n",
    "import matplotlib.pyplot as plt\n",
    "from sklearn.preprocessing import StandardScaler\n",
    "\n",
    "# Ignore warnings\n",
    "# https://docs.python.org/3/library/warnings.html\n",
    "import warnings\n",
    "\n",
    "warnings.filterwarnings('ignore')\n"
   ]
  },
  {
   "cell_type": "markdown",
   "id": "25c73c30-b035-4bd6-baa7-2699cb43ca19",
   "metadata": {},
   "source": [
    "## 3. Load the dataset.\n",
    "\n",
    "The first step is to load the dataset. We will be using the S&P 500 dataset for AAPL.\n"
   ]
  },
  {
   "cell_type": "code",
   "execution_count": null,
   "id": "4844ea4d-230f-43cf-8e76-64026bbd576c",
   "metadata": {},
   "outputs": [],
   "source": [
    "# Load the data from the csv\n",
    "df =  pd.read_csv('AAPL_data.csv')\n"
   ]
  },
  {
   "cell_type": "markdown",
   "id": "e9f66cdc-ca6a-43a0-8f8b-0fb949f9c099",
   "metadata": {},
   "source": [
    "## 4. Explore the dataset.\n",
    "\n",
    "The next step is to explore the dataset. \n",
    "\n",
    "The dataset contains data about:\n",
    "- date\n",
    "- open\n",
    "- high\n",
    "- low\n",
    "- close\n",
    "- volume\n",
    "- Name\n"
   ]
  },
  {
   "cell_type": "code",
   "execution_count": null,
   "id": "ed96b8d1-f6e4-4198-8687-a5e48738f522",
   "metadata": {},
   "outputs": [],
   "source": [
    "# Display sample rows from the dataset\n",
    "df.sample(5)\n"
   ]
  },
  {
   "cell_type": "code",
   "execution_count": null,
   "id": "bb5bace7-3eb9-4cfc-bd60-d13b0fd47db8",
   "metadata": {},
   "outputs": [],
   "source": [
    "# Total number of rows and columns\n",
    "df.shape\n"
   ]
  },
  {
   "cell_type": "code",
   "execution_count": null,
   "id": "ac8ea296-97e2-41de-a526-6ea381e8068e",
   "metadata": {},
   "outputs": [],
   "source": [
    "# Index dtype and columns, non-null values and memory usage\n",
    "df.info\n"
   ]
  },
  {
   "cell_type": "code",
   "execution_count": null,
   "id": "69139469-9992-47bb-8f96-f85791706301",
   "metadata": {},
   "outputs": [],
   "source": [
    "# Description of the data in the DataFrame\n",
    "df.describe()\n"
   ]
  },
  {
   "cell_type": "markdown",
   "id": "5b400af4-b086-45ec-8422-14f46e29b951",
   "metadata": {},
   "source": [
    "Data type check helps to understand what type of variables our dataset contains.\n"
   ]
  },
  {
   "cell_type": "code",
   "execution_count": null,
   "id": "8febcf49-7236-41f7-85b4-24d079828cd1",
   "metadata": {},
   "outputs": [],
   "source": [
    "category_cols = ['category']\n",
    "category_lst = list(df.select_dtypes(include=category_cols).columns)\n",
    "print(\"Total number of categorical columns are \", len(category_lst))\n",
    "print(\"There names are as follows: \", category_lst)\n"
   ]
  },
  {
   "cell_type": "code",
   "execution_count": null,
   "id": "085932ab-0ef1-47dc-abd2-f2b91a36dcaf",
   "metadata": {},
   "outputs": [],
   "source": [
    "int64_cols = ['int64']\n",
    "int64_lst = list(df.select_dtypes(include=int64_cols).columns)\n",
    "print(\"Total number of numerical columns are \", len(int64_lst))\n",
    "print(\"There names are as follows: \", int64_lst)\n"
   ]
  },
  {
   "cell_type": "code",
   "execution_count": null,
   "id": "e50f5002-614c-4494-bd2f-3d352c41eec4",
   "metadata": {},
   "outputs": [],
   "source": [
    "float64_cols = ['float64']\n",
    "float64_lst = list(df.select_dtypes(include=float64_cols).columns)\n",
    "print(\"Total number of float64 columns are \", len(float64_lst))\n",
    "print(\"There name are as follow: \", float64_lst)\n"
   ]
  },
  {
   "cell_type": "markdown",
   "id": "74538e7d-0307-4b79-9364-b851802154ba",
   "metadata": {},
   "source": [
    "## 5. Data cleaning.\n",
    "\n",
    "- Check for missing values\n",
    "- Check for duplicates\n",
    "- Convert data types\n",
    "- Rename columns\n",
    "- Remove irrelevant columns\n",
    "- Handle outliers\n",
    "- Standardize data\n",
    "    "
   ]
  },
  {
   "cell_type": "code",
   "execution_count": null,
   "id": "35c475a8-3680-4496-b4a4-8bd64f9a193c",
   "metadata": {},
   "outputs": [],
   "source": [
    "# Check for missing values\n",
    "print(df.isnull().sum())\n"
   ]
  },
  {
   "cell_type": "code",
   "execution_count": null,
   "id": "55ca3020-94d5-4323-b659-6b357ce5425b",
   "metadata": {},
   "outputs": [],
   "source": [
    "# Drop nan rows\n",
    "df = df.dropna()\n"
   ]
  },
  {
   "cell_type": "code",
   "execution_count": null,
   "id": "268bfdc7-ea35-479e-ad75-0736a2e4ae28",
   "metadata": {},
   "outputs": [],
   "source": [
    "# Convert the date column to datetime format\n",
    "df['date'] = pd.to_datetime(df['date'])\n"
   ]
  },
  {
   "cell_type": "code",
   "execution_count": null,
   "id": "2f22fe95-0eb7-4487-9649-a3f745d7cf4d",
   "metadata": {},
   "outputs": [],
   "source": [
    "# Check for duplicates\n",
    "print(df.duplicated().sum())\n"
   ]
  },
  {
   "cell_type": "code",
   "execution_count": null,
   "id": "398ffdb8-8f3b-41e1-8ab0-14c4f20aa099",
   "metadata": {},
   "outputs": [],
   "source": [
    "# Remove any duplicate rows\n",
    "df.drop_duplicates(keep=False, inplace=True)\n"
   ]
  },
  {
   "cell_type": "code",
   "execution_count": null,
   "id": "7ae352fc-c116-41c2-8e94-d5b64156020c",
   "metadata": {},
   "outputs": [],
   "source": [
    "# Rename columns\n",
    "df.rename(columns={'date': 'Date', 'open': 'Open', 'high': 'High', 'low': 'Low', 'close': 'Close', 'volume': 'Volume'}, inplace=True)\n",
    "df\n"
   ]
  },
  {
   "cell_type": "code",
   "execution_count": null,
   "id": "fcbcf152-d3ac-4ceb-8214-c59c47b890f6",
   "metadata": {},
   "outputs": [],
   "source": [
    "# Remove irrelevant columns\n",
    "#df.drop(['High', 'Low', 'Volume'], axis=1, inplace=True)\n",
    "#df\n"
   ]
  },
  {
   "cell_type": "code",
   "execution_count": null,
   "id": "af10182b-d12a-4eac-87ef-b73f75f8694e",
   "metadata": {},
   "outputs": [],
   "source": [
    "# Handle outliers\n",
    "q1 = df['Close'].quantile(0.25)\n",
    "q3 = df['Close'].quantile(0.75)\n",
    "iqr = q3 - q1\n",
    "upper_bound = q3 + 1.5 * iqr\n",
    "df = df[df['Close'] <= upper_bound]\n",
    "df\n"
   ]
  },
  {
   "cell_type": "code",
   "execution_count": null,
   "id": "66471213-9459-4d2f-95bd-63073692dd90",
   "metadata": {},
   "outputs": [],
   "source": [
    "# Standardize data\n",
    "scaler = StandardScaler()\n",
    "df[['Open', 'High', 'Low', 'Close', 'Volume']] = scaler.fit_transform(df[['Open', 'High', 'Low', 'Close', 'Volume']])\n",
    "df\n",
    "\n"
   ]
  },
  {
   "cell_type": "markdown",
   "id": "d9255dfc-39cc-4421-9dab-07760324cac6",
   "metadata": {},
   "source": [
    "## 6. Data visualization.\n",
    "\n",
    "The next step is to visualize the data. \n"
   ]
  },
  {
   "cell_type": "code",
   "execution_count": null,
   "id": "bcf2bae3-310f-4e43-b97a-f5f8c0a4396a",
   "metadata": {},
   "outputs": [],
   "source": [
    "# Line chart of closing stock price over time\n",
    "plt.figure(figsize=(10, 6))\n",
    "sns.lineplot(x='Date', y='Close', data=df)\n",
    "plt.title('Closing Stock Price Over Time')\n",
    "plt.xlabel('Date')\n",
    "plt.ylabel('Closing Stock Price')\n",
    "plt.show()\n"
   ]
  },
  {
   "cell_type": "markdown",
   "id": "036b04ed-06f3-4d34-9fec-20539a464898",
   "metadata": {},
   "source": [
    "The closing stock prices have increased over time, with some fluctuations.\n"
   ]
  },
  {
   "cell_type": "code",
   "execution_count": null,
   "id": "7b602f26-9711-435b-ba97-5b3098a56729",
   "metadata": {},
   "outputs": [],
   "source": [
    "# Box plot of the closing stock prices by year\n",
    "df['Year'] = df['Date'].dt.year\n",
    "sns.boxplot(x='Year', y='Close', data=df)\n",
    "plt.title('Closing Stock Prices by Year')\n",
    "plt.xlabel('Year')\n",
    "plt.ylabel('Closing Stock Price')\n",
    "plt.show()\n"
   ]
  },
  {
   "cell_type": "markdown",
   "id": "44b58c23-180f-4014-a83c-5b8fd9470832",
   "metadata": {},
   "source": [
    "The closing stock prices have generally increased over the years, with some outliers.\n"
   ]
  },
  {
   "cell_type": "code",
   "execution_count": null,
   "id": "ea2669b0-2d61-4531-95b6-f3ee573d2127",
   "metadata": {},
   "outputs": [],
   "source": [
    "# Create a heatmap of the correlation between stock prices\n",
    "corr = df[['Open', 'High', 'Low', 'Close']].corr()\n",
    "plt.figure(figsize=(8,8))\n",
    "sns.heatmap(corr, annot=True, cmap='coolwarm')\n",
    "plt.title('Correlation Between Stock Prices')\n",
    "plt.show()\n"
   ]
  },
  {
   "cell_type": "markdown",
   "id": "1da94f82-dc9d-48a2-8c56-ac88edea64e6",
   "metadata": {},
   "source": [
    "The opening and closing prices have a strong positive correlation, while the low and high prices have a weaker positive correlation.\n"
   ]
  },
  {
   "cell_type": "markdown",
   "id": "7624edfb-2b5d-4a1d-bfc5-abe4a8d0316c",
   "metadata": {},
   "source": [
    "Visualize the distribution of the target variable, which is the closing stock price. \n"
   ]
  },
  {
   "cell_type": "code",
   "execution_count": null,
   "id": "eb0ae167-60b4-47e0-9706-96f47d3f331a",
   "metadata": {},
   "outputs": [],
   "source": [
    "# Histogram to visualize the distribution\n",
    "plt.figure(figsize=(10, 6))\n",
    "sns.histplot(df['Close'], kde=True)\n",
    "plt.title('Distribution of Closing Stock Price')\n",
    "plt.xlabel('Closing Stock Price')\n",
    "plt.ylabel('Frequency')\n",
    "plt.show()\n"
   ]
  },
  {
   "cell_type": "markdown",
   "id": "33a78726-bb85-4764-b6e9-fd5f54d89f91",
   "metadata": {},
   "source": [
    "To visualize the daily returns, create a line chart. The line chart will show the percentage change in price from one day to the next.\n"
   ]
  },
  {
   "cell_type": "code",
   "execution_count": null,
   "id": "832f8052-a6fa-4dc7-a04c-31d9913984c3",
   "metadata": {},
   "outputs": [],
   "source": [
    "daily_returns = df['Close'].pct_change()\n",
    "\n",
    "# Create a line chart of the daily returns\n",
    "plt.plot(daily_returns.index, daily_returns.values)\n",
    "plt.title('AAPL Daily Returns')\n",
    "plt.xlabel('Date')\n",
    "plt.ylabel('Daily Return')\n",
    "plt.show()\n",
    "#This will create a line chart showing the daily returns over time.\n"
   ]
  },
  {
   "cell_type": "markdown",
   "id": "ffacd59e-8151-4233-974d-18aadf99d6b4",
   "metadata": {},
   "source": [
    "We can use a combination chart to visualize the stock prices with the volume traded.\n"
   ]
  },
  {
   "cell_type": "code",
   "execution_count": null,
   "id": "a654aeb8-1c37-4a07-b9c7-af225f232515",
   "metadata": {},
   "outputs": [],
   "source": [
    "# Create a combination plot of stock prices and volume traded\n",
    "plt.figure(figsize=(12,6))\n",
    "sns.lineplot(x='Date', y='Close', data=df, color='b')\n",
    "sns.lineplot(x='Date', y='Volume', data=df, color='g', alpha=0.5)\n",
    "plt.title('AAPL Stock Prices with Volume Traded')\n",
    "plt.xlabel('Year')\n",
    "plt.ylabel('Price/Volume')\n",
    "plt.legend(['Closing Price', 'Volume'])\n",
    "plt.show()\n"
   ]
  },
  {
   "cell_type": "code",
   "execution_count": null,
   "id": "f193d7ae-2109-4c03-b66c-4c2b89197d4d",
   "metadata": {},
   "outputs": [],
   "source": [
    "# Create a histogram of the daily returns\n",
    "plt.figure(figsize=(12,6))\n",
    "sns.histplot(df['Close'].pct_change().dropna(), bins=100, kde=True)\n",
    "plt.title('AAPL Daily Returns')\n",
    "plt.xlabel('Daily Return')\n",
    "plt.ylabel('Frequency')\n",
    "plt.show()\n"
   ]
  },
  {
   "cell_type": "markdown",
   "id": "ddd5aea6-7c5f-427f-8029-98973e4ad68b",
   "metadata": {},
   "source": [
    "## Exercise 1: \n",
    "\n",
    "Load a CSV file named 'data.csv' into a DataFrame and display the first 5 rows.\n"
   ]
  },
  {
   "cell_type": "code",
   "execution_count": null,
   "id": "d9aef195-8929-4b66-a76b-d3c52bffa9d4",
   "metadata": {},
   "outputs": [],
   "source": [
    "# Solution\n"
   ]
  },
  {
   "cell_type": "markdown",
   "id": "9a25f1e6-c110-42cf-8566-f62f372bc30f",
   "metadata": {},
   "source": [
    "## Exercise 2: \n",
    "\n",
    "Calculate summary statistics for the DataFrame created in Exercise 1.\n",
    "                                          "
   ]
  },
  {
   "cell_type": "code",
   "execution_count": null,
   "id": "53b312e5-7066-4375-b7cc-5298e8e85073",
   "metadata": {},
   "outputs": [],
   "source": [
    "# Solution\n"
   ]
  },
  {
   "cell_type": "markdown",
   "id": "7eb5353b-063f-4d49-bd0b-7003567a9cd2",
   "metadata": {},
   "source": [
    "## Exercise 3: \n",
    "\n",
    "Create a box plot of the 'Income' column from the DataFrame created in Exercise 1.\n"
   ]
  },
  {
   "cell_type": "code",
   "execution_count": null,
   "id": "2e44277c-4855-424a-b89e-1a760d29d1be",
   "metadata": {},
   "outputs": [],
   "source": [
    "# Solution\n"
   ]
  },
  {
   "cell_type": "markdown",
   "id": "9bf80738-4a41-49b9-9d5b-df5e743c1943",
   "metadata": {},
   "source": [
    "## Summary\n",
    "\n",
    "Data exploration is a crucial step in the data analysis process, as it helps in understanding the characteristics and patterns present in the data. Python provides powerful tools and libraries for data exploration, allowing you to gain valuable insights from your datasets efficiently.\n"
   ]
  },
  {
   "cell_type": "markdown",
   "id": "5b133639-ed27-4f5d-997c-0bcbd1436e70",
   "metadata": {},
   "source": [
    "<details>\n",
    "<summary><b>Instructor Notes</b></summary>\n",
    "\n",
    "Nothing to add...\n",
    "\n",
    "</details>"
   ]
  }
 ],
 "metadata": {
  "kernelspec": {
   "display_name": "Python 3 (ipykernel)",
   "language": "python",
   "name": "python3"
  },
  "language_info": {
   "codemirror_mode": {
    "name": "ipython",
    "version": 3
   },
   "file_extension": ".py",
   "mimetype": "text/x-python",
   "name": "python",
   "nbconvert_exporter": "python",
   "pygments_lexer": "ipython3",
   "version": "3.12.2"
  }
 },
 "nbformat": 4,
 "nbformat_minor": 5
}
