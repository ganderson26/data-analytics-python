{
 "cells": [
  {
   "cell_type": "markdown",
   "id": "00b8aba6-f075-4b88-ad05-f79ac7c8daa2",
   "metadata": {},
   "source": [
    "# Python Tutorial: Data Exploration\n",
    "\n",
    "Data exploration is the process of gaining insights and understanding from a dataset by analyzing its characteristics, distributions, and relationships between variables. Python offers several libraries for data exploration, including pandas, Matplotlib, and Seaborn.\n",
    "                                                                                                                                                                                            "
   ]
  },
  {
   "cell_type": "markdown",
   "id": "25c73c30-b035-4bd6-baa7-2699cb43ca19",
   "metadata": {},
   "source": [
    "## Example 1: Summary Statistics\n"
   ]
  },
  {
   "cell_type": "code",
   "execution_count": null,
   "id": "bcf2bae3-310f-4e43-b97a-f5f8c0a4396a",
   "metadata": {},
   "outputs": [],
   "source": [
    "import pandas as pd\n",
    "\n",
    "# Read a CSV file into a DataFrame\n",
    "df = pd.read_csv('data.csv')\n",
    "\n",
    "# Display summary statistics\n",
    "print(df.describe())\n"
   ]
  },
  {
   "cell_type": "markdown",
   "id": "0f6f6343-ca3a-430e-a374-8beda52edf28",
   "metadata": {},
   "source": [
    "## Example 2: Visualizing Distributions\n"
   ]
  },
  {
   "cell_type": "code",
   "execution_count": null,
   "id": "832f8052-a6fa-4dc7-a04c-31d9913984c3",
   "metadata": {},
   "outputs": [],
   "source": [
    "import seaborn as sns\n",
    "\n",
    "# Plot histograms of numerical variables\n",
    "sns.histplot(data=df, x='Age', bins=20, kde=True)\n"
   ]
  },
  {
   "cell_type": "markdown",
   "id": "ffacd59e-8151-4233-974d-18aadf99d6b4",
   "metadata": {},
   "source": [
    "## Example 3: Exploring Relationships\n"
   ]
  },
  {
   "cell_type": "code",
   "execution_count": null,
   "id": "a654aeb8-1c37-4a07-b9c7-af225f232515",
   "metadata": {},
   "outputs": [],
   "source": [
    "import seaborn as sns\n",
    "\n",
    "# Plot scatter plots of numerical variables\n",
    "sns.scatterplot(data=df, x='Age', y='Income')\n"
   ]
  },
  {
   "cell_type": "markdown",
   "id": "ddd5aea6-7c5f-427f-8029-98973e4ad68b",
   "metadata": {},
   "source": [
    "## Exercise 1: \n",
    "\n",
    "Load a CSV file named 'data.csv' into a DataFrame and display the first 5 rows.\n"
   ]
  },
  {
   "cell_type": "code",
   "execution_count": null,
   "id": "d9aef195-8929-4b66-a76b-d3c52bffa9d4",
   "metadata": {},
   "outputs": [],
   "source": [
    "# Solution\n"
   ]
  },
  {
   "cell_type": "markdown",
   "id": "9a25f1e6-c110-42cf-8566-f62f372bc30f",
   "metadata": {},
   "source": [
    "## Exercise 2: \n",
    "\n",
    "Calculate summary statistics for the DataFrame created in Exercise 1.\n",
    "                                          "
   ]
  },
  {
   "cell_type": "code",
   "execution_count": null,
   "id": "53b312e5-7066-4375-b7cc-5298e8e85073",
   "metadata": {},
   "outputs": [],
   "source": [
    "# Solution\n"
   ]
  },
  {
   "cell_type": "markdown",
   "id": "7eb5353b-063f-4d49-bd0b-7003567a9cd2",
   "metadata": {},
   "source": [
    "## Exercise 3: \n",
    "\n",
    "Create a box plot of the 'Income' column from the DataFrame created in Exercise 1.\n"
   ]
  },
  {
   "cell_type": "code",
   "execution_count": null,
   "id": "2e44277c-4855-424a-b89e-1a760d29d1be",
   "metadata": {},
   "outputs": [],
   "source": [
    "# Solution\n"
   ]
  },
  {
   "cell_type": "markdown",
   "id": "9bf80738-4a41-49b9-9d5b-df5e743c1943",
   "metadata": {},
   "source": [
    "## Summary\n",
    "\n",
    "Data exploration is a crucial step in the data analysis process, as it helps in understanding the characteristics and patterns present in the data. Python provides powerful tools and libraries for data exploration, allowing you to gain valuable insights from your datasets efficiently.\n"
   ]
  },
  {
   "cell_type": "markdown",
   "id": "5b133639-ed27-4f5d-997c-0bcbd1436e70",
   "metadata": {},
   "source": [
    "<details>\n",
    "<summary><b>Instructor Notes</b></summary>\n",
    "\n",
    "Nothing to add...\n",
    "\n",
    "</details>"
   ]
  }
 ],
 "metadata": {
  "kernelspec": {
   "display_name": "Python 3 (ipykernel)",
   "language": "python",
   "name": "python3"
  },
  "language_info": {
   "codemirror_mode": {
    "name": "ipython",
    "version": 3
   },
   "file_extension": ".py",
   "mimetype": "text/x-python",
   "name": "python",
   "nbconvert_exporter": "python",
   "pygments_lexer": "ipython3",
   "version": "3.11.5"
  }
 },
 "nbformat": 4,
 "nbformat_minor": 5
}
