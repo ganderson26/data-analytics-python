{
 "cells": [
  {
   "cell_type": "code",
   "execution_count": null,
   "id": "636e48a4-8c33-4f5f-bba9-6eba4de150dd",
   "metadata": {},
   "outputs": [],
   "source": [
    "# Exercise 1: \n",
    "# Load a CSV file named 'data.csv' into a DataFrame and display the first 5 rows.\n",
    "\n",
    "import pandas as pd\n",
    "\n",
    "df = pd.read_csv('data.csv')\n",
    "print(df.head())\n"
   ]
  },
  {
   "cell_type": "code",
   "execution_count": null,
   "id": "3718c218-a7e1-46e7-8cf1-d6f5dd8ca47d",
   "metadata": {},
   "outputs": [],
   "source": [
    "# Exercise 2: \n",
    "# Calculate summary statistics for the DataFrame created in Exercise 1.\n",
    "\n",
    "import pandas as pd\n",
    "\n",
    "df = pd.read_csv('data.csv')\n",
    "print(df.describe())\n"
   ]
  },
  {
   "cell_type": "code",
   "execution_count": null,
   "id": "c673adbf-a4d3-4e32-9430-f1853f50680f",
   "metadata": {},
   "outputs": [],
   "source": [
    "# Exercise 3: \n",
    "# Create a box plot of the 'Income' column from the DataFrame created in Exercise 1.\n",
    "\n",
    "import seaborn as sns\n",
    "\n",
    "df = pd.read_csv('data.csv')\n",
    "sns.boxplot(data=df, y='Income')\n"
   ]
  }
 ],
 "metadata": {
  "kernelspec": {
   "display_name": "Python 3 (ipykernel)",
   "language": "python",
   "name": "python3"
  },
  "language_info": {
   "codemirror_mode": {
    "name": "ipython",
    "version": 3
   },
   "file_extension": ".py",
   "mimetype": "text/x-python",
   "name": "python",
   "nbconvert_exporter": "python",
   "pygments_lexer": "ipython3",
   "version": "3.11.5"
  }
 },
 "nbformat": 4,
 "nbformat_minor": 5
}
