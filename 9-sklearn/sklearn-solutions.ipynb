{
 "cells": [
  {
   "cell_type": "code",
   "execution_count": null,
   "id": "4c2cc068-51d1-4cca-9f3b-06540c520f0b",
   "metadata": {},
   "outputs": [],
   "source": [
    "# Exercise 1: \n",
    "# Load the dataset from csv\n",
    "df2 =  pd.read_csv('diamonds.csv')\n"
   ]
  },
  {
   "cell_type": "code",
   "execution_count": null,
   "id": "6f9412fb-5f96-469f-b3f1-4a86a21ce419",
   "metadata": {},
   "outputs": [],
   "source": [
    "# Exercise 2: \n",
    "# Identify the target column\n",
    "target = df2[\"price\"]\n",
    "\n",
    "# Identify the features\n",
    "features = df2[[\"carat\", \"depth\"]]\n"
   ]
  },
  {
   "cell_type": "code",
   "execution_count": null,
   "id": "c95828af-7cfe-44eb-ad96-a95641b77156",
   "metadata": {},
   "outputs": [],
   "source": [
    "# Exercise 3: \n",
    "# Create a new Linear Regression model\n",
    "lr2 = LinearRegression()\n",
    "\n",
    "# Train the model\n",
    "lr2.fit(features, target)\n"
   ]
  },
  {
   "cell_type": "code",
   "execution_count": null,
   "id": "9acfdc5c-46b1-4d2f-a31e-50af960f5502",
   "metadata": {},
   "outputs": [],
   "source": [
    "# Exercise 4\n",
    "# Print the score of the model\n",
    "model_score_diamonds = lr2.score(features, target)\n",
    "print(\"Model Score for Diamond Price Prediction:\", model_score_diamonds)\n"
   ]
  },
  {
   "cell_type": "code",
   "execution_count": null,
   "id": "18f22ce3-f358-4461-a6d4-2ffaaf422732",
   "metadata": {},
   "outputs": [],
   "source": [
    "# Exercise 5\n",
    "# Make predictions for diamond price\n",
    "diamond_predictions = lr2.predict([[0.3, 60]])\n",
    "print(\"Predicted Diamond Price:\", diamond_predictions[0])\n"
   ]
  }
 ],
 "metadata": {
  "kernelspec": {
   "display_name": "Python 3 (ipykernel)",
   "language": "python",
   "name": "python3"
  },
  "language_info": {
   "codemirror_mode": {
    "name": "ipython",
    "version": 3
   },
   "file_extension": ".py",
   "mimetype": "text/x-python",
   "name": "python",
   "nbconvert_exporter": "python",
   "pygments_lexer": "ipython3",
   "version": "3.12.2"
  }
 },
 "nbformat": 4,
 "nbformat_minor": 5
}
