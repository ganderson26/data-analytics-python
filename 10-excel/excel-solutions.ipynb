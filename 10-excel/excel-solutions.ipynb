{
 "cells": [
  {
   "cell_type": "code",
   "execution_count": null,
   "id": "6aaa80a4-1e31-4d39-9e55-f6051cc40b4d",
   "metadata": {},
   "outputs": [],
   "source": [
    "# Exercise 1\n",
    "# Create a new Excel file named \"grades.xlsx\" with the following data:\n",
    "# - Column A: Student Names (Alice, Bob, Carol)\n",
    "# - Column B: Grades (90, 85, 88)\n",
    "\n",
    "from openpyxl import Workbook\n",
    "\n",
    "wb = Workbook()\n",
    "ws = wb.active\n",
    "\n",
    "# Data\n",
    "data = [(\"Alice\", 90), (\"Bob\", 85), (\"Carol\", 88)]\n",
    "\n",
    "# Write data to cells\n",
    "for i, (name, grade) in enumerate(data, start=1):\n",
    "    ws[f'A{i}'] = name\n",
    "    ws[f'B{i}'] = grade\n",
    "\n",
    "# Save the workbook\n",
    "wb.save('grades.xlsx')\n"
   ]
  },
  {
   "cell_type": "code",
   "execution_count": null,
   "id": "7e6f20de-2f96-44f2-a36c-c997b4b0640f",
   "metadata": {},
   "outputs": [],
   "source": [
    "# Exercise 2\n",
    "# Read the \"grades.xlsx\" file and print each student's name and grade.\n",
    "\n",
    "from openpyxl import load_workbook\n",
    "\n",
    "# Load the Excel file\n",
    "wb = load_workbook('grades.xlsx')\n",
    "ws = wb.active\n",
    "\n",
    "# Print each student's name and grade\n",
    "for row in ws.iter_rows(min_row=1, max_row=ws.max_row, min_col=1, max_col=2, values_only=True):\n",
    "    print(f\"Name: {row[0]}, Grade: {row[1]}\")\n"
   ]
  }
 ],
 "metadata": {
  "kernelspec": {
   "display_name": "Python 3 (ipykernel)",
   "language": "python",
   "name": "python3"
  },
  "language_info": {
   "codemirror_mode": {
    "name": "ipython",
    "version": 3
   },
   "file_extension": ".py",
   "mimetype": "text/x-python",
   "name": "python",
   "nbconvert_exporter": "python",
   "pygments_lexer": "ipython3",
   "version": "3.8.18"
  }
 },
 "nbformat": 4,
 "nbformat_minor": 5
}
