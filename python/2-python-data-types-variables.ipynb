{
 "cells": [
  {
   "cell_type": "markdown",
   "id": "a967be12-ef1f-483a-8e1c-deb8f7421d35",
   "metadata": {},
   "source": [
    "# Python Tutorial: Data Types and Variables\n",
    "\n",
    "Welcome to the Python Tutorial on Data Types and Variables! In this tutorial, we'll cover the basics of data types, variables, and how to work with them in Python.\n"
   ]
  },
  {
   "cell_type": "markdown",
   "id": "6ebb92b3-eaad-48a1-bf3b-af614d7044af",
   "metadata": {},
   "source": [
    "## Data Types\n",
    "\n",
    "Python is a dynamic language. Variable types are inferred by their usage and don't have to be declared.\n",
    "\n",
    "Python supports several built-in data types, including:\n",
    "- Integer (`int`): Whole numbers, e.g., 5, -3, 100.\n",
    "- Float (`float`): Decimal numbers, e.g., 3.14, -0.5, 2.0.\n",
    "- String (`str`): Text enclosed in single ('') or double (\"\") quotes, e.g., \"hello\", 'python'.\n",
    "- Boolean (`bool`): True or False values.\n",
    "\n",
    "Notice that we do not need a **;** to terminate a statement.\n"
   ]
  },
  {
   "cell_type": "markdown",
   "id": "0b41aed0-5795-4252-8a12-d6833b9e6f82",
   "metadata": {},
   "source": [
    "### Example 1: Declaring Variables with Different Data Types\n"
   ]
  },
  {
   "cell_type": "code",
   "execution_count": null,
   "id": "f78d75fe-3573-4e31-b2b0-9e2918a2f463",
   "metadata": {},
   "outputs": [],
   "source": [
    "# Integers\n",
    "num1 = 10\n",
    "\n",
    "# Floats\n",
    "num2 = 3.14\n",
    "\n",
    "# Strings (Single or Double quotes)\n",
    "name = \"Alice\"\n",
    "\n",
    "# Booleans\n",
    "is_student = True\n",
    "\n",
    "# Print variables\n",
    "print(\"Integer:\", num1)\n",
    "print(\"Float:\", num2)\n",
    "print(\"String:\", name)\n",
    "print(\"Boolean:\", is_student)\n"
   ]
  },
  {
   "cell_type": "markdown",
   "id": "9f3bfa60-1cf9-4fb4-976f-7b2cae6d8266",
   "metadata": {},
   "source": [
    "## Operations on Variables\n",
    "\n",
    "You can perform various operations on variables based on their data types.\n",
    "\n",
    "### Example 2: Arithmetic Operations\n"
   ]
  },
  {
   "cell_type": "code",
   "execution_count": null,
   "id": "3cc31db9-2d53-4a29-b694-a64c833296a0",
   "metadata": {},
   "outputs": [],
   "source": [
    "# Arithmetic operations on integers and floats\n",
    "num1 = 10\n",
    "num2 = 3\n",
    "result_sum = num1 + num2\n",
    "result_sub = num1 - num2\n",
    "result_mul = num1 * num2\n",
    "result_div = num1 / num2\n",
    "\n",
    "# Print results\n",
    "print(\"Sum:\", result_sum)\n",
    "print(\"Difference:\", result_sub)\n",
    "print(\"Product:\", result_mul)\n",
    "print(\"Division:\", result_div)\n"
   ]
  },
  {
   "cell_type": "markdown",
   "id": "cdbbecd3-0ca6-4d04-a60a-6268ae1c0fab",
   "metadata": {},
   "source": [
    "## Exercise 1: Calculate Area of Rectangle\n",
    "\n",
    "Write a Python program to calculate the area of a rectangle with length 5 and width 3. Print the result to the console.\n"
   ]
  },
  {
   "cell_type": "code",
   "execution_count": null,
   "id": "06e0c7ac-5913-410a-b5a4-275c50bbdf64",
   "metadata": {},
   "outputs": [],
   "source": [
    "# Solution\n"
   ]
  },
  {
   "cell_type": "markdown",
   "id": "56abe157-f65b-48b5-ae0e-6e6c99577872",
   "metadata": {},
   "source": [
    "## String Operations\n",
    "\n",
    "Strings support various operations such as concatenation and slicing.\n",
    "\n",
    "### Example 3: String Concatenation\n"
   ]
  },
  {
   "cell_type": "code",
   "execution_count": null,
   "id": "ac727297-42f9-4933-bc29-e7fc4a3690f6",
   "metadata": {},
   "outputs": [],
   "source": [
    "# String concatenation\n",
    "first_name = \"John\"\n",
    "last_name = \"Doe\"\n",
    "full_name = first_name + \" \" + last_name\n",
    "\n",
    "# Print full name\n",
    "print(\"Full Name:\", full_name)\n"
   ]
  },
  {
   "cell_type": "markdown",
   "id": "74295f89-bc5a-4660-a276-f5b7612cb7e5",
   "metadata": {},
   "source": [
    "## Exercise 2: Reverse a String\n",
    "\n",
    "Write a Python program to reverse the string \"hello\" and print the result to the console.\n"
   ]
  },
  {
   "cell_type": "code",
   "execution_count": null,
   "id": "3a062c22-656a-4ade-8cfb-d9d470832da6",
   "metadata": {},
   "outputs": [],
   "source": [
    "# Solution\n"
   ]
  },
  {
   "cell_type": "markdown",
   "id": "63ed1c25-1a19-405d-901e-eee460598eec",
   "metadata": {},
   "source": [
    "## Type Conversion\n"
   ]
  },
  {
   "cell_type": "code",
   "execution_count": null,
   "id": "7405d347-2018-47da-a2ff-fc62615b1f31",
   "metadata": {},
   "outputs": [],
   "source": [
    "s1 = \"42\"\n",
    "\n",
    "print (s1)\n",
    "\n",
    "# Should be str\n",
    "print (type(s1))  \n"
   ]
  },
  {
   "cell_type": "code",
   "execution_count": null,
   "id": "3e5c4122-9c0a-45c7-a240-02502916c722",
   "metadata": {},
   "outputs": [],
   "source": [
    "# Convert to a number\n",
    "a = int(s1)\n",
    "\n",
    "print (a)\n",
    "print (type(a))\n"
   ]
  },
  {
   "cell_type": "code",
   "execution_count": null,
   "id": "3a2dff1e-f0a0-4a4b-b49f-a803ea862097",
   "metadata": {},
   "outputs": [],
   "source": [
    "# Whole number\n",
    "b = int(3.14)\n",
    "\n",
    "print (b)\n",
    "print (type(b))\n"
   ]
  },
  {
   "cell_type": "markdown",
   "id": "06d3afc9-9c85-419c-925d-f42064057f74",
   "metadata": {},
   "source": [
    "## Formatting Numbers\n"
   ]
  },
  {
   "cell_type": "code",
   "execution_count": null,
   "id": "f1a5e543-b7cc-424e-b1bc-7e7568c44a46",
   "metadata": {},
   "outputs": [],
   "source": [
    "# format with thousand seperator\n",
    "\n",
    "print ('{:,}'.format(123))\n",
    "print ('{:,}'.format(1234))\n",
    "print ('{:,}'.format(123456789))\n"
   ]
  },
  {
   "cell_type": "code",
   "execution_count": null,
   "id": "895989f4-841e-4391-a225-e65beeb5769d",
   "metadata": {},
   "outputs": [],
   "source": [
    "# format floats\n",
    "\n",
    "# Print to certain decimal places\n",
    "import math\n",
    "\n",
    "# print the whole PI\n",
    "print (math.pi)\n",
    "\n",
    "# only 3 decimal places\n",
    "print ('{:.3f}'.format (math.pi))\n",
    "\n",
    "# only 1 decimal places\n",
    "print ('{:.1f}'.format (math.pi))\n",
    "\n",
    "# only no decimal places\n",
    "print ('{:.0f}'.format (math.pi))\n"
   ]
  },
  {
   "cell_type": "code",
   "execution_count": null,
   "id": "2263b24a-947d-422e-b0e9-1f0260269126",
   "metadata": {},
   "outputs": [],
   "source": [
    "# Combination\n",
    "\n",
    "n = 13456789.54321\n",
    "\n",
    "print ('{:,.2f}'.format(n))\n"
   ]
  },
  {
   "cell_type": "markdown",
   "id": "cf99dc53-8e4e-45d4-8e1a-1e70e79eb948",
   "metadata": {},
   "source": [
    "## Summary\n",
    "\n",
    "Congratulations! You've learned about data types, variables, and basic operations in Python. Practice these concepts by experimenting with different data types and performing operations on variables. Keep exploring more advanced topics to enhance your Python skills further.\n",
    "\n"
   ]
  },
  {
   "cell_type": "markdown",
   "id": "8ae3ca0e-4ed6-4ee9-8a21-06dc2e2a0d14",
   "metadata": {},
   "source": [
    "<details>\n",
    "<summary><b>Instructor Notes</b></summary>\n",
    "\n",
    "Nothing to add...\n",
    "\n",
    "</details>"
   ]
  }
 ],
 "metadata": {
  "kernelspec": {
   "display_name": "Python 3 (ipykernel)",
   "language": "python",
   "name": "python3"
  },
  "language_info": {
   "codemirror_mode": {
    "name": "ipython",
    "version": 3
   },
   "file_extension": ".py",
   "mimetype": "text/x-python",
   "name": "python",
   "nbconvert_exporter": "python",
   "pygments_lexer": "ipython3",
   "version": "3.8.18"
  }
 },
 "nbformat": 4,
 "nbformat_minor": 5
}
