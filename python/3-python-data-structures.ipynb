{
 "cells": [
  {
   "cell_type": "markdown",
   "id": "a98c0e94-d10e-4bde-8337-7a9043ff0cae",
   "metadata": {
    "tags": []
   },
   "source": [
    "# Python Tutorial: Data Structures\n",
    "\n",
    "Here's a quick Python tutorial on data structures covering lists, tuples, dictionaries, and sets.\n",
    "\n",
    "| Type       | Description                                                 | Example                                 |\n",
    "|------------|-------------------------------------------------------------|-----------------------------------------|\n",
    "| List       | ordered, modifiable, and allow duplicate values.            | l = [1, 3.14, \\\"hi\\\"]                   |\n",
    "| Tuple      | ordered, unchangeable, and allow duplicate values.          | t = (1, 3.14, \\\"hi\\\")                   | \n",
    "| Dictionary | ordered, changeable, and does not allow duplicates.         | d = {\\\"brand\\\": \\\"Ford\\\", \\\"model\\\" : \\\"Mustang\\\", \\\"year\\\" : 1964 } |\n",
    "| Set        | unordered, unchangeable, and do not allow duplicate values. | s = {'a', 'b', 'c', 'a'}                |\n"
   ]
  },
  {
   "cell_type": "markdown",
   "id": "d71c838d-f1ed-4301-9fb8-b24d77404122",
   "metadata": {},
   "source": [
    "## Lists\n",
    "\n",
    "A list is a collection of items that are ordered and mutable.\n"
   ]
  },
  {
   "cell_type": "markdown",
   "id": "43460780-5c36-49b2-a88e-a55b8fde4f2e",
   "metadata": {},
   "source": [
    "### Example 1: Create a List\n"
   ]
  },
  {
   "cell_type": "code",
   "execution_count": null,
   "id": "7cb046d8-842c-43ba-8b74-3878cbba51ea",
   "metadata": {},
   "outputs": [],
   "source": [
    "# Creating a list\n",
    "my_list = [1, 2, 3, 4, 5]\n",
    "\n",
    "# Accessing elements\n",
    "print(my_list[0])  # Output: 1\n",
    "print(my_list[-1]) # Output: 5\n",
    "\n",
    "# Slicing\n",
    "print(my_list[1:3])  # Output: [2, 3]\n",
    "\n",
    "# Modifying elements\n",
    "my_list[0] = 10\n",
    "print(my_list)  # Output: [10, 2, 3, 4, 5]\n",
    "\n",
    "# Appending elements\n",
    "my_list.append(6)\n",
    "print(my_list)  # Output: [10, 2, 3, 4, 5, 6]\n"
   ]
  },
  {
   "cell_type": "markdown",
   "id": "875c6d95-2213-4db9-94dd-cbaa3dcdffa1",
   "metadata": {},
   "source": [
    "### Exercise 1: Write a function that takes a list of numbers as input and returns the sum of all the numbers in the list.\n"
   ]
  },
  {
   "cell_type": "code",
   "execution_count": null,
   "id": "b6e6f54a-e6de-4538-a835-4cb0980d4417",
   "metadata": {},
   "outputs": [],
   "source": [
    "# Solution\n"
   ]
  },
  {
   "cell_type": "markdown",
   "id": "d4dc5850-27dd-4c5f-a40c-a6256ba7ae51",
   "metadata": {},
   "source": [
    "## Tuples\n",
    "\n",
    "A tuple is a collection of items that are ordered and immutable.\n",
    "\n",
    "### Example 2: Create a Tuple\n"
   ]
  },
  {
   "cell_type": "code",
   "execution_count": null,
   "id": "f5dec0c6-a825-4383-bffd-86568f9445a1",
   "metadata": {},
   "outputs": [],
   "source": [
    "# Creating a tuple\n",
    "my_tuple = (1, 2, 3, 4, 5)\n",
    "\n",
    "# Accessing elements\n",
    "print(my_tuple[0])  # Output: 1\n",
    "print(my_tuple[-1]) # Output: 5\n",
    "\n",
    "# Slicing\n",
    "print(my_tuple[1:3])  # Output: (2, 3)\n"
   ]
  },
  {
   "cell_type": "markdown",
   "id": "28c911bf-f19e-47d3-97db-f210ed92251c",
   "metadata": {},
   "source": [
    "## Dictionaries\n",
    "\n",
    "A dictionary is a collection of key-value pairs that are unordered and mutable.\n",
    "\n",
    "### Example 3: Create a Dictionary\n"
   ]
  },
  {
   "cell_type": "code",
   "execution_count": null,
   "id": "ad866354-15e8-4a5a-b8ba-82acd6c3a17e",
   "metadata": {},
   "outputs": [],
   "source": [
    "# Creating a dictionary\n",
    "my_dict = {'a': 1, 'b': 2, 'c': 3}\n",
    "\n",
    "# Accessing elements\n",
    "print(my_dict['a'])  # Output: 1\n",
    "\n",
    "# Modifying elements\n",
    "my_dict['d'] = 4\n",
    "print(my_dict)  # Output: {'a': 1, 'b': 2, 'c': 3, 'd': 4}\n",
    "\n",
    "# Iterating over keys and values\n",
    "for key, value in my_dict.items():\n",
    "    print(key, value)\n",
    "    "
   ]
  },
  {
   "cell_type": "markdown",
   "id": "fab32c11-21ed-46eb-96a9-ee258068743c",
   "metadata": {},
   "source": [
    "## Sets\n",
    "\n",
    "A set is a collection of unique items that are unordered and mutable.\n",
    "\n",
    "### Example 4: Create a Set\n"
   ]
  },
  {
   "cell_type": "code",
   "execution_count": null,
   "id": "aee75aa5-19d8-45e2-87c7-a25f56994fab",
   "metadata": {},
   "outputs": [],
   "source": [
    "# Creating a set\n",
    "my_set = {1, 2, 3, 4, 5}\n",
    "\n",
    "# Adding elements\n",
    "my_set.add(6)\n",
    "print(my_set)  # Output: {1, 2, 3, 4, 5, 6}\n",
    "\n",
    "# Removing elements\n",
    "my_set.remove(3)\n",
    "print(my_set)  # Output: {1, 2, 4, 5, 6}\n"
   ]
  },
  {
   "cell_type": "markdown",
   "id": "6ef12ea3-3b02-4455-b55e-ff53986245a0",
   "metadata": {},
   "source": [
    "### Exercise 2: Write a function that takes two lists as input and returns a new list that contains only the unique elements from both lists.\n"
   ]
  },
  {
   "cell_type": "code",
   "execution_count": null,
   "id": "350b176f-cba2-42fb-9c8a-2a99103bf66d",
   "metadata": {},
   "outputs": [],
   "source": [
    "# Solution\n"
   ]
  },
  {
   "cell_type": "markdown",
   "id": "3fb60e10-0edd-47bd-9815-f906cf168b90",
   "metadata": {},
   "source": [
    "## Summary\n",
    "\n",
    "I hope this helps you understand Python data structures better! Let me know if you have any questions or need further clarification.\n"
   ]
  },
  {
   "cell_type": "markdown",
   "id": "a9e1d3bd-451b-48f0-be3b-d4b75bfd330b",
   "metadata": {},
   "source": [
    "<details>\n",
    "<summary><b>Instructor Notes</b></summary>\n",
    "\n",
    "Nothing to add...\n",
    "\n",
    "</details>"
   ]
  }
 ],
 "metadata": {
  "kernelspec": {
   "display_name": "Python 3 (ipykernel)",
   "language": "python",
   "name": "python3"
  },
  "language_info": {
   "codemirror_mode": {
    "name": "ipython",
    "version": 3
   },
   "file_extension": ".py",
   "mimetype": "text/x-python",
   "name": "python",
   "nbconvert_exporter": "python",
   "pygments_lexer": "ipython3",
   "version": "3.11.5"
  }
 },
 "nbformat": 4,
 "nbformat_minor": 5
}
