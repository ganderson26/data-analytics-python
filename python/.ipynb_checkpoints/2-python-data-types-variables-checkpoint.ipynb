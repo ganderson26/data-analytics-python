{
 "cells": [
  {
   "cell_type": "markdown",
   "id": "b069f5d2-6bb2-48f0-b5b0-c83423e0e31f",
   "metadata": {},
   "source": [
    "# Python Tutorial: Data Types and Variables\n",
    "\n",
    "Welcome to the Python Tutorial on Data Types and Variables! In this tutorial, we'll cover the basics of data types, variables, and how to work with them in Python.\n",
    "\n",
    "**Data Types:**\n",
    "\n",
    "Python supports several built-in data types, including:\n",
    "- Integer (`int`): Whole numbers, e.g., 5, -3, 100.\n",
    "- Float (`float`): Decimal numbers, e.g., 3.14, -0.5, 2.0.\n",
    "- String (`str`): Text enclosed in single ('') or double (\"\") quotes, e.g., \"hello\", 'python'.\n",
    "- Boolean (`bool`): True or False values.\n"
   ]
  },
  {
   "cell_type": "markdown",
   "id": "0b41aed0-5795-4252-8a12-d6833b9e6f82",
   "metadata": {},
   "source": [
    "**Example 1: Declaring Variables with Different Data Types**\n"
   ]
  },
  {
   "cell_type": "code",
   "execution_count": null,
   "id": "f78d75fe-3573-4e31-b2b0-9e2918a2f463",
   "metadata": {},
   "outputs": [],
   "source": [
    "# Integers\n",
    "num1 = 10\n",
    "\n",
    "# Floats\n",
    "num2 = 3.14\n",
    "\n",
    "# Strings\n",
    "name = \"Alice\"\n",
    "\n",
    "# Booleans\n",
    "is_student = True\n",
    "\n",
    "# Print variables\n",
    "print(\"Integer:\", num1)\n",
    "print(\"Float:\", num2)\n",
    "print(\"String:\", name)\n",
    "print(\"Boolean:\", is_student)\n"
   ]
  },
  {
   "cell_type": "markdown",
   "id": "9f3bfa60-1cf9-4fb4-976f-7b2cae6d8266",
   "metadata": {},
   "source": [
    "**Operations on Variables:**\n",
    "\n",
    "You can perform various operations on variables based on their data types.\n",
    "\n",
    "**Example 2: Arithmetic Operations**\n"
   ]
  },
  {
   "cell_type": "code",
   "execution_count": null,
   "id": "3cc31db9-2d53-4a29-b694-a64c833296a0",
   "metadata": {},
   "outputs": [],
   "source": [
    "# Arithmetic operations on integers and floats\n",
    "num1 = 10\n",
    "num2 = 3\n",
    "result_sum = num1 + num2\n",
    "result_sub = num1 - num2\n",
    "result_mul = num1 * num2\n",
    "result_div = num1 / num2\n",
    "\n",
    "# Print results\n",
    "print(\"Sum:\", result_sum)\n",
    "print(\"Difference:\", result_sub)\n",
    "print(\"Product:\", result_mul)\n",
    "print(\"Division:\", result_div)\n"
   ]
  },
  {
   "cell_type": "markdown",
   "id": "cdbbecd3-0ca6-4d04-a60a-6268ae1c0fab",
   "metadata": {},
   "source": [
    "**Exercise 1: Calculate Area of Rectangle**\n",
    "Write a Python program to calculate the area of a rectangle with length 5 and width 3. Print the result to the console."
   ]
  },
  {
   "cell_type": "code",
   "execution_count": null,
   "id": "06e0c7ac-5913-410a-b5a4-275c50bbdf64",
   "metadata": {},
   "outputs": [],
   "source": [
    "# Solution\n"
   ]
  },
  {
   "cell_type": "markdown",
   "id": "56abe157-f65b-48b5-ae0e-6e6c99577872",
   "metadata": {},
   "source": [
    "**String Operations:**\n",
    "\n",
    "Strings support various operations such as concatenation and slicing.\n",
    "\n",
    "**Example 3: String Concatenation**\n"
   ]
  },
  {
   "cell_type": "code",
   "execution_count": null,
   "id": "ac727297-42f9-4933-bc29-e7fc4a3690f6",
   "metadata": {},
   "outputs": [],
   "source": [
    "# String concatenation\n",
    "first_name = \"John\"\n",
    "last_name = \"Doe\"\n",
    "full_name = first_name + \" \" + last_name\n",
    "\n",
    "# Print full name\n",
    "print(\"Full Name:\", full_name)\n"
   ]
  },
  {
   "cell_type": "markdown",
   "id": "74295f89-bc5a-4660-a276-f5b7612cb7e5",
   "metadata": {},
   "source": [
    "**Exercise 2: Reverse a String**\n",
    "Write a Python program to reverse the string \"hello\" and print the result to the console.\n"
   ]
  },
  {
   "cell_type": "code",
   "execution_count": null,
   "id": "3a062c22-656a-4ade-8cfb-d9d470832da6",
   "metadata": {},
   "outputs": [],
   "source": [
    "# Solution\n"
   ]
  },
  {
   "cell_type": "markdown",
   "id": "cf99dc53-8e4e-45d4-8e1a-1e70e79eb948",
   "metadata": {},
   "source": [
    "**Conclusion:**\n",
    "\n",
    "Congratulations! You've learned about data types, variables, and basic operations in Python. Practice these concepts by experimenting with different data types and performing operations on variables. Keep exploring more advanced topics to enhance your Python skills further.\n",
    "\n"
   ]
  }
 ],
 "metadata": {
  "kernelspec": {
   "display_name": "Python 3 (ipykernel)",
   "language": "python",
   "name": "python3"
  },
  "language_info": {
   "codemirror_mode": {
    "name": "ipython",
    "version": 3
   },
   "file_extension": ".py",
   "mimetype": "text/x-python",
   "name": "python",
   "nbconvert_exporter": "python",
   "pygments_lexer": "ipython3",
   "version": "3.8.18"
  }
 },
 "nbformat": 4,
 "nbformat_minor": 5
}
