{
 "cells": [
  {
   "cell_type": "markdown",
   "id": "9726be4c-c80d-4562-8cc1-0a68b3e0ab0a",
   "metadata": {},
   "source": [
    "# Python Tutorial: Conditionals\n",
    "\n",
    "In Python, conditionals allow you to make decisions in your code based on certain conditions being true or false. They are used to execute different parts of code based on whether a condition is true or false.\n"
   ]
  },
  {
   "cell_type": "markdown",
   "id": "cfa22441-ee84-405b-856f-da050be6ddca",
   "metadata": {},
   "source": [
    "## Example 1: if Statement\n"
   ]
  },
  {
   "cell_type": "code",
   "execution_count": null,
   "id": "fcef5a21-202d-4c3b-be63-d83c1aa824e4",
   "metadata": {},
   "outputs": [],
   "source": [
    "x = 10\n",
    "if x > 5:\n",
    "    print(\"x is greater than 5\")\n",
    "    "
   ]
  },
  {
   "cell_type": "markdown",
   "id": "dfdaa6b2-b2b7-4ed0-b98b-a41fa2c442b6",
   "metadata": {},
   "source": [
    "## Example 2: if-else Statement\n"
   ]
  },
  {
   "cell_type": "code",
   "execution_count": null,
   "id": "3a000c28-08cc-4ad6-8da3-6774a8273b62",
   "metadata": {},
   "outputs": [],
   "source": [
    "y = 3\n",
    "if y % 2 == 0:\n",
    "    print(\"y is even\")\n",
    "else:\n",
    "    print(\"y is odd\")\n",
    "    "
   ]
  },
  {
   "cell_type": "markdown",
   "id": "03354d81-f1a5-4ad3-a10d-44e5f046fdb5",
   "metadata": {},
   "source": [
    "## Example 3: elif Statement\n"
   ]
  },
  {
   "cell_type": "code",
   "execution_count": null,
   "id": "b0ca3910-86fa-4ae7-b373-bab6fc49baef",
   "metadata": {},
   "outputs": [],
   "source": [
    "z = 0\n",
    "if z > 0:\n",
    "    print(\"z is positive\")\n",
    "elif z < 0:\n",
    "    print(\"z is negative\")\n",
    "else:\n",
    "    print(\"z is zero\")\n",
    "    "
   ]
  },
  {
   "cell_type": "markdown",
   "id": "c1295b13-2298-4465-aaaf-ab31c5623c2d",
   "metadata": {},
   "source": [
    "## Exercise 1: Write a Python program to check if a given number is positive, negative, or zero.\n"
   ]
  },
  {
   "cell_type": "code",
   "execution_count": null,
   "id": "414b3be2-0c52-4b7a-9177-e1a25aad74eb",
   "metadata": {},
   "outputs": [],
   "source": [
    "# Solution\n"
   ]
  },
  {
   "cell_type": "markdown",
   "id": "0feadc8f-48f2-4380-9daf-a8b036a98fff",
   "metadata": {},
   "source": [
    "## Exercise 2: Write a Python program to check if a given year is a leap year or not.\n"
   ]
  },
  {
   "cell_type": "code",
   "execution_count": null,
   "id": "659815e7-7353-4e96-b2c2-e6d2b0b8e8d0",
   "metadata": {},
   "outputs": [],
   "source": [
    "# Solution\n"
   ]
  },
  {
   "cell_type": "markdown",
   "id": "7245f94b-02e4-4f39-9740-e5a3828fd4bf",
   "metadata": {},
   "source": [
    "## Summary\n",
    "\n",
    "Conditionals are essential for controlling the flow of your Python programs based on certain conditions. They allow your code to make decisions and execute different blocks of code accordingly.\n"
   ]
  },
  {
   "cell_type": "markdown",
   "id": "98702540-0e5a-410b-adf5-78e1b3bca7b8",
   "metadata": {},
   "source": [
    "<details>\n",
    "<summary><b>Instructor Notes</b></summary>\n",
    "\n",
    "Nothing to add...\n",
    "\n",
    "</details>"
   ]
  }
 ],
 "metadata": {
  "kernelspec": {
   "display_name": "Python 3 (ipykernel)",
   "language": "python",
   "name": "python3"
  },
  "language_info": {
   "codemirror_mode": {
    "name": "ipython",
    "version": 3
   },
   "file_extension": ".py",
   "mimetype": "text/x-python",
   "name": "python",
   "nbconvert_exporter": "python",
   "pygments_lexer": "ipython3",
   "version": "3.11.5"
  }
 },
 "nbformat": 4,
 "nbformat_minor": 5
}
