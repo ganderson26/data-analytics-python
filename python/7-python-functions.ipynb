{
 "cells": [
  {
   "cell_type": "markdown",
   "id": "91ac6f12-56ba-4cde-b921-0e5675a88c2d",
   "metadata": {},
   "source": [
    "# Python Tutorial: Functions\n",
    "\n",
    "Functions in Python are blocks of code that perform a specific task. They allow you to break down your code into smaller, reusable components, making your code more organized and easier to maintain.\n"
   ]
  },
  {
   "cell_type": "markdown",
   "id": "8ef4cf5a-40f5-42d7-b08f-881ec3923d00",
   "metadata": {},
   "source": [
    "## Example 1: Simple Function\n"
   ]
  },
  {
   "cell_type": "code",
   "execution_count": null,
   "id": "d80053bd-46c7-4754-83dc-033924409a15",
   "metadata": {},
   "outputs": [],
   "source": [
    "# Define a function to greet the user\n",
    "def greet(name):\n",
    "    print(f\"Hello, {name}!\")\n",
    "\n",
    "# Call the function\n",
    "greet(\"Alice\")\n"
   ]
  },
  {
   "cell_type": "markdown",
   "id": "fb80d116-01b8-4263-b4c1-97410029ff83",
   "metadata": {},
   "source": [
    "## Example 2: Function with Return Value\n"
   ]
  },
  {
   "cell_type": "code",
   "execution_count": null,
   "id": "f3981c66-f2c0-47af-b4dc-b52848e983a3",
   "metadata": {},
   "outputs": [],
   "source": [
    "# Define a function to calculate the square of a number\n",
    "def square(num):\n",
    "    return num ** 2\n",
    "\n",
    "# Call the function and store the result\n",
    "result = square(5)\n",
    "print(result)\n"
   ]
  },
  {
   "cell_type": "markdown",
   "id": "0f63dfb1-043e-441d-b7d0-fd033e65ca84",
   "metadata": {},
   "source": [
    "## Example 3: Function with Default Argument\n"
   ]
  },
  {
   "cell_type": "code",
   "execution_count": null,
   "id": "0b6aa5bd-a165-49da-9265-64f9e89c1621",
   "metadata": {},
   "outputs": [],
   "source": [
    "# Define a function to greet the user with a default message\n",
    "def greet(name, message=\"Hello\"):\n",
    "    print(f\"{message}, {name}!\")\n",
    "\n",
    "# Call the function with and without specifying the message\n",
    "greet(\"Bob\")\n",
    "greet(\"Alice\", \"Hi\")\n"
   ]
  },
  {
   "cell_type": "markdown",
   "id": "52f6c42a-9b19-46fc-8e20-b48ac37dffbe",
   "metadata": {},
   "source": [
    "## Exercise 1: \n",
    "\n",
    "Write a function to calculate the factorial of a number.\n"
   ]
  },
  {
   "cell_type": "code",
   "execution_count": null,
   "id": "3e17b9f6-775d-4819-893e-2530f6247538",
   "metadata": {},
   "outputs": [],
   "source": [
    "# Solution\n"
   ]
  },
  {
   "cell_type": "markdown",
   "id": "bcc3fbc1-b2c5-4a52-81f9-1d1a53401ac2",
   "metadata": {},
   "source": [
    "## Exercise 2: \n",
    "\n",
    "Write a function to check if a number is prime or not.\n"
   ]
  },
  {
   "cell_type": "code",
   "execution_count": null,
   "id": "3681d914-7d17-4abe-a614-6c823e03cc2a",
   "metadata": {},
   "outputs": [],
   "source": [
    "# Solution\n"
   ]
  },
  {
   "cell_type": "markdown",
   "id": "6412812c-c51a-40b6-ac2e-64bcf0a7caf9",
   "metadata": {},
   "source": [
    "## Summary\n",
    "\n",
    "Functions are an essential part of Python programming, allowing you to encapsulate logic into reusable blocks of code. They help in improving code organization, readability, and maintainability.\n"
   ]
  },
  {
   "cell_type": "markdown",
   "id": "35b0b1f8-7730-4212-ac06-46c874543393",
   "metadata": {},
   "source": [
    "<details>\n",
    "<summary><b>Instructor Notes</b></summary>\n",
    "\n",
    "Nothing to add...\n",
    "\n",
    "</details>"
   ]
  }
 ],
 "metadata": {
  "kernelspec": {
   "display_name": "Python 3 (ipykernel)",
   "language": "python",
   "name": "python3"
  },
  "language_info": {
   "codemirror_mode": {
    "name": "ipython",
    "version": 3
   },
   "file_extension": ".py",
   "mimetype": "text/x-python",
   "name": "python",
   "nbconvert_exporter": "python",
   "pygments_lexer": "ipython3",
   "version": "3.11.5"
  }
 },
 "nbformat": 4,
 "nbformat_minor": 5
}
