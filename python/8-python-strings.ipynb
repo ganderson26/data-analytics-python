{
 "cells": [
  {
   "cell_type": "markdown",
   "id": "9f2a89f1-f830-46e6-9544-b88b6aaa24cd",
   "metadata": {},
   "source": [
    "# Python Tutorial: Strings\n",
    "\n",
    "Strings in Python are sequences of characters, enclosed within either single quotes (' ') or double quotes (\" \"). They are immutable, meaning their values cannot be changed after they are created. Strings support various operations and methods for manipulation and analysis.\n"
   ]
  },
  {
   "cell_type": "markdown",
   "id": "8173895d-372f-4163-a760-2a1a328c6ebe",
   "metadata": {},
   "source": [
    "## Example 1: Creating Strings\n"
   ]
  },
  {
   "cell_type": "code",
   "execution_count": null,
   "id": "a53ad96c-dd8a-4c4d-bae3-4cc88080cd70",
   "metadata": {},
   "outputs": [],
   "source": [
    "# Single quotes\n",
    "single_quoted = 'Hello, World!'\n",
    "\n",
    "# Double quotes\n",
    "double_quoted = \"Hello, World!\"\n",
    "\n",
    "# Triple quotes for multi-line strings\n",
    "multi_line = \"\"\"This is a \n",
    "multi-line string.\"\"\"\n"
   ]
  },
  {
   "cell_type": "markdown",
   "id": "ceef0149-6242-4fb8-818d-ff037248dbcd",
   "metadata": {},
   "source": [
    "## Example 2: Accessing Characters\n"
   ]
  },
  {
   "cell_type": "code",
   "execution_count": null,
   "id": "d2c7bbcf-c9a6-42e5-ac0d-bec463bc6133",
   "metadata": {},
   "outputs": [],
   "source": [
    "string = \"Python\"\n",
    "\n",
    "# Accessing individual characters\n",
    "print(string[0])  # Output: 'P'\n",
    "\n",
    "# Slicing\n",
    "print(string[1:4])  # Output: 'yth'\n"
   ]
  },
  {
   "cell_type": "markdown",
   "id": "335a0797-df2f-4ab7-af05-5713cfbb73e8",
   "metadata": {},
   "source": [
    "## Example 3: String Methods\n"
   ]
  },
  {
   "cell_type": "code",
   "execution_count": null,
   "id": "3e10c541-f721-4277-8086-4b05ffe1580e",
   "metadata": {},
   "outputs": [],
   "source": [
    "text = \"   Python Programming   \"\n",
    "\n",
    "# Strip whitespace\n",
    "print(text.strip())\n",
    "\n",
    "# Convert to uppercase\n",
    "print(text.upper())\n",
    "\n",
    "# Replace substring\n",
    "print(text.replace(\"Programming\", \"Language\"))\n",
    "\n",
    "# Split into a list of words\n",
    "print(text.split())\n"
   ]
  },
  {
   "cell_type": "markdown",
   "id": "6f14e5d0-f891-4fd4-99df-a8bd6ee92c53",
   "metadata": {},
   "source": [
    "## Exercise 1: Write a Python program to count the number of vowels in a string.\n"
   ]
  },
  {
   "cell_type": "code",
   "execution_count": null,
   "id": "cfbc8b63-f280-48cf-a3c8-86299ed8b727",
   "metadata": {},
   "outputs": [],
   "source": [
    "# Solution\n"
   ]
  },
  {
   "cell_type": "markdown",
   "id": "5a57321f-9b1c-4f12-8b4e-bf06fc693b58",
   "metadata": {},
   "source": [
    "## Exercise 2: Write a Python program to check if a string is a palindrome.\n"
   ]
  },
  {
   "cell_type": "code",
   "execution_count": null,
   "id": "fa40256a-8d0c-488f-a835-d73838bc0a4f",
   "metadata": {},
   "outputs": [],
   "source": [
    "# Solution\n"
   ]
  },
  {
   "cell_type": "markdown",
   "id": "0f3cedcd-50d8-41dc-bfb7-27c3118c9ae2",
   "metadata": {},
   "source": [
    "## Joining Strings\n"
   ]
  },
  {
   "cell_type": "code",
   "execution_count": null,
   "id": "5a1fb1b1-7cd9-4a0e-8a9c-cde38f1a7e12",
   "metadata": {},
   "outputs": [],
   "source": [
    "s1 = \"hello\"\n",
    "s2 = 'world'\n",
    "\n",
    "s3 = s1 + s2\n",
    "print (s3)\n"
   ]
  },
  {
   "cell_type": "markdown",
   "id": "24b24fec-ada1-4ff1-950a-ac12efa37d59",
   "metadata": {},
   "source": [
    "## String Format\n"
   ]
  },
  {
   "cell_type": "code",
   "execution_count": null,
   "id": "c8c8bc8a-5b6b-44df-afdc-20aa9d9f8232",
   "metadata": {},
   "outputs": [],
   "source": [
    "name = 'John'\n",
    "age = 40\n",
    "\n",
    "print (\"Hello {}\".format(name))\n",
    "print (\"{} is {} years old\".format (name, age))\n"
   ]
  },
  {
   "cell_type": "markdown",
   "id": "3474201c-c985-4075-8161-02b821fed9c7",
   "metadata": {},
   "source": [
    "## f-strings\n",
    "\n",
    "This is very handy as well. We can use variables within strings!\n"
   ]
  },
  {
   "cell_type": "code",
   "execution_count": null,
   "id": "49b15906-2539-4d3f-8221-7045ded22301",
   "metadata": {},
   "outputs": [],
   "source": [
    "# Note, strings have to start with f\n",
    "\n",
    "name = 'John'\n",
    "age = 40\n",
    "\n",
    "print (f'Hello {name}')\n",
    "print (f'{name} is {age} years old')\n"
   ]
  },
  {
   "cell_type": "markdown",
   "id": "ccf5fd29-44fc-4259-9a20-ba8166a1b834",
   "metadata": {},
   "source": [
    "## Summary\n",
    "\n",
    "Strings are fundamental data types in Python and are extensively used for text processing. Understanding string operations and methods is crucial for working effectively with textual data in Python.\n",
    "                                                                                                                                                 "
   ]
  },
  {
   "cell_type": "markdown",
   "id": "c4ef8b4d-af53-4e35-8b49-c402ca5c9de0",
   "metadata": {},
   "source": [
    "<details>\n",
    "<summary><b>Instructor Notes</b></summary>\n",
    "\n",
    "Nothing to add...\n",
    "\n",
    "</details>"
   ]
  }
 ],
 "metadata": {
  "kernelspec": {
   "display_name": "Python 3 (ipykernel)",
   "language": "python",
   "name": "python3"
  },
  "language_info": {
   "codemirror_mode": {
    "name": "ipython",
    "version": 3
   },
   "file_extension": ".py",
   "mimetype": "text/x-python",
   "name": "python",
   "nbconvert_exporter": "python",
   "pygments_lexer": "ipython3",
   "version": "3.11.5"
  }
 },
 "nbformat": 4,
 "nbformat_minor": 5
}
