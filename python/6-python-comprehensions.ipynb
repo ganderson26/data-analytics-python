{
 "cells": [
  {
   "cell_type": "markdown",
   "id": "57d03792-36c3-457e-bb6c-f00e9f51067b",
   "metadata": {},
   "source": [
    "# Python Tutorial: Comprehensions\n",
    "\n",
    "Comprehensions are a concise and efficient way to create collections in Python by applying an expression to each item in an iterable. There are three types of comprehensions in Python: list comprehensions, dictionary comprehensions, and set comprehensions.\n"
   ]
  },
  {
   "cell_type": "markdown",
   "id": "8c1d2dea-ff77-498c-8382-410deac94cf7",
   "metadata": {},
   "source": [
    "**Example 1: List Comprehension**\n"
   ]
  },
  {
   "cell_type": "code",
   "execution_count": null,
   "id": "efe38ec8-ae1c-4328-89f7-18cb17309314",
   "metadata": {},
   "outputs": [],
   "source": [
    "# Create a list of squares of numbers from 0 to 9\n",
    "squares = [x ** 2 for x in range(10)]\n",
    "print(squares)\n"
   ]
  },
  {
   "cell_type": "markdown",
   "id": "10dc072b-cf2a-4693-ac39-2b1137184cc8",
   "metadata": {},
   "source": [
    "**Example 2: Dictionary Comprehension**\n"
   ]
  },
  {
   "cell_type": "code",
   "execution_count": null,
   "id": "18de3821-076b-4539-a607-b60db7bb483a",
   "metadata": {},
   "outputs": [],
   "source": [
    "# Create a dictionary of squares of numbers from 1 to 5\n",
    "square_dict = {x: x ** 2 for x in range(1, 6)}\n",
    "print(square_dict)\n"
   ]
  },
  {
   "cell_type": "markdown",
   "id": "e454373b-55c0-46ff-8d4c-efd05f0dd644",
   "metadata": {},
   "source": [
    "**Example 3: Set Comprehension**\n"
   ]
  },
  {
   "cell_type": "code",
   "execution_count": null,
   "id": "f2f37966-e3e2-47a2-9219-87676d91dfd5",
   "metadata": {},
   "outputs": [],
   "source": [
    "# Create a set of even numbers from 0 to 9\n",
    "even_set = {x for x in range(10) if x % 2 == 0}\n",
    "print(even_set)\n"
   ]
  },
  {
   "cell_type": "markdown",
   "id": "8ab01ad5-e50b-4ed0-9862-a32bd0314e66",
   "metadata": {},
   "source": [
    "**Exercise 1: Write a list comprehension to create a list of cubes of numbers from 1 to 5.**\n"
   ]
  },
  {
   "cell_type": "code",
   "execution_count": null,
   "id": "31025315-322f-4ca8-be40-2c207bdd18db",
   "metadata": {},
   "outputs": [],
   "source": [
    "# Solution\n"
   ]
  },
  {
   "cell_type": "markdown",
   "id": "e2908524-cc08-4a1e-afc7-be5f73218ed0",
   "metadata": {},
   "source": [
    "**Exercise 2: Write a dictionary comprehension to create a dictionary where keys are numbers from 1 to 5 and values are their squares.**\n"
   ]
  },
  {
   "cell_type": "code",
   "execution_count": null,
   "id": "e27cc7ec-2622-4db2-a44e-ba9fba98f419",
   "metadata": {},
   "outputs": [],
   "source": [
    "# Solution\n"
   ]
  },
  {
   "cell_type": "markdown",
   "id": "c970f3c4-db99-4d95-89eb-f2db999da122",
   "metadata": {},
   "source": [
    "## Summary\n",
    "\n",
    "Comprehensions are a powerful feature in Python that allow you to create collections in a concise and readable way. They are widely used in Python code to improve readability and efficiency.\n"
   ]
  }
 ],
 "metadata": {
  "kernelspec": {
   "display_name": "Python 3 (ipykernel)",
   "language": "python",
   "name": "python3"
  },
  "language_info": {
   "codemirror_mode": {
    "name": "ipython",
    "version": 3
   },
   "file_extension": ".py",
   "mimetype": "text/x-python",
   "name": "python",
   "nbconvert_exporter": "python",
   "pygments_lexer": "ipython3",
   "version": "3.8.18"
  }
 },
 "nbformat": 4,
 "nbformat_minor": 5
}
