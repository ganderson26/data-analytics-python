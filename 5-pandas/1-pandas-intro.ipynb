{
 "cells": [
  {
   "cell_type": "markdown",
   "id": "a4d03de6-c0cb-4bc2-9c4b-157338ddabf3",
   "metadata": {},
   "source": [
    "# Python Tutorial: Pandas\n",
    "\n",
    "Pandas is a powerful library in Python for data manipulation and analysis. It provides data structures like DataFrame and Series, along with functions to efficiently manipulate and analyze tabular data. Pandas is widely used in fields such as data science, finance, and economics.\n"
   ]
  },
  {
   "cell_type": "markdown",
   "id": "e88abc5e-dda5-456c-914e-f447d2a83633",
   "metadata": {},
   "source": [
    "## Pandas\n",
    "\n",
    "https://pandas.pydata.org/\n"
   ]
  },
  {
   "cell_type": "markdown",
   "id": "f57d6e97-b36e-4446-8c40-86303dc082dd",
   "metadata": {},
   "source": [
    "## Summary\n",
    "\n",
    "Pandas is an essential tool for data analysis and manipulation in Python, providing powerful data structures and functions to work with tabular data effectively.\n"
   ]
  },
  {
   "cell_type": "markdown",
   "id": "1f7c330f-aa59-4a03-8565-2fc27518ac04",
   "metadata": {},
   "source": [
    "<details>\n",
    "<summary><b>Instructor Notes</b></summary>\n",
    "\n",
    "Nothing to add...\n",
    "\n",
    "</details>"
   ]
  }
 ],
 "metadata": {
  "kernelspec": {
   "display_name": "Python 3 (ipykernel)",
   "language": "python",
   "name": "python3"
  },
  "language_info": {
   "codemirror_mode": {
    "name": "ipython",
    "version": 3
   },
   "file_extension": ".py",
   "mimetype": "text/x-python",
   "name": "python",
   "nbconvert_exporter": "python",
   "pygments_lexer": "ipython3",
   "version": "3.11.5"
  }
 },
 "nbformat": 4,
 "nbformat_minor": 5
}
