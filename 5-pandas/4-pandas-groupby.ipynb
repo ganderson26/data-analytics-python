{
 "cells": [
  {
   "cell_type": "markdown",
   "id": "0fc9d87c-3f05-4cfc-ae28-90ee661b5c31",
   "metadata": {},
   "source": [
    "# Python Tutorial: GroupBy in Python Pandas\n",
    "\n",
    "In Python Pandas, the `groupby` function is a powerful tool used for splitting the data into groups based on some criteria, applying a function to each group independently, and combining the results into a data structure. This tutorial will cover the basics of using `groupby` in Pandas, along with examples, exercises, and solutions.\n"
   ]
  },
  {
   "cell_type": "markdown",
   "id": "d337b1ee-78ab-48bd-bbef-2513b4874109",
   "metadata": {},
   "source": [
    "## Introduction to GroupBy\n",
    "\n",
    "`groupby` is a method in Pandas that is used to split data into groups based on some criteria. It is followed by an aggregation function that operates on these groups. The basic syntax is:\n",
    "\n",
    "```python\n",
    "grouped = df.groupby('column_name')\n",
    "```\n"
   ]
  },
  {
   "cell_type": "markdown",
   "id": "c7a6d4e2-cccf-4554-a3d3-3827f56dbb4a",
   "metadata": {},
   "source": [
    "## GroupBy with Aggregation\n",
    "\n",
    "Let's consider a dataset of sales transactions:\n"
   ]
  },
  {
   "cell_type": "code",
   "execution_count": null,
   "id": "7bf26deb-05a4-47d7-8b18-3e3703c1e8f1",
   "metadata": {},
   "outputs": [],
   "source": [
    "import pandas as pd\n",
    "\n",
    "# Create a sample DataFrame\n",
    "data = {\n",
    "    'Category': ['Electronics', 'Clothing', 'Electronics', 'Clothing', 'Electronics'],\n",
    "    'Amount': [100, 200, 150, 300, 250]\n",
    "}\n",
    "df = pd.DataFrame(data)\n",
    "\n",
    "# Group by 'Category' and calculate the total amount for each category\n",
    "grouped = df.groupby('Category')['Amount'].sum()\n",
    "\n",
    "print(grouped)\n"
   ]
  },
  {
   "cell_type": "markdown",
   "id": "d17cad79-937a-408f-acf6-7e55959b5289",
   "metadata": {},
   "source": [
    "### Exercise 1: \n",
    "\n",
    "Use the given DataFrame `df` and group by the 'Category' column. Calculate the average amount for each category.\n"
   ]
  },
  {
   "cell_type": "code",
   "execution_count": null,
   "id": "4af6ca02-cf07-4e1f-aa05-56a88fd47d6d",
   "metadata": {},
   "outputs": [],
   "source": [
    "# Solution\n"
   ]
  },
  {
   "cell_type": "markdown",
   "id": "bfb000f4-1c61-4b28-82fe-89cef029fa0b",
   "metadata": {},
   "source": [
    "### Exercise 2: \n",
    "\n",
    "Create a new DataFrame with the following data:\n",
    "\n",
    "```python\n",
    "data = {\n",
    "    'City': ['New York', 'Chicago', 'New York', 'Chicago', 'Los Angeles'],\n",
    "    'Temperature': [70, 65, 75, 72, 80],\n",
    "    'Humidity': [60, 55, 65, 62, 70]\n",
    "}\n",
    "```\n",
    "\n",
    "Group by the 'City' column and calculate the maximum temperature and minimum humidity for each city.\n"
   ]
  },
  {
   "cell_type": "code",
   "execution_count": null,
   "id": "b7793623-779c-4bf2-bbfc-55a0ea52c564",
   "metadata": {},
   "outputs": [],
   "source": [
    "# Solution\n"
   ]
  },
  {
   "cell_type": "markdown",
   "id": "6fe6b9bb-4a05-4791-af88-ab9c19438fd2",
   "metadata": {},
   "source": [
    "## Summary\n",
    "\n",
    "In this tutorial, we covered the basics of using `groupby` in Python Pandas. You learned how to split data into groups based on a criteria, apply aggregation functions, and solve some exercises to reinforce your understanding. GroupBy is a powerful feature in Pandas that can be used for various data analysis tasks. Practice with different datasets to master its usage.\n"
   ]
  },
  {
   "cell_type": "markdown",
   "id": "bcdfa0ad-27ea-4ccf-b3be-e98e3509eef8",
   "metadata": {},
   "source": [
    "<details>\n",
    "<summary><b>Instructor Notes</b></summary>\n",
    "\n",
    "Nothing to add...\n",
    "\n",
    "</details>"
   ]
  }
 ],
 "metadata": {
  "kernelspec": {
   "display_name": "Python 3 (ipykernel)",
   "language": "python",
   "name": "python3"
  },
  "language_info": {
   "codemirror_mode": {
    "name": "ipython",
    "version": 3
   },
   "file_extension": ".py",
   "mimetype": "text/x-python",
   "name": "python",
   "nbconvert_exporter": "python",
   "pygments_lexer": "ipython3",
   "version": "3.12.2"
  }
 },
 "nbformat": 4,
 "nbformat_minor": 5
}
