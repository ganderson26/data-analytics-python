{
 "cells": [
  {
   "cell_type": "markdown",
   "id": "8ce313d6-5718-425a-baae-5fc55ca95594",
   "metadata": {},
   "source": [
    "# Python Tutorial: NumPy Indexing and Slicing\n",
    "\n",
    "Working with Indexing and Slicing NumPy Arrays.\n"
   ]
  },
  {
   "cell_type": "markdown",
   "id": "ad4c6b09-8423-4a10-a26a-7ac439b4ac77",
   "metadata": {},
   "source": [
    "## Indexing and Slicing Arrays\n",
    "\n",
    "It is imporant to know how to **slice** arrays.  Understand the concept and it will be easier\n"
   ]
  },
  {
   "cell_type": "code",
   "execution_count": null,
   "id": "662f7194-ce2b-4458-b5c1-97c5fb6b9d98",
   "metadata": {},
   "outputs": [],
   "source": [
    "a = np.arange(0,10)\n",
    "a\n"
   ]
  },
  {
   "cell_type": "code",
   "execution_count": null,
   "id": "b6c297ce-bc48-4232-bd2d-922a960cd6d1",
   "metadata": {},
   "outputs": [],
   "source": [
    "# Print first element\n",
    "a[0]\n"
   ]
  },
  {
   "cell_type": "code",
   "execution_count": null,
   "id": "2676e3c6-89c8-435a-a3bc-0de250fe0c86",
   "metadata": {},
   "outputs": [],
   "source": [
    "# print last element\n",
    "a[-1]\n"
   ]
  },
  {
   "cell_type": "code",
   "execution_count": null,
   "id": "e63b25bb-e40c-4c44-b454-7a2e13cead2f",
   "metadata": {},
   "outputs": [],
   "source": [
    "# print every thing after element 5\n",
    "a[5:]\n"
   ]
  },
  {
   "cell_type": "code",
   "execution_count": null,
   "id": "b484eb09-09b4-4981-b1f4-060c5db8a369",
   "metadata": {},
   "outputs": [],
   "source": [
    "# print upto element 7\n",
    "a[:7]\n"
   ]
  },
  {
   "cell_type": "code",
   "execution_count": null,
   "id": "c81f9465-0a34-4f21-9a41-cab7c3ca8b8b",
   "metadata": {},
   "outputs": [],
   "source": [
    "# print elements 3 - 8\n",
    "a[3:8]\n"
   ]
  },
  {
   "cell_type": "code",
   "execution_count": null,
   "id": "c7e0d002-eb50-417e-9f21-e47d1f06cc4e",
   "metadata": {},
   "outputs": [],
   "source": [
    "# or \n",
    "a[3 : 8+1]\n",
    "# which is correct ? :-) \n"
   ]
  },
  {
   "cell_type": "code",
   "execution_count": null,
   "id": "1045818e-bb25-4d56-8f9b-253271fc8981",
   "metadata": {},
   "outputs": [],
   "source": [
    "# print every thing from element 5 upto last element\n",
    "a[5:-1]\n"
   ]
  },
  {
   "cell_type": "code",
   "execution_count": null,
   "id": "6f71829d-3753-4f6f-a8db-b5b99784a8c1",
   "metadata": {},
   "outputs": [],
   "source": [
    "# print every thing from element 5 upto second last element\n",
    "a[5:-2]\n"
   ]
  },
  {
   "cell_type": "markdown",
   "id": "b3b80384-1ec7-4a74-ad5b-b6e7aff16c5e",
   "metadata": {},
   "source": [
    "## Summary\n",
    "\n",
    "NumPy provides a powerful set of tools for numerical computing in Python, making it easier and more efficient to work with large datasets and perform complex mathematical operations.\n"
   ]
  },
  {
   "cell_type": "markdown",
   "id": "986cd1a2-4e60-4f11-b886-9b5b9607323d",
   "metadata": {},
   "source": [
    "<details>\n",
    "<summary><b>Instructor Notes</b></summary>\n",
    "\n",
    "Nothing to add...\n",
    "\n",
    "</details>"
   ]
  }
 ],
 "metadata": {
  "kernelspec": {
   "display_name": "Python 3 (ipykernel)",
   "language": "python",
   "name": "python3"
  },
  "language_info": {
   "codemirror_mode": {
    "name": "ipython",
    "version": 3
   },
   "file_extension": ".py",
   "mimetype": "text/x-python",
   "name": "python",
   "nbconvert_exporter": "python",
   "pygments_lexer": "ipython3",
   "version": "3.11.5"
  }
 },
 "nbformat": 4,
 "nbformat_minor": 5
}
