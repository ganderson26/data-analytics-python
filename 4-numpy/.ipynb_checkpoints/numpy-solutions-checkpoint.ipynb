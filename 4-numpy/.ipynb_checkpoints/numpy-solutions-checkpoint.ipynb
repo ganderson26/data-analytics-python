{
 "cells": [
  {
   "cell_type": "code",
   "execution_count": null,
   "id": "fcd866eb-09b0-43d5-a93e-d2355a01816b",
   "metadata": {},
   "outputs": [],
   "source": [
    "# Exercise 1: \n",
    "# Create a NumPy array of shape (3, 3) with random integers.\n",
    "import numpy as np\n",
    "arr1 = np.random.randint(1, 10, (3, 3))\n",
    "print(arr1)\n"
   ]
  },
  {
   "cell_type": "code",
   "execution_count": null,
   "id": "178e7ce7-8dbe-4f98-acbb-d2161667127d",
   "metadata": {},
   "outputs": [],
   "source": [
    "# Exercise 2: \n",
    "# Create a NumPy array of shape (4, 4) with values ranging from 0 to 15.\n",
    "import numpy as np\n",
    "\n",
    "arr2 = np.arange(16).reshape((4, 4))\n",
    "print(arr2)\n"
   ]
  },
  {
   "cell_type": "code",
   "execution_count": null,
   "id": "3e939792-ecb2-430e-8b57-64e36780becb",
   "metadata": {},
   "outputs": [],
   "source": [
    "# Exercise 3:\n",
    "# Multiply two NumPy arrays of shape (2, 2).\n",
    "import numpy as np\n",
    "\n",
    "a = np.array([[1, 2], [3, 4]])\n",
    "b = np.array([[5, 6], [7, 8]])\n",
    "result = np.dot(a, b)\n",
    "print(result)\n"
   ]
  },
  {
   "cell_type": "code",
   "execution_count": null,
   "id": "245cc976-5c7b-4a8e-9d33-a4642ae67040",
   "metadata": {},
   "outputs": [],
   "source": []
  }
 ],
 "metadata": {
  "kernelspec": {
   "display_name": "Python 3 (ipykernel)",
   "language": "python",
   "name": "python3"
  },
  "language_info": {
   "codemirror_mode": {
    "name": "ipython",
    "version": 3
   },
   "file_extension": ".py",
   "mimetype": "text/x-python",
   "name": "python",
   "nbconvert_exporter": "python",
   "pygments_lexer": "ipython3",
   "version": "3.12.2"
  }
 },
 "nbformat": 4,
 "nbformat_minor": 5
}
