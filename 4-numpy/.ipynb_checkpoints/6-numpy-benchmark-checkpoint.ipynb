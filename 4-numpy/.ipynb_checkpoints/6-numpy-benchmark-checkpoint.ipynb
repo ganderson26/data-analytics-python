{
 "cells": [
  {
   "cell_type": "markdown",
   "id": "8ce313d6-5718-425a-baae-5fc55ca95594",
   "metadata": {},
   "source": [
    "# Python Tutorial: NumPy Benchmark\n",
    "\n",
    "Taking a look at some Benchmark measurements.\n"
   ]
  },
  {
   "cell_type": "markdown",
   "id": "a4527ab1-7ebb-4439-a691-9970c5439f64",
   "metadata": {},
   "source": [
    "## Benchmark NumPy arrays vs Python lists\n",
    "\n",
    "So let's do a quick benchmark comparing performance between np array vs python standard lists.\n"
   ]
  },
  {
   "cell_type": "markdown",
   "id": "2295a2ee-c3fb-4424-8f43-6164c18fc465",
   "metadata": {},
   "source": [
    "### `%timeit`\n",
    "\n",
    "`timeit` is a handy utilility.  It will measure a code snippet's performance.  It will typically run it a million times and calculate averager time taken\n",
    "\n",
    "References:\n",
    "- [1](https://docs.python.org/3/library/timeit.html)\n",
    "\n",
    "### Small sized arrays\n",
    "\n",
    "Let's start with an array size of 10\n"
   ]
  },
  {
   "cell_type": "code",
   "execution_count": null,
   "id": "13679ac2-aeeb-44be-8ae4-3b1612954bbd",
   "metadata": {},
   "outputs": [],
   "source": [
    "import random\n",
    "\n",
    "py_list = range(0,10)\n",
    "np_arr = np.arange (0,10)\n"
   ]
  },
  {
   "cell_type": "code",
   "execution_count": null,
   "id": "e450674b-2acc-4a30-a257-92bcf38c60ff",
   "metadata": {},
   "outputs": [],
   "source": [
    "# python small list\n",
    "%timeit  random.choices(py_list, k=1)\n"
   ]
  },
  {
   "cell_type": "code",
   "execution_count": null,
   "id": "26474843-9f14-4f84-b854-8a01cdccb9b7",
   "metadata": {},
   "outputs": [],
   "source": [
    "# np small array\n",
    "%timeit np.random.choice(np_arr, size=1)\n"
   ]
  },
  {
   "cell_type": "markdown",
   "id": "48d5bc7b-2f95-40c9-9e13-37ef44c9db8c",
   "metadata": {},
   "source": [
    "### Large Sized Arrays\n"
   ]
  },
  {
   "cell_type": "code",
   "execution_count": null,
   "id": "83bf0a0b-f08b-4ddc-8cfe-3b1367aad3dc",
   "metadata": {},
   "outputs": [],
   "source": [
    "size = 1000000\n",
    "py_list = range(0,size)\n",
    "np_arr = np.arange (0,size)\n"
   ]
  },
  {
   "cell_type": "code",
   "execution_count": null,
   "id": "d9fe7480-4e11-48b6-b357-99029ce4e611",
   "metadata": {},
   "outputs": [],
   "source": [
    "# python large list\n",
    "%timeit  random.choices(py_list, k=1000)\n"
   ]
  },
  {
   "cell_type": "code",
   "execution_count": null,
   "id": "1623c790-64fa-43bd-b873-e683858de8ac",
   "metadata": {},
   "outputs": [],
   "source": [
    "# np large array\n",
    "%timeit np.random.choice(np_arr, size=1000)\n"
   ]
  },
  {
   "cell_type": "markdown",
   "id": "c9bf7628-c435-48cb-9aa4-a54b8e4a5c6b",
   "metadata": {},
   "source": [
    "### Sum Operation on large array\n"
   ]
  },
  {
   "cell_type": "code",
   "execution_count": null,
   "id": "5b796890-5024-44c9-aa0d-e76326b1ab3e",
   "metadata": {},
   "outputs": [],
   "source": [
    "size = 1000000\n",
    "py_list = range(0,size)\n",
    "np_arr = np.arange (0,size)\n"
   ]
  },
  {
   "cell_type": "code",
   "execution_count": null,
   "id": "dea6bf07-49ee-4107-9f0e-833e403b5f5c",
   "metadata": {},
   "outputs": [],
   "source": [
    "%timeit sum(py_list)\n"
   ]
  },
  {
   "cell_type": "markdown",
   "id": "4425d85c-9d3b-4765-8995-6c1a3600e374",
   "metadata": {},
   "source": [
    "### Comparing Memory footprint\n",
    "\n",
    "This is an approximate measurement of memory footprint.  For accurate measurements we should use memory profilers like heapy.\n",
    "\n",
    "References:\n",
    "- [Speed comparison. numpy vs python standard](https://stackoverflow.com/questions/52603487/speed-comparison-numpy-vs-python-standard)\n",
    "- [What are the advantages of NumPy over regular Python lists?](https://stackoverflow.com/questions/993984/what-are-the-advantages-of-numpy-over-regular-python-lists)\n",
    "- [Difference between list and NumPy array memory size](https://stackoverflow.com/questions/67549486/difference-between-list-and-numpy-array-memory-size)\n"
   ]
  },
  {
   "cell_type": "code",
   "execution_count": null,
   "id": "10db0ac5-80d7-46a6-ad3a-fd708b752dc2",
   "metadata": {},
   "outputs": [],
   "source": [
    "import sys\n",
    "\n",
    "size = 1000000\n",
    "py_list = range(0,size)\n",
    "np_arr = np.arange (0,size)\n",
    "\n",
    "print (\"python list of {:,} elements takes up {:,} bytes\".format(size, sys.getsizeof(py_list) * size))\n",
    "print (\"numpy array of {:,} elements takes up {:,} bytes\".format(size, np_arr.size * np_arr.itemsize))\n"
   ]
  },
  {
   "cell_type": "markdown",
   "id": "b3b80384-1ec7-4a74-ad5b-b6e7aff16c5e",
   "metadata": {},
   "source": [
    "## Summary\n",
    "\n",
    "NumPy provides a powerful set of tools for numerical computing in Python, making it easier and more efficient to work with large datasets and perform complex mathematical operations.\n"
   ]
  },
  {
   "cell_type": "markdown",
   "id": "986cd1a2-4e60-4f11-b886-9b5b9607323d",
   "metadata": {},
   "source": [
    "<details>\n",
    "<summary><b>Instructor Notes</b></summary>\n",
    "\n",
    "Nothing to add...\n",
    "\n",
    "</details>"
   ]
  }
 ],
 "metadata": {
  "kernelspec": {
   "display_name": "Python 3 (ipykernel)",
   "language": "python",
   "name": "python3"
  },
  "language_info": {
   "codemirror_mode": {
    "name": "ipython",
    "version": 3
   },
   "file_extension": ".py",
   "mimetype": "text/x-python",
   "name": "python",
   "nbconvert_exporter": "python",
   "pygments_lexer": "ipython3",
   "version": "3.11.5"
  }
 },
 "nbformat": 4,
 "nbformat_minor": 5
}
