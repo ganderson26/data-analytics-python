{
 "cells": [
  {
   "cell_type": "markdown",
   "id": "8ce313d6-5718-425a-baae-5fc55ca95594",
   "metadata": {},
   "source": [
    "# Python Tutorial: NumPy Exercises\n",
    "\n",
    "A few NumPy Exercises.\n"
   ]
  },
  {
   "cell_type": "markdown",
   "id": "008d90da-2b15-4d5f-8bdb-b222e08b9d37",
   "metadata": {},
   "source": [
    "## Exercise 1: \n",
    "\n",
    "Create a NumPy array of shape (3, 3) with random integers.\n"
   ]
  },
  {
   "cell_type": "code",
   "execution_count": null,
   "id": "065b820b-2225-4d25-bb7b-d8e41bc22e52",
   "metadata": {},
   "outputs": [],
   "source": [
    "# Solution\n"
   ]
  },
  {
   "cell_type": "markdown",
   "id": "ae867a71-9537-41ae-929e-3336d891be33",
   "metadata": {},
   "source": [
    "## Exercise 2: \n",
    "\n",
    "Create a NumPy array of shape (4, 4) with values ranging from 0 to 15.\n"
   ]
  },
  {
   "cell_type": "code",
   "execution_count": null,
   "id": "1a970c68-de11-4918-b2cc-9809d7914a36",
   "metadata": {},
   "outputs": [],
   "source": [
    "# Solution\n"
   ]
  },
  {
   "cell_type": "markdown",
   "id": "eb527676-8658-4dc9-bbe5-42bab10cb086",
   "metadata": {},
   "source": [
    "## Exercise 3:\n",
    "\n",
    "Multiply two NumPy arrays of shape (2, 2).\n"
   ]
  },
  {
   "cell_type": "code",
   "execution_count": null,
   "id": "cf727e51-6739-4119-ab1c-4ff190e89081",
   "metadata": {},
   "outputs": [],
   "source": [
    "# Solution\n"
   ]
  },
  {
   "cell_type": "markdown",
   "id": "b3b80384-1ec7-4a74-ad5b-b6e7aff16c5e",
   "metadata": {},
   "source": [
    "## Summary\n",
    "\n",
    "NumPy provides a powerful set of tools for numerical computing in Python, making it easier and more efficient to work with large datasets and perform complex mathematical operations.\n"
   ]
  },
  {
   "cell_type": "markdown",
   "id": "986cd1a2-4e60-4f11-b886-9b5b9607323d",
   "metadata": {},
   "source": [
    "<details>\n",
    "<summary><b>Instructor Notes</b></summary>\n",
    "\n",
    "Nothing to add...\n",
    "\n",
    "</details>"
   ]
  }
 ],
 "metadata": {
  "kernelspec": {
   "display_name": "Python 3 (ipykernel)",
   "language": "python",
   "name": "python3"
  },
  "language_info": {
   "codemirror_mode": {
    "name": "ipython",
    "version": 3
   },
   "file_extension": ".py",
   "mimetype": "text/x-python",
   "name": "python",
   "nbconvert_exporter": "python",
   "pygments_lexer": "ipython3",
   "version": "3.11.5"
  }
 },
 "nbformat": 4,
 "nbformat_minor": 5
}
