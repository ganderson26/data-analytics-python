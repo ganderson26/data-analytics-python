{
 "cells": [
  {
   "cell_type": "markdown",
   "id": "8ce313d6-5718-425a-baae-5fc55ca95594",
   "metadata": {},
   "source": [
    "# Python Tutorial: NumPy Handy Arrays\n",
    "\n",
    "Some good to konw Handy NumPy Arrays.\n"
   ]
  },
  {
   "cell_type": "markdown",
   "id": "5190b7be-4ef9-41fc-85a4-54f486de0118",
   "metadata": {},
   "source": [
    "## Handy NP Arrays\n",
    "\n",
    "We can create \n",
    "- array of zeros\n",
    "- array of random numbers \n",
    "- ..etc\n"
   ]
  },
  {
   "cell_type": "code",
   "execution_count": null,
   "id": "ce79e860-a148-42e3-ba6c-507220db9338",
   "metadata": {},
   "outputs": [],
   "source": [
    "## Zero\n",
    "a = np.zeros(10)\n",
    "a\n"
   ]
  },
  {
   "cell_type": "code",
   "execution_count": null,
   "id": "4184e0aa-fe88-4da1-8078-973a5e43458e",
   "metadata": {},
   "outputs": [],
   "source": [
    "## Ones\n",
    "b = np.ones(10, dtype=int)\n",
    "b\n"
   ]
  },
  {
   "cell_type": "code",
   "execution_count": null,
   "id": "cce37a68-5fb6-4faf-a582-3f53aa812947",
   "metadata": {},
   "outputs": [],
   "source": [
    "b = np.ones (10, dtype=float)\n",
    "b\n"
   ]
  },
  {
   "cell_type": "code",
   "execution_count": null,
   "id": "267d9a93-96fe-411d-94ef-477cf5d5460f",
   "metadata": {},
   "outputs": [],
   "source": [
    "# Random numbers between 0 to 1\n",
    "np.random.random(10)\n"
   ]
  },
  {
   "cell_type": "code",
   "execution_count": null,
   "id": "ac9b5531-436c-4d40-b099-8751e013e89a",
   "metadata": {},
   "outputs": [],
   "source": [
    "# Create a  array of 10 random integers in the interval [0, 100)\n",
    "np.random.randint(0, 100, 10)\n"
   ]
  },
  {
   "cell_type": "code",
   "execution_count": null,
   "id": "46e315fb-7008-43f2-8eba-e17973d01996",
   "metadata": {},
   "outputs": [],
   "source": [
    "# Create a 3x3 array of random integers in the interval [0, 10)\n",
    "np.random.randint(0, 10, (3, 3))\n"
   ]
  },
  {
   "cell_type": "markdown",
   "id": "b3b80384-1ec7-4a74-ad5b-b6e7aff16c5e",
   "metadata": {},
   "source": [
    "## Summary\n",
    "\n",
    "NumPy provides a powerful set of tools for numerical computing in Python, making it easier and more efficient to work with large datasets and perform complex mathematical operations.\n"
   ]
  },
  {
   "cell_type": "markdown",
   "id": "986cd1a2-4e60-4f11-b886-9b5b9607323d",
   "metadata": {},
   "source": [
    "<details>\n",
    "<summary><b>Instructor Notes</b></summary>\n",
    "\n",
    "Nothing to add...\n",
    "\n",
    "</details>"
   ]
  }
 ],
 "metadata": {
  "kernelspec": {
   "display_name": "Python 3 (ipykernel)",
   "language": "python",
   "name": "python3"
  },
  "language_info": {
   "codemirror_mode": {
    "name": "ipython",
    "version": 3
   },
   "file_extension": ".py",
   "mimetype": "text/x-python",
   "name": "python",
   "nbconvert_exporter": "python",
   "pygments_lexer": "ipython3",
   "version": "3.11.5"
  }
 },
 "nbformat": 4,
 "nbformat_minor": 5
}
