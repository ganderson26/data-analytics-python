{
 "cells": [
  {
   "cell_type": "markdown",
   "id": "8ce313d6-5718-425a-baae-5fc55ca95594",
   "metadata": {},
   "source": [
    "# Python Tutorial: NumPy Mathematical Functions\n",
    "\n",
    "Working with Mathematical Functions.\n"
   ]
  },
  {
   "cell_type": "markdown",
   "id": "a3a75f4f-12ba-4cc2-a75c-bb7c6c9ea097",
   "metadata": {},
   "source": [
    "## Mathematical Functions\n"
   ]
  },
  {
   "cell_type": "code",
   "execution_count": null,
   "id": "29252a2a-2318-46f7-b742-74fb2e64edc5",
   "metadata": {},
   "outputs": [],
   "source": [
    "a = np.array([1, 2, 3])\n",
    "b = np.array([4, 5, 6])\n",
    "\n",
    "print(a + b)  # element-wise addition\n",
    "print(a * b)  # element-wise multiplication\n",
    "print(np.dot(a, b))  # dot product\n"
   ]
  },
  {
   "cell_type": "code",
   "execution_count": null,
   "id": "725681bf-f23f-4438-a655-e2ae110aef02",
   "metadata": {},
   "outputs": [],
   "source": [
    "# Compute mean, median, and standard deviation\n",
    "arr = np.array([1, 2, 3, 4, 5])\n",
    "print(np.mean(arr))\n",
    "print(np.median(arr))\n",
    "print(np.std(arr))\n",
    "\n",
    "# Trigonometric functions\n",
    "angles = np.array([0, np.pi/2, np.pi])\n",
    "print(np.sin(angles))\n"
   ]
  },
  {
   "cell_type": "markdown",
   "id": "b3b80384-1ec7-4a74-ad5b-b6e7aff16c5e",
   "metadata": {},
   "source": [
    "## Summary\n",
    "\n",
    "NumPy provides a powerful set of tools for numerical computing in Python, making it easier and more efficient to work with large datasets and perform complex mathematical operations.\n"
   ]
  },
  {
   "cell_type": "markdown",
   "id": "986cd1a2-4e60-4f11-b886-9b5b9607323d",
   "metadata": {},
   "source": [
    "<details>\n",
    "<summary><b>Instructor Notes</b></summary>\n",
    "\n",
    "Nothing to add...\n",
    "\n",
    "</details>"
   ]
  }
 ],
 "metadata": {
  "kernelspec": {
   "display_name": "Python 3 (ipykernel)",
   "language": "python",
   "name": "python3"
  },
  "language_info": {
   "codemirror_mode": {
    "name": "ipython",
    "version": 3
   },
   "file_extension": ".py",
   "mimetype": "text/x-python",
   "name": "python",
   "nbconvert_exporter": "python",
   "pygments_lexer": "ipython3",
   "version": "3.11.5"
  }
 },
 "nbformat": 4,
 "nbformat_minor": 5
}
