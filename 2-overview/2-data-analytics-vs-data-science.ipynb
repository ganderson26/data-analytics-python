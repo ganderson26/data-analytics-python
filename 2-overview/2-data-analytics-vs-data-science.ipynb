{
 "cells": [
  {
   "cell_type": "markdown",
   "id": "e58046f3-7475-44f3-9809-d63ec2bf2995",
   "metadata": {},
   "source": [
    "# What is the Difference between Data Analytics and Data Science?\n",
    "\n",
    "Data analytics and data science are related fields that share similarities but also have distinct differences in their focus, methodologies, and objectives.\n"
   ]
  },
  {
   "cell_type": "markdown",
   "id": "5f00bf64-8c73-4b0c-bea4-8a86ec5bdc0c",
   "metadata": {},
   "source": [
    "## Data Analytics:\n",
    "    \n",
    "- **Focus:** Data analytics primarily focuses on analyzing existing datasets to uncover insights, patterns, and trends that can inform decision-making and drive business outcomes.\n",
    "- **Methodologies:** Data analytics typically involves descriptive and diagnostic analytics, which focus on understanding what happened and why it happened based on historical data. It may also involve predictive analytics, where models are built to forecast future trends or outcomes.\n",
    "- **Techniques:** Data analytics relies on statistical analysis, data visualization, and basic machine learning techniques to analyze data and derive insights.\n",
    "- **Applications:** Data analytics is widely used in business intelligence, marketing analysis, financial analysis, healthcare analytics, and other domains where data-driven insights are valuable for decision-making.\n"
   ]
  },
  {
   "cell_type": "markdown",
   "id": "d415ee5c-a7a7-42b7-8de3-9db2bceffd78",
   "metadata": {},
   "source": [
    "## Data Science:\n",
    "                                                                                                                                                                                                   \n",
    "- **Focus:** Data science encompasses a broader range of activities, including data collection, cleaning, analysis, and interpretation. It aims to extract knowledge and insights from data using advanced techniques and algorithms.\n",
    "- **Methodologies:** Data science incorporates various stages of the data lifecycle, including data exploration, feature engineering, model building, and deployment. It often involves a more holistic approach to data analysis, combining statistical analysis, machine learning, and domain expertise.\n",
    "- **Techniques:** Data science leverages advanced machine learning algorithms, deep learning techniques, and big data technologies to analyze large and complex datasets. It may also involve data engineering tasks, such as data preprocessing and feature extraction.\n",
    "- **Applications:** Data science is applied in a wide range of fields, including artificial intelligence, natural language processing, image recognition, recommendation systems, and predictive modeling. It is often used to solve complex problems and extract valuable insights from data at scale.\n"
   ]
  },
  {
   "cell_type": "markdown",
   "id": "75823871-6f56-4d83-ab49-33d0557c33ac",
   "metadata": {},
   "source": [
    "## Key Differences:\n",
    "    \n",
    "1. **Scope:** Data analytics focuses on analyzing existing datasets to derive insights and inform decision-making, while data science encompasses a broader range of activities, including data collection, cleaning, analysis, and interpretation.\n",
    "2. **Methodologies:** Data analytics primarily involves descriptive and diagnostic analytics, while data science encompasses a more comprehensive approach, incorporating predictive and prescriptive analytics along with advanced modeling techniques.\n",
    "3. **Techniques:** Data analytics relies on statistical analysis, data visualization, and basic machine learning techniques, whereas data science employs advanced machine learning algorithms, deep learning techniques, and big data technologies.\n",
    "4. **Applications:** Data analytics is commonly used in business intelligence, marketing analysis, and financial analysis, while data science is applied in fields such as artificial intelligence, natural language processing, and recommendation systems.\n"
   ]
  },
  {
   "cell_type": "markdown",
   "id": "917fa2c0-670f-4aba-aa2d-d5fb16087413",
   "metadata": {},
   "source": [
    "## Summary\n",
    "\n",
    "In summary, while data analytics and data science share some similarities, they differ in their scope, methodologies, and applications. Data analytics is more focused on analyzing existing data to derive insights for decision-making, while data science encompasses a broader range of activities, including data collection, cleaning, analysis, and interpretation, using advanced techniques and algorithms.\n"
   ]
  },
  {
   "cell_type": "markdown",
   "id": "d9575d4b-95f4-4cee-953d-489af3527b35",
   "metadata": {},
   "source": [
    "<details>\n",
    "<summary><b>Instructor Notes</b></summary>\n",
    "\n",
    "This section is simply to provide some additional context for the scope of Data Analytics comapred to Data Science.\n",
    "\n",
    "</details>"
   ]
  }
 ],
 "metadata": {
  "kernelspec": {
   "display_name": "Python 3 (ipykernel)",
   "language": "python",
   "name": "python3"
  },
  "language_info": {
   "codemirror_mode": {
    "name": "ipython",
    "version": 3
   },
   "file_extension": ".py",
   "mimetype": "text/x-python",
   "name": "python",
   "nbconvert_exporter": "python",
   "pygments_lexer": "ipython3",
   "version": "3.11.5"
  }
 },
 "nbformat": 4,
 "nbformat_minor": 5
}
