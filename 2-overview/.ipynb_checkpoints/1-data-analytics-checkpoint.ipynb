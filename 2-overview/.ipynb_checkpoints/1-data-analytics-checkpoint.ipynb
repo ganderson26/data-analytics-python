{
 "cells": [
  {
   "cell_type": "markdown",
   "id": "fa84a007-61ea-439f-b16d-d0463376021a",
   "metadata": {},
   "source": [
    "# What is Data Analytics?\n",
    "\n",
    "Data analytics is the process of examining large and varied datasets to uncover patterns, trends, correlations, and other insights that can be used to make data-driven decisions, solve problems, and gain a deeper understanding of a subject matter. It involves applying statistical, mathematical, and computational techniques to extract meaningful information from raw data.\n"
   ]
  },
  {
   "cell_type": "markdown",
   "id": "a771ef80-29c5-420c-a26b-cf2d0cf6d39c",
   "metadata": {},
   "source": [
    "## Key Aspects of Data Analytics:\n",
    "\n",
    "1. **Data Collection:** Gathering data from various sources, including databases, spreadsheets, sensors, social media, and more. This data can be structured (organized in a database or spreadsheet) or unstructured (e.g., text, images).\n",
    "\n",
    "2. **Data Cleaning and Preprocessing:** Before analysis, the data often needs to be cleaned and prepared. This involves tasks such as handling missing values, removing duplicates, standardizing formats, and transforming data into a usable format.\n",
    "\n",
    "3. **Exploratory Data Analysis (EDA):** Exploring the data to understand its characteristics, distributions, and relationships between variables. EDA helps identify patterns and insights that guide further analysis.\n",
    "\n",
    "4. **Statistical Analysis:** Applying statistical methods to quantify relationships and make inferences about the data. This may include calculating summary statistics, hypothesis testing, and fitting statistical models.\n",
    "\n",
    "5. **Data Visualization:** Representing data visually through charts, graphs, and dashboards to communicate insights effectively. Visualizations help stakeholders understand complex information and identify trends at a glance.\n",
    "\n",
    "6. **Machine Learning and Predictive Analytics:** Using algorithms to build models that can learn from data and make predictions or classifications. Machine learning techniques include supervised learning (e.g., regression, classification) and unsupervised learning (e.g., clustering, dimensionality reduction).\n",
    "\n",
    "7. **Decision Making and Action:** Using insights from data analysis to inform decision-making processes and drive action. Data-driven decisions can lead to improved outcomes, increased efficiency, and competitive advantages.\n"
   ]
  },
  {
   "cell_type": "markdown",
   "id": "3144d851-7cbf-44a0-bbf9-744041e594c2",
   "metadata": {},
   "source": [
    "## Applications of Data Analytics:\n",
    "\n",
    "- **Business Intelligence:** Analyzing sales data, customer behavior, and market trends to optimize strategies, improve performance, and enhance decision-making in business operations.\n",
    "- **Healthcare Analytics:** Analyzing patient records, medical imaging, and clinical trials to improve patient outcomes, personalize treatments, and advance medical research.\n",
    "- **Financial Analytics:** Analyzing financial transactions, market trends, and risk factors to make investment decisions, detect fraud, and manage financial risks.\n",
    "- **Social Media Analytics:** Analyzing user engagement, sentiment, and trends on social media platforms to understand customer preferences, target marketing campaigns, and manage brand reputation.\n",
    "- **Operational Analytics:** Analyzing supply chain data, manufacturing processes, and logistics to optimize operations, reduce costs, and improve efficiency in various industries.\n"
   ]
  },
  {
   "cell_type": "markdown",
   "id": "e3dcb830-e8c1-4831-8549-e06c71487ec4",
   "metadata": {},
   "source": [
    "## Summary\n",
    "\n",
    "In summary, data analytics plays a crucial role in extracting insights from data to drive informed decision-making, innovation, and growth across industries and domains.\n"
   ]
  },
  {
   "cell_type": "markdown",
   "id": "788dd720-299f-417e-8cd6-5390530188c6",
   "metadata": {},
   "source": [
    "<details>\n",
    "<summary><b>Instructor Notes</b></summary>\n",
    "\n",
    "This section is simply to provide some context for the scope of Data Analytics comapred to Data Science.\n",
    "\n",
    "</details>"
   ]
  }
 ],
 "metadata": {
  "kernelspec": {
   "display_name": "Python 3 (ipykernel)",
   "language": "python",
   "name": "python3"
  },
  "language_info": {
   "codemirror_mode": {
    "name": "ipython",
    "version": 3
   },
   "file_extension": ".py",
   "mimetype": "text/x-python",
   "name": "python",
   "nbconvert_exporter": "python",
   "pygments_lexer": "ipython3",
   "version": "3.11.5"
  }
 },
 "nbformat": 4,
 "nbformat_minor": 5
}
