{
 "cells": [
  {
   "cell_type": "code",
   "execution_count": null,
   "id": "da38ede3-168f-419b-9d48-34aa439d5cdb",
   "metadata": {},
   "outputs": [],
   "source": [
    "# Exercise 1: \n",
    "# Create a histogram of 1000 random numbers sampled from a normal distribution with mean 0 and standard deviation 1.\n",
    "\n",
    "import numpy as np\n",
    "\n",
    "data = np.random.normal(0, 1, 1000)\n",
    "plt.hist(data, bins=30)\n",
    "plt.xlabel('Value')\n",
    "plt.ylabel('Frequency')\n",
    "plt.title('Histogram')\n",
    "plt.show()\n"
   ]
  },
  {
   "cell_type": "code",
   "execution_count": null,
   "id": "cac47144-13b2-4b29-b656-b09fb9ca9793",
   "metadata": {},
   "outputs": [],
   "source": [
    "# Exercise 2: \n",
    "# Read a CSV file named 'data.csv' into a DataFrame and create a bar plot of the 'Sales' column.\n",
    "\n",
    "import pandas as pd\n",
    "\n",
    "df = pd.read_csv('data.csv')\n",
    "plt.bar(df.index, df['Sales'])\n",
    "plt.xlabel('Index')\n",
    "plt.ylabel('Sales')\n",
    "plt.title('Bar Plot')\n",
    "plt.show()\n"
   ]
  },
  {
   "cell_type": "code",
   "execution_count": null,
   "id": "7886ce78-478a-478d-9905-555d55ef9b9c",
   "metadata": {},
   "outputs": [],
   "source": [
    "# Exercise 3: \n",
    "# Create a box plot of the 'Sales' column from the DataFrame created in Exercise 2.\n",
    "\n",
    "sns.boxplot(x='Sales', data=df)\n",
    "plt.xlabel('Sales')\n",
    "plt.title('Box Plot')\n",
    "plt.show()\n"
   ]
  },
  {
   "cell_type": "code",
   "execution_count": null,
   "id": "ba4d45d5-b258-493f-8870-7048e4bfb19a",
   "metadata": {},
   "outputs": [],
   "source": []
  }
 ],
 "metadata": {
  "kernelspec": {
   "display_name": "Python 3 (ipykernel)",
   "language": "python",
   "name": "python3"
  },
  "language_info": {
   "codemirror_mode": {
    "name": "ipython",
    "version": 3
   },
   "file_extension": ".py",
   "mimetype": "text/x-python",
   "name": "python",
   "nbconvert_exporter": "python",
   "pygments_lexer": "ipython3",
   "version": "3.8.18"
  }
 },
 "nbformat": 4,
 "nbformat_minor": 5
}
