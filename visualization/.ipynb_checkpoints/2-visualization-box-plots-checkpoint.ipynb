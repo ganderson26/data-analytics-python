{
 "cells": [
  {
   "cell_type": "markdown",
   "id": "3ad0831f-00f0-4701-acb4-b85223495559",
   "metadata": {},
   "source": [
    "# Python Tutorial: Python Box Plots\n",
    "\n",
    "In this tutorial, we'll explore how to create box plots in Python using the popular libraries Matplotlib and Seaborn. Box plots are useful for visualizing the distribution of a dataset and identifying outliers. We'll cover the basics of creating box plots, common customization options, and provide examples, exercises, and solutions to reinforce your understanding.\n"
   ]
  },
  {
   "cell_type": "markdown",
   "id": "715419fc-7bac-47db-a5b8-a609f9286a6e",
   "metadata": {},
   "source": [
    "## Prerequisites\n",
    "\n",
    "Before getting started, make sure you have the following libraries installed:\n",
    "\n",
    "- Matplotlib\n",
    "- Seaborn\n",
    "- Pandas (for data manipulation, optional)\n",
    "\n",
    "You can install them using pip:\n"
   ]
  },
  {
   "cell_type": "code",
   "execution_count": null,
   "id": "38cb62e5-56a2-463c-8daf-ef817c9db355",
   "metadata": {},
   "outputs": [],
   "source": [
    "pip install matplotlib seaborn pandas\n"
   ]
  },
  {
   "cell_type": "markdown",
   "id": "8921a2b8-2e3d-4c7b-bcb7-0be76215102d",
   "metadata": {},
   "source": [
    "## Creating a Simple Box Plot\n",
    "\n",
    "We'll start by creating a simple box plot using randomly generated data.\n",
    "\n",
    "This code generates a box plot of a random dataset with 100 observations.\n"
   ]
  },
  {
   "cell_type": "code",
   "execution_count": null,
   "id": "e111eb67-44c2-4a77-922e-5235a7f324c2",
   "metadata": {},
   "outputs": [],
   "source": [
    "import matplotlib.pyplot as plt\n",
    "import seaborn as sns\n",
    "import numpy as np\n",
    "\n",
    "# Generate random data\n",
    "np.random.seed(0)\n",
    "data = np.random.normal(loc=0, scale=1, size=100)\n",
    "\n",
    "# Create a box plot\n",
    "plt.figure(figsize=(8, 6))\n",
    "sns.boxplot(data=data)\n",
    "plt.title('Simple Box Plot')\n",
    "plt.show()\n"
   ]
  },
  {
   "cell_type": "markdown",
   "id": "595f4b68-d099-4c0f-b0f1-8ce699dfe32d",
   "metadata": {},
   "source": [
    "## Customizing Box Plots\n",
    "\n",
    "### Changing Box Plot Orientation\n",
    "\n",
    "You can create horizontal box plots by specifying the `orient` parameter.\n"
   ]
  },
  {
   "cell_type": "code",
   "execution_count": null,
   "id": "d4c680e2-91f2-487d-b4fe-288961784a48",
   "metadata": {},
   "outputs": [],
   "source": [
    "plt.figure(figsize=(8, 6))\n",
    "sns.boxplot(data=data, orient='h')\n",
    "plt.title('Horizontal Box Plot')\n",
    "plt.show()\n"
   ]
  },
  {
   "cell_type": "markdown",
   "id": "ca1b4dad-9552-4a9a-bfc2-e274d9eabe92",
   "metadata": {},
   "source": [
    "### Adding Color\n",
    "\n",
    "You can change the color of the boxes and whiskers using the `color` parameter.\n"
   ]
  },
  {
   "cell_type": "code",
   "execution_count": null,
   "id": "1878ff2e-70b1-4a9b-8808-ba108885eb07",
   "metadata": {},
   "outputs": [],
   "source": [
    "plt.figure(figsize=(8, 6))\n",
    "sns.boxplot(data=data, color='skyblue')\n",
    "plt.title('Box Plot with Custom Color')\n",
    "plt.show()\n"
   ]
  },
  {
   "cell_type": "markdown",
   "id": "7f204ec5-3ce3-4499-b634-3d7a8080b9d0",
   "metadata": {},
   "source": [
    "### Adding Labels\n",
    "\n",
    "You can add labels to the x-axis and y-axis.\n"
   ]
  },
  {
   "cell_type": "code",
   "execution_count": null,
   "id": "a8f152d1-1a82-415e-9f97-f4a295ef2c0a",
   "metadata": {},
   "outputs": [],
   "source": [
    "plt.figure(figsize=(8, 6))\n",
    "sns.boxplot(data=data)\n",
    "plt.xlabel('Data')\n",
    "plt.ylabel('Values')\n",
    "plt.title('Box Plot with Labels')\n",
    "plt.show()\n"
   ]
  },
  {
   "cell_type": "markdown",
   "id": "66ff21b5-0fc2-497d-81cd-fb8c6abdd73c",
   "metadata": {},
   "source": [
    "### Adding Title\n",
    "\n",
    "You can add a title to the box plot.\n"
   ]
  },
  {
   "cell_type": "code",
   "execution_count": null,
   "id": "394e17e6-1843-4ef9-b138-a2a2156ab5ee",
   "metadata": {},
   "outputs": [],
   "source": [
    "plt.figure(figsize=(8, 6))\n",
    "sns.boxplot(data=data)\n",
    "plt.title('Box Plot with Title')\n",
    "plt.show()\n"
   ]
  },
  {
   "cell_type": "markdown",
   "id": "ae6bad9b-67ea-4d93-9c21-629ec7ad31a7",
   "metadata": {},
   "source": [
    "### Example 1: Box Plot with Multiple Groups\n"
   ]
  },
  {
   "cell_type": "code",
   "execution_count": null,
   "id": "8ac93769-d4b6-4e44-949e-b03020e9ddba",
   "metadata": {},
   "outputs": [],
   "source": [
    "# Generate random data with multiple groups\n",
    "np.random.seed(0)\n",
    "data_group1 = np.random.normal(loc=0, scale=1, size=100)\n",
    "data_group2 = np.random.normal(loc=1, scale=1, size=100)\n",
    "\n",
    "# Create a box plot with multiple groups\n",
    "plt.figure(figsize=(8, 6))\n",
    "sns.boxplot(data=[data_group1, data_group2])\n",
    "plt.title('Box Plot with Multiple Groups')\n",
    "plt.show()\n"
   ]
  },
  {
   "cell_type": "markdown",
   "id": "97335324-6d22-4339-a45d-962efe481e69",
   "metadata": {},
   "source": [
    "### Example 2: Box Plot with Categorical Data\n"
   ]
  },
  {
   "cell_type": "code",
   "execution_count": null,
   "id": "cd54227e-cd2e-4dc4-b905-20294a921cb3",
   "metadata": {},
   "outputs": [],
   "source": [
    "import pandas as pd\n",
    "\n",
    "# Create a DataFrame with categorical data\n",
    "categories = ['A', 'B', 'C', 'D']\n",
    "data_categorical = np.random.normal(loc=0, scale=1, size=(100, len(categories)))\n",
    "df = pd.DataFrame(data_categorical, columns=categories)\n",
    "\n",
    "# Create a box plot with categorical data\n",
    "plt.figure(figsize=(8, 6))\n",
    "sns.boxplot(data=df)\n",
    "plt.title('Box Plot with Categorical Data')\n",
    "plt.show()\n"
   ]
  },
  {
   "cell_type": "markdown",
   "id": "795acac6-318d-4507-8788-5c7bb9f5eaa4",
   "metadata": {},
   "source": [
    "## Exercise 1: \n",
    "\n",
    "Create a box plot with horizontal orientation for a dataset of your choice.\n"
   ]
  },
  {
   "cell_type": "code",
   "execution_count": null,
   "id": "5dabe075-5ee4-47e5-8d1d-8ba068d33b5f",
   "metadata": {},
   "outputs": [],
   "source": [
    "# Solution\n"
   ]
  },
  {
   "cell_type": "markdown",
   "id": "415540eb-8471-46e7-be21-cdaefaef1eb2",
   "metadata": {},
   "source": [
    "## Exercise 2: \n",
    "\n",
    "Change the color of the boxes and whiskers in the box plot.\n"
   ]
  },
  {
   "cell_type": "code",
   "execution_count": null,
   "id": "8bbea258-803f-46bc-9c7a-f95102e32f95",
   "metadata": {},
   "outputs": [],
   "source": [
    "# Solution\n"
   ]
  },
  {
   "cell_type": "markdown",
   "id": "89eb458f-68a5-4dc4-a6b2-316fcd5a0c02",
   "metadata": {},
   "source": [
    "## Exercise 3: \n",
    "\n",
    "Create a box plot with three groups of data.\n"
   ]
  },
  {
   "cell_type": "code",
   "execution_count": null,
   "id": "988e841a-20cb-4fd1-8bc3-f939fe00db69",
   "metadata": {},
   "outputs": [],
   "source": [
    "# Solution\n"
   ]
  },
  {
   "cell_type": "markdown",
   "id": "7d9e280b-12a5-4a86-98d0-f52f34e432fc",
   "metadata": {},
   "source": [
    "## Exercise 4: \n",
    "\n",
    "Create a box plot with categorical data.\n"
   ]
  },
  {
   "cell_type": "code",
   "execution_count": null,
   "id": "cd996910-32eb-45a7-849b-b8083e6243d4",
   "metadata": {},
   "outputs": [],
   "source": [
    "# Solution\n"
   ]
  },
  {
   "cell_type": "markdown",
   "id": "ee848207-8287-46b5-a101-f8970bdb2ef4",
   "metadata": {},
   "source": [
    "## Summary\n",
    "\n",
    "Box plots are powerful tools for visualizing the distribution of data. With Matplotlib and Seaborn, you can create informative and customizable box plots to gain insights into your datasets. Practice with the examples and exercises provided to master the creation and customization of box plots in Python.\n"
   ]
  },
  {
   "cell_type": "markdown",
   "id": "c7685146-5550-4ad0-b1b4-b546c3e52035",
   "metadata": {},
   "source": [
    "<details>\n",
    "<summary><b>Instructor Notes</b></summary>\n",
    "\n",
    "Nothing to add...\n",
    "\n",
    "</details>"
   ]
  }
 ],
 "metadata": {
  "kernelspec": {
   "display_name": "Python 3 (ipykernel)",
   "language": "python",
   "name": "python3"
  },
  "language_info": {
   "codemirror_mode": {
    "name": "ipython",
    "version": 3
   },
   "file_extension": ".py",
   "mimetype": "text/x-python",
   "name": "python",
   "nbconvert_exporter": "python",
   "pygments_lexer": "ipython3",
   "version": "3.11.5"
  }
 },
 "nbformat": 4,
 "nbformat_minor": 5
}
