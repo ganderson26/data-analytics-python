{
 "cells": [
  {
   "cell_type": "markdown",
   "id": "b5da8555-32ab-4587-a84a-0a4ea00b0a55",
   "metadata": {},
   "source": [
    "# Python Tutoral: Python Histograms\n",
    "\n",
    "A histogram is a graphical representation of the distribution of numerical data. It consists of bars whose lengths represent the frequency or proportion of data falling into each interval (bin).\n"
   ]
  },
  {
   "cell_type": "markdown",
   "id": "fc76dd71-7467-4d34-a6f1-4f3792e40618",
   "metadata": {},
   "source": [
    "### Creating Histograms in Python\n",
    "\n",
    "You can create histograms in Python using libraries like Matplotlib or Seaborn. Here, we'll focus on Matplotlib, one of the most popular plotting libraries in Python.\n"
   ]
  },
  {
   "cell_type": "markdown",
   "id": "f57c1c05-80b9-48a7-aefa-a7b6a3233731",
   "metadata": {},
   "source": [
    "### Example\n",
    "\n",
    "Let's create a simple histogram using Matplotlib.\n"
   ]
  },
  {
   "cell_type": "code",
   "execution_count": null,
   "id": "79b75358-12ea-465f-835e-188e1d3875d3",
   "metadata": {},
   "outputs": [],
   "source": [
    "import matplotlib.pyplot as plt\n",
    "\n",
    "# Sample data\n",
    "data = [1, 2, 3, 4, 5, 5, 5, 6, 6, 7, 7, 7, 8, 8, 9, 10]\n",
    "\n",
    "# Plotting the histogram\n",
    "plt.hist(data, bins=5, color='blue', edgecolor='black')\n",
    "plt.xlabel('Value')\n",
    "plt.ylabel('Frequency')\n",
    "plt.title('Histogram of Sample Data')\n",
    "plt.show()\n"
   ]
  },
  {
   "cell_type": "markdown",
   "id": "c0bbd17d-0ea2-42f6-a931-cbc0207564b6",
   "metadata": {},
   "source": [
    "In this example:\n",
    "- `data` contains the numerical data.\n",
    "- `plt.hist()` is used to create the histogram.\n",
    "- `bins` specifies the number of bins (intervals) for the histogram.\n",
    "- `color` and `edgecolor` set the color of the bars and their edges.\n",
    "- `xlabel`, `ylabel`, and `title` are used to label the axes and title of the plot.\n",
    "- `plt.show()` displays the plot.\n",
    "    "
   ]
  },
  {
   "cell_type": "markdown",
   "id": "64cb84c0-6c34-4f2c-8db1-b519b2c79d1f",
   "metadata": {},
   "source": [
    "### Exercise:\n",
    "\n",
    "Create a histogram for the following dataset:\n",
    "\n",
    "```python\n",
    "import numpy as np\n",
    "\n",
    "# Generate 1000 random numbers from a normal distribution\n",
    "data = np.random.normal(loc=0, scale=1, size=1000)\n",
    "\n",
    "# Plot the histogram with 20 bins\n",
    "# Add appropriate labels and title\n",
    "# Choose a color of your choice\n",
    "```\n",
    "                  "
   ]
  },
  {
   "cell_type": "code",
   "execution_count": null,
   "id": "2a2afae5-93fc-42e0-9286-f13849d4d9e6",
   "metadata": {},
   "outputs": [],
   "source": [
    "# Solution\n"
   ]
  },
  {
   "cell_type": "markdown",
   "id": "62c07e74-f220-4cd4-a361-dcd2c31b6a8a",
   "metadata": {},
   "source": [
    "## Summary\n",
    "\n",
    "Histograms are useful for visualizing the distribution of numerical data. With libraries like Matplotlib, creating histograms in Python is straightforward and customizable. Experiment with different bin sizes, colors, and styles to effectively represent your data.\n"
   ]
  }
 ],
 "metadata": {
  "kernelspec": {
   "display_name": "Python 3 (ipykernel)",
   "language": "python",
   "name": "python3"
  },
  "language_info": {
   "codemirror_mode": {
    "name": "ipython",
    "version": 3
   },
   "file_extension": ".py",
   "mimetype": "text/x-python",
   "name": "python",
   "nbconvert_exporter": "python",
   "pygments_lexer": "ipython3",
   "version": "3.8.18"
  }
 },
 "nbformat": 4,
 "nbformat_minor": 5
}
