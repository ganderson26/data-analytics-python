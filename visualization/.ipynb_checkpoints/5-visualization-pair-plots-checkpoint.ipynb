{
 "cells": [
  {
   "cell_type": "markdown",
   "id": "6814eaaa-2c4d-405a-b660-55a67ca27b3e",
   "metadata": {},
   "source": [
    "# Python Tutorial: Python Pair Plots\n",
    "\n",
    "Pair plots are a useful visualization tool in data analysis, especially when dealing with multiple variables. They allow us to quickly visualize relationships between pairs of variables in a dataset. In Python, the seaborn library provides a convenient way to create pair plots with the `sns.pairplot()` function.\n"
   ]
  },
  {
   "cell_type": "markdown",
   "id": "05fd1127-a1f5-402c-90ca-dcd8c0ce83a1",
   "metadata": {},
   "source": [
    "### Install Seaborn\n",
    "\n",
    "If you haven't already installed seaborn, you can do so using pip:\n"
   ]
  },
  {
   "cell_type": "code",
   "execution_count": null,
   "id": "2bd460cd-570d-4f0a-bf08-004aada0462d",
   "metadata": {},
   "outputs": [],
   "source": [
    "pip install seaborn\n"
   ]
  },
  {
   "cell_type": "markdown",
   "id": "47519c32-6f70-47eb-9683-78f36b10c67e",
   "metadata": {},
   "source": [
    "### Import Required Libraries\n"
   ]
  },
  {
   "cell_type": "code",
   "execution_count": null,
   "id": "1c4aa381-c9cc-4df1-adfd-4e1381c3a22a",
   "metadata": {},
   "outputs": [],
   "source": [
    "import seaborn as sns\n",
    "import pandas as pd\n",
    "import matplotlib.pyplot as plt\n"
   ]
  },
  {
   "cell_type": "markdown",
   "id": "96a092f4-34b5-4e61-9537-a863e3109226",
   "metadata": {},
   "source": [
    "### Load Data\n",
    "\n",
    "For this tutorial, let's use a sample dataset. You can load your own dataset or use one from seaborn's built-in datasets.\n"
   ]
  },
  {
   "cell_type": "code",
   "execution_count": null,
   "id": "e88276d9-0738-4b9a-88af-609746556286",
   "metadata": {},
   "outputs": [],
   "source": [
    "# Load a built-in dataset from seaborn\n",
    "iris = sns.load_dataset('iris')\n"
   ]
  },
  {
   "cell_type": "markdown",
   "id": "21c387d4-fc2b-4915-8c3e-fce9ede7e918",
   "metadata": {},
   "source": [
    "### Create Pair Plot\n",
    "\n",
    "Now, let's create a pair plot using the `sns.pairplot()` function:\n"
   ]
  },
  {
   "cell_type": "code",
   "execution_count": null,
   "id": "ac1f4133-f3d2-43cc-bdca-54a4c9e97572",
   "metadata": {},
   "outputs": [],
   "source": [
    "sns.pairplot(iris)\n",
    "plt.show()\n"
   ]
  },
  {
   "cell_type": "markdown",
   "id": "5043d249-5dce-49f8-b0b4-866bc822ffe7",
   "metadata": {},
   "source": [
    "This will generate a pair plot showing scatterplots for each pair of variables and histograms along the diagonal.\n",
    "    "
   ]
  },
  {
   "cell_type": "markdown",
   "id": "8779535b-e735-4068-a9d9-8382487b374f",
   "metadata": {},
   "source": [
    "### Example:\n",
    "\n",
    "Let's visualize the relationships between the sepal length, sepal width, petal length, and petal width of the iris dataset.\n"
   ]
  },
  {
   "cell_type": "code",
   "execution_count": null,
   "id": "811d2a34-ac58-4c02-a61f-adc9d99d3c9e",
   "metadata": {},
   "outputs": [],
   "source": [
    "sns.pairplot(iris[['sepal_length', 'sepal_width', 'petal_length', 'petal_width']])\n",
    "plt.show()\n"
   ]
  },
  {
   "cell_type": "markdown",
   "id": "0b1b20ef-4125-4aec-96bf-dc3c71a65a0d",
   "metadata": {},
   "source": [
    "### Exercise:\n",
    "\n",
    "Load the \"tips\" dataset from seaborn and create a pair plot to visualize the relationships between total bill, tip, and size.\n",
    "\n",
    "```python\n",
    "tips = sns.load_dataset('tips')\n",
    "sns.pairplot(tips[['total_bill', 'tip', 'size']])\n",
    "plt.show()\n",
    "```\n"
   ]
  },
  {
   "cell_type": "code",
   "execution_count": null,
   "id": "59668088-90ab-46c5-b00f-0a9d2d69947e",
   "metadata": {},
   "outputs": [],
   "source": [
    "# Solution\n"
   ]
  },
  {
   "cell_type": "markdown",
   "id": "777f8ed6-360c-4fda-b810-ef4fce3fa23f",
   "metadata": {},
   "source": [
    "### Customizing Pair Plots:\n",
    "\n",
    "You can customize pair plots by passing additional arguments to the `sns.pairplot()` function. For example, you can specify the `hue` parameter to color the data points based on a categorical variable:\n"
   ]
  },
  {
   "cell_type": "code",
   "execution_count": null,
   "id": "893e5270-e0a4-490e-ae86-8539d08c1224",
   "metadata": {},
   "outputs": [],
   "source": [
    "sns.pairplot(iris, hue='species')\n",
    "plt.show()\n"
   ]
  },
  {
   "cell_type": "markdown",
   "id": "8c7476ea-9208-4ae9-9f4a-441172ce8d5d",
   "metadata": {},
   "source": [
    "You can also pass other arguments such as `kind` to specify the type of plots to be drawn (e.g., 'scatter', 'reg', 'kde', etc.), `diag_kind` to specify the type of plots for the diagonal (e.g., 'hist', 'kde'), and more.\n"
   ]
  },
  {
   "cell_type": "markdown",
   "id": "9f48e65d-9434-49c6-9ce7-a48ff1ad8a83",
   "metadata": {},
   "source": [
    "## Summary\n",
    "\n",
    "Pair plots are a great way to quickly visualize relationships between variables in your dataset and identify patterns and trends. Experiment with different datasets and customization options to gain insights from your data.\n"
   ]
  },
  {
   "cell_type": "markdown",
   "id": "71743b9e-7c48-4b80-934b-b2dce855c224",
   "metadata": {},
   "source": [
    "<details>\n",
    "<summary><b>Instructor Notes</b></summary>\n",
    "\n",
    "Nothing to add...\n",
    "\n",
    "</details>"
   ]
  }
 ],
 "metadata": {
  "kernelspec": {
   "display_name": "Python 3 (ipykernel)",
   "language": "python",
   "name": "python3"
  },
  "language_info": {
   "codemirror_mode": {
    "name": "ipython",
    "version": 3
   },
   "file_extension": ".py",
   "mimetype": "text/x-python",
   "name": "python",
   "nbconvert_exporter": "python",
   "pygments_lexer": "ipython3",
   "version": "3.11.5"
  }
 },
 "nbformat": 4,
 "nbformat_minor": 5
}
