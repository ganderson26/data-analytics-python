{
 "cells": [
  {
   "cell_type": "markdown",
   "id": "bf97173b-65a8-46f6-a64e-575e540e626b",
   "metadata": {},
   "source": [
    "# Python Tutorial: Python Violin Plots\n",
    "\n",
    "In this tutorial, we'll explore violin plots in Python using the `seaborn` library. Violin plots are a method of plotting numeric data and can be considered a combination of a box plot and a kernel density plot. They show the distribution of the data, as well as summary statistics such as the median, quartiles, and outliers.\n"
   ]
  },
  {
   "cell_type": "markdown",
   "id": "3c2ea4f2-52ff-4ab6-aeda-dfd84f96ae34",
   "metadata": {},
   "source": [
    "## Prerequisites\n",
    "\n",
    "Before we begin, make sure you have the following installed:\n",
    "\n",
    "- Python (3.x preferred)\n",
    "- `matplotlib`\n",
    "- `seaborn`\n"
   ]
  },
  {
   "cell_type": "markdown",
   "id": "3b700c53-4837-4d61-81a2-0ea1437e2cd3",
   "metadata": {},
   "source": [
    "You can install `seaborn` using pip:\n"
   ]
  },
  {
   "cell_type": "code",
   "execution_count": null,
   "id": "0923b236-a3da-4a98-bd7c-9fb9b8e639fb",
   "metadata": {},
   "outputs": [],
   "source": [
    "pip install seaborn\n"
   ]
  },
  {
   "cell_type": "markdown",
   "id": "6ef77478-006a-43aa-a03e-e2a015e92f79",
   "metadata": {},
   "source": [
    "## Creating Violin Plots\n",
    "\n",
    "Let's start by creating a simple violin plot using some sample data.\n"
   ]
  },
  {
   "cell_type": "code",
   "execution_count": null,
   "id": "a7daf9bc-eb0f-4ad3-b57d-8565b0652012",
   "metadata": {},
   "outputs": [],
   "source": [
    "import seaborn as sns\n",
    "import matplotlib.pyplot as plt\n",
    "\n",
    "# Sample data\n",
    "data = [3, 4, 5, 6, 7, 8, 9, 10]\n",
    "\n",
    "# Create violin plot\n",
    "sns.violinplot(data=data)\n",
    "\n",
    "# Show plot\n",
    "plt.show()\n"
   ]
  },
  {
   "cell_type": "markdown",
   "id": "d1e3ed8b-0ab6-4b9f-b0a7-c8202be6c404",
   "metadata": {},
   "source": [
    "This will create a basic violin plot displaying the distribution of the sample data.\n"
   ]
  },
  {
   "cell_type": "markdown",
   "id": "461b472a-f3d0-43a6-8449-adeeffde8186",
   "metadata": {},
   "source": [
    "## Customizing Violin Plots\n",
    "\n",
    "You can customize various aspects of the violin plot such as colors, width, and orientation.\n"
   ]
  },
  {
   "cell_type": "code",
   "execution_count": null,
   "id": "f230e917-9242-4628-9469-ad72d87264e1",
   "metadata": {},
   "outputs": [],
   "source": [
    "# Customizing violin plot\n",
    "sns.violinplot(data=data, color=\"skyblue\", linewidth=2, width=0.5)\n",
    "\n",
    "# Show plot\n",
    "plt.show()\n"
   ]
  },
  {
   "cell_type": "markdown",
   "id": "1868463e-8e85-4771-a94e-39a59e11ee43",
   "metadata": {},
   "source": [
    "## Adding Grouping to Violin Plots\n",
    "\n",
    "You can also create violin plots with multiple groups.\n"
   ]
  },
  {
   "cell_type": "code",
   "execution_count": null,
   "id": "03e14beb-e315-4550-8f3d-297a3bd2a1df",
   "metadata": {},
   "outputs": [],
   "source": [
    "# Sample data with groups\n",
    "group_data = {\n",
    "    'Group A': [1, 2, 3, 4, 5],\n",
    "    'Group B': [3, 4, 5, 6, 7],\n",
    "    'Group C': [5, 6, 7, 8, 9]\n",
    "}\n",
    "\n",
    "# Create violin plot with groups\n",
    "sns.violinplot(data=group_data)\n",
    "\n",
    "# Show plot\n",
    "plt.show()\n"
   ]
  },
  {
   "cell_type": "markdown",
   "id": "d280acda-ff80-4294-b342-ce1522785eb7",
   "metadata": {},
   "source": [
    "## Exercise 1: Create a violin plot using your own set of data.\n"
   ]
  },
  {
   "cell_type": "code",
   "execution_count": null,
   "id": "0a2eb5e9-8e97-46a2-9e99-8a4a1c0caff6",
   "metadata": {},
   "outputs": [],
   "source": [
    "# Solution\n"
   ]
  },
  {
   "cell_type": "markdown",
   "id": "6490ccf4-cbcc-4603-99fc-9fd642840a15",
   "metadata": {},
   "source": [
    "## Exercise 2: Customize the violin plot by changing the color and width.\n"
   ]
  },
  {
   "cell_type": "code",
   "execution_count": null,
   "id": "a7cd58e8-1f5f-4ece-ae4b-04bf32ccef25",
   "metadata": {},
   "outputs": [],
   "source": [
    "# Solution\n"
   ]
  },
  {
   "cell_type": "code",
   "execution_count": null,
   "id": "182ff78a-9894-4fc3-93a0-111bfa38574b",
   "metadata": {},
   "outputs": [],
   "source": [
    "## Exercise 3: Create a violin plot with multiple groups using different colors for each group.\n"
   ]
  },
  {
   "cell_type": "code",
   "execution_count": null,
   "id": "94127a5f-8ec0-4956-8987-26cf1a873098",
   "metadata": {},
   "outputs": [],
   "source": [
    "# Solution\n"
   ]
  },
  {
   "cell_type": "markdown",
   "id": "620c5d55-bbba-44fa-ab98-8e8d38f197af",
   "metadata": {},
   "source": [
    "## Summary\n",
    "\n",
    "Violin plots are a useful tool for visualizing the distribution of numeric data and can be easily created using the `seaborn` library in Python. With customization options, you can tailor the plots to your specific needs. Practice creating and customizing violin plots to become comfortable with using them in your data analysis projects.\n"
   ]
  },
  {
   "cell_type": "markdown",
   "id": "30a937af-ba26-4ed5-a551-ba2116779084",
   "metadata": {},
   "source": [
    "<details>\n",
    "<summary><b>Instructor Notes</b></summary>\n",
    "\n",
    "Nothing to add...\n",
    "\n",
    "</details>"
   ]
  }
 ],
 "metadata": {
  "kernelspec": {
   "display_name": "Python 3 (ipykernel)",
   "language": "python",
   "name": "python3"
  },
  "language_info": {
   "codemirror_mode": {
    "name": "ipython",
    "version": 3
   },
   "file_extension": ".py",
   "mimetype": "text/x-python",
   "name": "python",
   "nbconvert_exporter": "python",
   "pygments_lexer": "ipython3",
   "version": "3.11.5"
  }
 },
 "nbformat": 4,
 "nbformat_minor": 5
}
