{
 "cells": [
  {
   "cell_type": "markdown",
   "id": "7214c8f0-ae23-4b10-a032-85771cfb4f1f",
   "metadata": {},
   "source": [
    "# Python Tutorial: Python Scatter Plots\n",
    "\n",
    "Let's dive into creating scatter plots in Python using the popular library matplotlib. Scatter plots are useful for visualizing relationships between two numerical variables. We'll cover how to create basic scatter plots, customize them, and add additional features such as colors, labels, and annotations.\n"
   ]
  },
  {
   "cell_type": "markdown",
   "id": "99640e32-5c02-4dce-96dd-17aee500e311",
   "metadata": {},
   "source": [
    "## Prerequisites:\n",
    "\n",
    "- Basic knowledge of Python programming.\n",
    "- Understanding of numerical data and variables.\n"
   ]
  },
  {
   "cell_type": "markdown",
   "id": "25ede644-5b2f-4906-9e1f-27c546e0357b",
   "metadata": {},
   "source": [
    "## Step 1: Install matplotlib\n",
    "\n",
    "If you haven't already installed matplotlib, you can do so via pip:\n"
   ]
  },
  {
   "cell_type": "code",
   "execution_count": null,
   "id": "d2c1f59b-8465-4a22-a261-8c512907c0d2",
   "metadata": {},
   "outputs": [],
   "source": [
    "pip install matplotlib\n"
   ]
  },
  {
   "cell_type": "markdown",
   "id": "a6606eb3-d657-4618-a8f9-8cb8b200441d",
   "metadata": {},
   "source": [
    "## Step 2: Import the necessary libraries\n"
   ]
  },
  {
   "cell_type": "code",
   "execution_count": null,
   "id": "1a0179da-8fdf-4d1c-85aa-97abc7c2aa83",
   "metadata": {},
   "outputs": [],
   "source": [
    "import matplotlib.pyplot as plt\n"
   ]
  },
  {
   "cell_type": "markdown",
   "id": "afe5d844-d08a-4390-9918-db995e1a16d7",
   "metadata": {},
   "source": [
    "## Step 3: Create a basic scatter plot\n",
    "\n",
    "Let's start by creating a simple scatter plot with random data.\n"
   ]
  },
  {
   "cell_type": "code",
   "execution_count": null,
   "id": "7c59241a-323e-4b61-ac0b-33dc2a4c7eb0",
   "metadata": {},
   "outputs": [],
   "source": [
    "import numpy as np\n",
    "\n",
    "# Generate random data\n",
    "x = np.random.rand(50)\n",
    "y = np.random.rand(50)\n",
    "\n",
    "# Create scatter plot\n",
    "plt.scatter(x, y)\n",
    "plt.xlabel('X-axis')\n",
    "plt.ylabel('Y-axis')\n",
    "plt.title('Simple Scatter Plot')\n",
    "plt.show()\n"
   ]
  },
  {
   "cell_type": "markdown",
   "id": "8e7361c6-47a0-4777-b071-e8de4dffc31f",
   "metadata": {},
   "source": [
    "This code will generate a scatter plot with random data points.\n"
   ]
  },
  {
   "cell_type": "markdown",
   "id": "1288c858-81f2-436d-b50c-a03e22bab862",
   "metadata": {},
   "source": [
    "## Step 4: Customize the scatter plot\n",
    "\n",
    "You can customize the scatter plot by changing the size, color, and shape of the markers.\n"
   ]
  },
  {
   "cell_type": "code",
   "execution_count": null,
   "id": "37ca5c23-b745-47e8-8cc4-0ad4dff43a21",
   "metadata": {},
   "outputs": [],
   "source": [
    "# Customize scatter plot\n",
    "plt.scatter(x, y, s=100, c='red', marker='o', alpha=0.5)\n",
    "plt.xlabel('X-axis')\n",
    "plt.ylabel('Y-axis')\n",
    "plt.title('Customized Scatter Plot')\n",
    "plt.show()\n"
   ]
  },
  {
   "cell_type": "markdown",
   "id": "48be1d49-913b-4495-9a49-7050ea7421bb",
   "metadata": {},
   "source": [
    "In this example, we increased the size of the markers, changed their color to red, used circular markers, and adjusted the transparency.\n"
   ]
  },
  {
   "cell_type": "markdown",
   "id": "6e1ee6ee-9298-4582-b81e-f795f7d5ec95",
   "metadata": {},
   "source": [
    "## Exercise 1: Create a scatter plot with data from two different arrays `x1` and `y1`.\n"
   ]
  },
  {
   "cell_type": "code",
   "execution_count": null,
   "id": "a6143779-6eab-456d-b423-d4ec7fdaa966",
   "metadata": {},
   "outputs": [],
   "source": [
    "# Solution\n"
   ]
  },
  {
   "cell_type": "markdown",
   "id": "5fb518de-9e9d-4377-8563-28cc32fd8793",
   "metadata": {},
   "source": [
    "## Exercise 2: Customize the plot by changing marker shapes and colors.\n"
   ]
  },
  {
   "cell_type": "code",
   "execution_count": null,
   "id": "c6c5abb0-9f39-44cd-84f3-b24ce5a01deb",
   "metadata": {},
   "outputs": [],
   "source": [
    "# Solution\n"
   ]
  },
  {
   "cell_type": "markdown",
   "id": "472ae578-2f30-4d07-833a-fc51946abbf7",
   "metadata": {},
   "source": [
    "## Exercise 3: Add labels to the x-axis and y-axis.\n"
   ]
  },
  {
   "cell_type": "code",
   "execution_count": null,
   "id": "11630e29-808b-4553-b2a2-1adc7d905310",
   "metadata": {},
   "outputs": [],
   "source": [
    "# Solution\n"
   ]
  },
  {
   "cell_type": "markdown",
   "id": "f4be0895-6569-46fe-ad3e-d9bbbcc33665",
   "metadata": {},
   "source": [
    "## Summary\n",
    "\n",
    "You've learned how to create scatter plots in Python using matplotlib. Experiment with different data and customizations to create visually appealing plots for your data.\n"
   ]
  },
  {
   "cell_type": "markdown",
   "id": "f89697e6-b277-4f38-9641-3ca818a8a30a",
   "metadata": {},
   "source": [
    "<details>\n",
    "<summary><b>Instructor Notes</b></summary>\n",
    "\n",
    "Nothing to add...\n",
    "\n",
    "</details>"
   ]
  }
 ],
 "metadata": {
  "kernelspec": {
   "display_name": "Python 3 (ipykernel)",
   "language": "python",
   "name": "python3"
  },
  "language_info": {
   "codemirror_mode": {
    "name": "ipython",
    "version": 3
   },
   "file_extension": ".py",
   "mimetype": "text/x-python",
   "name": "python",
   "nbconvert_exporter": "python",
   "pygments_lexer": "ipython3",
   "version": "3.11.5"
  }
 },
 "nbformat": 4,
 "nbformat_minor": 5
}
