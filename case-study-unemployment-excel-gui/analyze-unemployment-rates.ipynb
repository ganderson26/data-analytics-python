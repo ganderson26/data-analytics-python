{
 "cells": [
  {
   "cell_type": "markdown",
   "id": "851c4cc7-3f20-4874-954b-5f5bd14375dc",
   "metadata": {},
   "source": [
    "# Case Study on Unemployment Rates\n",
    "\n",
    "This case study has you using a simple spreadsheet containing Years and Unemployment Rates. The objective of this case study is for you to exercise all of the data analytics life cycle steps.\n",
    "\n",
    "## Steps\n",
    "\n",
    "1. Read the unemployment.xlsx file into a DataFrame.\n",
    "\n",
    "2. Cleanup the data.\n",
    "\n",
    "3. Study the data using a Plot.    \n",
    "\n",
    "4. Beautify the Plot with colors and labels.\n",
    "\n",
    "5. Save the spreadsheet.\n",
    "\n",
    "6. Create a Graphical User Interface (GUI) to read the updated spreadsheet.\n",
    "\n",
    "7. Update the GUI to allow the User to enter a range of Years.\n"
   ]
  },
  {
   "cell_type": "markdown",
   "id": "57b0f3da-c38c-438a-bd20-3cf073b5f797",
   "metadata": {},
   "source": [
    "**1. Read the unemployment.xlsx file into a DataFrame.**\n",
    "\n",
    "Read the spreadsheet into a DataFrame and examine the information. Notice any missing and unusual fields.\n"
   ]
  },
  {
   "cell_type": "code",
   "execution_count": null,
   "id": "85373121-dc29-41ca-aa02-337b720a9315",
   "metadata": {},
   "outputs": [],
   "source": [
    "# Solution\n"
   ]
  },
  {
   "cell_type": "markdown",
   "id": "d8f37dd8-dc97-4cfe-aeee-b80fa48ef877",
   "metadata": {},
   "source": [
    "**2. Cleanup the data.**\n",
    "\n",
    "Check missing values in the month columns and replace with the mean.\n"
   ]
  },
  {
   "cell_type": "code",
   "execution_count": null,
   "id": "efd7f845-8407-43e6-bc75-425ab44a493b",
   "metadata": {},
   "outputs": [],
   "source": [
    "# Solution\n"
   ]
  },
  {
   "cell_type": "code",
   "execution_count": null,
   "id": "0d0fa928-640b-4304-a08c-aa56fa795ff7",
   "metadata": {},
   "outputs": [],
   "source": [
    "# Solution"
   ]
  },
  {
   "cell_type": "markdown",
   "id": "ec45aa2a-2b56-4ecf-9af5-80c147f46639",
   "metadata": {},
   "source": [
    "**3. Study the data using a Plot.**\n"
   ]
  },
  {
   "cell_type": "code",
   "execution_count": null,
   "id": "5551ffe8-ae8f-4074-9946-02d2349b2e6a",
   "metadata": {},
   "outputs": [],
   "source": [
    "# Solution\n",
    "\n"
   ]
  },
  {
   "cell_type": "markdown",
   "id": "b9ad2a4d-f852-4e69-8896-d86abc36c444",
   "metadata": {},
   "source": [
    "**4. Beautify the Plot with colors and labels.**\n"
   ]
  },
  {
   "cell_type": "code",
   "execution_count": null,
   "id": "b061a64c-4d58-4d5a-b593-51c700dd8c83",
   "metadata": {},
   "outputs": [],
   "source": [
    "# Solution"
   ]
  },
  {
   "cell_type": "markdown",
   "id": "b49d0345-bf10-4a0c-9667-c8183c716f08",
   "metadata": {},
   "source": [
    "**5. Save the spreadsheet.**\n"
   ]
  },
  {
   "cell_type": "code",
   "execution_count": null,
   "id": "a967ae12-3fe7-413d-ba58-45fd8c69bf10",
   "metadata": {},
   "outputs": [],
   "source": [
    "# Solution\n"
   ]
  },
  {
   "cell_type": "markdown",
   "id": "130e10e5-d037-4d9f-ac96-9736aecbb86e",
   "metadata": {},
   "source": [
    "**6. Create a Graphical User Interface (GUI) using pysimplegui to read the updated spreadsheet.**\n",
    "\n",
    "Create a program that reads an Excel spreadsheet into a Pandas DataFrame and then open a new window to display a plot.\n",
    "\n",
    "Pandas uses openpyxl depending on the file extension under the hood. This is a simple and fast way to load the spreadsheet into a DataFrame. For example:\n",
    "\n",
    "```python\n",
    "df = pd.read_excel('unemployment.xlsx', sheet_name='Sheet', usecols='A:B')\n",
    "```\n",
    "\n",
    "Creating a plot is the same as we have seen in the previous topics. For example:\n",
    "\n",
    "```python\n",
    "plt.plot(year, unemployment_rate, color='red', marker='o')\n",
    "plt.title('Unemployment Rate Vs Year', fontsize=14)\n",
    "plt.xlabel('Year', fontsize=14)\n",
    "plt.ylabel('Rate', fontsize=14)\n",
    "plt.grid(True)\n",
    "Then to show the plot:\n",
    "\n",
    "plt.show(block=False)\n",
    "```\n",
    "\n",
    "If True block and run the GUI main loop until all figure windows are closed. If False ensure that all figure windows are displayed and return immediately.\n",
    "\n",
    "https://matplotlib.org/stable/api/_as_gen/matplotlib.pyplot.show.html\n"
   ]
  },
  {
   "cell_type": "markdown",
   "id": "1fd5fe94-afab-4696-89b9-02a24147f042",
   "metadata": {},
   "source": [
    "**7. Update the GUI to allow the User to enter a range of Years.**\n",
    "\n",
    "For example:\n",
    "\n",
    "```python\n",
    "sg.Text(\"Starting Year\"), sg.InputText(\"1948\", size=(10, 1), key=\"start_year\")\n",
    "```\n",
    "\n",
    "Then you can get the entered value. For example:\n",
    "\n",
    "```python\n",
    "start = int(window[\"start_year\"].get())\n",
    "```\n",
    "\n",
    "You can use the entered years for filter the dataframe. For example:\n",
    "\n",
    "```python\n",
    "range_df = df[(df['Year'] >= start)\n",
    "```\n",
    "\n",
    "Be careful to avoid the following error:\n",
    "\n",
    "**ValueError: The truth value of a Series is ambiguous in Pandas**\n",
    "\n",
    "\n"
   ]
  },
  {
   "cell_type": "markdown",
   "id": "25be90ac-9e09-4527-b0d2-a94a875f2437",
   "metadata": {},
   "source": [
    "<details>\n",
    "<summary><b>Instructor Notes</b></summary>\n",
    "\n",
    "Nothing to add...\n",
    "\n",
    "</details>"
   ]
  }
 ],
 "metadata": {
  "kernelspec": {
   "display_name": "Python 3 (ipykernel)",
   "language": "python",
   "name": "python3"
  },
  "language_info": {
   "codemirror_mode": {
    "name": "ipython",
    "version": 3
   },
   "file_extension": ".py",
   "mimetype": "text/x-python",
   "name": "python",
   "nbconvert_exporter": "python",
   "pygments_lexer": "ipython3",
   "version": "3.12.2"
  }
 },
 "nbformat": 4,
 "nbformat_minor": 5
}
