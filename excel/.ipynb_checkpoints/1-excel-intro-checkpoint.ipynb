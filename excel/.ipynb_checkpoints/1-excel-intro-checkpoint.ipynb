{
 "cells": [
  {
   "cell_type": "markdown",
   "id": "38c4ea0c-4c88-4241-93c8-9286e197dfed",
   "metadata": {},
   "source": [
    "# Python Tutorial: Working with Excel Files Using Openpyxl\n",
    "\n",
    "Openpyxl is a Python library to read and write Excel (xlsx) files. It allows you to manipulate Excel files programmatically, making it a powerful tool for tasks such as data analysis, reporting, and automation. In this tutorial, we will explore the basic functionalities of Openpyxl with examples, exercises, and solutions.\n"
   ]
  },
  {
   "cell_type": "markdown",
   "id": "a834bbf7-61ac-4ffc-b511-f60a48f6e4d2",
   "metadata": {},
   "source": [
    "## Installation\n"
   ]
  },
  {
   "cell_type": "code",
   "execution_count": null,
   "id": "8cc09685-813a-48e5-958d-52a96d56740c",
   "metadata": {},
   "outputs": [],
   "source": [
    "pip install openpyxl\n"
   ]
  },
  {
   "cell_type": "markdown",
   "id": "2d946fa9-9c12-4547-8d40-35f155d53041",
   "metadata": {},
   "source": [
    "## Reading Excel Files\n",
    "\n",
    "Openpyxl provides methods to read data from existing Excel files.\n"
   ]
  },
  {
   "cell_type": "code",
   "execution_count": null,
   "id": "7c135d5b-eb85-4987-b59b-45b115f916c0",
   "metadata": {},
   "outputs": [],
   "source": [
    "from openpyxl import load_workbook\n",
    "\n",
    "# Load the Excel file\n",
    "wb = load_workbook('example.xlsx')\n",
    "\n",
    "# Select the active worksheet\n",
    "ws = wb.active\n",
    "\n",
    "# Access cell values\n",
    "cell_value = ws['A1'].value\n",
    "print(cell_value)\n"
   ]
  },
  {
   "cell_type": "markdown",
   "id": "41123182-9491-4a48-b6d2-5d9e1b60c8d2",
   "metadata": {},
   "source": [
    "## Writing to Excel Files\n",
    "\n",
    "You can create new Excel files or modify existing ones using Openpyxl.\n"
   ]
  },
  {
   "cell_type": "code",
   "execution_count": null,
   "id": "cf935a50-82a8-4257-95e9-75b29298f3be",
   "metadata": {},
   "outputs": [],
   "source": [
    "from openpyxl import Workbook\n",
    "\n",
    "# Create a new workbook\n",
    "wb = Workbook()\n",
    "\n",
    "# Select the active worksheet\n",
    "ws = wb.active\n",
    "\n",
    "# Write data to cells\n",
    "ws['A1'] = 'Hello'\n",
    "ws['B1'] = 'World'\n",
    "\n",
    "# Save the workbook\n",
    "wb.save('output.xlsx')\n",
    "\n",
    "# Access cell values\n",
    "cell_value = ws['A1'].value\n",
    "print(cell_value)\n",
    "\n",
    "cell_value = ws['B1'].value\n",
    "print(cell_value)\n"
   ]
  },
  {
   "cell_type": "markdown",
   "id": "379e9016-e2b9-46f8-9eb1-2ee8b46f8644",
   "metadata": {},
   "source": [
    "## Exercise 1\n",
    "\n",
    "Create a new Excel file named \"grades.xlsx\" with the following data:\n",
    "- Column A: Student Names (Alice, Bob, Carol)\n",
    "- Column B: Grades (90, 85, 88)\n"
   ]
  },
  {
   "cell_type": "code",
   "execution_count": null,
   "id": "442d3762-fbeb-48b9-96d7-a938fe4563ea",
   "metadata": {},
   "outputs": [],
   "source": [
    "# Solution\n"
   ]
  },
  {
   "cell_type": "markdown",
   "id": "373bb3f4-711c-424e-ba9e-78158d92f218",
   "metadata": {},
   "source": [
    "## Exercise 2\n",
    "\n",
    "Read the \"grades.xlsx\" file and print each student's name and grade.\n"
   ]
  },
  {
   "cell_type": "code",
   "execution_count": null,
   "id": "ee36e3fe-8da5-47e8-b1df-dbb074195376",
   "metadata": {},
   "outputs": [],
   "source": [
    "# Solution\n"
   ]
  },
  {
   "cell_type": "markdown",
   "id": "8d16481a-9d64-470a-8301-19e6f21676b8",
   "metadata": {},
   "source": [
    "## Summary\n",
    "\n",
    "In this tutorial, we covered the basics of working with Excel files using Openpyxl in Python. You learned how to read and write data to Excel files, along with exercises to practice these concepts. Openpyxl offers many more functionalities for advanced Excel manipulation, so feel free to explore its documentation for more features and possibilities.\n",
    "   "
   ]
  }
 ],
 "metadata": {
  "kernelspec": {
   "display_name": "Python 3 (ipykernel)",
   "language": "python",
   "name": "python3"
  },
  "language_info": {
   "codemirror_mode": {
    "name": "ipython",
    "version": 3
   },
   "file_extension": ".py",
   "mimetype": "text/x-python",
   "name": "python",
   "nbconvert_exporter": "python",
   "pygments_lexer": "ipython3",
   "version": "3.12.2"
  }
 },
 "nbformat": 4,
 "nbformat_minor": 5
}
