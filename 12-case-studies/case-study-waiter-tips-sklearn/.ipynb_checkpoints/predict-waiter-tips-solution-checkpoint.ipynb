{
 "cells": [
  {
   "cell_type": "markdown",
   "id": "f0fec9ba-74ec-4903-9458-f7dd76450dbb",
   "metadata": {},
   "source": [
    "# Case Study on Waiter Tips\n",
    "\n",
    "This case study has you using Waiter's Tips. The objective is to to build a machine learning model that predicts and find out the tips given to waiter.\n",
    "\n",
    "## Steps\n",
    "\n",
    "1. Installation.\n",
    "2. Load libaries.\n",
    "3. Load the dataset.\n",
    "4. Descriptive analysis: Get to know the data.\n",
    "5. Data exploration: Visualize the data.\n",
    "6. Identifying target and features.\n",
    "7. Building and training a Linear Regression Model.\n",
    "8. Evaluating the Model and making predictions.\n"
   ]
  },
  {
   "cell_type": "markdown",
   "id": "6dc8565e-35e3-44d4-aa6f-1268e0cc5411",
   "metadata": {},
   "source": [
    "## 1. Installation.\n",
    "  \n",
    "You can install scikit-learn using pip:\n"
   ]
  },
  {
   "cell_type": "code",
   "execution_count": null,
   "id": "584277dd-5934-4622-8124-2c83525b4150",
   "metadata": {},
   "outputs": [],
   "source": [
    "pip install scikit-learn pandas numpy seaborn matplotlib\n"
   ]
  },
  {
   "cell_type": "markdown",
   "id": "e0911b7a-62bb-455b-9707-06c11cac215b",
   "metadata": {},
   "source": [
    "## 2. Load libaries.\n",
    "\n",
    "- Pandas : Data structures and operations for manipulating numerical tables and time series.\n",
    "- Sklearn : Various classification, regression and clustering algorithms including support vector machines, random forests, gradient boosting, k-means and DBSCAN.\n",
    "- Seaborn : High-level interface for drawing attractive and informative statistical graphics.\n",
    "- Matplotlib : Object-oriented API for embedding plots into applications using general-purpose GUI toolkits like Tkinter, wxPython, Qt, or GTK.\n"
   ]
  },
  {
   "cell_type": "code",
   "execution_count": null,
   "id": "7d9dc456-4ea6-4d18-8f8b-9f811b4924f6",
   "metadata": {},
   "outputs": [],
   "source": [
    "# Load libraries \n",
    "import pandas as pd\n",
    "import seaborn as sns\n",
    "import numpy as np\n",
    "import matplotlib.pyplot as plt\n",
    "from sklearn.metrics import r2_score\n",
    "from sklearn.linear_model import LinearRegression, Ridge, RidgeCV, Lasso, LassoCV\n",
    "from sklearn.model_selection import KFold, cross_val_score, train_test_split\n",
    "\n",
    "# Ignore warnings\n",
    "# https://docs.python.org/3/library/warnings.html\n",
    "import warnings\n",
    "\n",
    "warnings.filterwarnings('ignore')\n"
   ]
  },
  {
   "cell_type": "markdown",
   "id": "3f6a07c9-f3a1-4ae0-aed9-9556133aecca",
   "metadata": {},
   "source": [
    "## 3. Load the dataset.\n"
   ]
  },
  {
   "cell_type": "code",
   "execution_count": null,
   "id": "a830c1b5-3d9a-419a-a358-52c8dbd2a7f3",
   "metadata": {},
   "outputs": [],
   "source": [
    "# This is how we load the tips dataset from seaborn and save to a csv\n",
    "#tips = sns.load_dataset(\"tips\")\n",
    "#tips.to_csv('tips.csv', encoding='utf-8', index=False)\n"
   ]
  },
  {
   "cell_type": "code",
   "execution_count": null,
   "id": "e2013eba-692d-4690-9e35-ffc27277c1c8",
   "metadata": {},
   "outputs": [],
   "source": [
    "# Load the data from the csv\n",
    "df =  pd.read_csv('tips.csv')\n"
   ]
  },
  {
   "cell_type": "markdown",
   "id": "3d9a7828-c2c0-4fae-b474-2c6d06e6f907",
   "metadata": {},
   "source": [
    "The dataset contains data about:\n",
    "- total_bill: Total bill in dollars including taxes\n",
    "- tip: Tip given to waiters in dollars\n",
    "- sex: gender of the person paying the bill\n",
    "- smoker: whether the person smoked or not\n",
    "- day: day of the week\n",
    "- time: lunch or dinner\n",
    "- size: number of people in a table\n"
   ]
  },
  {
   "cell_type": "markdown",
   "id": "a3e5c77d-2191-47e1-874e-e3367ed234e5",
   "metadata": {},
   "source": [
    "## 4. Descriptive analysis: Get to know the data.\n",
    "\n",
    "View the dataset and basic details like total number of rows and columns, what are the column data types and see if we need to create new column or not.\n",
    "  "
   ]
  },
  {
   "cell_type": "code",
   "execution_count": null,
   "id": "b2c9ffa2-04ba-4088-b293-6c4ec6df87f7",
   "metadata": {},
   "outputs": [],
   "source": [
    "# Display sample rows from the dataset\n",
    "df.sample(5)\n"
   ]
  },
  {
   "cell_type": "code",
   "execution_count": null,
   "id": "ef4412e4-a816-4b70-bbfb-a9a5f4fe6a27",
   "metadata": {},
   "outputs": [],
   "source": [
    "# Total number of rows and columns\n",
    "df.shape\n"
   ]
  },
  {
   "cell_type": "code",
   "execution_count": null,
   "id": "093e0500-da9f-4a63-9958-9cac76ac9329",
   "metadata": {},
   "outputs": [],
   "source": [
    "# Index dtype and columns, non-null values and memory usage\n",
    "df.info\n"
   ]
  },
  {
   "cell_type": "code",
   "execution_count": null,
   "id": "a5c6d556-ca82-4111-816e-3ae8ddfeac00",
   "metadata": {},
   "outputs": [],
   "source": [
    "# Description of the data in the DataFrame\n",
    "df.describe()\n"
   ]
  },
  {
   "cell_type": "markdown",
   "id": "b9fa34a5-53e8-4381-9656-c29515e9f5f3",
   "metadata": {},
   "source": [
    "Data type check helps to understand what type of variables our dataset contains.\n"
   ]
  },
  {
   "cell_type": "code",
   "execution_count": null,
   "id": "87040672-dba2-4f03-9bbd-18e53dc402b0",
   "metadata": {},
   "outputs": [],
   "source": [
    "category_cols = ['category']\n",
    "category_lst = list(df.select_dtypes(include=category_cols).columns)\n",
    "print(\"Total number of categorical columns are \", len(category_lst))\n",
    "print(\"There names are as follows: \", category_lst)\n"
   ]
  },
  {
   "cell_type": "code",
   "execution_count": null,
   "id": "8ce1e928-7cfd-4bd1-b008-89b322ed3709",
   "metadata": {},
   "outputs": [],
   "source": [
    "int64_cols = ['int64']\n",
    "int64_lst = list(df.select_dtypes(include=int64_cols).columns)\n",
    "print(\"Total number of numerical columns are \", len(int64_lst))\n",
    "print(\"There names are as follows: \", int64_lst)\n"
   ]
  },
  {
   "cell_type": "code",
   "execution_count": null,
   "id": "8b6453e1-7893-4a7b-9c89-c7a8dd714fae",
   "metadata": {},
   "outputs": [],
   "source": [
    "float64_cols = ['float64']\n",
    "float64_lst = list(df.select_dtypes(include=float64_cols).columns)\n",
    "print(\"Total number of float64 columns are \", len(float64_lst))\n",
    "print(\"There name are as follow: \", float64_lst)\n"
   ]
  },
  {
   "cell_type": "markdown",
   "id": "5b008812-705b-41e6-81d3-1584a876511a",
   "metadata": {},
   "source": [
    "## 5. Visualize the data.\n",
    "\n",
    "Graphs we are going to view:\n",
    "- Histogram of all columns to check the distrubution of the columns\n",
    "- Distplot or distribution plot of all columns to check the variation in the data distribution\n",
    "- Heatmap to calculate correlation within feature variables\n",
    "- Boxplot to find out outlier in the feature columns\n"
   ]
  },
  {
   "cell_type": "code",
   "execution_count": null,
   "id": "166966b7-5634-4b59-b7f2-d01f1a085f85",
   "metadata": {},
   "outputs": [],
   "source": [
    "sns.set(rc = {'figure.figsize':(18,10)})\n",
    "sns.countplot(x='sex', data=df)\n"
   ]
  },
  {
   "cell_type": "code",
   "execution_count": null,
   "id": "38f0a215-21e4-49dd-924e-39057d777c87",
   "metadata": {},
   "outputs": [],
   "source": [
    "sns.set(rc = {'figure.figsize':(18,10)})\n",
    "sns.countplot(x='smoker', data=df)\n"
   ]
  },
  {
   "cell_type": "code",
   "execution_count": null,
   "id": "62eb0d61-3c18-4ee4-875e-4aac651eb1ad",
   "metadata": {},
   "outputs": [],
   "source": [
    "sns.set(rc = {'figure.figsize':(18,10)})\n",
    "sns.countplot(x='day', data=df)\n"
   ]
  },
  {
   "cell_type": "code",
   "execution_count": null,
   "id": "1a9f85ff-fe0c-4bd2-900d-e41958a07eb7",
   "metadata": {},
   "outputs": [],
   "source": [
    "sns.set(rc = {'figure.figsize':(18,10)})\n",
    "sns.countplot(x='time', data=df)\n"
   ]
  },
  {
   "cell_type": "code",
   "execution_count": null,
   "id": "9421695b-2fdb-4c71-8d85-fc832252a79d",
   "metadata": {},
   "outputs": [],
   "source": [
    "num = [f for f in df.columns if df.dtypes[f] != 'object']\n",
    "nd = pd.melt(df, value_vars = num)\n",
    "n1 = sns.FacetGrid (nd, col='variable', col_wrap=4, sharex=False, sharey = False)\n",
    "n1 = n1.map(sns.distplot, 'value')\n",
    "n1\n"
   ]
  },
  {
   "cell_type": "code",
   "execution_count": null,
   "id": "1772a3f7-7990-4d20-83b8-c70bbc8dd21b",
   "metadata": {},
   "outputs": [],
   "source": [
    "df['tip'].skew()\n"
   ]
  },
  {
   "cell_type": "code",
   "execution_count": null,
   "id": "38c4becd-4426-445b-bfc5-390571559a6b",
   "metadata": {},
   "outputs": [],
   "source": [
    "#correlation plot\n",
    "sns.set(rc = {'figure.figsize':(25,20)})\n",
    "corr = df.corr(numeric_only=True).abs()\n",
    "sns.heatmap(corr,annot=True) \n",
    "plt.show()\n"
   ]
  },
  {
   "cell_type": "code",
   "execution_count": null,
   "id": "2dce6d79-90c8-4ec3-b05e-5949f1a349ba",
   "metadata": {},
   "outputs": [],
   "source": [
    "corr\n"
   ]
  },
  {
   "cell_type": "code",
   "execution_count": null,
   "id": "7ae41393-8e15-41d0-89bf-3ef3cd19b597",
   "metadata": {},
   "outputs": [],
   "source": [
    "# Target variable\n",
    "sns.catplot(data=df, x='tip', kind='box')\n"
   ]
  },
  {
   "cell_type": "markdown",
   "id": "01f54edf-fb0c-4f14-bb9c-59ca26741575",
   "metadata": {},
   "source": [
    "## 6. Identifying target and features.\n",
    "\n",
    "Before we start building our machine learning model, we need to preprocess the data. This involves tasks such as handling missing values, encoding categorical variables, and splitting the data into training and testing sets.\n",
    "\n",
    "Separate the target variable and feature columns in two different dataframes and check the shape of the dataset for validation purpose.\n"
   ]
  },
  {
   "cell_type": "code",
   "execution_count": null,
   "id": "09dd3902-b2ed-4e7b-b4d0-e9bda23b4ca7",
   "metadata": {},
   "outputs": [],
   "source": [
    "df[\"sex\"] = df[\"sex\"].map({\"Female\": 0, \"Male\": 1})\n",
    "df[\"smoker\"] = df[\"smoker\"].map({\"No\": 0, \"Yes\": 1})\n",
    "df[\"day\"] = df[\"day\"].map({\"Thur\": 0, \"Fri\": 1, \"Sat\": 2, \"Sun\": 3})\n",
    "df[\"time\"] = df[\"time\"].map({\"Lunch\": 0, \"Dinner\": 1})\n",
    "df.head()\n"
   ]
  },
  {
   "cell_type": "markdown",
   "id": "4070bb64-8abf-42ff-be54-698e980700e4",
   "metadata": {},
   "source": [
    "Next, we'll select relevant features and engineer new features if needed. For example, we might calculate the tip percentage (tip amount divided by total bill amount) or create dummy variables for categorical features.\n"
   ]
  },
  {
   "cell_type": "code",
   "execution_count": null,
   "id": "9032d1b1-8440-4e13-b06a-a6cd07d61255",
   "metadata": {},
   "outputs": [],
   "source": [
    "x = np.array(df[[\"total_bill\", \"sex\", \"smoker\", \"day\", \"time\", \"size\"]])\n",
    "y = np.array(df[\"tip\"])\n"
   ]
  },
  {
   "cell_type": "markdown",
   "id": "5d44daf5-1220-4521-b374-e5693946d671",
   "metadata": {},
   "source": [
    "We'll choose a regression algorithm suitable for our problem. Some common choices include linear regression, decision trees, random forests, or gradient boosting algorithms. We'll train multiple models and evaluate their performance to select the best one.\n"
   ]
  },
  {
   "cell_type": "code",
   "execution_count": null,
   "id": "bf47081f-9edd-46f7-a34d-17b5d7ae37fa",
   "metadata": {},
   "outputs": [],
   "source": [
    "model = LinearRegression()\n"
   ]
  },
  {
   "cell_type": "markdown",
   "id": "af143ce9-f965-4eb6-87e9-601a632cf1b5",
   "metadata": {},
   "source": [
    "We'll split the dataset into training and testing sets.\n"
   ]
  },
  {
   "cell_type": "code",
   "execution_count": null,
   "id": "cf39f0d4-5813-4f28-a44d-90ef8469ce63",
   "metadata": {},
   "outputs": [],
   "source": [
    "xtrain, xtest, ytrain, ytest = train_test_split(x, y, test_size=0.2, random_state=42)\n"
   ]
  },
  {
   "cell_type": "markdown",
   "id": "816e6e71-c64d-4ea7-aabc-4ab11729c8a8",
   "metadata": {},
   "source": [
    "## 7. Building and training a Linear Regression Model.\n",
    "\n",
    "Now we can train the selected machine learning model on the training data.\n"
   ]
  },
  {
   "cell_type": "code",
   "execution_count": null,
   "id": "f223dda0-52a4-498e-a242-a62bf4d3affc",
   "metadata": {},
   "outputs": [],
   "source": [
    "model.fit(xtrain, ytrain)\n"
   ]
  },
  {
   "cell_type": "markdown",
   "id": "9abbb5b3-408d-4046-a032-af44e1cca3e9",
   "metadata": {},
   "source": [
    "## 8. Evaluating the Model and making predictions.\n",
    "\n",
    "Now let’s test the performance of this model by giving inputs to this model according to the features that we have used to train this model.\n"
   ]
  },
  {
   "cell_type": "code",
   "execution_count": null,
   "id": "a41fe30c-344f-42c9-99f3-bcafd3efb32b",
   "metadata": {},
   "outputs": [],
   "source": [
    "features = np.array([[24.50, 1, 0, 0, 1, 4]])\n",
    "model.predict(features)\n"
   ]
  },
  {
   "cell_type": "markdown",
   "id": "94b30730-52bb-405b-854b-7474e2ceed83",
   "metadata": {},
   "source": [
    "<details>\n",
    "<summary><b>Instructor Notes</b></summary>\n",
    "\n",
    "https://hidevscommunity.medium.com/waiter-tips-prediction-29d527efa0d6\n",
    "\n",
    "</details>\n"
   ]
  }
 ],
 "metadata": {
  "kernelspec": {
   "display_name": "Python 3 (ipykernel)",
   "language": "python",
   "name": "python3"
  },
  "language_info": {
   "codemirror_mode": {
    "name": "ipython",
    "version": 3
   },
   "file_extension": ".py",
   "mimetype": "text/x-python",
   "name": "python",
   "nbconvert_exporter": "python",
   "pygments_lexer": "ipython3",
   "version": "3.12.2"
  }
 },
 "nbformat": 4,
 "nbformat_minor": 5
}
