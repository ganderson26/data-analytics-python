{
 "cells": [
  {
   "cell_type": "markdown",
   "id": "851c4cc7-3f20-4874-954b-5f5bd14375dc",
   "metadata": {},
   "source": [
    "# Case Study on Options APY\n",
    "\n",
    "This case study has you using a CSV file containg Stock Options trading history. The objective of this case study is for you to calculate the monthly and total APY for the monthly premiums earned per month.\n",
    "\n",
    "You will need to explore the data to understand what is expected. You will need to remove unwanted data, recast values, group monthly data and create a plot to visualize the monthly premiums.\n",
    "\n",
    "## Steps\n",
    "\n",
    "1. Read the 2024-04-27-AccountStatement.csv file into a DataFrame.\n",
    "\n",
    "2. Study the data using various DataFrame methods such as head() and describe().\n",
    "\n",
    "3. Cleanup the data.\n",
    "\n",
    "4. Group the data by Month and sum the Premiums.\n",
    "\n",
    "5. Calculate the Monthly and Total APY.    \n",
    "\n",
    "6. Create a Plot showing the Premium Amounts by Month.\n"
   ]
  },
  {
   "cell_type": "markdown",
   "id": "57b0f3da-c38c-438a-bd20-3cf073b5f797",
   "metadata": {},
   "source": [
    "**1. Read the 2024-04-27-AccountStatement.csv file into a DataFrame.**\n",
    "\n",
    "Read the spreadsheet into a DataFrame.\n"
   ]
  },
  {
   "cell_type": "code",
   "execution_count": null,
   "id": "85373121-dc29-41ca-aa02-337b720a9315",
   "metadata": {},
   "outputs": [],
   "source": [
    "# Solution\n"
   ]
  },
  {
   "cell_type": "markdown",
   "id": "d8f37dd8-dc97-4cfe-aeee-b80fa48ef877",
   "metadata": {},
   "source": [
    "**2. Study the data using various DataFrame methods such as head() and describe().**\n",
    "\n",
    "We will be looking for TRD type transactions.\n"
   ]
  },
  {
   "cell_type": "code",
   "execution_count": null,
   "id": "efd7f845-8407-43e6-bc75-425ab44a493b",
   "metadata": {},
   "outputs": [],
   "source": [
    "# Solution\n"
   ]
  },
  {
   "cell_type": "markdown",
   "id": "ec45aa2a-2b56-4ecf-9af5-80c147f46639",
   "metadata": {},
   "source": [
    "**3. Cleanup the data.**\n",
    "\n",
    "Remove any undeeded rows and columns. Recast columns where needed such as the Date and AMount.\n"
   ]
  },
  {
   "cell_type": "code",
   "execution_count": null,
   "id": "5551ffe8-ae8f-4074-9946-02d2349b2e6a",
   "metadata": {},
   "outputs": [],
   "source": [
    "# Solution\n"
   ]
  },
  {
   "cell_type": "markdown",
   "id": "b9ad2a4d-f852-4e69-8896-d86abc36c444",
   "metadata": {},
   "source": [
    "**4. Group the data by Month and sum the Premiums.**\n",
    "\n",
    "Group the data by Month and Amount. Pay attention to getting all the months!\n"
   ]
  },
  {
   "cell_type": "code",
   "execution_count": null,
   "id": "b061a64c-4d58-4d5a-b593-51c700dd8c83",
   "metadata": {},
   "outputs": [],
   "source": [
    "# Solution\n"
   ]
  },
  {
   "cell_type": "markdown",
   "id": "b49d0345-bf10-4a0c-9667-c8183c716f08",
   "metadata": {},
   "source": [
    "**5. Calculate the Monthly and Total APY.**\n",
    "\n",
    "Keep it simple and just use 31 days per month.\n",
    "\n",
    "```python\n",
    "number_of_days = 31\n",
    "```\n",
    "\n",
    "Here is a simple APY formula.\n",
    "\n",
    "Assuming investment_amount is $50K.\n",
    "\n",
    "```python\n",
    "rate = 1 + (total/investment_amount)\n",
    "\n",
    "days = days_in_year/number_of_days\n",
    "\n",
    "apy = ((rate to the power of days) -1) * 100\n",
    "```\n"
   ]
  },
  {
   "cell_type": "code",
   "execution_count": null,
   "id": "a967ae12-3fe7-413d-ba58-45fd8c69bf10",
   "metadata": {},
   "outputs": [],
   "source": [
    "# Solution\n"
   ]
  },
  {
   "cell_type": "markdown",
   "id": "130e10e5-d037-4d9f-ac96-9736aecbb86e",
   "metadata": {},
   "source": [
    "**6. Create a Plot showing the Premium Amounts by Month.**\n"
   ]
  },
  {
   "cell_type": "code",
   "execution_count": null,
   "id": "e843f16f-cab1-4392-ab8a-71367a273412",
   "metadata": {},
   "outputs": [],
   "source": [
    "# Solution\n"
   ]
  },
  {
   "cell_type": "markdown",
   "id": "25be90ac-9e09-4527-b0d2-a94a875f2437",
   "metadata": {},
   "source": [
    "<details>\n",
    "<summary><b>Instructor Notes</b></summary>\n",
    "\n",
    "Nothing to add...\n",
    "\n",
    "</details>"
   ]
  }
 ],
 "metadata": {
  "kernelspec": {
   "display_name": "Python 3 (ipykernel)",
   "language": "python",
   "name": "python3"
  },
  "language_info": {
   "codemirror_mode": {
    "name": "ipython",
    "version": 3
   },
   "file_extension": ".py",
   "mimetype": "text/x-python",
   "name": "python",
   "nbconvert_exporter": "python",
   "pygments_lexer": "ipython3",
   "version": "3.11.5"
  }
 },
 "nbformat": 4,
 "nbformat_minor": 5
}
