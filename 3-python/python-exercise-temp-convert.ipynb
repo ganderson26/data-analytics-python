{
 "cells": [
  {
   "cell_type": "markdown",
   "id": "91ac6f12-56ba-4cde-b921-0e5675a88c2d",
   "metadata": {},
   "source": [
    "# Python Exercise: Temperature Converter\n",
    "\n",
    "Write a Python program to convert temperatures to and from Celsius and Fahrenheit.\n",
    "\n",
    "Formula : c/5 = f-32/9 where c = temperature in celsius and f = temperature in fahrenheit\n",
    "\n",
    "Expected Output:\n",
    "\n",
    "60°C is 140 in Fahrenheit\n",
    "45°F is 7 in Celsius\n"
   ]
  },
  {
   "cell_type": "markdown",
   "id": "486f3fb5-b565-4c17-aeb8-b1f8a00bb5d4",
   "metadata": {},
   "source": [
    "## Suggestions\n",
    "\n",
    "You can prompt the user using the **input** instruction.\n"
   ]
  },
  {
   "cell_type": "code",
   "execution_count": null,
   "id": "088ccb08-0c7f-4c0e-8469-0276b2b0b03f",
   "metadata": {
    "tags": []
   },
   "outputs": [],
   "source": [
    "temp = input(\"Enter a temperature: \")\n",
    "print(temp)\n"
   ]
  },
  {
   "cell_type": "markdown",
   "id": "e16f59c6-faad-4a2a-a4a7-630741d5f29e",
   "metadata": {},
   "source": [
    "You can use other functions such as **upper** to change the case.\n"
   ]
  },
  {
   "cell_type": "code",
   "execution_count": null,
   "id": "9ab552d5-4aaf-4bb0-9024-cfc85e1383e5",
   "metadata": {
    "tags": []
   },
   "outputs": [],
   "source": [
    "convert = input(\"Enter C or F to convert the temperature to: \")\n",
    "convert = convert.upper()\n",
    "print(convert)\n"
   ]
  },
  {
   "cell_type": "markdown",
   "id": "10e2486e-f8d7-4eb2-af69-f2d1948ed151",
   "metadata": {},
   "source": [
    "You can use other functions such as **int** and **round**.\n"
   ]
  },
  {
   "cell_type": "code",
   "execution_count": null,
   "id": "8fc0ce15-bc1c-41b0-81bd-d2bd40e58aef",
   "metadata": {
    "tags": []
   },
   "outputs": [],
   "source": [
    "temp = input(\"Enter a temperature: \")\n",
    "temp = float(temp)\n",
    "degree = round(temp)\n",
    "print(degree)\n"
   ]
  },
  {
   "cell_type": "code",
   "execution_count": null,
   "id": "d80053bd-46c7-4754-83dc-033924409a15",
   "metadata": {},
   "outputs": [],
   "source": [
    "# Solution\n"
   ]
  },
  {
   "cell_type": "markdown",
   "id": "35b0b1f8-7730-4212-ac06-46c874543393",
   "metadata": {},
   "source": [
    "<details>\n",
    "<summary><b>Instructor Notes</b></summary>\n",
    "\n",
    "Used the following as a reference:\n",
    "\n",
    "https://www.w3resource.com/python-exercises/python-conditional-exercise-2.php\n",
    "    \n",
    "</details>"
   ]
  }
 ],
 "metadata": {
  "kernelspec": {
   "display_name": "Python 3 (ipykernel)",
   "language": "python",
   "name": "python3"
  },
  "language_info": {
   "codemirror_mode": {
    "name": "ipython",
    "version": 3
   },
   "file_extension": ".py",
   "mimetype": "text/x-python",
   "name": "python",
   "nbconvert_exporter": "python",
   "pygments_lexer": "ipython3",
   "version": "3.11.5"
  }
 },
 "nbformat": 4,
 "nbformat_minor": 5
}
