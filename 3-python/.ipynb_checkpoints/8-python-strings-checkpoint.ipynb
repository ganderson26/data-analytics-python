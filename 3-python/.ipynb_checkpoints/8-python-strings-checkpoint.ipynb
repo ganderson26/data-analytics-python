{
 "cells": [
  {
   "cell_type": "markdown",
   "id": "9f2a89f1-f830-46e6-9544-b88b6aaa24cd",
   "metadata": {},
   "source": [
    "# Python Tutorial: Strings\n",
    "\n",
    "Strings in Python are sequences of characters, enclosed within either single quotes (' ') or double quotes (\" \"). They are immutable, meaning their values cannot be changed after they are created. Strings support various operations and methods for manipulation and analysis.\n"
   ]
  },
  {
   "cell_type": "markdown",
   "id": "8173895d-372f-4163-a760-2a1a328c6ebe",
   "metadata": {},
   "source": [
    "## Creating Strings\n"
   ]
  },
  {
   "cell_type": "code",
   "execution_count": null,
   "id": "a53ad96c-dd8a-4c4d-bae3-4cc88080cd70",
   "metadata": {},
   "outputs": [],
   "source": [
    "# Single quotes\n",
    "single_quoted = 'Hello, World!'\n",
    "\n",
    "# Double quotes\n",
    "double_quoted = \"Hello, World!\"\n",
    "\n",
    "# Triple quotes for multi-line strings\n",
    "multi_line = \"\"\"This is a \n",
    "multi-line string.\"\"\"\n"
   ]
  },
  {
   "cell_type": "markdown",
   "id": "ceef0149-6242-4fb8-818d-ff037248dbcd",
   "metadata": {},
   "source": [
    "## Accessing Characters\n"
   ]
  },
  {
   "cell_type": "code",
   "execution_count": null,
   "id": "d2c7bbcf-c9a6-42e5-ac0d-bec463bc6133",
   "metadata": {},
   "outputs": [],
   "source": [
    "string = \"Python\"\n",
    "\n",
    "# Accessing individual characters\n",
    "print(string[0])  # Output: 'P'\n",
    "\n",
    "# Slicing\n",
    "print(string[1:4])  # Output: 'yth'\n"
   ]
  },
  {
   "cell_type": "markdown",
   "id": "335a0797-df2f-4ab7-af05-5713cfbb73e8",
   "metadata": {},
   "source": [
    "## String Methods\n"
   ]
  },
  {
   "cell_type": "code",
   "execution_count": null,
   "id": "3e10c541-f721-4277-8086-4b05ffe1580e",
   "metadata": {},
   "outputs": [],
   "source": [
    "text = \"   Python Programming   \"\n",
    "\n",
    "# Strip whitespace\n",
    "print(text.strip())\n",
    "\n",
    "# Convert to uppercase\n",
    "print(text.upper())\n",
    "\n",
    "# Replace substring\n",
    "print(text.replace(\"Programming\", \"Language\"))\n",
    "\n",
    "# Split into a list of words\n",
    "print(text.split())\n"
   ]
  },
  {
   "cell_type": "markdown",
   "id": "6f14e5d0-f891-4fd4-99df-a8bd6ee92c53",
   "metadata": {},
   "source": [
    "## Exercise 1: \n",
    "\n",
    "Write a Python program to count the number of vowels in a string.\n"
   ]
  },
  {
   "cell_type": "code",
   "execution_count": null,
   "id": "cfbc8b63-f280-48cf-a3c8-86299ed8b727",
   "metadata": {},
   "outputs": [],
   "source": [
    "# Solution\n"
   ]
  },
  {
   "cell_type": "markdown",
   "id": "5a57321f-9b1c-4f12-8b4e-bf06fc693b58",
   "metadata": {},
   "source": [
    "## Exercise 2: \n",
    "\n",
    "Write a Python program to check if a string is a palindrome.\n"
   ]
  },
  {
   "cell_type": "code",
   "execution_count": null,
   "id": "fa40256a-8d0c-488f-a835-d73838bc0a4f",
   "metadata": {},
   "outputs": [],
   "source": [
    "# Solution\n"
   ]
  },
  {
   "cell_type": "markdown",
   "id": "0f3cedcd-50d8-41dc-bfb7-27c3118c9ae2",
   "metadata": {},
   "source": [
    "## Joining Strings\n"
   ]
  },
  {
   "cell_type": "code",
   "execution_count": null,
   "id": "5a1fb1b1-7cd9-4a0e-8a9c-cde38f1a7e12",
   "metadata": {},
   "outputs": [],
   "source": [
    "s1 = \"hello\"\n",
    "s2 = 'world'\n",
    "\n",
    "s3 = s1 + s2\n",
    "print (s3)\n"
   ]
  },
  {
   "cell_type": "markdown",
   "id": "24b24fec-ada1-4ff1-950a-ac12efa37d59",
   "metadata": {},
   "source": [
    "## String Format\n",
    "\n",
    "String formatting in Python is a powerful feature that allows you to manipulate and customize strings in various ways. It helps you to insert values into a string dynamically, control the formatting of the output, and create more readable and maintainable code. \n"
   ]
  },
  {
   "cell_type": "markdown",
   "id": "7c926648-3648-4d89-852e-7620d4018e80",
   "metadata": {},
   "source": [
    "## Old Style Formatting (% Operator)\n",
    "\n",
    "The `%` operator is used for string formatting in Python. It allows you to insert values into a string using placeholders. Here's a basic example:\n"
   ]
  },
  {
   "cell_type": "code",
   "execution_count": null,
   "id": "db73bd0c-0945-4d3b-be79-af1106578bf8",
   "metadata": {},
   "outputs": [],
   "source": [
    "name = \"Alice\"\n",
    "age = 30\n",
    "formatted_string = \"My name is %s and I am %d years old.\" % (name, age)\n",
    "\n",
    "print(formatted_string)\n"
   ]
  },
  {
   "cell_type": "markdown",
   "id": "189c6692-d4fd-4c90-af90-7c1bbfd98b2b",
   "metadata": {},
   "source": [
    "In this example:\n",
    "- `%s` is a placeholder for a string.\n",
    "- `%d` is a placeholder for an integer.\n",
    "- The values of `name` and `age` are inserted into the string using the `%` operator.\n"
   ]
  },
  {
   "cell_type": "markdown",
   "id": "9551e3d2-4dcf-4772-9af3-192d8d5747e9",
   "metadata": {},
   "source": [
    "### Exercise 3:\n",
    "\n",
    "Write a program that prompts the user for their name and age, and then prints a greeting message using old style formatting.\n"
   ]
  },
  {
   "cell_type": "code",
   "execution_count": null,
   "id": "8fcd80bf-78b5-4f74-9abd-c6d2046af154",
   "metadata": {},
   "outputs": [],
   "source": [
    "# Solution\n"
   ]
  },
  {
   "cell_type": "markdown",
   "id": "b6ec9e91-2754-4d76-9f34-1c9a8479824a",
   "metadata": {},
   "source": [
    "## New Style Formatting (str.format Method)\n",
    "\n",
    "The `str.format()` method provides a more flexible and powerful way of formatting strings compared to the `%` operator. It allows you to specify placeholders using curly braces `{}` and pass values to be inserted into those placeholders as arguments to the `format()` method. Here's an example:\n"
   ]
  },
  {
   "cell_type": "code",
   "execution_count": null,
   "id": "bbb85d37-6bcf-4c0c-adb4-a98c51f453c1",
   "metadata": {},
   "outputs": [],
   "source": [
    "name = \"Bob\"\n",
    "age = 25\n",
    "formatted_string = \"My name is {} and I am {} years old.\".format(name, age)\n",
    "\n",
    "print(formatted_string)\n"
   ]
  },
  {
   "cell_type": "markdown",
   "id": "37312bca-5af1-461a-9d95-3f663984f53e",
   "metadata": {},
   "source": [
    "In this example:\n",
    "- `{}` is a placeholder that will be replaced by the values passed to the `format()` method in the same order.\n"
   ]
  },
  {
   "cell_type": "markdown",
   "id": "43274281-aa76-4d7a-bc6e-6c4624588a8f",
   "metadata": {},
   "source": [
    "### Exercise 4:\n",
    "\n",
    "Rewrite the program from Exercise 1 using new style formatting (`str.format()` method).\n"
   ]
  },
  {
   "cell_type": "code",
   "execution_count": null,
   "id": "77d9e7d0-dce8-4669-bee7-0037ead65bb5",
   "metadata": {},
   "outputs": [],
   "source": [
    "# Solution\n"
   ]
  },
  {
   "cell_type": "markdown",
   "id": "700b9167-2335-4fd4-9ef4-ce467e09007b",
   "metadata": {},
   "source": [
    "## f-strings (Formatted String Literals)\n",
    "\n",
    "f-strings provide a more concise and readable way to format strings compared to both the `%` operator and `str.format()` method. They allow you to embed expressions inside curly braces `{}` directly within the string. Here's an example:\n"
   ]
  },
  {
   "cell_type": "code",
   "execution_count": null,
   "id": "3c29c9b9-8c94-41ab-9034-8fe18ae45d6b",
   "metadata": {},
   "outputs": [],
   "source": [
    "name = \"Charlie\"\n",
    "age = 35\n",
    "formatted_string = f\"My name is {name} and I am {age} years old.\"\n",
    "\n",
    "print(formatted_string)\n"
   ]
  },
  {
   "cell_type": "markdown",
   "id": "59236a15-38c5-42d3-8a6c-ea500092430e",
   "metadata": {},
   "source": [
    "In this example:\n",
    "- `f\"` is a prefix indicating that this is an f-string.\n",
    "- Expressions inside `{}` are evaluated and replaced with their values.\n"
   ]
  },
  {
   "cell_type": "markdown",
   "id": "a3ba2106-9b1d-4ba2-9ca1-7d7d3bb14b39",
   "metadata": {},
   "source": [
    "### Exercise 5:\n",
    "\n",
    "Modify the program from Exercise 2 using f-strings.\n"
   ]
  },
  {
   "cell_type": "code",
   "execution_count": null,
   "id": "e04927d2-971d-4acc-b76f-7bbee27a94a4",
   "metadata": {},
   "outputs": [],
   "source": [
    "# Solution\n"
   ]
  },
  {
   "cell_type": "markdown",
   "id": "ccf5fd29-44fc-4259-9a20-ba8166a1b834",
   "metadata": {},
   "source": [
    "## Summary\n",
    "\n",
    "Strings are fundamental data types in Python and are extensively used for text processing. Understanding string operations and methods is crucial for working effectively with textual data in Python.\n",
    "                                                                                                                                                 "
   ]
  },
  {
   "cell_type": "markdown",
   "id": "c4ef8b4d-af53-4e35-8b49-c402ca5c9de0",
   "metadata": {},
   "source": [
    "<details>\n",
    "<summary><b>Instructor Notes</b></summary>\n",
    "\n",
    "In this tutorial, we explored different methods of string formatting in Python:\n",
    "- Old style formatting using the `%` operator.\n",
    "- New style formatting using the `str.format()` method.\n",
    "- f-strings (formatted string literals).\n",
    "\n",
    "Each method has its advantages and use cases, but f-strings are generally considered the most modern and preferred way of string formatting in Python due to their simplicity and readability.\n",
    "\n",
    "Now, you should be comfortable with string formatting in Python and able to choose the appropriate method based on your requirements. Practice these concepts with more examples to master string formatting in Python!\n",
    "\n",
    "</details>"
   ]
  }
 ],
 "metadata": {
  "kernelspec": {
   "display_name": "Python 3 (ipykernel)",
   "language": "python",
   "name": "python3"
  },
  "language_info": {
   "codemirror_mode": {
    "name": "ipython",
    "version": 3
   },
   "file_extension": ".py",
   "mimetype": "text/x-python",
   "name": "python",
   "nbconvert_exporter": "python",
   "pygments_lexer": "ipython3",
   "version": "3.12.2"
  }
 },
 "nbformat": 4,
 "nbformat_minor": 5
}
