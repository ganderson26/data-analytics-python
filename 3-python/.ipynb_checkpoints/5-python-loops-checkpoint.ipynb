{
 "cells": [
  {
   "cell_type": "markdown",
   "id": "f599e0f1-0200-4d8d-91c3-8baa03e6e2b4",
   "metadata": {},
   "source": [
    "# Python Tutorial: Loops\n",
    "\n",
    "Loops in Python are used to execute a block of code repeatedly until a certain condition is met. There are two main types of loops in Python: `for` loops and `while` loops.\n"
   ]
  },
  {
   "cell_type": "markdown",
   "id": "b1067448-8dd6-4ca5-90ae-f55da48c0fa6",
   "metadata": {},
   "source": [
    "## for Loop\n"
   ]
  },
  {
   "cell_type": "code",
   "execution_count": null,
   "id": "732eae24-3408-44d1-9152-79753746e36a",
   "metadata": {},
   "outputs": [],
   "source": [
    "# Iterate over a list\n",
    "fruits = [\"apple\", \"banana\", \"cherry\"]\n",
    "for fruit in fruits:\n",
    "    print(fruit)\n",
    "    "
   ]
  },
  {
   "cell_type": "markdown",
   "id": "9652ead4-5bf8-4c91-8c54-ec75851d2bb5",
   "metadata": {},
   "source": [
    "## while Loop\n"
   ]
  },
  {
   "cell_type": "code",
   "execution_count": null,
   "id": "669bc910-0fd5-479d-a95c-32ceea5a3adf",
   "metadata": {},
   "outputs": [],
   "source": [
    "# Print numbers from 1 to 5\n",
    "num = 1\n",
    "while num <= 5:\n",
    "    print(num)\n",
    "    num += 1\n",
    "    "
   ]
  },
  {
   "cell_type": "markdown",
   "id": "69f0aa73-126e-4aa8-8d92-7ab776eaadb5",
   "metadata": {},
   "source": [
    "## Exercise 1: \n",
    "\n",
    "Write a Python program to calculate the factorial of a number using a `for` loop.\n",
    "                                                                                   "
   ]
  },
  {
   "cell_type": "code",
   "execution_count": null,
   "id": "fc320872-7d3f-4074-8141-95f8b3a3bfbf",
   "metadata": {},
   "outputs": [],
   "source": [
    "# Solution\n"
   ]
  },
  {
   "cell_type": "markdown",
   "id": "b1c67258-7ea3-4ff2-af27-c9cfae167e3b",
   "metadata": {},
   "source": [
    "## Exercise 2: \n",
    "\n",
    "Write a Python program to print the Fibonacci sequence up to a certain number using a `while` loop.\n",
    "\n"
   ]
  },
  {
   "cell_type": "code",
   "execution_count": null,
   "id": "2b91642b-b950-4636-8919-fd4e1255226c",
   "metadata": {},
   "outputs": [],
   "source": [
    "# Solution\n"
   ]
  },
  {
   "cell_type": "markdown",
   "id": "fc541b05-5dbc-4fdc-8184-9b15a272ed24",
   "metadata": {},
   "source": [
    "## Summary\n",
    "\n",
    "Loops are powerful constructs in Python that allow you to perform repetitive tasks efficiently. They help in automating tasks and iterating over data structures.\n"
   ]
  },
  {
   "cell_type": "markdown",
   "id": "3896d41a-cb0d-44e4-b5ab-65bb2e18d37d",
   "metadata": {},
   "source": [
    "<details>\n",
    "<summary><b>Instructor Notes</b></summary>\n",
    "\n",
    "Nothing to add...\n",
    "\n",
    "</details>"
   ]
  }
 ],
 "metadata": {
  "kernelspec": {
   "display_name": "Python 3 (ipykernel)",
   "language": "python",
   "name": "python3"
  },
  "language_info": {
   "codemirror_mode": {
    "name": "ipython",
    "version": 3
   },
   "file_extension": ".py",
   "mimetype": "text/x-python",
   "name": "python",
   "nbconvert_exporter": "python",
   "pygments_lexer": "ipython3",
   "version": "3.12.2"
  }
 },
 "nbformat": 4,
 "nbformat_minor": 5
}
