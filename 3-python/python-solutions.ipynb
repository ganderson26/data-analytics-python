{
 "cells": [
  {
   "cell_type": "code",
   "execution_count": null,
   "id": "aa5857c5-bf95-4a1c-ac0a-38b8ad393632",
   "metadata": {},
   "outputs": [],
   "source": [
    "# Exercise 1: Calculate Area of Rectangle\n",
    "# Write a Python program to calculate the area of a rectangle with length 5 and width 3. Print the result to the console.\n",
    "\n",
    "# Define variables\n",
    "length = 5\n",
    "width = 3\n",
    "\n",
    "# Calculate area\n",
    "area = length * width\n",
    "\n",
    "# Print area\n",
    "print(\"Area of rectangle:\", area)\n"
   ]
  },
  {
   "cell_type": "code",
   "execution_count": null,
   "id": "babb4f50-0fdb-445f-b7d6-b625c83003fd",
   "metadata": {},
   "outputs": [],
   "source": [
    "# Exercise 2: Reverse a String\n",
    "# Write a Python program to reverse the string \"hello\" and print the result to the console.\n",
    "\n",
    "# Define string\n",
    "text = \"hello\"\n",
    "\n",
    "# Reverse string\n",
    "# Split notation [start:end:step]\n",
    "# a[1::2] get every odd index \n",
    "# a[::2] get every even,\n",
    "# a[2::2] get every even starting at 2 \n",
    "# a[2:4:2] get every even starting at 2 and ending at 4\n",
    "reversed_text = text[::-1]\n",
    "\n",
    "# Print reversed string\n",
    "print(\"Reversed String:\", reversed_text)\n"
   ]
  },
  {
   "cell_type": "code",
   "execution_count": null,
   "id": "805649f8-0396-42ad-835f-e3686d2883de",
   "metadata": {},
   "outputs": [],
   "source": [
    "# Exercise 1:\n",
    "# Write a function that takes a list of numbers as input and returns the sum of all the numbers in the list.\n",
    "\n",
    "def sum_of_list(numbers):\n",
    "    return sum(numbers)\n",
    "\n",
    "# Test the function\n",
    "print(sum_of_list([1, 2, 3, 4, 5]))  # Output: 15\n"
   ]
  },
  {
   "cell_type": "code",
   "execution_count": null,
   "id": "04d38646-fb4c-49da-811d-ffab2c3b6dfe",
   "metadata": {},
   "outputs": [],
   "source": [
    "# Exercise 2:\n",
    "# Write a function that takes two lists as input and returns a new list that contains only the unique elements from both lists.\n",
    "\n",
    "def unique_elements(list1, list2):\n",
    "    set1 = set(list1)\n",
    "    set2 = set(list2)\n",
    "    return list(set1.union(set2))\n",
    "\n",
    "# Test the function\n",
    "print(unique_elements([1, 2, 3], [3, 4, 5]))  # Output: [1, 2, 3, 4, 5]\n"
   ]
  },
  {
   "cell_type": "code",
   "execution_count": null,
   "id": "9631486d-f13c-4b1d-9e77-f455e1c23d45",
   "metadata": {},
   "outputs": [],
   "source": [
    "# Exercise 1: \n",
    "# Write a Python program to check if a given number is positive, negative, or zero.\n",
    "\n",
    "num = float(input(\"Enter a number: \"))\n",
    "if num > 0:\n",
    "    print(\"Positive number\")\n",
    "elif num < 0:\n",
    "    print(\"Negative number\")\n",
    "else:\n",
    "    print(\"Zero\")\n"
   ]
  },
  {
   "cell_type": "code",
   "execution_count": null,
   "id": "825e915e-c669-472b-83a0-4ef80b6bb9e5",
   "metadata": {},
   "outputs": [],
   "source": [
    "# Exercise 2: \n",
    "# Write a Python program to check if a given year is a leap year or not.\n",
    "\n",
    "year = int(input(\"Enter a year: \"))\n",
    "if (year % 4 == 0 and year % 100 != 0) or (year % 400 == 0):\n",
    "    print(f\"{year} is a leap year\")\n",
    "else:\n",
    "    print(f\"{year} is not a leap year\")\n"
   ]
  },
  {
   "cell_type": "code",
   "execution_count": null,
   "id": "f37f038d-c61b-4739-84f3-4f90cb9cc6bd",
   "metadata": {},
   "outputs": [],
   "source": [
    "# Exercise 1: \n",
    "# Write a Python program to calculate the factorial of a number using a `for` loop.\n",
    "num = int(input(\"Enter a number: \"))\n",
    "\n",
    "factorial = 1\n",
    "for i in range(1, num + 1):\n",
    "    factorial *= i\n",
    "print(f\"The factorial of {num} is {factorial}\")\n"
   ]
  },
  {
   "cell_type": "code",
   "execution_count": null,
   "id": "5243073f-3c19-4e63-b9ab-365ba3c96025",
   "metadata": {},
   "outputs": [],
   "source": [
    "# Exercise 2: \n",
    "# Write a Python program to print the Fibonacci sequence up to a certain number using a `while` loop.\n",
    "\n",
    "limit = int(input(\"Enter the limit: \"))\n",
    "a, b = 0, 1\n",
    "while a <= limit:\n",
    "    print(a)\n",
    "    a, b = b, a + b\n",
    "    "
   ]
  },
  {
   "cell_type": "code",
   "execution_count": null,
   "id": "ee5afcf0-91ab-4ae5-84df-ba2ca1e60326",
   "metadata": {},
   "outputs": [],
   "source": [
    "# Exercise 1: \n",
    "# Write a list comprehension to create a list of cubes of numbers from 1 to 5.**\n",
    "\n",
    "cubes = [x ** 3 for x in range(1, 6)]\n",
    "print(cubes)\n"
   ]
  },
  {
   "cell_type": "code",
   "execution_count": null,
   "id": "f28f2ef2-b0f6-4a75-a926-735cb075af66",
   "metadata": {},
   "outputs": [],
   "source": [
    "# Exercise 2: \n",
    "# Write a dictionary comprehension to create a dictionary where keys are numbers from 1 to 5 and values are their squares.**\n",
    "\n",
    "square_dict = {x: x ** 2 for x in range(1, 6)}\n",
    "print(square_dict)\n"
   ]
  },
  {
   "cell_type": "code",
   "execution_count": null,
   "id": "dd707edf-b430-4144-969f-4cd56fb69ae7",
   "metadata": {},
   "outputs": [],
   "source": [
    "#Exercise 1: \n",
    "# Write a function to calculate the factorial of a number.**\n",
    "\n",
    "def factorial(n):\n",
    "    if n == 0:\n",
    "        return 1\n",
    "    else:\n",
    "        return n * factorial(n - 1)\n",
    "\n",
    "result = factorial(5)\n",
    "print(result)\n"
   ]
  },
  {
   "cell_type": "code",
   "execution_count": null,
   "id": "bcc1e300-8263-4149-9036-7bcb4ec574ba",
   "metadata": {},
   "outputs": [],
   "source": [
    "#Exercise 2: \n",
    "# Write a function to check if a number is prime or not.**\n",
    "\n",
    "def is_prime(n):\n",
    "    if n <= 1:\n",
    "        return False\n",
    "    for i in range(2, int(n**0.5) + 1):\n",
    "        if n % i == 0:\n",
    "            return False\n",
    "    return True\n",
    "\n",
    "print(is_prime(11))\n"
   ]
  },
  {
   "cell_type": "code",
   "execution_count": null,
   "id": "7f29a9e2-4540-413e-9e8b-e028af9636c4",
   "metadata": {},
   "outputs": [],
   "source": [
    "# Exercise 1: \n",
    "# Write a Python program to count the number of vowels in a string.**\n",
    "\n",
    "def count_vowels(text):\n",
    "    count = 0\n",
    "    vowels = \"aeiouAEIOU\"\n",
    "    for char in text:\n",
    "        if char in vowels:\n",
    "            count += 1\n",
    "    return count\n",
    "\n",
    "text = \"Python programming\"\n",
    "print(count_vowels(text))\n"
   ]
  },
  {
   "cell_type": "code",
   "execution_count": null,
   "id": "93d89c5f-4390-43ee-a78f-fafbf30cb6b3",
   "metadata": {},
   "outputs": [],
   "source": [
    "# Exercise 2: \n",
    "# Write a Python program to check if a string is a palindrome.**\n",
    "\n",
    "def is_palindrome(text):\n",
    "    # Remove whitespace and convert to lowercase\n",
    "    text = text.replace(\" \", \"\").lower()\n",
    "    # Check if the string is equal to its reverse\n",
    "    return text == text[::-1]\n",
    "\n",
    "text = \"radar\"\n",
    "print(is_palindrome(text))\n"
   ]
  },
  {
   "cell_type": "code",
   "execution_count": null,
   "id": "577d559e-387f-423d-819f-957717a07863",
   "metadata": {},
   "outputs": [],
   "source": [
    "# Exercise 3\n",
    "# Write a program that prompts the user for their name and age, and then prints a greeting message using old style formatting.\n",
    "\n",
    "name = input(\"Enter your name: \")\n",
    "age = int(input(\"Enter your age: \"))\n",
    "formatted_string = \"Hello, %s! You are %d years old.\" % (name, age)\n",
    "print(formatted_string)\n"
   ]
  },
  {
   "cell_type": "code",
   "execution_count": null,
   "id": "713ccf98-3938-437b-aa62-478b2b285961",
   "metadata": {},
   "outputs": [],
   "source": [
    "# Exercise 4\n",
    "# Rewrite the program from Exercise 1 using new style formatting (`str.format()` method).\n",
    "\n",
    "name = input(\"Enter your name: \")\n",
    "age = int(input(\"Enter your age: \"))\n",
    "formatted_string = \"Hello, {}! You are {} years old.\".format(name, age)\n",
    "print(formatted_string)\n"
   ]
  },
  {
   "cell_type": "code",
   "execution_count": null,
   "id": "2b1eac99-52cf-477f-abcb-fbc32867343e",
   "metadata": {},
   "outputs": [],
   "source": [
    "# Exercise 5\n",
    "# Modify the program from Exercise 2 using f-strings.\n",
    "\n",
    "name = input(\"Enter your name: \")\n",
    "age = int(input(\"Enter your age: \"))\n",
    "formatted_string = f\"Hello, {name}! You are {age} years old.\"\n",
    "print(formatted_string)\n"
   ]
  },
  {
   "cell_type": "code",
   "execution_count": null,
   "id": "044382bc-dbf6-4ec9-9b86-0cc83d8a52e3",
   "metadata": {
    "tags": []
   },
   "outputs": [],
   "source": [
    "# Exercise: Temperature Converter\n",
    "\n",
    "# Prompt the user to input a temperature in the format (e.g., 45F, 102C, etc.)\n",
    "temp = input(\"Input the temperature you like to convert? (e.g., 45F, 102C etc.) : \")\n",
    "\n",
    "# Extract the numerical part of the temperature and convert it to an integer\n",
    "degree = int(temp[:-1])\n",
    "\n",
    "# Extract the convention part of the temperature input (either 'C' or 'F')\n",
    "i_convention = temp[-1]\n",
    "\n",
    "# Check if the input convention is in uppercase 'C' (Celsius)\n",
    "if i_convention.upper() == \"C\":\n",
    "    # Convert the Celsius temperature to Fahrenheit\n",
    "    result = int(round((9 * degree) / 5 + 32))\n",
    "    o_convention = \"Fahrenheit\"  # Set the output convention as Fahrenheit\n",
    "# Check if the input convention is in uppercase 'F' (Fahrenheit)\n",
    "elif i_convention.upper() == \"F\":\n",
    "    # Convert the Fahrenheit temperature to Celsius\n",
    "    result = int(round((degree - 32) * 5 / 9))\n",
    "    o_convention = \"Celsius\"  # Set the output convention as Celsius\n",
    "else:\n",
    "    # If the input convention is neither 'C' nor 'F', print an error message and exit the program\n",
    "    print(\"Input proper convention.\")\n",
    "    quit()\n",
    "\n",
    "# Display the converted temperature in the specified output convention\n",
    "print(\"The temperature in\", o_convention, \"is\", result, \"degrees.\") \n"
   ]
  }
 ],
 "metadata": {
  "kernelspec": {
   "display_name": "Python 3 (ipykernel)",
   "language": "python",
   "name": "python3"
  },
  "language_info": {
   "codemirror_mode": {
    "name": "ipython",
    "version": 3
   },
   "file_extension": ".py",
   "mimetype": "text/x-python",
   "name": "python",
   "nbconvert_exporter": "python",
   "pygments_lexer": "ipython3",
   "version": "3.11.5"
  }
 },
 "nbformat": 4,
 "nbformat_minor": 5
}
