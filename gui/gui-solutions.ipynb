{
 "cells": [
  {
   "cell_type": "code",
   "execution_count": 1,
   "id": "c6c28974-3023-4e51-933e-d42892761821",
   "metadata": {},
   "outputs": [],
   "source": [
    "# Exercise 1: Personalized Greeting**\n",
    "\n",
    "import PySimpleGUI as sg\n",
    "\n",
    "layout = [[sg.Text(\"Enter your name:\"), sg.InputText()],\n",
    "          [sg.Button(\"Submit\")]]\n",
    "\n",
    "window = sg.Window(\"Greeting App\", layout)\n",
    "\n",
    "while True:\n",
    "    event, values = window.read()\n",
    "    if event == sg.WINDOW_CLOSED or event == 'Submit':\n",
    "        break\n",
    "    sg.popup(f\"Hello, {values[0]}!\")\n",
    "\n",
    "window.close()\n"
   ]
  },
  {
   "cell_type": "code",
   "execution_count": 2,
   "id": "d8845231-426a-450f-96d5-03cbe4d2cf12",
   "metadata": {},
   "outputs": [],
   "source": [
    "# Exercise 2: Simple Calculator\n",
    "\n",
    "import PySimpleGUI as sg\n",
    "\n",
    "layout = [[sg.InputText(size=(15, 1), key=\"-INPUT-\"), sg.Text(\"\", size=(15, 1), key=\"-OUTPUT-\")],\n",
    "          [sg.Button(\"+\"), sg.Button(\"-\"), sg.Button(\"*\"), sg.Button(\"/\")],\n",
    "          [sg.Button(\"Clear\"), sg.Button(\"Exit\")]]\n",
    "\n",
    "window = sg.Window(\"Simple Calculator\", layout)\n",
    "\n",
    "while True:\n",
    "    event, values = window.read()\n",
    "    if event == sg.WINDOW_CLOSED or event == 'Exit':\n",
    "        break\n",
    "    if event == \"Clear\":\n",
    "        window[\"-INPUT-\"].update(\"\")\n",
    "        window[\"-OUTPUT-\"].update(\"\")\n",
    "    else:\n",
    "        try:\n",
    "            result = eval(values[\"-INPUT-\"])\n",
    "            window[\"-OUTPUT-\"].update(result)\n",
    "        except:\n",
    "            window[\"-OUTPUT-\"].update(\"Error\")\n",
    "\n",
    "window.close()\n"
   ]
  },
  {
   "cell_type": "code",
   "execution_count": 3,
   "id": "b54d3a18-10b7-43f9-906d-c260a6a7ab5b",
   "metadata": {},
   "outputs": [],
   "source": [
    "# Exercise 3: To-Do List\n",
    "\n",
    "import PySimpleGUI as sg\n",
    "\n",
    "tasks = []\n",
    "\n",
    "layout = [[sg.InputText(), sg.Button(\"Add\")],\n",
    "          [sg.Listbox(values=tasks, size=(40, 10), key=\"-LIST-\")],\n",
    "          [sg.Button(\"Delete\"), sg.Button(\"Mark as Completed\"), sg.Button(\"Exit\")]]\n",
    "\n",
    "window = sg.Window(\"To-Do List\", layout)\n",
    "\n",
    "while True:\n",
    "    event, values = window.read()\n",
    "    if event == sg.WINDOW_CLOSED or event == 'Exit':\n",
    "        break\n",
    "    if event == \"Add\" and values[0] != \"\":\n",
    "        tasks.append(values[0])\n",
    "        window[\"-LIST-\"].update(values=tasks)\n",
    "        window[0].update(\"\")\n",
    "    if event == \"Delete\" and len(values[\"-LIST-\"]) > 0:\n",
    "        tasks.remove(values[\"-LIST-\"][0])\n",
    "        window[\"-LIST-\"].update(values=tasks)\n",
    "    if event == \"Mark as Completed\" and len(values[\"-LIST-\"]) > 0:\n",
    "        tasks.remove(values[\"-LIST-\"][0])\n",
    "        window[\"-LIST-\"].update(values=tasks)\n",
    "\n",
    "window.close()\n"
   ]
  }
 ],
 "metadata": {
  "kernelspec": {
   "display_name": "Python 3 (ipykernel)",
   "language": "python",
   "name": "python3"
  },
  "language_info": {
   "codemirror_mode": {
    "name": "ipython",
    "version": 3
   },
   "file_extension": ".py",
   "mimetype": "text/x-python",
   "name": "python",
   "nbconvert_exporter": "python",
   "pygments_lexer": "ipython3",
   "version": "3.12.2"
  }
 },
 "nbformat": 4,
 "nbformat_minor": 5
}
