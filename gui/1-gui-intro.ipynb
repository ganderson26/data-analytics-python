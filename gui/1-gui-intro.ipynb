{
 "cells": [
  {
   "cell_type": "markdown",
   "id": "e6aac6e8-e20f-4419-8ec9-03d1c24a0b17",
   "metadata": {},
   "source": [
    "# Python Tutorial: Getting Started with PySimpleGUI\n",
    "\n",
    "PySimpleGUI is a Python library that provides a simple yet powerful interface for creating GUI applications. It aims to make GUI development easy and accessible for beginners while providing enough flexibility for advanced users. In this tutorial, we'll cover the basics of PySimpleGUI, including its installation, usage, and some examples.\n"
   ]
  },
  {
   "cell_type": "markdown",
   "id": "5b173869-ce5c-4206-9b4a-b4b60fa9764b",
   "metadata": {},
   "source": [
    "## Installation\n"
   ]
  },
  {
   "cell_type": "code",
   "execution_count": null,
   "id": "5e43d393-375b-4794-bbd1-e880972778d2",
   "metadata": {},
   "outputs": [],
   "source": [
    "pip install PySimpleGUI\n"
   ]
  },
  {
   "cell_type": "markdown",
   "id": "cb5f557a-d99a-4573-83c6-adf7fa73e322",
   "metadata": {},
   "source": [
    "## Basics of PySimpleGUI\n",
    "\n",
    "PySimpleGUI follows a simple and intuitive syntax. It consists of a small set of elements that you can use to create various GUI layouts. Here are some of the basic elements:\n",
    "\n",
    "- **Text**: Displays text on the GUI.\n",
    "- **Input**: Allows users to enter text or numeric values.\n",
    "- **Button**: Triggers an action when clicked.\n",
    "- **Checkbox**: Enables users to select multiple options.\n",
    "- **Listbox**: Displays a list of options for selection.\n",
    "- **Dropdown**: Similar to a listbox but in a dropdown format.\n"
   ]
  },
  {
   "cell_type": "markdown",
   "id": "48ac7dc2-aa80-41bf-ab18-eed6710e3ccd",
   "metadata": {},
   "source": [
    "### Example 1: Hello World\n",
    "\n",
    "Let's start with a simple \"Hello, World!\" example using PySimpleGUI.\n"
   ]
  },
  {
   "cell_type": "code",
   "execution_count": null,
   "id": "612257e2-041a-44d4-a604-179ca9075a8c",
   "metadata": {},
   "outputs": [],
   "source": [
    "import PySimpleGUI as sg\n",
    "\n",
    "# Define the layout\n",
    "layout = [[sg.Text(\"Hello, World!\")],\n",
    "          [sg.Button(\"OK\")]]\n",
    "\n",
    "# Create the window\n",
    "window = sg.Window(\"Hello World\", layout)\n",
    "\n",
    "# Event loop\n",
    "while True:\n",
    "    event, values = window.read()\n",
    "    if event == sg.WINDOW_CLOSED or event == 'OK':\n",
    "        break\n",
    "\n",
    "# Close the window\n",
    "window.close()\n"
   ]
  },
  {
   "attachments": {
    "2ebaedc4-4e74-48ec-b656-07efe8d48b42.png": {
     "image/png": "[encoded data removed]"
    }
   },
   "cell_type": "markdown",
   "id": "39b71ebc-9b31-4936-92a1-ee0e32c4b11e",
   "metadata": {},
   "source": [
    "In this example:\n",
    "- We import the `PySimpleGUI` module as `sg`.\n",
    "- Define the layout using a list of lists, where each inner list represents a row of elements.\n",
    "- Create a window with the specified layout.\n",
    "- Enter an event loop to handle user interactions.\n",
    "- Close the window when the loop exits.\n",
    "\n",
    "![image.png](attachment:2ebaedc4-4e74-48ec-b656-07efe8d48b42.png)\n"
   ]
  },
  {
   "cell_type": "markdown",
   "id": "6b2c674e-fa6b-44e2-b275-d788262d9bc7",
   "metadata": {},
   "source": [
    "## Exercise 1\n",
    "\n",
    "Create a PySimpleGUI application that takes a user's name as input and displays a personalized greeting.\n"
   ]
  },
  {
   "cell_type": "code",
   "execution_count": null,
   "id": "ceebd4d3-e382-4361-a7d0-612a21c59906",
   "metadata": {},
   "outputs": [],
   "source": [
    "# Solution\n"
   ]
  },
  {
   "cell_type": "markdown",
   "id": "86bccabf-7d15-4fa3-9c74-6ee34b5ae2cb",
   "metadata": {},
   "source": [
    "## Exercise 2\n",
    "\n",
    "Design a simple calculator application using PySimpleGUI that performs addition, subtraction, multiplication, and division.\n"
   ]
  },
  {
   "cell_type": "code",
   "execution_count": null,
   "id": "c154ca45-45e7-4623-8070-2a38f4f036ee",
   "metadata": {},
   "outputs": [],
   "source": [
    "# Solution\n"
   ]
  },
  {
   "cell_type": "markdown",
   "id": "112c4d05-cbea-4f3e-af73-a3628d390c37",
   "metadata": {},
   "source": [
    "## Exercise 3\n",
    "\n",
    "Build a to-do list application where users can add, delete, and mark tasks as completed.\n"
   ]
  },
  {
   "cell_type": "code",
   "execution_count": null,
   "id": "2583c018-acd1-47a1-96b2-45ef4eec0dc9",
   "metadata": {},
   "outputs": [],
   "source": [
    "# Solution\n"
   ]
  },
  {
   "cell_type": "markdown",
   "id": "fba6f81a-a175-442c-9c03-a5c2ac7bb6fa",
   "metadata": {},
   "source": [
    "## Summary\n",
    "\n",
    "PySimpleGUI provides a straightforward way to create GUI applications in Python. By following this tutorial and experimenting with the provided examples and exercises, you can quickly become proficient in building your own GUIs with PySimpleGUI.\n"
   ]
  }
 ],
 "metadata": {
  "kernelspec": {
   "display_name": "Python 3 (ipykernel)",
   "language": "python",
   "name": "python3"
  },
  "language_info": {
   "codemirror_mode": {
    "name": "ipython",
    "version": 3
   },
   "file_extension": ".py",
   "mimetype": "text/x-python",
   "name": "python",
   "nbconvert_exporter": "python",
   "pygments_lexer": "ipython3",
   "version": "3.8.18"
  }
 },
 "nbformat": 4,
 "nbformat_minor": 5
}
