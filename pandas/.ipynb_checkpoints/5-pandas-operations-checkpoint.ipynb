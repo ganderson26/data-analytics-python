{
 "cells": [
  {
   "cell_type": "markdown",
   "id": "92d095ba-eddd-4fc3-adbe-63cb68b730a0",
   "metadata": {},
   "source": [
    "# Python Tutorial: Python Pandas Operations\n",
    "\n",
    "Pandas is a powerful Python library used for data manipulation and analysis. It provides easy-to-use data structures and functions for handling structured data. The primary data structures in Pandas are Series and DataFrame. Series is a one-dimensional labeled array, while DataFrame is a two-dimensional labeled data structure resembling a table.\n"
   ]
  },
  {
   "cell_type": "markdown",
   "id": "09586792-009e-4698-920e-acff36f50a26",
   "metadata": {},
   "source": [
    "## Creating a DataFrame\n",
    "\n",
    "You can create a DataFrame from various data sources like CSV files, Excel files, dictionaries, lists, etc. Here's how you can create a simple DataFrame:\n"
   ]
  },
  {
   "cell_type": "code",
   "execution_count": null,
   "id": "273d04cb-83f8-40e3-957d-28eb25216c50",
   "metadata": {},
   "outputs": [],
   "source": [
    "data = {'Name': ['John', 'Emma', 'Brad'],\n",
    "        'Age': [25, 30, 35],\n",
    "        'City': ['New York', 'Los Angeles', 'Chicago']}\n",
    "\n",
    "df = pd.DataFrame(data)\n",
    "print(df)\n"
   ]
  },
  {
   "cell_type": "markdown",
   "id": "13d64a71-0342-4a56-9494-273252a23906",
   "metadata": {},
   "source": [
    "## Basic DataFrame Operations\n",
    "\n",
    "1. **Viewing Data:**\n",
    "\n",
    "   - `head()` - View the first few rows of the DataFrame.\n",
    "   - `tail()` - View the last few rows of the DataFrame.\n",
    "   - `info()` - Get concise summary of the DataFrame.\n",
    "   - `describe()` - Generate descriptive statistics.\n",
    "\n",
    "2. **Selecting Data:**\n",
    "\n",
    "   - `loc[]` - Access a group of rows and columns by label(s).\n",
    "   - `iloc[]` - Access a group of rows and columns by integer position(s).\n",
    "   - `[]` - Select column(s) by name.\n",
    "\n",
    "3. **Filtering Data:**\n",
    "\n",
    "   - Using boolean indexing.\n",
    "\n",
    "4. **Adding, Updating, and Removing Data:**\n",
    "\n",
    "   - `insert()` - Insert column(s).\n",
    "   - `drop()` - Remove row(s) or column(s).\n",
    "   - `rename()` - Rename index or column labels.\n",
    "   - Assignment to add or update data.\n",
    "  "
   ]
  },
  {
   "cell_type": "markdown",
   "id": "d81473cf-ef91-49d3-97c0-d84362077d37",
   "metadata": {},
   "source": [
    "### Example Viewing Data\n"
   ]
  },
  {
   "cell_type": "code",
   "execution_count": null,
   "id": "b8157444-8814-4731-b2d8-7715be7b1744",
   "metadata": {},
   "outputs": [],
   "source": [
    "# Viewing Data\n",
    "print(df.head())\n",
    "print(df.tail())\n",
    "print(df.info())\n",
    "print(df.describe())\n"
   ]
  },
  {
   "cell_type": "markdown",
   "id": "51d1925b-d15c-4504-8205-7e2dc51ad8a6",
   "metadata": {},
   "source": [
    "### Example Selecting Data\n"
   ]
  },
  {
   "cell_type": "code",
   "execution_count": null,
   "id": "8de5079b-e46f-4ed2-98de-2fb7d65efa69",
   "metadata": {},
   "outputs": [],
   "source": [
    "# Selecting Data\n",
    "print(df.loc[0])  # Selecting the first row\n",
    "print(df.iloc[:, 0])  # Selecting the first column\n",
    "print(df['Name'])  # Selecting the 'Name' column\n"
   ]
  },
  {
   "cell_type": "markdown",
   "id": "6583c088-7e08-44ab-839b-678a2cd71146",
   "metadata": {},
   "source": [
    "### Example Filtering Data\n"
   ]
  },
  {
   "cell_type": "code",
   "execution_count": null,
   "id": "ddf60387-ec74-4d60-9810-4ad80327f0f3",
   "metadata": {},
   "outputs": [],
   "source": [
    "# Filtering Data\n",
    "print(df[df['Age'] > 25])  # Selecting rows where Age > 25\n"
   ]
  },
  {
   "cell_type": "markdown",
   "id": "66e40d97-2155-4e07-9ede-b7d5f6d3e31e",
   "metadata": {},
   "source": [
    "### Example Adding, Updating, and Removing Data\n"
   ]
  },
  {
   "cell_type": "code",
   "execution_count": null,
   "id": "875072ba-d524-4515-8ae2-5b6d85b54936",
   "metadata": {},
   "outputs": [],
   "source": [
    "# Adding, Updating, and Removing Data\n",
    "df.insert(3, 'Gender', ['Male', 'Female', 'Male'])  # Inserting 'Gender' column\n",
    "print(df)\n",
    "df.drop(0, inplace=True)  # Removing the first row\n",
    "print(df)\n",
    "df['City'] = df['City'].str.upper()  # Updating 'City' column\n",
    "print(df)\n"
   ]
  },
  {
   "cell_type": "markdown",
   "id": "d3d96c25-b316-477c-b59e-6f1f9675410b",
   "metadata": {},
   "source": [
    "## Exercise 1: Create a DataFrame from a dictionary containing students' names and their corresponding scores in Math, Science, and English.\n"
   ]
  },
  {
   "cell_type": "code",
   "execution_count": null,
   "id": "19ce23e3-c6bd-48eb-958f-4c5a12fe927d",
   "metadata": {},
   "outputs": [],
   "source": [
    "# Solution\n"
   ]
  },
  {
   "cell_type": "markdown",
   "id": "72a6ad4b-d36d-4482-b073-14737a78f5f5",
   "metadata": {},
   "source": [
    "## Exercise 2: Select the first two rows of the DataFrame.\n"
   ]
  },
  {
   "cell_type": "code",
   "execution_count": null,
   "id": "fe57d127-720f-44b2-90af-dd91edf41f00",
   "metadata": {},
   "outputs": [],
   "source": [
    "# Solution\n"
   ]
  },
  {
   "cell_type": "markdown",
   "id": "2dc0cb1d-220a-4963-9e31-ed27233f813f",
   "metadata": {},
   "source": [
    "## Exercise 3: Filter the DataFrame to show students with scores greater than 80 in Math.\n"
   ]
  },
  {
   "cell_type": "code",
   "execution_count": null,
   "id": "7b344d57-1950-461b-9fed-45b03de30cdc",
   "metadata": {},
   "outputs": [],
   "source": [
    "# Solution\n"
   ]
  },
  {
   "cell_type": "markdown",
   "id": "9df88429-74fb-41b4-bf12-14884b29a8fe",
   "metadata": {},
   "source": [
    "## Exercise 4: Add a new column 'Total' containing the sum of scores for each student.\n"
   ]
  },
  {
   "cell_type": "code",
   "execution_count": null,
   "id": "0dcf9fbb-f74e-40ad-9c29-e746b7e83f20",
   "metadata": {},
   "outputs": [],
   "source": [
    "# Solution\n"
   ]
  },
  {
   "cell_type": "markdown",
   "id": "f4ec9f1d-09e3-40e6-b6b0-e003ccec3480",
   "metadata": {},
   "source": [
    "## Exercise 5: Remove the 'English' column from the DataFrame.\n"
   ]
  },
  {
   "cell_type": "code",
   "execution_count": null,
   "id": "43699615-fc6f-4d2a-af3a-24db7d3d7fec",
   "metadata": {},
   "outputs": [],
   "source": [
    "# Solution\n"
   ]
  },
  {
   "cell_type": "markdown",
   "id": "1ec9a393-c533-4ce0-af78-c8c65341b089",
   "metadata": {},
   "source": [
    "## Summary\n",
    "\n",
    "This tutorial provides a foundational understanding of Pandas operations. Experiment with these examples and exercises to strengthen your proficiency in using Pandas for data manipulation and analysis.\n"
   ]
  }
 ],
 "metadata": {
  "kernelspec": {
   "display_name": "Python 3 (ipykernel)",
   "language": "python",
   "name": "python3"
  },
  "language_info": {
   "codemirror_mode": {
    "name": "ipython",
    "version": 3
   },
   "file_extension": ".py",
   "mimetype": "text/x-python",
   "name": "python",
   "nbconvert_exporter": "python",
   "pygments_lexer": "ipython3",
   "version": "3.8.18"
  }
 },
 "nbformat": 4,
 "nbformat_minor": 5
}
