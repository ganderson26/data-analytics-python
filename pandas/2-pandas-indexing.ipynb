{
 "cells": [
  {
   "cell_type": "markdown",
   "id": "4fbc3aff-11e0-40d4-af18-4bf9a61f3794",
   "metadata": {},
   "source": [
    "# Python Tutorial: Pandas Indexing\n",
    "\n",
    "Pandas is a powerful data manipulation library in Python that provides easy-to-use data structures and data analysis tools. Indexing is a crucial aspect of working with Pandas, allowing you to select, filter, and manipulate data efficiently.\n",
    "\n",
    "In this tutorial, we'll cover the basics of indexing in Pandas with examples, exercises, and solutions to help you grasp the concepts effectively.\n"
   ]
  },
  {
   "cell_type": "markdown",
   "id": "82e17281-742d-4281-bf93-4c1cad4d5367",
   "metadata": {},
   "source": [
    "## Understanding Indexing\n",
    "\n",
    "In Pandas, indexing refers to selecting subsets of data from a DataFrame or Series based on certain criteria. The index of a DataFrame or Series provides a label-based lookup mechanism, allowing you to access rows or columns by their labels or integer positions.\n"
   ]
  },
  {
   "cell_type": "markdown",
   "id": "a4c51db1-9806-4eb9-93b1-416861f79b7d",
   "metadata": {},
   "source": [
    "## Indexing Methods\n",
    "\n",
    "Pandas offers several methods for indexing data:\n",
    "\n",
    "- **Label-based indexing**: Select data using the index labels.\n",
    "- **Position-based indexing**: Select data using integer positions.\n",
    "- **Boolean indexing**: Select data based on boolean conditions.\n",
    "- **Indexing with loc and iloc**: These attributes enable label-based and position-based indexing, respectively.\n"
   ]
  },
  {
   "cell_type": "markdown",
   "id": "ce55a0fd-13bc-427a-a39a-1f082d910d49",
   "metadata": {},
   "source": [
    "### Example 1: Label-based Indexing\n"
   ]
  },
  {
   "cell_type": "code",
   "execution_count": null,
   "id": "239f51e1-610f-47bd-a057-4026b3cb4269",
   "metadata": {},
   "outputs": [],
   "source": [
    "import pandas as pd\n",
    "\n",
    "# Create a DataFrame\n",
    "data = {'Name': ['Alice', 'Bob', 'Charlie', 'David'],\n",
    "        'Age': [25, 30, 35, 40]}\n",
    "df = pd.DataFrame(data)\n",
    "df.index = ['A', 'B', 'C', 'D']\n",
    "\n",
    "# Select row with label 'B'\n",
    "print(df.loc['B'])\n",
    "\n",
    "# Select value in 'Age' column for row with label 'C'\n",
    "print(df.loc['C', 'Age'])\n"
   ]
  },
  {
   "cell_type": "markdown",
   "id": "9b53194c-fac2-4da6-974e-0e21737838c5",
   "metadata": {},
   "source": [
    "### Example 2: Position-based Indexing\n"
   ]
  },
  {
   "cell_type": "code",
   "execution_count": null,
   "id": "562a26af-6fa7-456b-a394-4b64bb2ba75b",
   "metadata": {},
   "outputs": [],
   "source": [
    "# Select the first three rows\n",
    "print(df.iloc[:3])\n",
    "\n",
    "# Select value in 'Age' column for the first row\n",
    "print(df.iloc[0, df.columns.get_loc('Age')])\n"
   ]
  },
  {
   "cell_type": "markdown",
   "id": "7fbe303b-1e57-4b36-b51a-93d331f6a979",
   "metadata": {},
   "source": [
    "### Example 3: Boolean Indexing\n"
   ]
  },
  {
   "cell_type": "code",
   "execution_count": null,
   "id": "000b4944-c20c-4227-a637-ce279c9ad4ce",
   "metadata": {},
   "outputs": [],
   "source": [
    "# Select rows where Age is greater than 30\n",
    "print(df[df['Age'] > 30])\n"
   ]
  },
  {
   "cell_type": "markdown",
   "id": "cda2c8f6-b3e8-4eeb-bf76-f95ecba20777",
   "metadata": {},
   "source": [
    "### Example 4: Indexing with loc and iloc\n"
   ]
  },
  {
   "cell_type": "code",
   "execution_count": null,
   "id": "9c31b994-f5ea-487d-85e7-e91268d3163b",
   "metadata": {},
   "outputs": [],
   "source": [
    "# Select rows and columns using loc\n",
    "print(df.loc[['A', 'C'], ['Name', 'Age']])\n",
    "\n",
    "# Select rows and columns using iloc\n",
    "print(df.iloc[[0, 2], [0, 1]])\n"
   ]
  },
  {
   "cell_type": "markdown",
   "id": "a8378ff5-83b8-45b0-9178-4a0faac03530",
   "metadata": {},
   "source": [
    "### Exercise 1\n",
    "\n",
    "Create a DataFrame `sales-data` with the following data and set 'Month' column as the index:\n",
    "\n",
    "| Month   | Sales |\n",
    "|---------|-------|\n",
    "| Jan     | 150   |\n",
    "| Feb     | 200   |\n",
    "| Mar     | 180   |\n",
    "| Apr     | 220   |\n"
   ]
  },
  {
   "cell_type": "code",
   "execution_count": null,
   "id": "76f1b84c-0156-4bbe-b3df-0eb384049f72",
   "metadata": {},
   "outputs": [],
   "source": [
    "# Solution\n"
   ]
  },
  {
   "cell_type": "markdown",
   "id": "57bf673d-f419-4a2b-b8dd-33969f0c3b10",
   "metadata": {},
   "source": [
    "### Exercise 2\n",
    "\n",
    "Select the sales data for the months of Jan and Mar using label-based indexing.\n",
    "    "
   ]
  },
  {
   "cell_type": "code",
   "execution_count": null,
   "id": "0efc49f2-d765-42f0-b5ce-64a0f7e529e0",
   "metadata": {},
   "outputs": [],
   "source": [
    "# Solution\n"
   ]
  },
  {
   "cell_type": "markdown",
   "id": "666c041f-37ea-4e53-8698-5637ffdf76f2",
   "metadata": {},
   "source": [
    "### Exercise 3\n",
    "\n",
    "Select the sales data for the first two months using position-based indexing.\n"
   ]
  },
  {
   "cell_type": "code",
   "execution_count": null,
   "id": "4188e881-7fe4-4a31-a941-8f9fd9890184",
   "metadata": {},
   "outputs": [],
   "source": [
    "# Solution\n"
   ]
  },
  {
   "cell_type": "markdown",
   "id": "e5036539-6ff2-4619-8c23-b3c1923f0a3b",
   "metadata": {},
   "source": [
    "### Exercise 4\n",
    "\n",
    "Select the months where sales are greater than 200 using boolean indexing.\n"
   ]
  },
  {
   "cell_type": "code",
   "execution_count": null,
   "id": "ba6eb5ee-bcc7-4659-9026-4a197f59447e",
   "metadata": {},
   "outputs": [],
   "source": [
    "# Solution\n"
   ]
  },
  {
   "cell_type": "markdown",
   "id": "6d0585d8-196a-455b-b3de-6d5ec4591256",
   "metadata": {},
   "source": [
    "## Summary\n",
    "\n",
    "This concludes our tutorial on Python Pandas indexing. Practice these examples and exercises to strengthen your understanding of Pandas indexing capabilities.\n"
   ]
  },
  {
   "cell_type": "markdown",
   "id": "5956f7ed-e9c0-4b9e-8a81-8a5844025353",
   "metadata": {},
   "source": [
    "<details>\n",
    "<summary><b>Instructor Notes</b></summary>\n",
    "\n",
    "Nothing to add...\n",
    "\n",
    "</details>"
   ]
  }
 ],
 "metadata": {
  "kernelspec": {
   "display_name": "Python 3 (ipykernel)",
   "language": "python",
   "name": "python3"
  },
  "language_info": {
   "codemirror_mode": {
    "name": "ipython",
    "version": 3
   },
   "file_extension": ".py",
   "mimetype": "text/x-python",
   "name": "python",
   "nbconvert_exporter": "python",
   "pygments_lexer": "ipython3",
   "version": "3.11.5"
  }
 },
 "nbformat": 4,
 "nbformat_minor": 5
}
