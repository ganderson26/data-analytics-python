{
 "cells": [
  {
   "cell_type": "markdown",
   "id": "bd9eaa8b-24d9-4ed9-ad95-5b116320b807",
   "metadata": {},
   "source": [
    "# Python Tutorial: Filtering Data in Python Pandas\n",
    "\n",
    "In this tutorial, we'll explore how to filter data using the Python Pandas library. Filtering allows us to select specific rows or columns from a DataFrame based on certain conditions. We'll cover various filtering techniques along with examples, exercises, and solutions.\n"
   ]
  },
  {
   "cell_type": "markdown",
   "id": "452934c2-5ded-4aac-963e-90b139981930",
   "metadata": {},
   "source": [
    "## Filtering Data with Pandas\n",
    "\n",
    "### Basic Filtering\n",
    "\n",
    "The basic syntax for filtering data in Pandas involves using boolean indexing. We create a boolean mask based on a condition and use it to filter the DataFrame.\n"
   ]
  },
  {
   "cell_type": "code",
   "execution_count": null,
   "id": "44b1f722-f567-4667-97da-1fb55652cf21",
   "metadata": {},
   "outputs": [],
   "source": [
    "import pandas as pd\n",
    "\n",
    "# Create a sample DataFrame\n",
    "data = {'Name': ['Alice', 'Bob', 'Charlie', 'David'],\n",
    "        'Age': [25, 30, 35, 40],\n",
    "        'Gender': ['F', 'M', 'M', 'M']}\n",
    "\n",
    "df = pd.DataFrame(data)\n",
    "\n",
    "# Filter rows where Age is greater than 30\n",
    "filtered_df = df[df['Age'] > 30]\n",
    "\n",
    "print(filtered_df)\n"
   ]
  },
  {
   "cell_type": "markdown",
   "id": "f122d146-f288-43d0-8e95-9dd9675eb220",
   "metadata": {},
   "source": [
    "### Exercise 1: \n",
    "\n",
    "Filter rows where 'Gender' is 'F'.\n"
   ]
  },
  {
   "cell_type": "code",
   "execution_count": null,
   "id": "5853b5f1-c78d-4e73-b2c7-4203566afa56",
   "metadata": {},
   "outputs": [],
   "source": [
    "# Solution\n"
   ]
  },
  {
   "cell_type": "markdown",
   "id": "28ca0ad6-438e-4df5-a566-0a5d4933ac7c",
   "metadata": {},
   "source": [
    "### Exercise 2: \n",
    "\n",
    "Filter rows where 'Name' starts with 'A'.\n"
   ]
  },
  {
   "cell_type": "code",
   "execution_count": null,
   "id": "bccecda0-35a5-4faf-b3a3-102bd0385862",
   "metadata": {},
   "outputs": [],
   "source": [
    "# Solution\n"
   ]
  },
  {
   "cell_type": "markdown",
   "id": "72017c6b-4c80-4e0a-a7cf-64c1773f57cb",
   "metadata": {},
   "source": [
    "### Exercise 3: \n",
    "\n",
    "Filter rows where 'Age' is less than or equal to 30.\n"
   ]
  },
  {
   "cell_type": "code",
   "execution_count": null,
   "id": "5309a71d-4dab-4901-83b9-c75cc15f9813",
   "metadata": {},
   "outputs": [],
   "source": [
    "# Solution\n"
   ]
  },
  {
   "cell_type": "markdown",
   "id": "163d9aec-f041-4123-a13a-8a1966dd7e00",
   "metadata": {},
   "source": [
    "### Multiple Conditions\n",
    "\n",
    "We can combine multiple conditions using logical operators (& for AND, | for OR, ~ for NOT).\n"
   ]
  },
  {
   "cell_type": "code",
   "execution_count": null,
   "id": "0f5fbdea-4ddc-4743-84df-ecdb7214e7a7",
   "metadata": {},
   "outputs": [],
   "source": [
    "# Filter rows where Age is greater than 30 and Gender is 'M'\n",
    "filtered_df = df[(df['Age'] > 30) & (df['Gender'] == 'M')]\n",
    "\n",
    "print(filtered_df)\n"
   ]
  },
  {
   "cell_type": "markdown",
   "id": "40f9b71c-0ac9-4b27-9a2e-5424bcb0d295",
   "metadata": {},
   "source": [
    "### Exercise 1: \n",
    "\n",
    "Filter rows where 'Age' is greater than 25 and 'Name' does not start with 'D'.\n"
   ]
  },
  {
   "cell_type": "code",
   "execution_count": null,
   "id": "095969c3-2f1a-4b05-a89f-18d199ed27dc",
   "metadata": {},
   "outputs": [],
   "source": [
    "# Solution\n"
   ]
  },
  {
   "cell_type": "markdown",
   "id": "48218b0e-81ba-4468-937c-208443435be4",
   "metadata": {},
   "source": [
    "### Exercise 2: \n",
    "\n",
    "Filter rows where 'Age' is less than 35 or 'Gender' is 'F'.\n"
   ]
  },
  {
   "cell_type": "code",
   "execution_count": null,
   "id": "8ca08ac3-4a76-44ee-b18b-532a796b1e5e",
   "metadata": {},
   "outputs": [],
   "source": [
    "# Solution\n"
   ]
  },
  {
   "cell_type": "markdown",
   "id": "450d2279-cc8b-4375-8f80-702832a2d066",
   "metadata": {},
   "source": [
    "## Summary\n",
    "\n",
    "Filtering data in Pandas is a powerful technique for selecting specific subsets of data based on conditions. With boolean indexing and logical operators, you can efficiently filter DataFrame rows and columns to extract the information you need. Practice these exercises to solidify your understanding of Pandas filtering capabilities.\n"
   ]
  },
  {
   "cell_type": "markdown",
   "id": "916cc1cb-1387-46eb-b04e-cf742f2d58f1",
   "metadata": {},
   "source": [
    "<details>\n",
    "<summary><b>Instructor Notes</b></summary>\n",
    "\n",
    "Nothing to add...\n",
    "\n",
    "</details>"
   ]
  }
 ],
 "metadata": {
  "kernelspec": {
   "display_name": "Python 3 (ipykernel)",
   "language": "python",
   "name": "python3"
  },
  "language_info": {
   "codemirror_mode": {
    "name": "ipython",
    "version": 3
   },
   "file_extension": ".py",
   "mimetype": "text/x-python",
   "name": "python",
   "nbconvert_exporter": "python",
   "pygments_lexer": "ipython3",
   "version": "3.12.2"
  }
 },
 "nbformat": 4,
 "nbformat_minor": 5
}
