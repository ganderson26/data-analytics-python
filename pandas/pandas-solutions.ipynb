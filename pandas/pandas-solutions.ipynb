{
 "cells": [
  {
   "cell_type": "code",
   "execution_count": null,
   "id": "325ef5b8-2fe0-4c6f-8d22-2397d0b7c3da",
   "metadata": {},
   "outputs": [],
   "source": [
    "# Exercise 1: \n",
    "# Create a DataFrame from the following data:\n",
    "#   \n",
    "#   Name    Age    Salary\n",
    "#   Alice   25     50000\n",
    "#   Bob     30     60000\n",
    "#   Charlie 35     70000\n",
    "#   \n",
    "\n",
    "data = {'Name': ['Alice', 'Bob', 'Charlie'],\n",
    "        'Age': [25, 30, 35],\n",
    "        'Salary': [50000, 60000, 70000]}\n",
    "df = pd.DataFrame(data)\n",
    "print(df)\n"
   ]
  },
  {
   "cell_type": "code",
   "execution_count": null,
   "id": "440c42b1-6685-46e7-a2c7-e76f381f8894",
   "metadata": {},
   "outputs": [],
   "source": [
    "# Exercise 2: \n",
    "# Read a CSV file named 'salary-data.csv' into a DataFrame and display the first 5 rows.\n",
    "\n",
    "df = pd.read_csv('salary-data.csv')\n",
    "print(df.head())\n"
   ]
  },
  {
   "cell_type": "code",
   "execution_count": null,
   "id": "fd9d71f6-a4bd-4bfd-8586-8185629f8354",
   "metadata": {},
   "outputs": [],
   "source": [
    "# Exercise 3: \n",
    "# Select the rows where the salary is greater than 60000.\n",
    "\n",
    "print(df[df['Salary'] > 60000])\n"
   ]
  }
 ],
 "metadata": {
  "kernelspec": {
   "display_name": "Python 3 (ipykernel)",
   "language": "python",
   "name": "python3"
  },
  "language_info": {
   "codemirror_mode": {
    "name": "ipython",
    "version": 3
   },
   "file_extension": ".py",
   "mimetype": "text/x-python",
   "name": "python",
   "nbconvert_exporter": "python",
   "pygments_lexer": "ipython3",
   "version": "3.8.18"
  }
 },
 "nbformat": 4,
 "nbformat_minor": 5
}
