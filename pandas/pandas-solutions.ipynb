{
 "cells": [
  {
   "cell_type": "code",
   "execution_count": null,
   "id": "325ef5b8-2fe0-4c6f-8d22-2397d0b7c3da",
   "metadata": {},
   "outputs": [],
   "source": [
    "# Exercise 1: \n",
    "# Create a DataFrame from the following data:\n",
    "#   \n",
    "#   Name    Age    Salary\n",
    "#   Alice   25     50000\n",
    "#   Bob     30     60000\n",
    "#   Charlie 35     70000\n",
    "#   \n",
    "import pandas as pd\n",
    "\n",
    "data = {'Name': ['Alice', 'Bob', 'Charlie'],\n",
    "        'Age': [25, 30, 35],\n",
    "        'Salary': [50000, 60000, 70000]}\n",
    "df = pd.DataFrame(data)\n",
    "print(df)\n"
   ]
  },
  {
   "cell_type": "code",
   "execution_count": null,
   "id": "440c42b1-6685-46e7-a2c7-e76f381f8894",
   "metadata": {},
   "outputs": [],
   "source": [
    "# Exercise 2: \n",
    "# Read a CSV file named 'salary-data.csv' into a DataFrame and display the first 5 rows.\n",
    "import pandas as pd\n",
    "\n",
    "df = pd.read_csv('salary-data.csv')\n",
    "print(df.head())\n"
   ]
  },
  {
   "cell_type": "code",
   "execution_count": null,
   "id": "fd9d71f6-a4bd-4bfd-8586-8185629f8354",
   "metadata": {},
   "outputs": [],
   "source": [
    "# Exercise 3: \n",
    "# Select the rows where the salary is greater than 60000.\n",
    "import pandas as pd\n",
    "\n",
    "print(df[df['Salary'] > 60000])\n"
   ]
  },
  {
   "cell_type": "code",
   "execution_count": null,
   "id": "ab0a291e-e87f-4af9-865d-3812c20fa3d5",
   "metadata": {},
   "outputs": [],
   "source": [
    "# Exercise 1\n",
    "# Create a DataFrame `sales_data` with the following data and set 'Month' column as the index:\n",
    "#\n",
    "#| Month   | Sales |\n",
    "#|---------|-------|\n",
    "#| Jan     | 150   |\n",
    "#| Feb     | 200   |\n",
    "#| Mar     | 180   |\n",
    "#| Apr     | 220   |\n",
    "\n",
    "import pandas as pd\n",
    "\n",
    "# Create DataFrame\n",
    "data = {'Month': ['Jan', 'Feb', 'Mar', 'Apr'],\n",
    "        'Sales': [150, 200, 180, 220]}\n",
    "sales_data = pd.DataFrame(data)\n",
    "sales_data.set_index('Month', inplace=True)\n",
    "print(sales_data)\n"
   ]
  },
  {
   "cell_type": "code",
   "execution_count": null,
   "id": "f75cfe25-f5e9-43d2-bfe0-f4307f1f559d",
   "metadata": {},
   "outputs": [],
   "source": [
    "# Exercise 2\n",
    "# Select the sales data for the months of Jan and Mar using label-based indexing.\n",
    "\n",
    "# Select sales data for Jan and Mar\n",
    "print(sales_data.loc[['Jan', 'Mar']])\n",
    "    "
   ]
  },
  {
   "cell_type": "code",
   "execution_count": null,
   "id": "1d8ce18e-627f-40b0-8f5a-11a9229f8479",
   "metadata": {},
   "outputs": [],
   "source": [
    "# Exercise 3\n",
    "# Select the sales data for the first two months using position-based indexing.\n",
    "\n",
    "# Select sales data for the first two months\n",
    "print(sales_data.iloc[:2])\n"
   ]
  },
  {
   "cell_type": "code",
   "execution_count": null,
   "id": "1d87d249-24ba-4868-99c2-1290cc48dbde",
   "metadata": {},
   "outputs": [],
   "source": [
    "# Exercise 4\n",
    "# Select the months where sales are greater than 200 using boolean indexing.\n",
    "\n",
    "# Select months where sales are greater than 200\n",
    "print(sales_data[sales_data['Sales'] > 200])\n"
   ]
  },
  {
   "cell_type": "code",
   "execution_count": null,
   "id": "2436cb23-d36f-47fd-8101-36d9932b0002",
   "metadata": {},
   "outputs": [],
   "source": [
    "# Exercise 1. Filter rows where 'Gender' is 'F'.\n",
    "import pandas as pd\n",
    "\n",
    "# Create a sample DataFrame\n",
    "data = {'Name': ['Alice', 'Bob', 'Charlie', 'David'],\n",
    "        'Age': [25, 30, 35, 40],\n",
    "        'Gender': ['F', 'M', 'M', 'M']}\n",
    "\n",
    "df = pd.DataFrame(data)\n",
    "\n",
    "female_df = df[df['Gender'] == 'F']\n",
    "print(female_df)\n"
   ]
  },
  {
   "cell_type": "code",
   "execution_count": null,
   "id": "64365c20-4241-4d8b-9679-819874058873",
   "metadata": {},
   "outputs": [],
   "source": [
    "# Exercise 2. Filter rows where 'Name' starts with 'A'.\n",
    "name_starts_with_a_df = df[df['Name'].str.startswith('A')]\n",
    "print(name_starts_with_a_df)\n"
   ]
  },
  {
   "cell_type": "code",
   "execution_count": null,
   "id": "bd5334f3-c556-452a-a663-2eb21af19298",
   "metadata": {},
   "outputs": [],
   "source": [
    "# Exercise 3. Filter rows where 'Age' is less than or equal to 30.\n",
    "age_less_than_30_df = df[df['Age'] <= 30]\n",
    "print(age_less_than_30_df)\n"
   ]
  },
  {
   "cell_type": "code",
   "execution_count": null,
   "id": "7a767b8d-c41e-48ea-aeec-38d988e4f9cd",
   "metadata": {},
   "outputs": [],
   "source": [
    "# Exercise 1. Filter rows where 'Age' is greater than 25 and 'Name' does not start with 'D'.\n",
    "filtered_df = df[(df['Age'] > 25) & (~df['Name'].str.startswith('D'))]\n",
    "print(filtered_df)\n"
   ]
  },
  {
   "cell_type": "code",
   "execution_count": null,
   "id": "59fd6d2f-f8a8-400c-a2b1-3d0f14476d42",
   "metadata": {},
   "outputs": [],
   "source": [
    "# Exercise 2. Filter rows where 'Age' is less than 35 or 'Gender' is 'F'.\n",
    "filtered_df = df[(df['Age'] < 35) | (df['Gender'] == 'F')]\n",
    "print(filtered_df)\n"
   ]
  },
  {
   "cell_type": "code",
   "execution_count": null,
   "id": "ec882c80-bc08-460e-a309-f5dd50be7f3c",
   "metadata": {},
   "outputs": [],
   "source": [
    "# Exercise 1:\n",
    "# Use the given DataFrame `df` and group by the 'Category' column. Calculate the average amount for each category.\n",
    "import pandas as pd\n",
    "\n",
    "# Create a sample DataFrame\n",
    "data = {\n",
    "    'Category': ['Electronics', 'Clothing', 'Electronics', 'Clothing', 'Electronics'],\n",
    "    'Amount': [100, 200, 150, 300, 250]\n",
    "}\n",
    "df = pd.DataFrame(data)\n",
    "\n",
    "# Group by 'Category' and calculate the average amount for each category\n",
    "average_amount = df.groupby('Category')['Amount'].mean()\n",
    "print(average_amount)\n"
   ]
  },
  {
   "cell_type": "code",
   "execution_count": null,
   "id": "5c0d3370-b638-4474-b1c1-23506f9fb28e",
   "metadata": {},
   "outputs": [],
   "source": [
    "# Exercise 2: Create a new DataFrame with the following data:\n",
    "\n",
    "#data = {\n",
    "#    'City': ['New York', 'Chicago', 'New York', 'Chicago', 'Los Angeles'],\n",
    "#    'Temperature': [70, 65, 75, 72, 80],\n",
    "#    'Humidity': [60, 55, 65, 62, 70]\n",
    "#}\n",
    "\n",
    "# Group by the 'City' column and calculate the maximum temperature and minimum humidity for each city.\n",
    "\n",
    "# Create DataFrame\n",
    "data = {\n",
    "    'City': ['New York', 'Chicago', 'New York', 'Chicago', 'Los Angeles'],\n",
    "    'Temperature': [70, 65, 75, 72, 80],\n",
    "    'Humidity': [60, 55, 65, 62, 70]\n",
    "}\n",
    "df = pd.DataFrame(data)\n",
    "\n",
    "# Group by 'City' and calculate the maximum temperature and minimum humidity for each city\n",
    "grouped_weather = df.groupby('City').agg({'Temperature': 'max', 'Humidity': 'min'})\n",
    "print(grouped_weather)\n"
   ]
  },
  {
   "cell_type": "code",
   "execution_count": null,
   "id": "5acd4aad-2f74-4411-9dc5-07653971156f",
   "metadata": {},
   "outputs": [],
   "source": [
    "# Exercise 1: \n",
    "# Create a DataFrame from a dictionary containing students' names and their corresponding scores in Math, Science, and English.\n",
    "\n",
    "data = {'Name': ['Alice', 'Bob', 'Charlie'],\n",
    "        'Math': [85, 90, 75],\n",
    "        'Science': [80, 95, 85],\n",
    "        'English': [70, 80, 90]}\n",
    "\n",
    "df = pd.DataFrame(data)\n"
   ]
  },
  {
   "cell_type": "code",
   "execution_count": null,
   "id": "50b7f5bf-8b4e-4548-a97c-ad34f4aecf03",
   "metadata": {},
   "outputs": [],
   "source": [
    "# Exercise 2: \n",
    "# Select the first two rows of the DataFrame.\n",
    "\n",
    "print(df.head(2))\n"
   ]
  },
  {
   "cell_type": "code",
   "execution_count": null,
   "id": "9e7ed6a5-9f79-49d0-b800-4dde0f866bc9",
   "metadata": {},
   "outputs": [],
   "source": [
    "# Exercise 3: \n",
    "# Filter the DataFrame to show students with scores greater than 80 in Math.\n",
    "\n",
    "print(df[df['Math'] > 80])\n"
   ]
  },
  {
   "cell_type": "code",
   "execution_count": null,
   "id": "f1fef8fa-26f0-41e9-be2b-3e819f940e35",
   "metadata": {},
   "outputs": [],
   "source": [
    "# Exercise 4: \n",
    "# Add a new column 'Total' containing the sum of scores for each student.\n",
    "\n",
    "df['Total'] = df['Math'] + df['Science'] + df['English']\n"
   ]
  },
  {
   "cell_type": "code",
   "execution_count": null,
   "id": "dbb8ae6b-5105-4edf-8e2d-e8a420787984",
   "metadata": {},
   "outputs": [],
   "source": [
    "# Exercise 5: \n",
    "# Remove the 'English' column from the DataFrame.\n",
    "\n",
    "df.drop('English', axis=1, inplace=True)\n"
   ]
  }
 ],
 "metadata": {
  "kernelspec": {
   "display_name": "Python 3 (ipykernel)",
   "language": "python",
   "name": "python3"
  },
  "language_info": {
   "codemirror_mode": {
    "name": "ipython",
    "version": 3
   },
   "file_extension": ".py",
   "mimetype": "text/x-python",
   "name": "python",
   "nbconvert_exporter": "python",
   "pygments_lexer": "ipython3",
   "version": "3.11.5"
  }
 },
 "nbformat": 4,
 "nbformat_minor": 5
}
