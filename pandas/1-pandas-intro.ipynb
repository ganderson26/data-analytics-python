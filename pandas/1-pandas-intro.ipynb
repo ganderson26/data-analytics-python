{
 "cells": [
  {
   "cell_type": "markdown",
   "id": "a4d03de6-c0cb-4bc2-9c4b-157338ddabf3",
   "metadata": {},
   "source": [
    "# Python Tutorial: Pandas\n",
    "\n",
    "Pandas is a powerful library in Python for data manipulation and analysis. It provides data structures like DataFrame and Series, along with functions to efficiently manipulate and analyze tabular data. Pandas is widely used in fields such as data science, finance, and economics.\n"
   ]
  },
  {
   "cell_type": "markdown",
   "id": "f9f85d18-45d4-40b1-8b53-bf7da402a76a",
   "metadata": {},
   "source": [
    "**Installation**\n",
    "  \n",
    "You can install pandas using pip:\n"
   ]
  },
  {
   "cell_type": "code",
   "execution_count": null,
   "id": "60a197c1-9983-432e-b72c-a0c65a6ee9e8",
   "metadata": {},
   "outputs": [],
   "source": [
    "pip install pandas\n"
   ]
  },
  {
   "cell_type": "markdown",
   "id": "c8274eed-05ef-4486-9687-8fc8bc5dff77",
   "metadata": {},
   "source": [
    "**Example 1: Creating a DataFrame**\n"
   ]
  },
  {
   "cell_type": "code",
   "execution_count": null,
   "id": "818fe3e8-d1bb-41fb-bc2a-7c87558326ac",
   "metadata": {},
   "outputs": [],
   "source": [
    "import pandas as pd\n",
    "\n",
    "# Create a DataFrame from a dictionary\n",
    "data = {'Name': ['Alice', 'Bob', 'Charlie'],\n",
    "        'Age': [25, 30, 35],\n",
    "        'City': ['New York', 'Los Angeles', 'Chicago']}\n",
    "df = pd.DataFrame(data)\n",
    "print(df)\n"
   ]
  },
  {
   "cell_type": "markdown",
   "id": "2cf007c4-6434-4d30-bbea-3543b6f50991",
   "metadata": {},
   "source": [
    "**Example 2: Loading Data from a File**\n"
   ]
  },
  {
   "cell_type": "code",
   "execution_count": null,
   "id": "957ab7b0-9120-49f0-974d-a9bbadbd2f7f",
   "metadata": {},
   "outputs": [],
   "source": [
    "# Read a CSV file into a DataFrame\n",
    "df = pd.read_csv('data.csv')\n",
    "print(df.head())\n"
   ]
  },
  {
   "cell_type": "markdown",
   "id": "e747a45a-c128-4484-9a28-43b5844ea68b",
   "metadata": {},
   "source": [
    "**Example 3: Basic Data Operations**\n"
   ]
  },
  {
   "cell_type": "code",
   "execution_count": null,
   "id": "43aae5c7-74cc-4fb2-8cc0-08fe34ba8535",
   "metadata": {},
   "outputs": [],
   "source": [
    "# Selecting columns\n",
    "print(df['Name'])\n",
    "\n",
    "# Filtering rows\n",
    "print(df[df['Age'] > 25])\n",
    "\n",
    "# Adding a new column\n",
    "df['Gender'] = ['Female', 'Male', 'Male']\n",
    "print(df)\n"
   ]
  },
  {
   "cell_type": "markdown",
   "id": "ce69f35f-03c2-4206-b3af-770452b2a0d7",
   "metadata": {},
   "source": [
    "**Exercise 1: Create a DataFrame from the following data:**\n",
    "    \n",
    "   ```\n",
    "   Name    Age    Salary\n",
    "   Alice   25     50000\n",
    "   Bob     30     60000\n",
    "   Charlie 35     70000\n",
    "   ```\n"
   ]
  },
  {
   "cell_type": "code",
   "execution_count": null,
   "id": "d89c031b-e41f-4e3a-9f70-297e5d8df1dc",
   "metadata": {},
   "outputs": [],
   "source": [
    "# Solution\n"
   ]
  },
  {
   "cell_type": "markdown",
   "id": "fb750713-05a6-45e4-b45c-41cd81ac5957",
   "metadata": {},
   "source": [
    "**Exercise 2: Read a CSV file named 'salary-data.csv' into a DataFrame and display the first 5 rows.**\n"
   ]
  },
  {
   "cell_type": "code",
   "execution_count": null,
   "id": "44327a88-4861-4bb6-9f53-1dbd5b9b740a",
   "metadata": {},
   "outputs": [],
   "source": [
    "# Solution\n"
   ]
  },
  {
   "cell_type": "markdown",
   "id": "e0901cf7-7498-4dad-ae8e-70fce20229ec",
   "metadata": {},
   "source": [
    "**Exercise 3: Select the rows where the salary is greater than 60000.**\n"
   ]
  },
  {
   "cell_type": "code",
   "execution_count": null,
   "id": "464584ac-86de-4299-8000-8594916f87ab",
   "metadata": {},
   "outputs": [],
   "source": [
    "# Solution\n"
   ]
  },
  {
   "cell_type": "markdown",
   "id": "a0cdb7f8-ce1a-487a-8844-dea13d0e16d5",
   "metadata": {},
   "source": [
    "Pandas is an essential tool for data analysis and manipulation in Python, providing powerful data structures and functions to work with tabular data effectively.\n"
   ]
  }
 ],
 "metadata": {
  "kernelspec": {
   "display_name": "Python 3 (ipykernel)",
   "language": "python",
   "name": "python3"
  },
  "language_info": {
   "codemirror_mode": {
    "name": "ipython",
    "version": 3
   },
   "file_extension": ".py",
   "mimetype": "text/x-python",
   "name": "python",
   "nbconvert_exporter": "python",
   "pygments_lexer": "ipython3",
   "version": "3.8.18"
  }
 },
 "nbformat": 4,
 "nbformat_minor": 5
}
