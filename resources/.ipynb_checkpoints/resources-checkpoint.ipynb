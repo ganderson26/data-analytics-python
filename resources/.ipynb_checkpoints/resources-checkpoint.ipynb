{
 "cells": [
  {
   "cell_type": "markdown",
   "id": "37167f3d-9ded-4e16-b818-83ef95c17cf6",
   "metadata": {},
   "source": [
    "# Resources\n",
    "\n",
    "## Python\n",
    "[The Python Tutorial](https://docs.python.org/3/tutorial/index.html)\n",
    "The source of record for Python.\n",
    "\n",
    "## Jupyter Lab\n",
    "[JupyterLab Documentation](https://jupyterlab.readthedocs.io/en/latest/)\n",
    "Jupyter Lab is an IDE commonly used for Python.\n",
    "\n",
    "[Start your first project with Jupyter Lab](https://medium.com/@tuenguyends/start-your-first-project-with-jupyter-lab-84f5b78b4522)\n",
    "Simple and quick introduction to Jupyter Lab.\n",
    "\n",
    "## Case Studies\n",
    "\n",
    "### [Real-Time Options Analysis with Python](https://medium.datadriveninvestor.com/real-time-options-analysis-with-python-05da6551637c)\n",
    "A Python case study to dive deep into the options realm using APIs\n",
    "\n",
    "### [Webscrapping Options Data with Python and YFinance](https://medium.com/@txlian13/webscrapping-options-data-with-python-and-yfinance-e4deb0124613)\n",
    "Options data is often very hard to get, especially in a way that you can pull into a workable format for your own analysis. One of the best sources out there that is still open is Yahoo Finance and the yfinance python package.\n",
    "\n",
    "### [Python for Finance Part 4: Stock Options](https://www.linkedin.com/pulse/python-finance-part-4-stock-options-henry-meier)\n",
    "Options are financial contracts that allow the holder to buy or sell an underlying asset, like GameStop (GME) stock, at a predetermined price before a specified expiration date.\n"
   ]
  }
 ],
 "metadata": {
  "kernelspec": {
   "display_name": "Python 3 (ipykernel)",
   "language": "python",
   "name": "python3"
  },
  "language_info": {
   "codemirror_mode": {
    "name": "ipython",
    "version": 3
   },
   "file_extension": ".py",
   "mimetype": "text/x-python",
   "name": "python",
   "nbconvert_exporter": "python",
   "pygments_lexer": "ipython3",
   "version": "3.8.18"
  }
 },
 "nbformat": 4,
 "nbformat_minor": 5
}
