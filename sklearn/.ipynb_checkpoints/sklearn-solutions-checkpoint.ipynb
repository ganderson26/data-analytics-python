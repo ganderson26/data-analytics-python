{
 "cells": [
  {
   "cell_type": "code",
   "execution_count": null,
   "id": "4c2cc068-51d1-4cca-9f3b-06540c520f0b",
   "metadata": {},
   "outputs": [],
   "source": [
    "# Exercise 1: \n",
    "# Load the Breast Cancer dataset from `sklearn.datasets`.\n",
    "\n",
    "from sklearn.datasets import load_breast_cancer\n",
    "\n",
    "# Load the Breast Cancer dataset\n",
    "breast_cancer = load_breast_cancer()\n",
    "X_bc, y_bc = breast_cancer.data, breast_cancer.target\n",
    "print(breast_cancer)\n"
   ]
  },
  {
   "cell_type": "code",
   "execution_count": null,
   "id": "6f9412fb-5f96-469f-b3f1-4a86a21ce419",
   "metadata": {},
   "outputs": [],
   "source": [
    "# Exercise 2: \n",
    "# Train a Decision Tree classifier on the Breast Cancer dataset and evaluate its performance.\n",
    "from sklearn.metrics import accuracy_score\n",
    "from sklearn.tree import DecisionTreeClassifier\n",
    "# Load the Breast Cancer dataset from `sklearn.datasets`.\n",
    "\n",
    "from sklearn.datasets import load_breast_cancer\n",
    "\n",
    "# Load the Breast Cancer dataset\n",
    "breast_cancer = load_breast_cancer()\n",
    "X_bc, y_bc = breast_cancer.data, breast_cancer.target\n",
    "\n",
    "# Train the Decision Tree classifier\n",
    "dt_model = DecisionTreeClassifier()\n",
    "dt_model.fit(X_bc, y_bc)\n",
    "\n",
    "# Make predictions\n",
    "y_pred_dt = dt_model.predict(X_bc)\n",
    "\n",
    "# Evaluate the model\n",
    "accuracy_dt = accuracy_score(y_bc, y_pred_dt)\n",
    "print(\"Decision Tree Accuracy:\", accuracy_dt)\n"
   ]
  },
  {
   "cell_type": "code",
   "execution_count": null,
   "id": "c95828af-7cfe-44eb-ad96-a95641b77156",
   "metadata": {},
   "outputs": [],
   "source": [
    "# Exercise 3: \n",
    "# Use K-Means clustering on the Iris dataset and visualize the clusters.\n",
    "from sklearn.datasets import load_iris\n",
    "from sklearn.svm import SVC\n",
    "from sklearn.cluster import KMeans\n",
    "import matplotlib.pyplot as plt\n",
    "\n",
    "# Load data and populate X and y\n",
    "iris = load_iris()\n",
    "X, y = iris.data, iris.target\n",
    "\n",
    "\n",
    "\n",
    "# Apply K-Means clustering\n",
    "kmeans = KMeans(n_clusters=3)\n",
    "kmeans.fit(X)\n",
    "labels = kmeans.labels_\n",
    "\n",
    "# Visualize the clusters\n",
    "plt.scatter(X[:, 0], X[:, 1], c=labels, cmap='viridis')\n",
    "plt.xlabel('Sepal Length')\n",
    "plt.ylabel('Sepal Width')\n",
    "plt.title('K-Means Clustering')\n",
    "plt.show()\n"
   ]
  }
 ],
 "metadata": {
  "kernelspec": {
   "display_name": "Python 3 (ipykernel)",
   "language": "python",
   "name": "python3"
  },
  "language_info": {
   "codemirror_mode": {
    "name": "ipython",
    "version": 3
   },
   "file_extension": ".py",
   "mimetype": "text/x-python",
   "name": "python",
   "nbconvert_exporter": "python",
   "pygments_lexer": "ipython3",
   "version": "3.11.5"
  }
 },
 "nbformat": 4,
 "nbformat_minor": 5
}
