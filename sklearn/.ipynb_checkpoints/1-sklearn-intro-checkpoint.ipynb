{
 "cells": [
  {
   "cell_type": "markdown",
   "id": "78171b33-6ea2-4c0b-84e6-6765e7f1e6b2",
   "metadata": {},
   "source": [
    "# Python Tutorial: Scikit-Learn (sklearn)\n",
    "\n",
    "Scikit-learn (sklearn) is a popular machine learning library in Python that provides various tools for building and applying machine learning models. \n",
    "\n",
    "## Steps\n",
    "\n",
    "1. Installation.\n",
    "2. Load libaries.\n",
    "3. Load the dataset.\n",
    "4. Get to know the data.\n",
    "5. Visualize the data.\n",
    "6. Building and training a Linear Regression Model.\n",
    "7. Evaluating the Model and making predictions.\n",
    "    "
   ]
  },
  {
   "cell_type": "markdown",
   "id": "301826ef-014c-4ccf-af59-c558cb94b337",
   "metadata": {},
   "source": [
    "## Scikit-learn\n",
    "\n",
    "https://scikit-learn.org/stable/\n"
   ]
  },
  {
   "cell_type": "markdown",
   "id": "d0654dfe-bd68-4b4e-95dc-0f2043033b5c",
   "metadata": {},
   "source": [
    "<details>\n",
    "<summary><b>Overview</b></summary>\n",
    "\n",
    "Sklearn offers a wide range of models, which can be broadly categorized into the following types based on the learning task:\n",
    "\n",
    "1. **Supervised Learning Models:**\n",
    "   In supervised learning, the algorithm learns from labeled data, meaning the input data is accompanied by corresponding output labels. Supervised learning models in sklearn can be further divided into two subcategories:\n",
    "\n",
    "   - **Classification Models:** These models are used for predicting categorical labels. Examples include Logistic Regression, Decision Trees, Random Forest, Support Vector Machines (SVM), k-Nearest Neighbors (kNN), etc.\n",
    "   \n",
    "   - **Regression Models:** Regression models are used for predicting continuous values. Examples include Linear Regression, Ridge Regression, Lasso Regression, Support Vector Regression (SVR), etc.\n",
    "\n",
    "2. **Unsupervised Learning Models:**\n",
    "   In unsupervised learning, the algorithm learns patterns and structures from unlabeled data. Unsupervised learning models in sklearn include:\n",
    "\n",
    "   - **Clustering Models:** These models are used for grouping similar data points into clusters based on some similarity measure. Examples include K-Means, Hierarchical Clustering, DBSCAN, etc.\n",
    "   \n",
    "   - **Dimensionality Reduction Models:** These models are used for reducing the number of features in the data while preserving important information. Examples include Principal Component Analysis (PCA), t-Distributed Stochastic Neighbor Embedding (t-SNE), etc.\n",
    "\n",
    "3. **Semi-Supervised Learning Models:**\n",
    "   Semi-supervised learning combines both labeled and unlabeled data to improve learning accuracy. Sklearn provides some semi-supervised learning algorithms, including LabelPropagation and LabelSpreading.\n",
    "\n",
    "4. **Model Selection and Evaluation:**\n",
    "   Sklearn also provides tools for model selection and evaluation, including:\n",
    "\n",
    "   - **Cross-Validation:** Techniques like k-fold cross-validation, which splits the dataset into k subsets and trains the model k times, each time using a different subset as the test set.\n",
    "   \n",
    "   - **Model Evaluation Metrics:** Sklearn offers various metrics to evaluate model performance, such as accuracy, precision, recall, F1-score for classification, and mean squared error, R-squared for regression.\n",
    "   \n",
    "   - **Hyperparameter Tuning:** GridSearchCV and RandomizedSearchCV are used for finding the best hyperparameters for a model by exhaustively searching through a specified parameter grid or randomly sampling from a parameter distribution.\n",
    "\n",
    "5. **Ensemble Methods:**\n",
    "   Ensemble methods combine multiple individual models to improve performance. Sklearn provides ensemble methods like Random Forest, Gradient Boosting, AdaBoost, etc.\n",
    "\n",
    "These are some of the major model types and functionalities offered by sklearn. Each model type has its strengths and weaknesses, and choosing the right model depends on the specific problem at hand and the characteristics of the dataset.\n",
    "                                                                                                 </details>                                                                               "
   ]
  },
  {
   "cell_type": "markdown",
   "id": "196da9e1-262a-4520-864e-da044f241037",
   "metadata": {},
   "source": [
    "## 1. Installation.\n",
    "  \n",
    "You can install scikit-learn using pip:\n"
   ]
  },
  {
   "cell_type": "code",
   "execution_count": null,
   "id": "f75c3fd1-76a0-4541-bf4f-300285b3ec77",
   "metadata": {},
   "outputs": [],
   "source": [
    "pip install scikit-learn pandas numpy seaborn matplotlib\n"
   ]
  },
  {
   "cell_type": "markdown",
   "id": "71c6f521-0304-458a-8961-26f59ab92a15",
   "metadata": {},
   "source": [
    "## 2. Load libaries.\n",
    "\n",
    "Load libaries and turn off warnings\n",
    "\n",
    "- Pandas : Data structures and operations for manipulating numerical tables and time series.\n",
    "- Sklearn : Various classification, regression and clustering algorithms including support vector machines, random forests, gradient boosting, k-means and DBSCAN.\n",
    "- Pickle : Serializing and de-serializing a Python object structure. \n",
    "- Seaborn : High-level interface for drawing attractive and informative statistical graphics.\n",
    "- Matplotlib : Object-oriented API for embedding plots into applications using general-purpose GUI toolkits like Tkinter, wxPython, Qt, or GTK.\n"
   ]
  },
  {
   "cell_type": "code",
   "execution_count": null,
   "id": "2a1a4ed1-3234-40f6-b1b6-26f800775935",
   "metadata": {},
   "outputs": [],
   "source": [
    "# Load libraries\n",
    "import pandas as pd\n",
    "import pandas as pd\n",
    "import seaborn as sns\n",
    "import numpy as np\n",
    "import matplotlib.pyplot as plt\n",
    "from sklearn.linear_model import LinearRegression\n",
    "\n",
    "\n",
    "# Ignore warnings\n",
    "# https://docs.python.org/3/library/warnings.html\n",
    "import warnings\n",
    "\n",
    "warnings.filterwarnings('ignore')\n"
   ]
  },
  {
   "cell_type": "markdown",
   "id": "83f83341-8bbe-48de-8bca-7f9cd49ae548",
   "metadata": {},
   "source": [
    "## 3. Load the dataset.\n",
    "\n",
    "The dataset has columns such as MPG, Cylinders, Engine Disp, Horsepower, Weight, Accelerate, Year, and Origin.\n"
   ]
  },
  {
   "cell_type": "code",
   "execution_count": null,
   "id": "ba7d843d-d8d3-4769-a557-bc0c055205e4",
   "metadata": {},
   "outputs": [],
   "source": [
    "# Load the dataset from csv\n",
    "df =  pd.read_csv('mpg.csv')\n"
   ]
  },
  {
   "cell_type": "markdown",
   "id": "173ef875-a626-4172-bf72-ce414196d40c",
   "metadata": {},
   "source": [
    "## 4. Get to know the data.\n",
    " \n",
    "Get an understanding of the data.\n"
   ]
  },
  {
   "cell_type": "code",
   "execution_count": null,
   "id": "2d18a051-08a9-4246-bc39-5d2a5f93e229",
   "metadata": {},
   "outputs": [],
   "source": [
    "# Display sample rows from the dataset\n",
    "df.sample(5)\n"
   ]
  },
  {
   "cell_type": "code",
   "execution_count": null,
   "id": "25c702b4-163c-40bd-9679-31affe694214",
   "metadata": {},
   "outputs": [],
   "source": [
    "# Total number of rows and columns\n",
    "df.shape\n"
   ]
  },
  {
   "cell_type": "code",
   "execution_count": null,
   "id": "1458c3ea-cf0e-4d2e-a799-071182964129",
   "metadata": {},
   "outputs": [],
   "source": [
    "# Index dtype and columns, non-null values and memory usage\n",
    "df.info\n"
   ]
  },
  {
   "cell_type": "code",
   "execution_count": null,
   "id": "17b796a2-2a2e-48cb-b851-0467e6c24c2b",
   "metadata": {},
   "outputs": [],
   "source": [
    "# Description of the data in the DataFrame\n",
    "df.describe()\n"
   ]
  },
  {
   "cell_type": "markdown",
   "id": "feb3fb25-b02d-482c-b710-ab58fc1bc864",
   "metadata": {},
   "source": [
    "Data type check helps to understand what type of variables our dataset contains.\n"
   ]
  },
  {
   "cell_type": "code",
   "execution_count": null,
   "id": "cb765db4-510d-4287-bee5-1cfd1577eb2f",
   "metadata": {},
   "outputs": [],
   "source": [
    "category_cols = ['category']\n",
    "category_lst = list(df.select_dtypes(include=category_cols).columns)\n",
    "print(\"Total number of categorical columns are \", len(category_lst))\n",
    "print(\"There names are as follows: \", category_lst)\n"
   ]
  },
  {
   "cell_type": "code",
   "execution_count": null,
   "id": "5d5c9f19-788d-48e0-a3a2-cfb25bf54906",
   "metadata": {},
   "outputs": [],
   "source": [
    "int64_cols = ['int64']\n",
    "int64_lst = list(df.select_dtypes(include=int64_cols).columns)\n",
    "print(\"Total number of numerical columns are \", len(int64_lst))\n",
    "print(\"There names are as follows: \", int64_lst)\n"
   ]
  },
  {
   "cell_type": "code",
   "execution_count": null,
   "id": "4d38501d-e16e-435b-8e37-c71bac66810c",
   "metadata": {},
   "outputs": [],
   "source": [
    "float64_cols = ['float64']\n",
    "float64_lst = list(df.select_dtypes(include=float64_cols).columns)\n",
    "print(\"Total number of float64 columns are \", len(float64_lst))\n",
    "print(\"There name are as follow: \", float64_lst)\n"
   ]
  },
  {
   "cell_type": "markdown",
   "id": "fa95fe65-af76-4cb3-866c-259cdb2562da",
   "metadata": {},
   "source": [
    "## 5. Visualize the data.\n"
   ]
  },
  {
   "cell_type": "code",
   "execution_count": null,
   "id": "d429e948-0804-432b-bfd4-cf1070e3a759",
   "metadata": {},
   "outputs": [],
   "source": [
    "# Relationship between Horsepower and mileage\n",
    "df.plot.scatter(x=\"Horsepower\", y=\"MPG\")\n"
   ]
  },
  {
   "cell_type": "code",
   "execution_count": null,
   "id": "1da42859-488d-4d04-a728-f803fd5d2270",
   "metadata": {},
   "outputs": [],
   "source": [
    "# Relationship between Horsepower and weight\n",
    "df.plot.scatter(x=\"Horsepower\", y=\"Weight\")\n"
   ]
  },
  {
   "cell_type": "code",
   "execution_count": null,
   "id": "f90ef982-19a7-4b11-952b-b1806a5a560d",
   "metadata": {},
   "outputs": [],
   "source": [
    "# Show the variation in the data distribution\n",
    "num = [f for f in df.columns if df.dtypes[f] != 'object']\n",
    "nd = pd.melt(df, value_vars = num)\n",
    "n1 = sns.FacetGrid (nd, col='variable', col_wrap=4, sharex=False, sharey = False)\n",
    "n1 = n1.map(sns.distplot, 'value')\n",
    "n1\n"
   ]
  },
  {
   "cell_type": "code",
   "execution_count": null,
   "id": "a3ccdeb3-89b5-4d42-9eb6-c2c33640f481",
   "metadata": {},
   "outputs": [],
   "source": [
    "# Correlation plot\n",
    "sns.set(rc = {'figure.figsize':(25,20)})\n",
    "corr = df.corr(numeric_only=True).abs()\n",
    "sns.heatmap(corr, annot=True) \n",
    "plt.show()\n"
   ]
  },
  {
   "cell_type": "code",
   "execution_count": null,
   "id": "029180c5-66b8-40a1-a57f-77c48be18473",
   "metadata": {},
   "outputs": [],
   "source": [
    "# Find the outlier in a dataset/column\n",
    "plt.figure(figsize=(8, 6))\n",
    "sns.boxplot(data=df)\n",
    "plt.title('Outliers')\n",
    "plt.show()\n",
    "    "
   ]
  },
  {
   "cell_type": "markdown",
   "id": "6886b10d-42bc-4ee7-946e-bd4b612fd3b1",
   "metadata": {},
   "source": [
    "## 6. Building and training a Linear Regression Model.\n",
    "\n",
    "Linear Regression is a simple and widely used supervised learning algorithm for predicting continuous values. It establishes a linear relationship between the independent variables (features) and the dependent variable (target). In sklearn, linear regression is implemented in the `LinearRegression` class.\n",
    "\n",
    "First, identify the target and feature columns for building a Linear Regression model. In this case, we’ll predict car mileage (MPG) based on Horsepower and Weight.\n"
   ]
  },
  {
   "cell_type": "code",
   "execution_count": null,
   "id": "e19a0dbc-4671-4d8c-9b26-97f3ad072b12",
   "metadata": {},
   "outputs": [],
   "source": [
    "# Identify the target column\n",
    "target = df[\"MPG\"]\n",
    "\n",
    "# Identify the features\n",
    "features = df[[\"Horsepower\", \"Weight\"]]\n"
   ]
  },
  {
   "cell_type": "code",
   "execution_count": null,
   "id": "76f770d3-c66e-4bc1-8a49-d8d83537de1b",
   "metadata": {},
   "outputs": [],
   "source": [
    "# Create a Linear Regression model\n",
    "lr = LinearRegression()\n",
    "\n",
    "# Train the model\n",
    "lr.fit(features, target)\n"
   ]
  },
  {
   "cell_type": "markdown",
   "id": "4d11948c-47a5-4b59-95da-2a61a9f3e5df",
   "metadata": {},
   "source": [
    "## 7. Evaluating the Model and making predictions.\n"
   ]
  },
  {
   "cell_type": "code",
   "execution_count": null,
   "id": "73cbe53f-323c-44b8-ac46-a695492f1817",
   "metadata": {},
   "outputs": [],
   "source": [
    "# Evaluate the model\n",
    "model_score = lr.score(features, target)\n",
    "print(\"Model Score:\", model_score)\n"
   ]
  },
  {
   "cell_type": "code",
   "execution_count": null,
   "id": "9e546010-2309-4278-9942-435310b2903b",
   "metadata": {},
   "outputs": [],
   "source": [
    "# Make predictions for a car with Horsepower = 100 and Weight = 2000\n",
    "predictions = lr.predict([[100, 2000]])\n",
    "print(\"Predicted MPG:\", predictions[0])\n"
   ]
  },
  {
   "cell_type": "markdown",
   "id": "412ca959-4647-427f-89cb-afc63888b1ab",
   "metadata": {},
   "source": [
    "## Exercise 1\n",
    "\n",
    "Loading the Diamond Dataset.\n"
   ]
  },
  {
   "cell_type": "code",
   "execution_count": null,
   "id": "5cc9db79-04e3-4f9b-b230-e675b807b6a0",
   "metadata": {},
   "outputs": [],
   "source": [
    "# Solution\n"
   ]
  },
  {
   "cell_type": "markdown",
   "id": "e53b6525-0e29-43ac-a638-caf78c2ca6be",
   "metadata": {},
   "source": [
    "## Exercise 2\n",
    "\n",
    "Identify the target column as price and the features as carat and depth.\n"
   ]
  },
  {
   "cell_type": "code",
   "execution_count": null,
   "id": "3567baa8-0cf5-48a7-9609-0fc17b185188",
   "metadata": {},
   "outputs": [],
   "source": [
    "# Solution\n"
   ]
  },
  {
   "cell_type": "markdown",
   "id": "ba05390b-f87f-4d5a-ac05-3fd81c24baaa",
   "metadata": {},
   "source": [
    "## Exercise 3\n",
    "\n",
    "Build and train a new Linear Regression model for diamond price prediction.\n"
   ]
  },
  {
   "cell_type": "code",
   "execution_count": null,
   "id": "c466eadc-1681-4362-9411-72b40a4f285e",
   "metadata": {},
   "outputs": [],
   "source": [
    "# Solution\n"
   ]
  },
  {
   "cell_type": "markdown",
   "id": "de4c15a8-9a9d-49fe-82c6-0635b655b9ac",
   "metadata": {},
   "source": [
    "## Exercise 4\n",
    "\n",
    "Print the score of the model to assess its performance.\n"
   ]
  },
  {
   "cell_type": "code",
   "execution_count": null,
   "id": "2553e943-ac4a-4a0c-87bf-da9f5986a1f2",
   "metadata": {},
   "outputs": [],
   "source": [
    "# Solution\n"
   ]
  },
  {
   "cell_type": "markdown",
   "id": "4b3b3e19-c91c-43c0-ad49-9e8cc31b581d",
   "metadata": {},
   "source": [
    "## Exercise 5\n",
    "\n",
    "Predict the price of a diamond with carat = 0.3 and depth = 60.\n"
   ]
  },
  {
   "cell_type": "code",
   "execution_count": null,
   "id": "4693fac9-f2fe-4bc1-a183-b9f6a72a6698",
   "metadata": {},
   "outputs": [],
   "source": [
    "# Solution\n"
   ]
  },
  {
   "cell_type": "markdown",
   "id": "6eaa3ce3-5b59-486e-ad3e-969f4d4a6382",
   "metadata": {},
   "source": [
    "## Summary\n",
    "\n",
    "Scikit-learn is a powerful library for machine learning in Python, offering a wide range of algorithms and tools for various tasks. By following this tutorial and practicing the exercises, you'll gain a good understanding of how to use scikit-learn effectively for building and evaluating machine learning models.\n"
   ]
  },
  {
   "cell_type": "markdown",
   "id": "3be27438-53db-407a-89bf-78f436ba2176",
   "metadata": {},
   "source": [
    "<details>\n",
    "<summary><b>Instructor Notes</b></summary>\n",
    "\n",
    "https://levelup.gitconnected.com/predictions-using-sklearn-regression-for-car-mileage-and-diamond-price-558e6c1daefa\n",
    "\n",
    "The dataset ws originally loaded into a csv.\n",
    "\n",
    "```python\n",
    "# URL for the car mileage dataset\n",
    "URL = \"https://cf-courses-data.s3.us.cloud-object-storage.appdomain.cloud/IBM-BD0231EN-SkillsNetwork/datasets/mpg.csv\"\n",
    "\n",
    "# Load the data into a Pandas DataFrame\n",
    "df = pd.read_csv(URL)\n",
    "\n",
    "df.to_csv('mpg.csv', encoding='utf-8', index=False)\n",
    "```\n",
    "\n",
    "# URL for the diamonds dataset\n",
    "URL2 = \"https://cf-courses-data.s3.us.cloud-object-storage.appdomain.cloud/IBM-BD0231EN-SkillsNetwork/datasets/diamonds.csv\"\n",
    "\n",
    "\n",
    "</details>"
   ]
  }
 ],
 "metadata": {
  "kernelspec": {
   "display_name": "Python 3 (ipykernel)",
   "language": "python",
   "name": "python3"
  },
  "language_info": {
   "codemirror_mode": {
    "name": "ipython",
    "version": 3
   },
   "file_extension": ".py",
   "mimetype": "text/x-python",
   "name": "python",
   "nbconvert_exporter": "python",
   "pygments_lexer": "ipython3",
   "version": "3.12.2"
  }
 },
 "nbformat": 4,
 "nbformat_minor": 5
}
