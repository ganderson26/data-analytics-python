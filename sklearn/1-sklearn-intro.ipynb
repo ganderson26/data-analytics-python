{
 "cells": [
  {
   "cell_type": "markdown",
   "id": "d0654dfe-bd68-4b4e-95dc-0f2043033b5c",
   "metadata": {},
   "source": [
    "# Python Tutorial: Scikit-Learn (sklearn)\n",
    "\n",
    "Scikit-learn is a popular machine learning library in Python that provides a wide range of tools for building and applying machine learning models. It offers various algorithms for classification, regression, clustering, dimensionality reduction, and more.\n",
    "                                                                                                                                                                                "
   ]
  },
  {
   "cell_type": "markdown",
   "id": "196da9e1-262a-4520-864e-da044f241037",
   "metadata": {},
   "source": [
    "## Installation\n",
    "  \n",
    "You can install scikit-learn using pip:\n"
   ]
  },
  {
   "cell_type": "code",
   "execution_count": null,
   "id": "f75c3fd1-76a0-4541-bf4f-300285b3ec77",
   "metadata": {},
   "outputs": [],
   "source": [
    "pip install scikit-learn\n"
   ]
  },
  {
   "cell_type": "markdown",
   "id": "71c6f521-0304-458a-8961-26f59ab92a15",
   "metadata": {},
   "source": [
    "## Example 1: Linear Regression\n"
   ]
  },
  {
   "cell_type": "code",
   "execution_count": null,
   "id": "733b4447-3508-419c-8ea1-5901e62cbcb6",
   "metadata": {},
   "outputs": [],
   "source": [
    "import numpy as np\n",
    "from sklearn.linear_model import LinearRegression\n",
    "import matplotlib.pyplot as plt\n",
    "\n",
    "# Generate some random data\n",
    "np.random.seed(0)\n",
    "X = 2 * np.random.rand(100, 1)\n",
    "y = 3 * X + np.random.randn(100, 1)\n",
    "\n",
    "# Visualize the data\n",
    "plt.scatter(X, y)\n",
    "plt.xlabel('X')\n",
    "plt.ylabel('y')\n",
    "plt.title('Random Data for Linear Regression')\n",
    "plt.show()\n",
    "\n",
    "# Create a Linear Regression model\n",
    "model = LinearRegression()\n",
    "\n",
    "# Train the model\n",
    "model.fit(X, y)\n",
    "\n",
    "# Make predictions\n",
    "X_new = np.array([[0], [2]])\n",
    "y_pred = model.predict(X_new)\n",
    "\n",
    "# Visualize the linear regression line\n",
    "plt.scatter(X, y)\n",
    "plt.plot(X_new, y_pred, color='red')\n",
    "plt.xlabel('X')\n",
    "plt.ylabel('y')\n",
    "plt.title('Linear Regression')\n",
    "plt.show()\n"
   ]
  },
  {
   "cell_type": "markdown",
   "id": "bc803072-2165-491c-9cdf-075d47827093",
   "metadata": {},
   "source": [
    "## Example 2: Classification with Support Vector Machine (SVM)\n"
   ]
  },
  {
   "cell_type": "code",
   "execution_count": null,
   "id": "ce80e00a-605c-4365-8d29-baede0062228",
   "metadata": {},
   "outputs": [],
   "source": [
    "from sklearn.datasets import load_iris\n",
    "from sklearn.svm import SVC\n",
    "from sklearn.metrics import accuracy_score\n",
    "from sklearn.model_selection import train_test_split\n",
    "\n",
    "# Load the Iris dataset\n",
    "iris = load_iris()\n",
    "X, y = iris.data, iris.target\n",
    "\n",
    "# Split the data into training and testing sets\n",
    "X_train, X_test, y_train, y_test = train_test_split(X, y, test_size=0.2, random_state=42)\n",
    "\n",
    "# Train the SVM classifier\n",
    "svm_model = SVC()\n",
    "svm_model.fit(X_train, y_train)\n",
    "\n",
    "# Make predictions\n",
    "y_pred = svm_model.predict(X_test)\n",
    "\n",
    "# Evaluate the model\n",
    "accuracy = accuracy_score(y_test, y_pred)\n",
    "print(\"Accuracy:\", accuracy)\n"
   ]
  },
  {
   "cell_type": "markdown",
   "id": "3d2fda6f-7ad8-4b52-9ce8-ced5078107dc",
   "metadata": {},
   "source": [
    "## Exercise 1: Load the Breast Cancer dataset from `sklearn.datasets`.\n"
   ]
  },
  {
   "cell_type": "code",
   "execution_count": null,
   "id": "61900d21-6fa0-4e0d-8658-dfa17c9b4a89",
   "metadata": {},
   "outputs": [],
   "source": [
    "# Solution\n"
   ]
  },
  {
   "cell_type": "markdown",
   "id": "6d870f07-d906-4d08-a4e8-0cb54f2b29a0",
   "metadata": {},
   "source": [
    "## Exercise 2: Train a Decision Tree classifier on the Breast Cancer dataset and evaluate its performance.\n"
   ]
  },
  {
   "cell_type": "code",
   "execution_count": null,
   "id": "051bbc31-95a1-4e78-8f48-25e8e0076945",
   "metadata": {},
   "outputs": [],
   "source": [
    "# Solution\n"
   ]
  },
  {
   "cell_type": "markdown",
   "id": "639b269d-fc2a-4522-9324-e69b8381fcbb",
   "metadata": {},
   "source": [
    "## Exercise 3: Use K-Means clustering on the Iris dataset and visualize the clusters.\n"
   ]
  },
  {
   "cell_type": "code",
   "execution_count": null,
   "id": "1a079375-0f24-43d8-b692-90825fcb6dca",
   "metadata": {},
   "outputs": [],
   "source": [
    "# Solution\n"
   ]
  },
  {
   "cell_type": "markdown",
   "id": "6eaa3ce3-5b59-486e-ad3e-969f4d4a6382",
   "metadata": {},
   "source": [
    "## Summary\n",
    "\n",
    "Scikit-learn is a powerful library for machine learning in Python, offering a wide range of algorithms and tools for various tasks. By following this tutorial and practicing the exercises, you'll gain a good understanding of how to use scikit-learn effectively for building and evaluating machine learning models.\n"
   ]
  },
  {
   "cell_type": "markdown",
   "id": "3be27438-53db-407a-89bf-78f436ba2176",
   "metadata": {},
   "source": [
    "<details>\n",
    "<summary><b>Instructor Notes</b></summary>\n",
    "\n",
    "Nothing to add...\n",
    "\n",
    "</details>"
   ]
  }
 ],
 "metadata": {
  "kernelspec": {
   "display_name": "Python 3 (ipykernel)",
   "language": "python",
   "name": "python3"
  },
  "language_info": {
   "codemirror_mode": {
    "name": "ipython",
    "version": 3
   },
   "file_extension": ".py",
   "mimetype": "text/x-python",
   "name": "python",
   "nbconvert_exporter": "python",
   "pygments_lexer": "ipython3",
   "version": "3.11.5"
  }
 },
 "nbformat": 4,
 "nbformat_minor": 5
}
