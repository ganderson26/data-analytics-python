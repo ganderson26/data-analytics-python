{
 "cells": [
  {
   "cell_type": "code",
   "execution_count": null,
   "id": "56484721-d3c8-4e14-ab68-9f73dcab8682",
   "metadata": {
    "tags": []
   },
   "outputs": [],
   "source": [
    "pip install pandas scikit-learn"
   ]
  },
  {
   "cell_type": "code",
   "execution_count": 7,
   "id": "9c522aeb-9949-43df-8fd0-d5e1d5e9c391",
   "metadata": {
    "tags": []
   },
   "outputs": [
    {
     "name": "stdout",
     "output_type": "stream",
     "text": [
      "         Date        Open        High         Low       Close   Adj Close  \\\n",
      "0  2023-03-07  153.699997  154.029999  151.130005  151.600006  150.795120   \n",
      "1  2023-03-08  152.809998  153.470001  151.830002  152.869995  152.058365   \n",
      "2  2023-03-09  153.559998  154.539993  150.229996  150.589996  149.790466   \n",
      "3  2023-03-10  150.210007  150.940002  147.610001  148.500000  147.711563   \n",
      "4  2023-03-13  147.809998  153.139999  147.699997  150.470001  149.671112   \n",
      "\n",
      "     Volume  \n",
      "0  56182000  \n",
      "1  47204800  \n",
      "2  53833600  \n",
      "3  68572400  \n",
      "4  84457100  \n",
      "Accuracy: 60.00%\n",
      "Predicted price for AAPL will go up by 2024-03-08\n"
     ]
    }
   ],
   "source": [
    "# Import necessary libraries\n",
    "#import yfinance as yf\n",
    "import pandas as pd\n",
    "from sklearn.model_selection import train_test_split\n",
    "from sklearn.svm import SVC\n",
    "from sklearn.preprocessing import StandardScaler\n",
    "from sklearn.metrics import accuracy_score\n",
    "\n",
    "# Function to get historical stock data\n",
    "def get_stock_data(ticker, start_date, end_date):\n",
    "#    data = yf.download(ticker, start=start_date, end=end_date)\n",
    "    data =  pd.read_csv('AAPL.csv')\n",
    "    print(data.head())\n",
    "\n",
    "    return data\n",
    "\n",
    "# Function to prepare the data for training and testing\n",
    "def prepare_data(data, window_size=5):\n",
    "    data['Price_Up'] = data['Close'].shift(-window_size) > data['Close']\n",
    "    X = data[['Open', 'High', 'Low', 'Close', 'Volume']].values\n",
    "    y = data['Price_Up'].values\n",
    "    scaler = StandardScaler()\n",
    "    X = scaler.fit_transform(X)\n",
    "    return X[:-window_size], y[:-window_size]\n",
    "\n",
    "# Function to train the SVM model\n",
    "def train_svm(X_train, y_train):\n",
    "    svm_classifier = SVC(kernel='linear')\n",
    "    svm_classifier.fit(X_train, y_train)\n",
    "    return svm_classifier\n",
    "\n",
    "# Main function\n",
    "def main():\n",
    "    # Define the stock and date range\n",
    "    ticker = 'AAPL'  \n",
    "    start_date = '2024-02-28'\n",
    "    end_date = '2024-03-08'\n",
    "\n",
    "    # Get historical stock data\n",
    "    stock_data = get_stock_data(ticker, start_date, end_date)\n",
    "\n",
    "    # Prepare the data\n",
    "    X, y = prepare_data(stock_data)\n",
    "\n",
    "    # Split the data into training and testing sets\n",
    "    X_train, X_test, y_train, y_test = train_test_split(X, y, test_size=0.2, random_state=42)\n",
    "\n",
    "    # Train the SVM model\n",
    "    svm_model = train_svm(X_train, y_train)\n",
    "\n",
    "    # Make predictions on the test data\n",
    "    predictions = svm_model.predict(X_test)\n",
    "\n",
    "    # Calculate accuracy\n",
    "    accuracy = accuracy_score(y_test, predictions)\n",
    "    print(f'Accuracy: {accuracy * 100:.2f}%')\n",
    "\n",
    "    # Predict the next few days\n",
    "    last_data = X[-1].reshape(1, -1)\n",
    "    prediction = svm_model.predict(last_data)\n",
    "    \n",
    "    if prediction[0]:\n",
    "        print('Predicted price for ' + ticker + ' will go up by ' + end_date)\n",
    "    else:\n",
    "        print('Predicted price for ' + ticker + ' will go down by ' + end_date)\n",
    "\n",
    "if __name__ == \"__main__\":\n",
    "    main()\n"
   ]
  },
  {
   "cell_type": "code",
   "execution_count": null,
   "id": "7970d5dd-882c-47f5-95bb-6a742da92b15",
   "metadata": {},
   "outputs": [],
   "source": []
  }
 ],
 "metadata": {
  "kernelspec": {
   "display_name": "Python 3 (ipykernel)",
   "language": "python",
   "name": "python3"
  },
  "language_info": {
   "codemirror_mode": {
    "name": "ipython",
    "version": 3
   },
   "file_extension": ".py",
   "mimetype": "text/x-python",
   "name": "python",
   "nbconvert_exporter": "python",
   "pygments_lexer": "ipython3",
   "version": "3.11.5"
  }
 },
 "nbformat": 4,
 "nbformat_minor": 5
}
