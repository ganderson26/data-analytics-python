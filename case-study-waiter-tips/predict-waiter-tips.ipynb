{
 "cells": [
  {
   "cell_type": "markdown",
   "id": "2d0829a3-a935-42d8-adc3-eff4a183affa",
   "metadata": {},
   "source": [
    "# Predict Waiter Tips\n",
    "\n",
    "Predicting waiter tips using machine learning is an interesting problem that falls under the realm of regression analysis. In this tutorial, we'll walk through the process of building a machine learning model to predict waiter tips based on various features such as total bill amount, party size, and other factors.\n"
   ]
  },
  {
   "cell_type": "markdown",
   "id": "88f3afa0-30bf-49d2-bd94-c662d67ec20c",
   "metadata": {},
   "source": [
    "## Dataset Overview\n",
    "\n",
    "We'll use the well-known \"tips\" dataset, which is available in the seaborn library. This dataset contains information about tips collected from a restaurant, including the total bill amount, tip amount, gender of the person paying the bill, whether the party was smokers or non-smokers, the day of the week, time of day, and party size.\n"
   ]
  },
  {
   "cell_type": "code",
   "execution_count": 4,
   "id": "a23ce6b9-44d3-45f4-999b-aaab9dc47f5f",
   "metadata": {
    "tags": []
   },
   "outputs": [],
   "source": [
    "import pandas as pd\n"
   ]
  },
  {
   "cell_type": "code",
   "execution_count": null,
   "id": "0e511698-404d-4131-b295-8b26aaa9930e",
   "metadata": {},
   "outputs": [],
   "source": [
    "# This is how we load the tips dataset from seaborn and saved to a csv.\n",
    "#tips = sns.load_dataset(\"tips\")\n",
    "#tips.to_csv('tips.csv', encoding='utf-8', index=False)\n"
   ]
  },
  {
   "cell_type": "code",
   "execution_count": null,
   "id": "9f304123-c3c8-49e9-b60a-664391c9f78a",
   "metadata": {
    "tags": []
   },
   "outputs": [],
   "source": [
    "# Load the data from the csv.\n",
    "tips =  pd.read_csv('tips.csv')\n",
    "\n",
    "# Take a look.\n",
    "print(tips.head())\n"
   ]
  },
  {
   "cell_type": "markdown",
   "id": "9ce5ad6b-3cb7-48a8-939b-3c8b3f96b2a6",
   "metadata": {},
   "source": [
    "## Getting to Know the Data\n"
   ]
  },
  {
   "cell_type": "markdown",
   "id": "5f322db4-3de6-4b01-be4f-1f85dab09651",
   "metadata": {},
   "source": [
    "Let’s have a look at the tips given to the waiters according to:\n",
    "    \n",
    "- the total bill paid\n",
    "- number of people at a table\n",
    "- the day of the week:\n",
    "    "
   ]
  },
  {
   "cell_type": "code",
   "execution_count": null,
   "id": "6b1a9dfd-ec0a-43fc-a563-784a81ffe23f",
   "metadata": {
    "tags": []
   },
   "outputs": [],
   "source": [
    "figure = px.scatter(data_frame = tips, x=\"total_bill\", y=\"tip\", size=\"size\", color= \"day\", trendline=\"ols\")\n",
    "figure.show()\n"
   ]
  },
  {
   "cell_type": "markdown",
   "id": "ffc9bf27-9bc8-4fbe-9677-99b8043ceef3",
   "metadata": {},
   "source": [
    "Now let’s have a look at the tips given to the waiters according to: \n",
    "\n",
    "- the total bill paid\n",
    "- the number of people at a table\n",
    "- the gender of the person paying the bill\n"
   ]
  },
  {
   "cell_type": "code",
   "execution_count": null,
   "id": "11894830-7dc9-4962-b891-18ee88cfb33c",
   "metadata": {
    "tags": []
   },
   "outputs": [],
   "source": [
    "figure = px.scatter(data_frame = tips, x=\"total_bill\", y=\"tip\", size=\"size\", color= \"sex\", trendline=\"ols\")\n",
    "figure.show()\n"
   ]
  },
  {
   "cell_type": "markdown",
   "id": "a21dc002-b868-4acc-ad82-baf0beb72095",
   "metadata": {},
   "source": [
    "Now let’s have a look at the tips given to the waiters according to:\n",
    "\n",
    "- the total bill paid\n",
    "- the number of people at a table\n",
    "- the time of the meal\n"
   ]
  },
  {
   "cell_type": "code",
   "execution_count": null,
   "id": "db70313d-30a5-4453-a75c-df142cc95c76",
   "metadata": {
    "tags": []
   },
   "outputs": [],
   "source": [
    "figure = px.scatter(data_frame = tips, x=\"total_bill\", y=\"tip\", size=\"size\", color= \"time\", trendline=\"ols\")\n",
    "figure.show()\n"
   ]
  },
  {
   "cell_type": "markdown",
   "id": "4416ecd4-faeb-4f0d-b8b6-456d9e1f54a3",
   "metadata": {},
   "source": [
    "Now let’s see the tips given to the waiters according to the days to find out which day the most tips are given to the waiters:\n",
    "    "
   ]
  },
  {
   "cell_type": "code",
   "execution_count": null,
   "id": "3c3f6b42-afb0-4caf-a1d8-aa39ff5e8cdb",
   "metadata": {
    "tags": []
   },
   "outputs": [],
   "source": [
    "figure = px.pie(tips, values='tip', names='day',hole = 0.5)\n",
    "figure.show()\n"
   ]
  },
  {
   "cell_type": "markdown",
   "id": "56c4d51c-0f3e-4f50-9fbe-86ebd22b3124",
   "metadata": {},
   "source": [
    "According to the visualization above, on Saturdays, most tips are given to the waiters. Now let’s look at the number of tips given to waiters by gender of the person paying the bill to see who tips waiters the most:\n",
    "    "
   ]
  },
  {
   "cell_type": "code",
   "execution_count": null,
   "id": "97e4d176-7beb-4049-a9e4-bdf57d4b30a9",
   "metadata": {
    "tags": []
   },
   "outputs": [],
   "source": [
    "figure = px.pie(tips, values='tip', names='sex',hole = 0.5)\n",
    "figure.show()\n"
   ]
  },
  {
   "cell_type": "markdown",
   "id": "42b2073f-8205-4ee6-833a-41955cbbc634",
   "metadata": {},
   "source": [
    "According to the visualization above, a waiter is tipped more during dinner.\n"
   ]
  },
  {
   "cell_type": "markdown",
   "id": "8b2068a6-8924-4dde-a558-34c5eb7ddfc3",
   "metadata": {},
   "source": [
    "So this is how we can analyze all the factors affecting waiter tips. Now in the section below, we will walk through how to train a machine learning model for the task of waiter tips prediction.\n"
   ]
  },
  {
   "cell_type": "markdown",
   "id": "820feab2-e14a-463e-91b1-da5cffb3738a",
   "metadata": {},
   "source": [
    "## Data Preprocessing\n",
    "\n",
    "Before we start building our machine learning model, we need to preprocess the data. This involves tasks such as handling missing values, encoding categorical variables, and splitting the data into training and testing sets.\n"
   ]
  },
  {
   "cell_type": "code",
   "execution_count": null,
   "id": "066907ce-e80d-4bf4-8a98-65a97ea35464",
   "metadata": {
    "tags": []
   },
   "outputs": [],
   "source": [
    "tips[\"sex\"] = tips[\"sex\"].map({\"Female\": 0, \"Male\": 1})\n",
    "tips[\"smoker\"] = tips[\"smoker\"].map({\"No\": 0, \"Yes\": 1})\n",
    "tips[\"day\"] = tips[\"day\"].map({\"Thur\": 0, \"Fri\": 1, \"Sat\": 2, \"Sun\": 3})\n",
    "tips[\"time\"] = tips[\"time\"].map({\"Lunch\": 0, \"Dinner\": 1})\n",
    "tips.head()\n"
   ]
  },
  {
   "cell_type": "markdown",
   "id": "8464e95d-f9ed-48a4-b5a4-84af2a8b51a5",
   "metadata": {},
   "source": [
    "## Feature Selection and Engineering\n",
    "\n",
    "Next, we'll select relevant features and engineer new features if needed. For example, we might calculate the tip percentage (tip amount divided by total bill amount) or create dummy variables for categorical features.\n"
   ]
  },
  {
   "cell_type": "code",
   "execution_count": null,
   "id": "0f39ad38-98c9-4cd3-a850-08889ad64085",
   "metadata": {},
   "outputs": [],
   "source": [
    "x = np.array(tips[[\"total_bill\", \"sex\", \"smoker\", \"day\", \"time\", \"size\"]])\n",
    "y = np.array(tips[\"tip\"])\n"
   ]
  },
  {
   "cell_type": "markdown",
   "id": "13ce6553-ca79-430d-8b9c-a4686a923f77",
   "metadata": {},
   "source": [
    "## Model Selection\n",
    "\n",
    "We'll choose a regression algorithm suitable for our problem. Some common choices include linear regression, decision trees, random forests, or gradient boosting algorithms. We'll train multiple models and evaluate their performance to select the best one.\n"
   ]
  },
  {
   "cell_type": "code",
   "execution_count": null,
   "id": "44038bbd-96d6-43fe-be8b-26f08e500b26",
   "metadata": {},
   "outputs": [],
   "source": [
    "from sklearn.linear_model import LinearRegression\n",
    "model = LinearRegression()\n"
   ]
  },
  {
   "cell_type": "markdown",
   "id": "d7b6a014-9994-4d5f-8106-84bb966d31d0",
   "metadata": {},
   "source": [
    "## Model Training\n",
    "\n",
    "We'll split the dataset into training and testing sets.\n"
   ]
  },
  {
   "cell_type": "code",
   "execution_count": null,
   "id": "3a7b9d22-2064-4b17-aa53-6ddd7446b2a6",
   "metadata": {},
   "outputs": [],
   "source": [
    "from sklearn.model_selection import train_test_split\n",
    "xtrain, xtest, ytrain, ytest = train_test_split(x, y, test_size=0.2, random_state=42)\n"
   ]
  },
  {
   "cell_type": "markdown",
   "id": "437e4871-cfe0-4d5f-a494-e096d02b784d",
   "metadata": {},
   "source": [
    "Now we can train the selected machine learning model on the training data.\n"
   ]
  },
  {
   "cell_type": "code",
   "execution_count": null,
   "id": "977840df-d948-4884-84f3-42276d64742c",
   "metadata": {},
   "outputs": [],
   "source": [
    "model.fit(xtrain, ytrain)\n"
   ]
  },
  {
   "cell_type": "markdown",
   "id": "75e4045f-ea73-402e-8c92-a9e05bdf22e9",
   "metadata": {},
   "source": [
    "## Test the Model\n",
    "\n",
    "Now let’s test the performance of this model by giving inputs to this model according to the features that we have used to train this model:\n"
   ]
  },
  {
   "cell_type": "code",
   "execution_count": null,
   "id": "8f7cd3d8-583d-4d8d-a226-27958881e3b7",
   "metadata": {},
   "outputs": [],
   "source": [
    "# features = [[total_bill, \"sex\", \"smoker\", \"day\", \"time\", \"size\"]]\n",
    "features = np.array([[24.50, 1, 0, 0, 1, 4]])\n",
    "model.predict(features)\n"
   ]
  },
  {
   "cell_type": "markdown",
   "id": "b2b8ca5d-ec00-444e-bbae-e38fddb703a3",
   "metadata": {},
   "source": [
    "According to the visualization above, most tips are given by men. Now let’s see if a smoker tips more or a non-smoker:\n",
    "    "
   ]
  },
  {
   "cell_type": "code",
   "execution_count": null,
   "id": "2996ff3a-0318-472f-b0ba-7db4545676e2",
   "metadata": {
    "tags": []
   },
   "outputs": [],
   "source": [
    "figure = px.pie(tips, values='tip', names='smoker',hole = 0.5)\n",
    "figure.show()\n"
   ]
  },
  {
   "cell_type": "markdown",
   "id": "29e5fb59-0840-468d-b908-1382256b8fa9",
   "metadata": {},
   "source": [
    "According to the visualization above, non-smoker tips waiters more than smokers. Now let’s see if most tips are given during lunch or dinner:\n",
    "    "
   ]
  },
  {
   "cell_type": "code",
   "execution_count": null,
   "id": "93444387-e3af-4e7c-ae20-7f72808f0f07",
   "metadata": {
    "tags": []
   },
   "outputs": [],
   "source": [
    "figure = px.pie(tips, values='tip', names='time',hole = 0.5)\n",
    "figure.show()\n"
   ]
  },
  {
   "cell_type": "markdown",
   "id": "2fbe67f7-c340-49e1-828a-6043795591eb",
   "metadata": {},
   "source": [
    "## Summary\n",
    "\n",
    "In this tutorial, we learned how to build a machine learning model to predict waiter tips using the tips dataset. We covered data preprocessing, feature selection, model training, evaluation, and deployment. You can further enhance the model's performance by experimenting with different algorithms, feature engineering techniques, and hyperparameter tuning.\n"
   ]
  },
  {
   "cell_type": "markdown",
   "id": "5d390aa3-ccdb-4a0d-950e-cce6f31ed934",
   "metadata": {},
   "source": [
    "<details>\n",
    "<summary><b>Instructor Notes</b></summary>\n",
    "\n",
    "Nothing to add...\n",
    "\n",
    "</details>"
   ]
  }
 ],
 "metadata": {
  "kernelspec": {
   "display_name": "Python 3 (ipykernel)",
   "language": "python",
   "name": "python3"
  },
  "language_info": {
   "codemirror_mode": {
    "name": "ipython",
    "version": 3
   },
   "file_extension": ".py",
   "mimetype": "text/x-python",
   "name": "python",
   "nbconvert_exporter": "python",
   "pygments_lexer": "ipython3",
   "version": "3.11.5"
  }
 },
 "nbformat": 4,
 "nbformat_minor": 5
}
