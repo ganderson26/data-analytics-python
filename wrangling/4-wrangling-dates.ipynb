{
 "cells": [
  {
   "cell_type": "markdown",
   "id": "cc89e2be-111a-4457-812d-e6d546dbec5b",
   "metadata": {},
   "source": [
    "# Python Tutorial: Date Cleanup\n",
    "\n",
    "Cleaning up dates in Python can be a common task when working with data. In this tutorial, I'll cover how to handle various date formats, clean them up, and convert them into a standardized format using the datetime module.\n"
   ]
  },
  {
   "cell_type": "markdown",
   "id": "70d900f4-effc-46d0-910e-de7afda58ad2",
   "metadata": {},
   "source": [
    "## Introduction to datetime module:\n",
    "\n",
    "The datetime module in Python provides classes for manipulating dates and times. We'll primarily use the `datetime` class for parsing and formatting dates.\n"
   ]
  },
  {
   "cell_type": "markdown",
   "id": "2996684e-27b5-4bd7-a159-cc52ba830323",
   "metadata": {},
   "source": [
    "## Cleaning up dates:\n"
   ]
  },
  {
   "cell_type": "markdown",
   "id": "c2aab595-4404-4715-b9cf-70952da67302",
   "metadata": {},
   "source": [
    "### Example 1: Converting a string to a datetime object:\n"
   ]
  },
  {
   "cell_type": "code",
   "execution_count": null,
   "id": "a8d69da4-ef1d-4819-bb62-2b9641768911",
   "metadata": {},
   "outputs": [],
   "source": [
    "from datetime import datetime\n",
    "\n",
    "date_str = '2023-12-25'\n",
    "formatted_date = datetime.strptime(date_str, '%Y-%m-%d')\n",
    "print(formatted_date)\n"
   ]
  },
  {
   "cell_type": "markdown",
   "id": "9e638af6-adb0-4b2e-9a62-ed03f60bc5c0",
   "metadata": {},
   "source": [
    "### Example 2: Handling dates with different formats:\n"
   ]
  },
  {
   "cell_type": "code",
   "execution_count": null,
   "id": "bae6e790-d3e9-4bed-adc6-8e72d719e4cb",
   "metadata": {},
   "outputs": [],
   "source": [
    "date_str = '12/25/2023'\n",
    "formatted_date = datetime.strptime(date_str, '%m/%d/%Y')\n",
    "print(formatted_date)\n"
   ]
  },
  {
   "cell_type": "markdown",
   "id": "b9e7845a-97ca-4dc2-85ee-8b45de85dd33",
   "metadata": {},
   "source": [
    "## Exercise: \n",
    "\n",
    "Clean up a list of dates:\n",
    "\n",
    "Given a list of dates in various formats, clean them up and convert them into a standardized format.\n",
    "\n",
    "```python\n",
    "from datetime import datetime\n",
    "\n",
    "dates = ['2023-12-25', '12/25/2023', '2023/12/25', '25-Dec-2023']\n",
    "cleaned_dates = []\n",
    "```\n"
   ]
  },
  {
   "cell_type": "code",
   "execution_count": null,
   "id": "4d61b5b5-40e0-4f51-9b2a-a60eb6813390",
   "metadata": {},
   "outputs": [],
   "source": [
    "# Solution\n"
   ]
  },
  {
   "cell_type": "markdown",
   "id": "eb07ca1d-fc46-488e-b6d4-10ed3d450cd1",
   "metadata": {},
   "source": [
    "## Summary\n",
    "\n",
    "Cleaning up dates in Python involves parsing strings representing dates into datetime objects using the `datetime.strptime()` function. By specifying the format string, you can handle dates in different formats and convert them into a standardized format.\n"
   ]
  },
  {
   "cell_type": "markdown",
   "id": "6f37eb03-b192-4bf5-b77e-3b7c9eb53980",
   "metadata": {},
   "source": [
    "<details>\n",
    "<summary><b>Instructor Notes</b></summary>\n",
    "\n",
    "Nothing to add...\n",
    "\n",
    "</details>"
   ]
  }
 ],
 "metadata": {
  "kernelspec": {
   "display_name": "Python 3 (ipykernel)",
   "language": "python",
   "name": "python3"
  },
  "language_info": {
   "codemirror_mode": {
    "name": "ipython",
    "version": 3
   },
   "file_extension": ".py",
   "mimetype": "text/x-python",
   "name": "python",
   "nbconvert_exporter": "python",
   "pygments_lexer": "ipython3",
   "version": "3.11.5"
  }
 },
 "nbformat": 4,
 "nbformat_minor": 5
}
