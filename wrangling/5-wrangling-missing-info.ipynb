{
 "cells": [
  {
   "cell_type": "markdown",
   "id": "d206699d-62f0-455b-8e9c-8d558585f569",
   "metadata": {},
   "source": [
    "# Python Tutorial: Cleaning up Missing Information\n",
    "\n",
    "In data analysis and machine learning projects, it's common to encounter missing information in datasets. Handling missing data is crucial as it can affect the quality and accuracy of your analysis or model. Python provides several libraries and techniques to clean up missing information in datasets. In this tutorial, we'll explore some common methods for dealing with missing data using Python.\n"
   ]
  },
  {
   "cell_type": "markdown",
   "id": "10624911-fddd-4994-a06b-b211c46072da",
   "metadata": {},
   "source": [
    "## Identifying Missing Data\n",
    "\n",
    "Before we can clean up missing data, we need to identify where it exists in our dataset. In Python, missing data is typically represented as `NaN` (Not a Number) or `None`. We can use libraries like Pandas to detect missing values.\n"
   ]
  },
  {
   "cell_type": "code",
   "execution_count": null,
   "id": "99c6ebea-6d3f-4198-9be8-54dd596d7721",
   "metadata": {},
   "outputs": [],
   "source": [
    "import pandas as pd\n",
    "\n",
    "# Sample DataFrame with missing values\n",
    "data = {'A': [1, 2, None, 4],\n",
    "        'B': [5, None, 7, 8],\n",
    "        'C': [None, 10, 11, 12]}\n",
    "df = pd.DataFrame(data)\n",
    "\n",
    "# Check for missing values\n",
    "print(df.isnull())\n"
   ]
  },
  {
   "cell_type": "markdown",
   "id": "445cf919-f169-42bc-bf9c-9af4f96ae3fd",
   "metadata": {},
   "source": [
    "## Dropping Missing Values\n",
    "\n",
    "One simple approach to handling missing data is to remove rows or columns containing missing values. We can use the `dropna()` method in Pandas for this.\n"
   ]
  },
  {
   "cell_type": "code",
   "execution_count": null,
   "id": "0ecb1a46-8909-495e-ad5c-46ab48c234f4",
   "metadata": {},
   "outputs": [],
   "source": [
    "# Drop rows with missing values\n",
    "cleaned_df = df.dropna()\n",
    "print(cleaned_df)\n"
   ]
  },
  {
   "cell_type": "markdown",
   "id": "bc6c996c-64ea-4375-9c11-2b5a1ddcb3b5",
   "metadata": {},
   "source": [
    "## Filling Missing Values\n",
    "\n",
    "Another approach is to fill in missing values with a specific value, such as the mean or median of the column. This can be done using the `fillna()` method in Pandas.\n"
   ]
  },
  {
   "cell_type": "code",
   "execution_count": null,
   "id": "d2080719-c366-45ec-9abf-1239a8b81225",
   "metadata": {},
   "outputs": [],
   "source": [
    "# Fill missing values with mean\n",
    "mean_filled_df = df.fillna(df.mean())\n",
    "print(mean_filled_df)\n"
   ]
  },
  {
   "cell_type": "markdown",
   "id": "3d62e5e6-d688-486e-bcb2-a066011de434",
   "metadata": {},
   "source": [
    "## Exercise 1: \n",
    "\n",
    "Create a DataFrame with missing values and identify the locations of missing data.\n"
   ]
  },
  {
   "cell_type": "code",
   "execution_count": null,
   "id": "c07c01a6-ed41-4ff4-bb7b-94fd82140c57",
   "metadata": {},
   "outputs": [],
   "source": [
    "# Solution\n"
   ]
  },
  {
   "cell_type": "markdown",
   "id": "b445c9bb-77b4-4cb0-99f0-a3066f83c1bc",
   "metadata": {},
   "source": [
    "## Exercise 2: \n",
    "\n",
    "Drop the columns containing missing values from the DataFrame.\n"
   ]
  },
  {
   "cell_type": "code",
   "execution_count": null,
   "id": "d90b60b5-3070-4574-9d3e-820ab0cc9993",
   "metadata": {},
   "outputs": [],
   "source": [
    "# Solution\n"
   ]
  },
  {
   "cell_type": "markdown",
   "id": "d7276361-806c-4213-8324-dbdfe108d5fa",
   "metadata": {},
   "source": [
    "## Exercise 3: \n",
    "\n",
    "Fill in the missing values with the median of each column.\n"
   ]
  },
  {
   "cell_type": "code",
   "execution_count": null,
   "id": "7a253356-3bec-4413-ad63-9c577714f38b",
   "metadata": {},
   "outputs": [],
   "source": [
    "# Solution\n"
   ]
  },
  {
   "cell_type": "markdown",
   "id": "9614a948-f3e2-4d5a-bf01-a930ed43d969",
   "metadata": {},
   "source": [
    "## Summary\n",
    "\n",
    "Dealing with missing data is an essential part of data analysis and machine learning. In this tutorial, we covered how to identify missing values, drop rows or columns with missing data, and fill in missing values with appropriate replacements. Depending on the specific dataset and analysis goals, different strategies may be more suitable. Experimenting with different approaches and understanding the context of the data is key to effective data cleaning.\n"
   ]
  },
  {
   "cell_type": "markdown",
   "id": "79870577-6042-4f20-9e09-a3f9c332ae3b",
   "metadata": {},
   "source": [
    "<details>\n",
    "<summary><b>Instructor Notes</b></summary>\n",
    "\n",
    "Nothing to add...\n",
    "\n",
    "</details>"
   ]
  }
 ],
 "metadata": {
  "kernelspec": {
   "display_name": "Python 3 (ipykernel)",
   "language": "python",
   "name": "python3"
  },
  "language_info": {
   "codemirror_mode": {
    "name": "ipython",
    "version": 3
   },
   "file_extension": ".py",
   "mimetype": "text/x-python",
   "name": "python",
   "nbconvert_exporter": "python",
   "pygments_lexer": "ipython3",
   "version": "3.12.2"
  }
 },
 "nbformat": 4,
 "nbformat_minor": 5
}
