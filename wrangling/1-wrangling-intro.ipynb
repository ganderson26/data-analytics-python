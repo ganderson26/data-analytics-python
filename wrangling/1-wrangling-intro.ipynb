{
 "cells": [
  {
   "cell_type": "markdown",
   "id": "df0fbcc3-22ec-48e8-a2ca-bc9e7e9599b2",
   "metadata": {},
   "source": [
    "# Python Tutorial: Data Wrangling\n",
    "\n",
    "Data wrangling, also known as data munging, is the process of cleaning, transforming, and enriching raw data into a more usable format for analysis. Python offers several libraries for data wrangling, with pandas being one of the most commonly used ones.\n"
   ]
  },
  {
   "cell_type": "markdown",
   "id": "88b4c392-b80f-42e0-b253-b253e947a5e0",
   "metadata": {},
   "source": [
    "## Installation\n",
    "  \n",
    "You can install pandas using pip:\n"
   ]
  },
  {
   "cell_type": "code",
   "execution_count": null,
   "id": "52907194-21f8-400d-b8dc-f64d6ffb69c3",
   "metadata": {},
   "outputs": [],
   "source": [
    "pip install pandas\n"
   ]
  },
  {
   "cell_type": "code",
   "execution_count": null,
   "id": "81da19e3-51b1-49b0-8c52-f70e5327c517",
   "metadata": {},
   "outputs": [],
   "source": [
    "import pandas as pd\n"
   ]
  },
  {
   "cell_type": "markdown",
   "id": "d0e26e3d-ca68-4ba3-932f-9a0dd65d8f41",
   "metadata": {},
   "source": [
    "## Example 1: Loading Data\n"
   ]
  },
  {
   "cell_type": "code",
   "execution_count": null,
   "id": "3169646c-633d-4ec7-b9de-333ae19918ee",
   "metadata": {},
   "outputs": [],
   "source": [
    "# Read a CSV file into a DataFrame\n",
    "df = pd.read_csv('data.csv')\n",
    "print(df.head(50))\n"
   ]
  },
  {
   "cell_type": "markdown",
   "id": "482c6539-e0d2-4b59-9ef4-72c707c297f5",
   "metadata": {},
   "source": [
    "## Example 2: Cleaning Data\n"
   ]
  },
  {
   "cell_type": "code",
   "execution_count": null,
   "id": "2d9d1a9f-bf55-4e2e-a5f9-07b3eebbb47d",
   "metadata": {},
   "outputs": [],
   "source": [
    "# Remove duplicates\n",
    "df = df.drop_duplicates()\n",
    "print(df.head(50))\n"
   ]
  },
  {
   "cell_type": "code",
   "execution_count": null,
   "id": "7686b13c-b2d0-4d4e-9225-b1b719bc6340",
   "metadata": {},
   "outputs": [],
   "source": [
    "# Handle missing values\n",
    "df = df.dropna()\n",
    "print(df.head(50))\n"
   ]
  },
  {
   "cell_type": "code",
   "execution_count": null,
   "id": "b72f6999-b426-42b0-9ae5-99c3f4253eee",
   "metadata": {},
   "outputs": [],
   "source": [
    "# Convert data types\n",
    "df['Date'] = pd.to_datetime(df['Date'])\n",
    "print(df.head(50))\n"
   ]
  },
  {
   "cell_type": "markdown",
   "id": "bf9699c4-9c95-4bac-bc87-8d266f87b75b",
   "metadata": {},
   "source": [
    "## Example 3: Transforming Data\n"
   ]
  },
  {
   "cell_type": "code",
   "execution_count": null,
   "id": "5457ea2a-4c08-4f85-a086-65a57917f561",
   "metadata": {},
   "outputs": [],
   "source": [
    "# Create a new column\n",
    "df['Total'] = df['Quantity'] * df['Price']\n",
    "\n",
    "# Group by a categorical variable and calculate statistics\n",
    "summary = df.groupby('Category')['Total'].sum()\n",
    "print(summary)\n"
   ]
  },
  {
   "cell_type": "markdown",
   "id": "2c456def-b958-4b9e-91a3-de70bc83016b",
   "metadata": {},
   "source": [
    "## Exercise 1: \n",
    "\n",
    "Read a CSV file named 'sales-data.csv' into a DataFrame and display the first 5 rows.\n"
   ]
  },
  {
   "cell_type": "code",
   "execution_count": null,
   "id": "bd4c618b-5f25-4964-bf6e-c7457e294fa1",
   "metadata": {},
   "outputs": [],
   "source": [
    "# Solution\n"
   ]
  },
  {
   "cell_type": "markdown",
   "id": "391c40cc-4b7b-4c07-8cb3-fe73972527be",
   "metadata": {},
   "source": [
    "## Exercise 2: \n",
    "\n",
    "Handle missing values in the DataFrame created in Exercise 1 by filling them with the mean of the respective column.\n"
   ]
  },
  {
   "cell_type": "code",
   "execution_count": null,
   "id": "b8499540-66bb-451d-9082-57c667993aae",
   "metadata": {},
   "outputs": [],
   "source": [
    "# Solution\n"
   ]
  },
  {
   "cell_type": "markdown",
   "id": "14240421-f75a-45d1-b45f-bcf51ea2e3bc",
   "metadata": {},
   "source": [
    "## Exercise 3: \n",
    "\n",
    "Create a new column in the DataFrame created in Exercise 1, which calculates the profit (Revenue - Cost).\n"
   ]
  },
  {
   "cell_type": "code",
   "execution_count": null,
   "id": "848f876b-d4dd-48ff-aa3a-28499e5f8dac",
   "metadata": {},
   "outputs": [],
   "source": [
    "# Solution\n"
   ]
  },
  {
   "cell_type": "markdown",
   "id": "557d0dab-cfde-4de4-a295-d3f3fb95e9c5",
   "metadata": {},
   "source": [
    "## Summary\n",
    "\n",
    "Data wrangling is an essential step in the data analysis process, as it ensures that the data is clean, consistent, and in the right format for analysis. Python, with libraries like pandas, provides powerful tools for performing various data wrangling tasks efficiently.\n",
    "                                                                                                                                                                                                                     "
   ]
  },
  {
   "cell_type": "markdown",
   "id": "3523dddd-7a78-475d-ac47-b163469cd4b8",
   "metadata": {},
   "source": [
    "<details>\n",
    "<summary><b>Instructor Notes</b></summary>\n",
    "\n",
    "Nothing to add...\n",
    "\n",
    "</details>"
   ]
  }
 ],
 "metadata": {
  "kernelspec": {
   "display_name": "Python 3 (ipykernel)",
   "language": "python",
   "name": "python3"
  },
  "language_info": {
   "codemirror_mode": {
    "name": "ipython",
    "version": 3
   },
   "file_extension": ".py",
   "mimetype": "text/x-python",
   "name": "python",
   "nbconvert_exporter": "python",
   "pygments_lexer": "ipython3",
   "version": "3.11.5"
  }
 },
 "nbformat": 4,
 "nbformat_minor": 5
}
