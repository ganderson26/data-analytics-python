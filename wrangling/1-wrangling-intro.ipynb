{
 "cells": [
  {
   "cell_type": "markdown",
   "id": "df0fbcc3-22ec-48e8-a2ca-bc9e7e9599b2",
   "metadata": {},
   "source": [
    "# Python Tutorial: Data Wrangling\n",
    "\n",
    "Data wrangling, also known as data munging, is the process of cleaning, transforming, and enriching raw data into a more usable format for analysis. Python offers several libraries for data wrangling, with pandas being one of the most commonly used ones.\n"
   ]
  },
  {
   "cell_type": "markdown",
   "id": "88b4c392-b80f-42e0-b253-b253e947a5e0",
   "metadata": {},
   "source": [
    "## Installation\n",
    "  \n",
    "You can install pandas using pip:\n"
   ]
  },
  {
   "cell_type": "code",
   "execution_count": null,
   "id": "52907194-21f8-400d-b8dc-f64d6ffb69c3",
   "metadata": {},
   "outputs": [],
   "source": [
    "pip install pandas\n"
   ]
  },
  {
   "cell_type": "code",
   "execution_count": null,
   "id": "81da19e3-51b1-49b0-8c52-f70e5327c517",
   "metadata": {},
   "outputs": [],
   "source": [
    "import pandas as pd\n"
   ]
  },
  {
   "cell_type": "markdown",
   "id": "d0e26e3d-ca68-4ba3-932f-9a0dd65d8f41",
   "metadata": {},
   "source": [
    "## Loading Data\n"
   ]
  },
  {
   "cell_type": "code",
   "execution_count": null,
   "id": "3169646c-633d-4ec7-b9de-333ae19918ee",
   "metadata": {},
   "outputs": [],
   "source": [
    "# Read a CSV file into a DataFrame\n",
    "df = pd.read_csv('data.csv')\n"
   ]
  },
  {
   "cell_type": "markdown",
   "id": "482c6539-e0d2-4b59-9ef4-72c707c297f5",
   "metadata": {},
   "source": [
    "## Getting Ready to Clean\n"
   ]
  },
  {
   "cell_type": "code",
   "execution_count": null,
   "id": "8fa3f204-984f-45cd-9673-350c8ec23003",
   "metadata": {},
   "outputs": [],
   "source": [
    "# Display sample rows from the dataset\n",
    "df.sample(5)\n"
   ]
  },
  {
   "cell_type": "markdown",
   "id": "46ccd25c-bf92-4eab-b2b9-93930e71a6c4",
   "metadata": {},
   "source": [
    "You can see we have some missing data.\n"
   ]
  },
  {
   "cell_type": "code",
   "execution_count": null,
   "id": "ebaf57bc-bbe9-4df0-a0c2-2af6216e6484",
   "metadata": {},
   "outputs": [],
   "source": [
    "# Total number of rows and columns\n",
    "df.shape\n"
   ]
  },
  {
   "cell_type": "code",
   "execution_count": null,
   "id": "bb78c821-01fb-4e84-bb0c-177475594f86",
   "metadata": {},
   "outputs": [],
   "source": [
    "# Index dtype and columns, non-null values and memory usage\n",
    "df.info\n"
   ]
  },
  {
   "cell_type": "code",
   "execution_count": null,
   "id": "90acd486-2813-46ba-bad2-6c779e14f167",
   "metadata": {},
   "outputs": [],
   "source": [
    "# Description of the data in the DataFrame\n",
    "df.describe()\n"
   ]
  },
  {
   "cell_type": "code",
   "execution_count": null,
   "id": "2d9d1a9f-bf55-4e2e-a5f9-07b3eebbb47d",
   "metadata": {},
   "outputs": [],
   "source": [
    "# Check for missing values\n",
    "print(df.isnull().sum())\n"
   ]
  },
  {
   "cell_type": "code",
   "execution_count": null,
   "id": "7686b13c-b2d0-4d4e-9225-b1b719bc6340",
   "metadata": {},
   "outputs": [],
   "source": [
    "# Check for duplicates\n",
    "print(df.duplicated().sum())\n"
   ]
  },
  {
   "cell_type": "markdown",
   "id": "8b6b646f-81e2-44be-b008-98a066c37d05",
   "metadata": {},
   "source": [
    "Now we can move forward with how to handle cleaning up the data.\n"
   ]
  },
  {
   "cell_type": "markdown",
   "id": "557d0dab-cfde-4de4-a295-d3f3fb95e9c5",
   "metadata": {},
   "source": [
    "## Summary\n",
    "\n",
    "Data wrangling is an essential step in the data analysis process, as it ensures that the data is clean, consistent, and in the right format for analysis. Python, with libraries like pandas, provides powerful tools for performing various data wrangling tasks efficiently.\n",
    "                                                                                                                                                                                                                     "
   ]
  },
  {
   "cell_type": "markdown",
   "id": "3523dddd-7a78-475d-ac47-b163469cd4b8",
   "metadata": {},
   "source": [
    "<details>\n",
    "<summary><b>Instructor Notes</b></summary>\n",
    "\n",
    "Nothing to add...\n",
    "\n",
    "</details>"
   ]
  }
 ],
 "metadata": {
  "kernelspec": {
   "display_name": "Python 3 (ipykernel)",
   "language": "python",
   "name": "python3"
  },
  "language_info": {
   "codemirror_mode": {
    "name": "ipython",
    "version": 3
   },
   "file_extension": ".py",
   "mimetype": "text/x-python",
   "name": "python",
   "nbconvert_exporter": "python",
   "pygments_lexer": "ipython3",
   "version": "3.12.2"
  }
 },
 "nbformat": 4,
 "nbformat_minor": 5
}
