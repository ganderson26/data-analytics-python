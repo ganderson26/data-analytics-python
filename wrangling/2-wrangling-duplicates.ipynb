{
 "cells": [
  {
   "cell_type": "markdown",
   "id": "f4197813-51bd-4e7f-82b3-254bdd52641f",
   "metadata": {},
   "source": [
    "# Python Tutorial: Duplicates\n",
    "\n",
    "Duplicates are common in data structures like lists, sets, and dictionaries. In Python, there are several ways to deal with duplicates, depending on the specific requirements of your task.\n"
   ]
  },
  {
   "cell_type": "markdown",
   "id": "c32cede1-e10f-44a4-a91c-beb6d73090ec",
   "metadata": {},
   "source": [
    "## Removing Duplicates\n"
   ]
  },
  {
   "cell_type": "markdown",
   "id": "1a17a84b-f3ad-4802-b0af-fd726e380dd0",
   "metadata": {},
   "source": [
    "### Example\n"
   ]
  },
  {
   "cell_type": "code",
   "execution_count": null,
   "id": "9541acdd-3e30-43ae-bd4d-4394ef93d1a2",
   "metadata": {},
   "outputs": [],
   "source": [
    "my_list = [1, 2, 3, 4, 2, 3, 5]\n",
    "unique_list = list(set(my_list))\n",
    "print(unique_list)\n"
   ]
  },
  {
   "cell_type": "markdown",
   "id": "97a2cb51-8f00-4286-b0e5-02d2e179d051",
   "metadata": {},
   "source": [
    "## Counting Duplicates\n"
   ]
  },
  {
   "cell_type": "markdown",
   "id": "299fa246-b712-41ff-8c68-b60ff5512a74",
   "metadata": {},
   "source": [
    "### Example\n"
   ]
  },
  {
   "cell_type": "code",
   "execution_count": null,
   "id": "e4738824-f680-423d-b87a-8ff66c40f694",
   "metadata": {},
   "outputs": [],
   "source": [
    "from collections import Counter\n",
    "\n",
    "my_list = [1, 2, 3, 4, 2, 3, 5]\n",
    "duplicate_count = Counter(my_list)\n",
    "print(duplicate_count)\n"
   ]
  },
  {
   "cell_type": "markdown",
   "id": "c59511db-5dbe-4840-8bfc-38cd6b969a02",
   "metadata": {},
   "source": [
    "## Filtering Duplicates\n"
   ]
  },
  {
   "cell_type": "markdown",
   "id": "ed1f1172-0e1f-444b-8e78-8b5a8c31589b",
   "metadata": {},
   "source": [
    "### Example\n"
   ]
  },
  {
   "cell_type": "code",
   "execution_count": null,
   "id": "09f238ee-7112-4df4-bb39-a2cfae6f2aa8",
   "metadata": {},
   "outputs": [],
   "source": [
    "my_list = [1, 2, 3, 4, 2, 3, 5]\n",
    "unique_list = []\n",
    "for item in my_list:\n",
    "    if item not in unique_list:\n",
    "        unique_list.append(item)\n",
    "print(unique_list)\n"
   ]
  },
  {
   "cell_type": "markdown",
   "id": "ab500ad7-44d1-4e21-95ca-f835cd980981",
   "metadata": {},
   "source": [
    "## Exercise 1: \n",
    "\n",
    "Given a list `my_list = [1, 2, 3, 4, 2, 3, 5]`, remove all duplicates and print the resulting list.\n"
   ]
  },
  {
   "cell_type": "code",
   "execution_count": null,
   "id": "52abdf84-a792-4b3e-bb66-68b8b4d1254c",
   "metadata": {},
   "outputs": [],
   "source": [
    "# Solution\n"
   ]
  },
  {
   "cell_type": "markdown",
   "id": "fcde796c-3f8c-4c23-801d-54515a728216",
   "metadata": {},
   "source": [
    "## Exercise 2: \n",
    "\n",
    "Count the occurrences of each element in the list `my_list = ['a', 'b', 'c', 'a', 'b', 'a']` and print the counts.\n"
   ]
  },
  {
   "cell_type": "code",
   "execution_count": null,
   "id": "272ea61e-7e4b-4029-b4ab-06873558db0c",
   "metadata": {},
   "outputs": [],
   "source": [
    "# Solution\n"
   ]
  },
  {
   "cell_type": "markdown",
   "id": "7ed2fecb-b9a5-40c7-b4c3-87c915629c76",
   "metadata": {},
   "source": [
    "## Exercise 3: \n",
    "\n",
    "Filter out duplicates from the list `my_list = [1, 2, 3, 4, 2, 3, 5]` without using sets or Counter, and print the resulting list.\n"
   ]
  },
  {
   "cell_type": "code",
   "execution_count": null,
   "id": "c80ed361-e0ea-4254-b723-828eb6964b1e",
   "metadata": {},
   "outputs": [],
   "source": [
    "# Solution\n"
   ]
  },
  {
   "cell_type": "markdown",
   "id": "ac381c16-f4d4-4577-8806-658df075b05c",
   "metadata": {},
   "source": [
    "## Summary\n",
    "\n",
    "These exercises and solutions should give you a good understanding of how to handle duplicates in Python data structures. Feel free to experiment with other methods and data types as well!\n"
   ]
  },
  {
   "cell_type": "markdown",
   "id": "34437bf4-547d-4dd9-99d1-6cc00c637b3c",
   "metadata": {},
   "source": [
    "<details>\n",
    "<summary><b>Instructor Notes</b></summary>\n",
    "\n",
    "Nothing to add...\n",
    "\n",
    "</details>"
   ]
  }
 ],
 "metadata": {
  "kernelspec": {
   "display_name": "Python 3 (ipykernel)",
   "language": "python",
   "name": "python3"
  },
  "language_info": {
   "codemirror_mode": {
    "name": "ipython",
    "version": 3
   },
   "file_extension": ".py",
   "mimetype": "text/x-python",
   "name": "python",
   "nbconvert_exporter": "python",
   "pygments_lexer": "ipython3",
   "version": "3.12.2"
  }
 },
 "nbformat": 4,
 "nbformat_minor": 5
}
