{
 "cells": [
  {
   "cell_type": "markdown",
   "id": "e5448ec4-4301-4ae6-9507-d4719c81740a",
   "metadata": {},
   "source": [
    "# Python Tutorial: Incorrect Value Cleanup\n",
    "\n",
    "This is a tutorial on cleaning up incorrect values in Python. We'll cover various methods and techniques for identifying and correcting incorrect data in a dataset.\n"
   ]
  },
  {
   "cell_type": "markdown",
   "id": "7c38a49a-cf08-4769-8ec8-f3c79836dded",
   "metadata": {},
   "source": [
    "## Identifying Incorrect Values\n",
    "\n",
    "Before we can clean up incorrect values, we need to identify them. Here are some common types of incorrect values:\n",
    "\n",
    "- Missing values: These are usually represented as `None`, `NaN`, or empty strings.\n",
    "- Outliers: Values that are significantly different from the rest of the data.\n",
    "- Data format errors: Values that don't match the expected format, such as strings in a numerical column.\n",
    "- Inconsistent values: Values that are inconsistent with the rest of the data, such as a temperature recorded as -500°C.\n"
   ]
  },
  {
   "cell_type": "markdown",
   "id": "1c0f1b15-d92a-4671-9eb9-a436bccc41bf",
   "metadata": {},
   "source": [
    "## Cleaning Incorrect Values\n",
    "\n",
    "Once we've identified the incorrect values, we can clean them using various techniques. Here are some common methods:\n"
   ]
  },
  {
   "cell_type": "markdown",
   "id": "d26644b8-cc71-451c-8fb5-1f1c486e44fb",
   "metadata": {},
   "source": [
    "### Removing Missing Values\n",
    "\n",
    "We can remove rows or columns with missing values using the `dropna()` function from the pandas library.\n"
   ]
  },
  {
   "cell_type": "code",
   "execution_count": null,
   "id": "aa553992-5445-42fc-862a-7795f16c30e3",
   "metadata": {},
   "outputs": [],
   "source": [
    "import pandas as pd\n",
    "\n",
    "# Create a DataFrame with missing values\n",
    "data = {'A': [1, 2, None, 4], 'B': ['x', 'y', None, 'z']}\n",
    "df = pd.DataFrame(data)\n",
    "\n",
    "# Drop rows with missing values\n",
    "clean_df = df.dropna()\n",
    "print(clean_df)\n"
   ]
  },
  {
   "cell_type": "markdown",
   "id": "24aaaa0b-0142-4ee6-9d9a-8a72aaab03c6",
   "metadata": {},
   "source": [
    "### Handling Outliers\n",
    "\n",
    "We can handle outliers by replacing them with a more appropriate value, such as the median or mean of the dataset.\n"
   ]
  },
  {
   "cell_type": "code",
   "execution_count": null,
   "id": "079b2ef9-c810-4cf2-ab61-805264fc42fc",
   "metadata": {},
   "outputs": [],
   "source": [
    "# Replace outliers with the median\n",
    "median = df['A'].median()\n",
    "df['A'] = df['A'].apply(lambda x: median if x > 10 else x)\n",
    "print(df)\n"
   ]
  },
  {
   "cell_type": "markdown",
   "id": "7458cebf-b829-4032-9cdf-91e5accaa652",
   "metadata": {},
   "source": [
    "### Correcting Data Format Errors\n",
    "\n",
    "We can use regular expressions or built-in functions like `astype()` to correct data format errors.\n"
   ]
  },
  {
   "cell_type": "code",
   "execution_count": null,
   "id": "6ec41fe9-7b0a-4b76-ae8e-8bea42c777a1",
   "metadata": {},
   "outputs": [],
   "source": [
    "# Convert column to numeric\n",
    "df['A'] = pd.to_numeric(df['A'], errors='coerce')\n",
    "print(df)\n"
   ]
  },
  {
   "cell_type": "markdown",
   "id": "0ef7eb55-81e7-4de6-a962-6fe30fd05957",
   "metadata": {},
   "source": [
    "### Dealing with Inconsistent Values\n",
    "\n",
    "We can manually correct inconsistent values or use heuristics to infer the correct values.\n"
   ]
  },
  {
   "cell_type": "code",
   "execution_count": null,
   "id": "9f3057c8-2ba5-4f8b-b904-1610daa067e0",
   "metadata": {},
   "outputs": [],
   "source": [
    "# Replace inconsistent values\n",
    "df['A'] = df['A'].apply(lambda x: x if x > 0 else None)\n",
    "print(df)\n"
   ]
  },
  {
   "cell_type": "markdown",
   "id": "f3ce3aa4-5d32-49b2-be83-fbaad105f75d",
   "metadata": {},
   "source": [
    "## Exercise 1: \n",
    "\n",
    "Create a DataFrame with missing values and remove them.\n"
   ]
  },
  {
   "cell_type": "code",
   "execution_count": null,
   "id": "d3c9e8fc-dedb-4c2a-9845-67d792dcce25",
   "metadata": {},
   "outputs": [],
   "source": [
    "# Solution\n"
   ]
  },
  {
   "cell_type": "markdown",
   "id": "0521cbb1-3ec5-4b83-a4a5-d68f6c88c97d",
   "metadata": {},
   "source": [
    "## Exercise 2: \n",
    "\n",
    "Create a DataFrame with outliers and replace them with the median.\n"
   ]
  },
  {
   "cell_type": "code",
   "execution_count": null,
   "id": "58a25188-b9e6-46ff-bf34-50c3d5952a03",
   "metadata": {},
   "outputs": [],
   "source": [
    "# Solution\n"
   ]
  },
  {
   "cell_type": "markdown",
   "id": "1e176c9f-c020-4bc4-a67f-2dbd1fa03b53",
   "metadata": {},
   "source": [
    "## Exercise 3: \n",
    "\n",
    "Create a DataFrame with data format errors and correct them.\n"
   ]
  },
  {
   "cell_type": "code",
   "execution_count": null,
   "id": "fd230f77-ad8a-420a-9dd1-c0337aa849f1",
   "metadata": {},
   "outputs": [],
   "source": [
    "# Solution\n"
   ]
  },
  {
   "cell_type": "markdown",
   "id": "9f4a0608-bf82-41c5-a79e-f85d0c140c2c",
   "metadata": {},
   "source": [
    "## Exercise 4: \n",
    "\n",
    "Create a DataFrame with inconsistent values and correct them.\n"
   ]
  },
  {
   "cell_type": "code",
   "execution_count": null,
   "id": "e60226e7-9909-49a8-9645-4b21e8d05c70",
   "metadata": {},
   "outputs": [],
   "source": [
    "# Solution\n"
   ]
  },
  {
   "cell_type": "markdown",
   "id": "284128c1-7170-49f0-a459-6dfc62269fd1",
   "metadata": {},
   "source": [
    "## Sumary\n",
    "\n",
    "This should give you a good starting point for cleaning up incorrect values in your datasets using Python! \n"
   ]
  },
  {
   "cell_type": "markdown",
   "id": "89fe6834-1226-42cf-9cab-f9a154de7a59",
   "metadata": {},
   "source": [
    "<details>\n",
    "<summary><b>Instructor Notes</b></summary>\n",
    "\n",
    "Nothing to add...\n",
    "\n",
    "</details>"
   ]
  }
 ],
 "metadata": {
  "kernelspec": {
   "display_name": "Python 3 (ipykernel)",
   "language": "python",
   "name": "python3"
  },
  "language_info": {
   "codemirror_mode": {
    "name": "ipython",
    "version": 3
   },
   "file_extension": ".py",
   "mimetype": "text/x-python",
   "name": "python",
   "nbconvert_exporter": "python",
   "pygments_lexer": "ipython3",
   "version": "3.11.5"
  }
 },
 "nbformat": 4,
 "nbformat_minor": 5
}
