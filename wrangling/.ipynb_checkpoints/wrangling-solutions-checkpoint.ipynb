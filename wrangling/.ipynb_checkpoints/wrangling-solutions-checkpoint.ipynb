{
 "cells": [
  {
   "cell_type": "code",
   "execution_count": null,
   "id": "744c79ec-5b1e-4d30-a904-005afcf15f7c",
   "metadata": {},
   "outputs": [],
   "source": [
    "# Exercise 1: \n",
    "# Read a CSV file named 'sales-data.csv' into a DataFrame and display the first 5 rows.\n",
    "\n",
    "df = pd.read_csv('sales-data.csv')\n",
    "print(df.head())\n"
   ]
  },
  {
   "cell_type": "code",
   "execution_count": null,
   "id": "c56b563e-0eb4-4567-99c8-fc0270a77957",
   "metadata": {},
   "outputs": [],
   "source": [
    "# Exercise 2: \n",
    "# Handle missing values in the DataFrame created in Exercise 1 by filling them with the mean of the respective column.\n",
    "\n",
    "df['Revenue'].fillna(df['Revenue'].mean(), inplace=True)\n",
    "df['Cost'].fillna(df['Cost'].mean(), inplace=True)\n",
    "print(df.head())\n"
   ]
  },
  {
   "cell_type": "code",
   "execution_count": null,
   "id": "2b7e22aa-62f2-434a-b5f8-74f6a32da5f5",
   "metadata": {},
   "outputs": [],
   "source": [
    "# Exercise 3: \n",
    "# Create a new column in the DataFrame created in Exercise 1, which calculates the profit (Revenue - Cost).\n",
    "\n",
    "df['Profit'] = df['Revenue'] - df['Cost']\n",
    "print(df.head())\n"
   ]
  },
  {
   "cell_type": "code",
   "execution_count": null,
   "id": "1509ab23-2cae-43f6-ada5-007f51ce9d06",
   "metadata": {},
   "outputs": [],
   "source": [
    "# Exercise:\n",
    "# Given the list `data = ['apple', 'banana', 'apple', 'orange', 'banana']`, remove duplicates and print the cleaned list.\n",
    "\n",
    "data = ['apple', 'banana', 'apple', 'orange', 'banana']\n",
    "\n",
    "# Remove duplicates\n",
    "clean_data = list(set(data))\n",
    "\n",
    "print(clean_data)\n"
   ]
  },
  {
   "cell_type": "code",
   "execution_count": null,
   "id": "06084c7b-84fc-4636-8eb7-70a0522bc5a7",
   "metadata": {},
   "outputs": [],
   "source": [
    "# Exercise:\n",
    "# Given the DataFrame `df` with missing values, fill the missing values with the mean of each column.\n",
    "\n",
    "# Fill missing values with column means\n",
    "clean_df = df.fillna(df.mean())\n",
    "\n",
    "print(clean_df)\n"
   ]
  },
  {
   "cell_type": "code",
   "execution_count": null,
   "id": "f7e14e25-134e-4cc7-86b9-d5405c950daf",
   "metadata": {},
   "outputs": [],
   "source": [
    "# Exercise:\n",
    "# Given the array `data = np.array([1, 2, 3, 100, 5, 6, 7, 8])`, remove outliers using the Interquartile Range (IQR) method.\n",
    "\n",
    "q1, q3 = np.percentile(data, [25, 75])\n",
    "iqr = q3 - q1\n",
    "lower_bound = q1 - (1.5 * iqr)\n",
    "upper_bound = q3 + (1.5 * iqr)\n",
    "clean_data = data[(data >= lower_bound) & (data <= upper_bound)]\n",
    "\n",
    "print(clean_data)\n"
   ]
  },
  {
   "cell_type": "code",
   "execution_count": null,
   "id": "5313bce6-dea1-4513-98c4-b96c6510078f",
   "metadata": {},
   "outputs": [],
   "source": [
    "# Exercise 1: \n",
    "# Given a list `my_list = [1, 2, 3, 4, 2, 3, 5]`, remove all duplicates and print the resulting list.\n",
    "\n",
    "my_list = [1, 2, 3, 4, 2, 3, 5]\n",
    "unique_list = list(set(my_list))\n",
    "print(unique_list)\n"
   ]
  },
  {
   "cell_type": "code",
   "execution_count": null,
   "id": "69b071a1-5a27-4bba-99f8-b4a950e7e5b9",
   "metadata": {},
   "outputs": [],
   "source": [
    "# Exercise 2: \n",
    "# Count the occurrences of each element in the list `my_list = ['a', 'b', 'c', 'a', 'b', 'a']` and print the counts. \n",
    "\n",
    "from collections import Counter\n",
    "\n",
    "my_list = ['a', 'b', 'c', 'a', 'b', 'a']\n",
    "duplicate_count = Counter(my_list)\n",
    "print(duplicate_count)\n"
   ]
  },
  {
   "cell_type": "code",
   "execution_count": null,
   "id": "81a6f7c8-cdfb-4a4a-a1af-532ec83eaf85",
   "metadata": {},
   "outputs": [],
   "source": [
    "# Exercise 3: \n",
    "# Filter out duplicates from the list `my_list = [1, 2, 3, 4, 2, 3, 5]` without using sets or Counter, and print the resulting list.\n",
    "\n",
    "my_list = [1, 2, 3, 4, 2, 3, 5]\n",
    "unique_list = []\n",
    "for item in my_list:\n",
    "    if item not in unique_list:\n",
    "        unique_list.append(item)\n",
    "print(unique_list)\n"
   ]
  },
  {
   "cell_type": "code",
   "execution_count": null,
   "id": "167e6490-f759-4d21-b47b-a9a5f04682a7",
   "metadata": {},
   "outputs": [],
   "source": [
    "# Exercise: \n",
    "# Clean up a list of dates:\n",
    "\n",
    "Given a list of dates in various formats, clean them up and convert them into a standardized format.\n",
    "\n",
    "from datetime import datetime\n",
    "\n",
    "dates = ['2023-12-25', '12/25/2023', '2023/12/25', '25-Dec-2023']\n",
    "cleaned_dates = []\n",
    "\n",
    "for date_str in dates:\n",
    "    try:\n",
    "        # Try parsing with different formats\n",
    "        formatted_date = datetime.strptime(date_str, '%Y-%m-%d')\n",
    "    except ValueError:\n",
    "        try:\n",
    "            formatted_date = datetime.strptime(date_str, '%m/%d/%Y')\n",
    "        except ValueError:\n",
    "            try:\n",
    "                formatted_date = datetime.strptime(date_str, '%Y/%m/%d')\n",
    "            except ValueError:\n",
    "                formatted_date = datetime.strptime(date_str, '%d-%b-%Y')\n",
    "    cleaned_dates.append(formatted_date)\n",
    "\n",
    "print(cleaned_dates)\n",
    "\n",
    "# The code above cleans up the list of dates and stores them in the `cleaned_dates` list. \n",
    "# Each date is converted into a `datetime` object using the appropriate format string.\n"
   ]
  },
  {
   "cell_type": "code",
   "execution_count": null,
   "id": "7c0f1fcb-dedf-4d8d-a6f6-00a3680bbf23",
   "metadata": {},
   "outputs": [],
   "source": [
    "# Exercise 1: \n",
    "# Create a DataFrame with missing values and remove them.\n",
    " \n",
    "import pandas as pd\n",
    "data = {'A': [1, 2, None, 4], 'B': ['x', 'y', None, 'z']}\n",
    "df = pd.DataFrame(data)\n",
    "clean_df = df.dropna()\n",
    "print(clean_df)\n"
   ]
  },
  {
   "cell_type": "code",
   "execution_count": null,
   "id": "255beb77-68ac-45cf-9a6c-1ba0d52ecd1a",
   "metadata": {},
   "outputs": [],
   "source": [
    "# Exercise 2: \n",
    "# Create a DataFrame with outliers and replace them with the median. \n",
    "\n",
    "import pandas as pd\n",
    "data = {'A': [1, 2, 20, 4], 'B': ['x', 'y', 'z', 'w']}\n",
    "df = pd.DataFrame(data)\n",
    "median = df['A'].median()\n",
    "df['A'] = df['A'].apply(lambda x: median if x > 10 else x)\n",
    "print(df)\n"
   ]
  },
  {
   "cell_type": "code",
   "execution_count": null,
   "id": "5e3da91e-6851-4173-9e51-b74ba06d6e02",
   "metadata": {},
   "outputs": [],
   "source": [
    "# Exercise 3: \n",
    "# Create a DataFrame with data format errors and correct them. \n",
    "\n",
    "import pandas as pd\n",
    "data = {'A': ['1', '2', '3', '4'], 'B': ['x', 'y', 'z', 'w']}\n",
    "df = pd.DataFrame(data)\n",
    "df['A'] = pd.to_numeric(df['A'], errors='coerce')\n",
    "print(df)\n"
   ]
  },
  {
   "cell_type": "code",
   "execution_count": null,
   "id": "7db59b49-f686-43c9-ba73-f01fe8e063b9",
   "metadata": {},
   "outputs": [],
   "source": [
    "# Exercise 4: \n",
    "# Create a DataFrame with inconsistent values and correct them.\n",
    "\n",
    "import pandas as pd\n",
    "data = {'A': [1, -2, 3, 4], 'B': ['x', 'y', 'z', 'w']}\n",
    "df = pd.DataFrame(data)\n",
    "df['A'] = df['A'].apply(lambda x: x if x > 0 else None)\n",
    "print(df)\n"
   ]
  },
  {
   "cell_type": "code",
   "execution_count": null,
   "id": "d514980c-363a-4f26-adad-3f71dd9f94a0",
   "metadata": {},
   "outputs": [],
   "source": [
    "# Exercise 1: \n",
    "# Create a DataFrame with missing values and identify the locations of missing data.\n",
    "\n",
    "exercise_data = {'A': [1, None, 3, 4],\n",
    "                 'B': [5, 6, None, 8],\n",
    "                 'C': [9, 10, 11, None]}\n",
    "exercise_df = pd.DataFrame(exercise_data)\n",
    "print(exercise_df.isnull())\n"
   ]
  },
  {
   "cell_type": "code",
   "execution_count": null,
   "id": "b52264a7-03b9-4726-b7e3-6fdc7d43373f",
   "metadata": {},
   "outputs": [],
   "source": [
    "# Exercise 2: \n",
    "# Drop the columns containing missing values from the DataFrame.\n",
    "\n",
    "exercise_cleaned_df = exercise_df.dropna(axis=1)\n",
    "print(exercise_cleaned_df)\n"
   ]
  },
  {
   "cell_type": "code",
   "execution_count": null,
   "id": "ffde4449-8af7-4f67-a122-3b5e19195709",
   "metadata": {},
   "outputs": [],
   "source": [
    "# Exercise 3: \n",
    "# Fill in the missing values with the median of each column.\n",
    "\n",
    "median_filled_df = exercise_df.fillna(exercise_df.median())\n",
    "print(median_filled_df)\n"
   ]
  },
  {
   "cell_type": "code",
   "execution_count": null,
   "id": "c4171d43-db0a-474d-8b78-0616ec002387",
   "metadata": {},
   "outputs": [],
   "source": [
    "# Exercise 1\n",
    "\n",
    "# Convert integer to float\n",
    "int_num = 42\n",
    "float_num = float(int_num)\n",
    "print(float_num)  # Output: 42.0\n"
   ]
  },
  {
   "cell_type": "code",
   "execution_count": null,
   "id": "1fdb1a3f-e8c3-431e-9cf6-83ad7a7cbaba",
   "metadata": {},
   "outputs": [],
   "source": [
    "# Exercise 2 \n",
    "\n",
    "# Convert float to string\n",
    "float_num = 3.14159\n",
    "str_num = str(float_num)\n",
    "print(str_num)  # Output: \"3.14159\"\n"
   ]
  },
  {
   "cell_type": "code",
   "execution_count": null,
   "id": "fe646b6f-f250-40c2-9bf8-e69db13ab777",
   "metadata": {},
   "outputs": [],
   "source": [
    "# Exercise 3\n",
    "\n",
    "# Convert boolean to integer\n",
    "bool_val = True\n",
    "int_val = int(bool_val)\n",
    "print(int_val)  # Output: 1\n"
   ]
  }
 ],
 "metadata": {
  "kernelspec": {
   "display_name": "Python 3 (ipykernel)",
   "language": "python",
   "name": "python3"
  },
  "language_info": {
   "codemirror_mode": {
    "name": "ipython",
    "version": 3
   },
   "file_extension": ".py",
   "mimetype": "text/x-python",
   "name": "python",
   "nbconvert_exporter": "python",
   "pygments_lexer": "ipython3",
   "version": "3.8.18"
  }
 },
 "nbformat": 4,
 "nbformat_minor": 5
}
