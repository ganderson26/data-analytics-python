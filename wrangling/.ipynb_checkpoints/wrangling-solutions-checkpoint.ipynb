{
 "cells": [
  {
   "cell_type": "code",
   "execution_count": null,
   "id": "744c79ec-5b1e-4d30-a904-005afcf15f7c",
   "metadata": {},
   "outputs": [],
   "source": [
    "# Exercise 1: \n",
    "# Read a CSV file named 'sales-data.csv' into a DataFrame and display the first 5 rows.\n",
    "\n",
    "df = pd.read_csv('sales-data.csv')\n",
    "print(df.head())\n"
   ]
  },
  {
   "cell_type": "code",
   "execution_count": null,
   "id": "c56b563e-0eb4-4567-99c8-fc0270a77957",
   "metadata": {},
   "outputs": [],
   "source": [
    "# Solution\n",
    "# Exercise 2: \n",
    "# Handle missing values in the DataFrame created in Exercise 1 by filling them with the mean of the respective column.\n",
    "\n",
    "df['Revenue'].fillna(df['Revenue'].mean(), inplace=True)\n",
    "df['Cost'].fillna(df['Cost'].mean(), inplace=True)\n",
    "print(df.head())\n"
   ]
  },
  {
   "cell_type": "code",
   "execution_count": null,
   "id": "2b7e22aa-62f2-434a-b5f8-74f6a32da5f5",
   "metadata": {},
   "outputs": [],
   "source": [
    "# Exercise 3: \n",
    "# Create a new column in the DataFrame created in Exercise 1, which calculates the profit (Revenue - Cost).\n",
    "\n",
    "df['Profit'] = df['Revenue'] - df['Cost']\n",
    "print(df.head())\n"
   ]
  }
 ],
 "metadata": {
  "kernelspec": {
   "display_name": "Python 3 (ipykernel)",
   "language": "python",
   "name": "python3"
  },
  "language_info": {
   "codemirror_mode": {
    "name": "ipython",
    "version": 3
   },
   "file_extension": ".py",
   "mimetype": "text/x-python",
   "name": "python",
   "nbconvert_exporter": "python",
   "pygments_lexer": "ipython3",
   "version": "3.8.18"
  }
 },
 "nbformat": 4,
 "nbformat_minor": 5
}
