{
 "cells": [
  {
   "cell_type": "markdown",
   "id": "6588d9b0-4216-480c-8bdf-3a3283829aff",
   "metadata": {},
   "source": [
    "# Python Tutorial: Data Cleanup\n",
    "\n",
    "Cleaning up data is a crucial step in data analysis and preparation. In Python, there are several libraries and techniques available to perform data cleanup effectively. Let's walk through a tutorial covering various aspects of data cleanup with examples, exercises, and solutions.\n"
   ]
  },
  {
   "cell_type": "markdown",
   "id": "97d5a260-0d8c-4141-bff7-f81d7c8b3d0d",
   "metadata": {},
   "source": [
    "## Removing duplicates\n",
    "\n",
    "Duplicate data can skew analysis results and should be removed. Python provides several ways to identify and remove duplicates.\n"
   ]
  },
  {
   "cell_type": "markdown",
   "id": "9ec3b960-edf6-4452-8420-e81ac07595d7",
   "metadata": {},
   "source": [
    "### Example\n"
   ]
  },
  {
   "cell_type": "code",
   "execution_count": null,
   "id": "a4ba4286-391d-4677-90c2-6f0dde7c5dde",
   "metadata": {},
   "outputs": [],
   "source": [
    "data = [1, 2, 3, 4, 5, 1, 2, 3]\n",
    "\n",
    "# Remove duplicates\n",
    "clean_data = list(set(data))\n",
    "\n",
    "print(clean_data)\n"
   ]
  },
  {
   "cell_type": "markdown",
   "id": "89c802bf-d4e1-49c8-b2dd-f631463c4711",
   "metadata": {},
   "source": [
    "### Exercise\n",
    "\n",
    "Given the list `data = ['apple', 'banana', 'apple', 'orange', 'banana']`, remove duplicates and print the cleaned list.\n"
   ]
  },
  {
   "cell_type": "code",
   "execution_count": null,
   "id": "16310ae6-c9ac-465d-8973-a6b26cb05596",
   "metadata": {},
   "outputs": [],
   "source": [
    "# Solution\n"
   ]
  },
  {
   "cell_type": "markdown",
   "id": "047a1353-235b-49ec-8b32-6080e763f914",
   "metadata": {},
   "source": [
    "## Handling missing values\n",
    "\n",
    "Missing values are common in real-world datasets and need to be handled appropriately to avoid errors in analysis.\n"
   ]
  },
  {
   "cell_type": "markdown",
   "id": "6d64a1cf-d633-448e-a022-4d32f1763e1b",
   "metadata": {},
   "source": [
    "### Example\n"
   ]
  },
  {
   "cell_type": "code",
   "execution_count": null,
   "id": "a1a71e69-d634-4c21-a220-537ccb5eded5",
   "metadata": {},
   "outputs": [],
   "source": [
    "import pandas as pd\n",
    "\n",
    "data = {'A': [1, 2, None, 4], 'B': [5, None, 7, 8]}\n",
    "df = pd.DataFrame(data)\n",
    "\n",
    "# Drop rows with missing values\n",
    "clean_df = df.dropna()\n",
    "\n",
    "print(clean_df)\n"
   ]
  },
  {
   "cell_type": "code",
   "execution_count": null,
   "id": "ff0e1d31-e53e-4653-98f4-c8ac1e6f6954",
   "metadata": {},
   "outputs": [],
   "source": [
    "### Exercise\n",
    "\n",
    "Given the DataFrame `df` with missing values, fill the missing values with the mean of each column.\n"
   ]
  },
  {
   "cell_type": "code",
   "execution_count": null,
   "id": "ceea7c21-b08b-446c-a099-67523bb35d38",
   "metadata": {},
   "outputs": [],
   "source": [
    "# Solution\n"
   ]
  },
  {
   "cell_type": "markdown",
   "id": "6db92f54-b2e8-4cac-9fee-e98a317bd009",
   "metadata": {},
   "source": [
    "## Removing outliers\n",
    "\n",
    "Outliers can significantly affect analysis results. Detecting and removing outliers is essential for accurate analysis.\n"
   ]
  },
  {
   "cell_type": "markdown",
   "id": "571a869d-5fc5-461b-a962-3fdf6a9f585c",
   "metadata": {},
   "source": [
    "### Example\n"
   ]
  },
  {
   "cell_type": "code",
   "execution_count": null,
   "id": "cf5a0aee-ffba-4a69-91ed-67d5bd66d431",
   "metadata": {},
   "outputs": [],
   "source": [
    "import numpy as np\n",
    "\n",
    "data = np.array([1, 2, 3, 100, 5, 6, 7, 8])\n",
    "\n",
    "# Remove outliers based on Z-score\n",
    "threshold = 2\n",
    "mean = np.mean(data)\n",
    "std_dev = np.std(data)\n",
    "z_scores = np.abs((data - mean) / std_dev)\n",
    "clean_data = data[z_scores < threshold]\n",
    "\n",
    "print(clean_data)\n"
   ]
  },
  {
   "cell_type": "code",
   "execution_count": null,
   "id": "bf75e7af-d149-4842-b3c1-c771413f1921",
   "metadata": {},
   "outputs": [],
   "source": [
    "### Exercise\n",
    "\n",
    "Given the array `data = np.array([1, 2, 3, 100, 5, 6, 7, 8])`, remove outliers using the Interquartile Range (IQR) method.\n"
   ]
  },
  {
   "cell_type": "code",
   "execution_count": null,
   "id": "4cebbf87-695a-4619-a883-10ef973d834b",
   "metadata": {},
   "outputs": [],
   "source": [
    "# Solution\n"
   ]
  },
  {
   "cell_type": "markdown",
   "id": "5e5613c2-835c-4fcd-82db-f31782972594",
   "metadata": {},
   "source": [
    "## Summary\n",
    "\n",
    "Data cleanup is an essential step in preparing data for analysis. In this tutorial, we covered methods for removing duplicates, handling missing values, and removing outliers in Python. Practice these techniques with various datasets to become proficient in data cleanup.\n",
    "                                                                                                      "
   ]
  }
 ],
 "metadata": {
  "kernelspec": {
   "display_name": "Python 3 (ipykernel)",
   "language": "python",
   "name": "python3"
  },
  "language_info": {
   "codemirror_mode": {
    "name": "ipython",
    "version": 3
   },
   "file_extension": ".py",
   "mimetype": "text/x-python",
   "name": "python",
   "nbconvert_exporter": "python",
   "pygments_lexer": "ipython3",
   "version": "3.8.18"
  }
 },
 "nbformat": 4,
 "nbformat_minor": 5
}
