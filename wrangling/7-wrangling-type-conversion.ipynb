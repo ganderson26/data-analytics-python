{
 "cells": [
  {
   "cell_type": "markdown",
   "id": "9ad90b52-e0b9-4e31-8205-2dcee6cf076c",
   "metadata": {},
   "source": [
    "# Python Tutorial: Type Conversion Cleanup\n",
    "\n",
    "This is a tutorial for Python cleanup type conversion. This tutorial will cover various scenarios where type conversion may be needed, along with examples, exercises, and solutions.\n"
   ]
  },
  {
   "cell_type": "markdown",
   "id": "a65e95a0-4bc7-40be-9bbc-35b6ebcd2f6c",
   "metadata": {},
   "source": [
    "## Common Data Types in Python\n",
    "\n",
    "Before we dive into type conversion, let's review some common data types in Python:\n",
    "\n",
    "1. **Integer (int)**: Whole numbers without any decimal point.\n",
    "2. **Float (float)**: Real numbers with a decimal point or an exponential form.\n",
    "3. **String (str)**: Sequence of characters enclosed within single, double, or triple quotes.\n",
    "4. **Boolean (bool)**: Represents True or False.\n",
    "5. **List (list)**: Ordered collection of items.\n",
    "6. **Tuple (tuple)**: Immutable collection of items.\n",
    "7. **Dictionary (dict)**: Collection of key-value pairs.\n"
   ]
  },
  {
   "cell_type": "markdown",
   "id": "83e044f9-7a44-4c26-90d8-7fd831db7816",
   "metadata": {},
   "source": [
    "### Example 1: Converting String to Integer\n"
   ]
  },
  {
   "cell_type": "code",
   "execution_count": null,
   "id": "8c6d8d1a-e1cc-4142-a23b-ba0abac73317",
   "metadata": {},
   "outputs": [],
   "source": [
    "# Convert string to integer\n",
    "num_str = \"123\"\n",
    "num_int = int(num_str)\n",
    "print(num_int)  # Output: 123\n"
   ]
  },
  {
   "cell_type": "markdown",
   "id": "b4820205-fbe1-4343-9601-d6f3a65bf147",
   "metadata": {},
   "source": [
    "### Example 2: Converting Integer to String\n"
   ]
  },
  {
   "cell_type": "code",
   "execution_count": null,
   "id": "3d894acc-766b-4240-ad89-995a0557d26a",
   "metadata": {},
   "outputs": [],
   "source": [
    "# Convert integer to string\n",
    "num_int = 123\n",
    "num_str = str(num_int)\n",
    "print(num_str)  # Output: \"123\"\n"
   ]
  },
  {
   "cell_type": "markdown",
   "id": "0e0049ce-bc94-49e9-bd6b-d437126a4eef",
   "metadata": {},
   "source": [
    "### Example 3: Converting String to Float\n"
   ]
  },
  {
   "cell_type": "code",
   "execution_count": null,
   "id": "292a2a9a-f0cc-4f89-ae3a-c6f26a36668e",
   "metadata": {},
   "outputs": [],
   "source": [
    "# Convert string to float\n",
    "float_str = \"3.14\"\n",
    "float_num = float(float_str)\n",
    "print(float_num)  # Output: 3.14\n"
   ]
  },
  {
   "cell_type": "markdown",
   "id": "58555b5e-2f69-499f-a182-b4f7bcad8bb8",
   "metadata": {},
   "source": [
    "### Example 4: Converting Float to Integer\n"
   ]
  },
  {
   "cell_type": "code",
   "execution_count": null,
   "id": "22b433b8-1d3a-4600-9e6f-d42b033b078f",
   "metadata": {},
   "outputs": [],
   "source": [
    "# Convert float to integer\n",
    "float_num = 3.14\n",
    "int_num = int(float_num)\n",
    "print(int_num)  # Output: 3\n"
   ]
  },
  {
   "cell_type": "markdown",
   "id": "40813294-cef0-4366-b46b-807fd2760caa",
   "metadata": {},
   "source": [
    "## Exercise 1: Convert Integer to Float\n",
    "\n",
    "Convert the integer `42` to a float.\n"
   ]
  },
  {
   "cell_type": "code",
   "execution_count": null,
   "id": "a959d323-674f-4242-9af4-fb4d87ba3d64",
   "metadata": {},
   "outputs": [],
   "source": [
    "# Solution\n"
   ]
  },
  {
   "cell_type": "markdown",
   "id": "0628d704-ca2e-4b4a-8979-d7ace6cb162d",
   "metadata": {},
   "source": [
    "## Exercise 2: Convert Float to String\n",
    "\n",
    "Convert the float `3.14159` to a string.\n"
   ]
  },
  {
   "cell_type": "code",
   "execution_count": null,
   "id": "48b91aed-c7c2-415d-8af4-d6f5487b86ea",
   "metadata": {},
   "outputs": [],
   "source": [
    "# Solution\n"
   ]
  },
  {
   "cell_type": "markdown",
   "id": "8c0f84b5-c62c-4d5b-b192-113f8651adea",
   "metadata": {},
   "source": [
    "## Exercise 3: Convert Boolean to Integer\n",
    "\n",
    "Convert the boolean `True` to an integer.\n"
   ]
  },
  {
   "cell_type": "code",
   "execution_count": null,
   "id": "430b7574-b28e-493d-8360-212f4eacf520",
   "metadata": {},
   "outputs": [],
   "source": [
    "# Solution\n"
   ]
  },
  {
   "cell_type": "markdown",
   "id": "99a2bacf-3757-4036-a376-724894aa4912",
   "metadata": {},
   "source": [
    "## Summary\n",
    "\n",
    "Type conversion is a crucial aspect of programming in Python. By understanding how to convert between different data types, you can manipulate and work with data more effectively. Practice these examples and exercises to solidify your understanding of type conversion in Python.\n"
   ]
  }
 ],
 "metadata": {
  "kernelspec": {
   "display_name": "Python 3 (ipykernel)",
   "language": "python",
   "name": "python3"
  },
  "language_info": {
   "codemirror_mode": {
    "name": "ipython",
    "version": 3
   },
   "file_extension": ".py",
   "mimetype": "text/x-python",
   "name": "python",
   "nbconvert_exporter": "python",
   "pygments_lexer": "ipython3",
   "version": "3.8.18"
  }
 },
 "nbformat": 4,
 "nbformat_minor": 5
}
