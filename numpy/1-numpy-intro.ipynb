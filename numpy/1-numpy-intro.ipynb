{
 "cells": [
  {
   "cell_type": "markdown",
   "id": "8ce313d6-5718-425a-baae-5fc55ca95594",
   "metadata": {},
   "source": [
    "# Python Tutorial: NumPy\n",
    "\n",
    "NumPy is a powerful library in Python for numerical computing. It provides support for multidimensional arrays, along with a collection of mathematical functions to operate on these arrays efficiently. NumPy is widely used in fields such as scientific computing, data analysis, and machine learning.\n",
    "\n",
    "Early on in Python's history, it became clear that Python's list data structures weren't ideal for doing heavy-duty number crunching.\n",
    "\n",
    "NumPy was created to solve the problem, and introduce an array-type data structure into Python.\n"
   ]
  },
  {
   "cell_type": "markdown",
   "id": "b5fb1d3d-c5c4-40ea-bc8f-e45b8c8d608d",
   "metadata": {},
   "source": [
    "## NumPy\n",
    "\n",
    "https://numpy.org/\n"
   ]
  },
  {
   "cell_type": "markdown",
   "id": "ec934f54-a2f1-4f51-8f13-833406e216dc",
   "metadata": {},
   "source": [
    "## Installation\n",
    "\n",
    "You can install NumPy using pip:\n"
   ]
  },
  {
   "cell_type": "code",
   "execution_count": null,
   "id": "3cc21b3c-1517-4ceb-a258-3f37a2bca774",
   "metadata": {},
   "outputs": [],
   "source": [
    "pip install numpy\n"
   ]
  },
  {
   "cell_type": "code",
   "execution_count": null,
   "id": "c23fa21b-2986-47ed-afb8-b6f46f470523",
   "metadata": {},
   "outputs": [],
   "source": [
    "import numpy as np\n"
   ]
  },
  {
   "cell_type": "markdown",
   "id": "dc10dadb-4cfe-42fc-9343-8ff54912038d",
   "metadata": {},
   "source": [
    "## Example 1: Creating Arrays\n"
   ]
  },
  {
   "cell_type": "code",
   "execution_count": null,
   "id": "21b01616-a79a-4385-b4d9-ec8d64eb5036",
   "metadata": {},
   "outputs": [],
   "source": [
    "# 1D array\n",
    "arr1d = np.array([1, 2, 3, 4, 5])\n",
    "\n",
    "# 2D array\n",
    "arr2d = np.array([[1, 2, 3], [4, 5, 6]])\n",
    "\n",
    "print(arr2d)\n"
   ]
  },
  {
   "cell_type": "markdown",
   "id": "c8c023ce-7462-491a-adc6-74455b2e76bf",
   "metadata": {},
   "source": [
    "## Example 2: Array Operations\n"
   ]
  },
  {
   "cell_type": "code",
   "execution_count": null,
   "id": "0467e4ff-011b-41ab-81cc-e784fd2794a5",
   "metadata": {},
   "outputs": [],
   "source": [
    "# Element-wise operations\n",
    "arr = np.array([1, 2, 3, 4, 5])\n",
    "\n",
    "print(arr + 2)    # Add 2 to each element\n",
    "print(arr * 3)    # Multiply each element by 3\n",
    "\n",
    "# Array broadcasting\n",
    "arr1 = np.array([[1, 2, 3], [4, 5, 6]])\n",
    "arr2 = np.array([10, 20, 30])\n",
    "\n",
    "print(arr1 + arr2)  # Add arr2 to each row of arr1\n"
   ]
  },
  {
   "cell_type": "markdown",
   "id": "a3a75f4f-12ba-4cc2-a75c-bb7c6c9ea097",
   "metadata": {},
   "source": [
    "## Example 3: Mathematical Functions\n"
   ]
  },
  {
   "cell_type": "code",
   "execution_count": null,
   "id": "725681bf-f23f-4438-a655-e2ae110aef02",
   "metadata": {},
   "outputs": [],
   "source": [
    "# Compute mean, median, and standard deviation\n",
    "arr = np.array([1, 2, 3, 4, 5])\n",
    "\n",
    "print(np.mean(arr))\n",
    "print(np.median(arr))\n",
    "print(np.std(arr))\n",
    "\n",
    "# Trigonometric functions\n",
    "angles = np.array([0, np.pi/2, np.pi])\n",
    "\n",
    "print(np.sin(angles))\n"
   ]
  },
  {
   "cell_type": "markdown",
   "id": "008d90da-2b15-4d5f-8bdb-b222e08b9d37",
   "metadata": {},
   "source": [
    "## Exercise 1: \n",
    "\n",
    "Create a 2D array of shape (3, 3) with values ranging from 1 to 9.\n"
   ]
  },
  {
   "cell_type": "code",
   "execution_count": null,
   "id": "065b820b-2225-4d25-bb7b-d8e41bc22e52",
   "metadata": {},
   "outputs": [],
   "source": [
    "# Solution\n"
   ]
  },
  {
   "cell_type": "markdown",
   "id": "ae867a71-9537-41ae-929e-3336d891be33",
   "metadata": {},
   "source": [
    "## Exercise 2: \n",
    "\n",
    "Compute the dot product of two matrices: [[1, 2], [3, 4]] and [[5, 6], [7, 8]].\n"
   ]
  },
  {
   "cell_type": "code",
   "execution_count": null,
   "id": "1a970c68-de11-4918-b2cc-9809d7914a36",
   "metadata": {},
   "outputs": [],
   "source": [
    "# Solution\n"
   ]
  },
  {
   "cell_type": "markdown",
   "id": "b3b80384-1ec7-4a74-ad5b-b6e7aff16c5e",
   "metadata": {},
   "source": [
    "## Summary\n",
    "\n",
    "NumPy provides a powerful set of tools for numerical computing in Python, making it easier and more efficient to work with large datasets and perform complex mathematical operations.\n"
   ]
  },
  {
   "cell_type": "markdown",
   "id": "986cd1a2-4e60-4f11-b886-9b5b9607323d",
   "metadata": {},
   "source": [
    "<details>\n",
    "<summary><b>Instructor Notes</b></summary>\n",
    "\n",
    "Nothing to add...\n",
    "\n",
    "</details>"
   ]
  }
 ],
 "metadata": {
  "kernelspec": {
   "display_name": "Python 3 (ipykernel)",
   "language": "python",
   "name": "python3"
  },
  "language_info": {
   "codemirror_mode": {
    "name": "ipython",
    "version": 3
   },
   "file_extension": ".py",
   "mimetype": "text/x-python",
   "name": "python",
   "nbconvert_exporter": "python",
   "pygments_lexer": "ipython3",
   "version": "3.8.18"
  }
 },
 "nbformat": 4,
 "nbformat_minor": 5
}
