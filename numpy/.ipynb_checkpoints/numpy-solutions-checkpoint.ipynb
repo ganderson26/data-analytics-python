{
 "cells": [
  {
   "cell_type": "code",
   "execution_count": null,
   "id": "fcd866eb-09b0-43d5-a93e-d2355a01816b",
   "metadata": {},
   "outputs": [],
   "source": [
    "# Exercise 1: \n",
    "# Create a 2D array of shape (3, 3) with values ranging from 1 to 9.**\n",
    "\n",
    "arr2d = np.arange(1, 10).reshape(3, 3)\n",
    "print(arr2d)\n"
   ]
  },
  {
   "cell_type": "code",
   "execution_count": null,
   "id": "178e7ce7-8dbe-4f98-acbb-d2161667127d",
   "metadata": {},
   "outputs": [],
   "source": [
    "# Exercise 2: \n",
    "# Compute the dot product of two matrices: [[1, 2], [3, 4]] and [[5, 6], [7, 8]].**\n",
    "\n",
    "arr1 = np.array([[1, 2], [3, 4]])\n",
    "arr2 = np.array([[5, 6], [7, 8]])\n",
    "dot_product = np.dot(arr1, arr2)\n",
    "print(dot_product)\n"
   ]
  }
 ],
 "metadata": {
  "kernelspec": {
   "display_name": "Python 3 (ipykernel)",
   "language": "python",
   "name": "python3"
  },
  "language_info": {
   "codemirror_mode": {
    "name": "ipython",
    "version": 3
   },
   "file_extension": ".py",
   "mimetype": "text/x-python",
   "name": "python",
   "nbconvert_exporter": "python",
   "pygments_lexer": "ipython3",
   "version": "3.8.18"
  }
 },
 "nbformat": 4,
 "nbformat_minor": 5
}
