{
 "cells": [
  {
   "cell_type": "markdown",
   "id": "b70afccb-db1f-4262-a078-c0e358846b27",
   "metadata": {},
   "source": [
    "# Setup\n",
    "\n",
    "These instructions will assist you with installing and configuring Anaconda and Jupyter Lab.\n"
   ]
  },
  {
   "cell_type": "markdown",
   "id": "53ee9216-daa3-43d0-a691-2967cdc94be9",
   "metadata": {},
   "source": [
    "## Install Anaconda\n",
    "\n",
    "https://www.anaconda.com/download\n"
   ]
  },
  {
   "cell_type": "markdown",
   "id": "840b045a-d978-4f1f-a883-74a635686d8a",
   "metadata": {},
   "source": [
    "## Configure Anaconda\n",
    "\n",
    "From Terminal on Mac or GitBash on Windows\n",
    "\n",
    "`conda create --name pyds python=3.8 pip`\n",
    "\n",
    "<img width=\"737\" alt=\"image\" src=\"https://github.com/ganderson26/data-analytics-python/assets/9643363/0d59ef0e-0806-4962-8304-fd405fdac494\">\n",
    "\n",
    "`Enter y to Proceed`\n",
    "\n",
    "You should see the packages being downloaded.\n",
    "\n",
    "<img width=\"370\" alt=\"image\" src=\"https://github.com/ganderson26/data-analytics-python/assets/9643363/72d4d71d-39e8-4d6e-986b-25c0d7d5217d\">\n",
    "\n",
    "\n",
    "`conda env list`\n",
    "\n",
    "You should see the new environment.\n",
    "\n",
    "<img width=\"451\" alt=\"image\" src=\"https://github.com/ganderson26/data-analytics-python/assets/9643363/9754ad98-0871-4450-9b91-f074a1de0010\">\n",
    "\n",
    "\n",
    "`conda activate pyds`\n",
    "\n",
    "You should see the new environment name in the prompt.\n",
    "\n",
    "<img width=\"473\" alt=\"image\" src=\"https://github.com/ganderson26/data-analytics-python/assets/9643363/2ae0cdef-b842-4b7a-984f-9df38cc7afd3\">\n",
    "\n"
   ]
  },
  {
   "cell_type": "markdown",
   "id": "7f646d38-758a-43b6-bb1d-ea442924a0bd",
   "metadata": {},
   "source": [
    "## Install Jupyter Lab\n",
    "\n",
    "Inside the environment shell:\n",
    "\n",
    "`conda install -y numpy pandas scikit-learn seaborn matplotlib`\n",
    "\n",
    "This will take a little time as it is downloading and extracting the packages.\n",
    "\n",
    "<img width=\"777\" alt=\"image\" src=\"https://github.com/ganderson26/data-analytics-python/assets/9643363/82bbeb67-d984-4a10-9044-2cdad51f5ac3\">\n",
    "\n",
    "And it continues...\n",
    "\n",
    "<img width=\"318\" alt=\"image\" src=\"https://github.com/ganderson26/data-analytics-python/assets/9643363/ef0d3c3c-568d-4de5-aebd-15549799451b\">\n",
    "\n",
    "\n",
    "\n",
    "`conda list`\n",
    "\n",
    "You will see the list of installed packages.\n",
    "\n",
    "<img width=\"486\" alt=\"image\" src=\"https://github.com/ganderson26/data-analytics-python/assets/9643363/9fce8453-b465-4c55-8f86-66455a05f337\">\n",
    "\n",
    "\n",
    "`conda install -y jupyterlab`\n",
    "\n",
    "This will install our IDE of choice.\n",
    "\n",
    "<img width=\"512\" alt=\"image\" src=\"https://github.com/ganderson26/data-analytics-python/assets/9643363/88dccf81-76a6-4721-95a7-8ee6d4ad390b\">\n"
   ]
  },
  {
   "cell_type": "markdown",
   "id": "a49951e2-7326-4d7d-837b-ee2266f2b4d7",
   "metadata": {},
   "source": [
    "## Launch Jupyter Lab\n",
    "\n",
    "`jupyter lab`\n",
    "\n",
    "This will open a new Browser Tab. We will not do anything. We just want to see if Jupyter Lab will open.\n",
    "\n",
    "![image](https://github.com/ganderson26/data-analytics-python/assets/9643363/8dcee9a3-ae01-498f-b4f8-c9a28b21e342)\n",
    "\n"
   ]
  },
  {
   "cell_type": "markdown",
   "id": "b4f6d62e-2a33-4a91-98e8-f56895d33020",
   "metadata": {},
   "source": [
    "## Shutdown\n",
    "\n",
    "From Jupyter Lab: \n",
    "\n",
    "`Select File -> Shut Down`\n",
    "\n",
    "![image](https://github.com/ganderson26/data-analytics-python/assets/9643363/516138ae-0b7a-4b7e-be7f-742e0244d6f9)\n",
    "\n",
    "![image](https://github.com/ganderson26/data-analytics-python/assets/9643363/3ea1ead4-f1a9-4701-bf90-2ca97131d016)\n",
    "\n",
    "![image](https://github.com/ganderson26/data-analytics-python/assets/9643363/da850779-1168-4ed2-9c2e-64357704a183)\n",
    "\n",
    "\n",
    "\n",
    "\n",
    "From Terminal or GitBash:\n",
    "\n",
    "`conda deactivate`\n",
    "\n",
    "<img width=\"453\" alt=\"image\" src=\"https://github.com/ganderson26/data-analytics-python/assets/9643363/cb183d7a-5021-44d1-9c81-097093b269c7\">\n",
    "\n"
   ]
  },
  {
   "cell_type": "markdown",
   "id": "3048fdd5-5cc1-4f9f-8c10-39e62c0b2f5b",
   "metadata": {},
   "source": [
    "<details>\n",
    "<summary><b>Instructor Notes</b></summary>\n",
    "\n",
    "Nothing to add...\n",
    "\n",
    "</details>"
   ]
  }
 ],
 "metadata": {
  "kernelspec": {
   "display_name": "Python 3 (ipykernel)",
   "language": "python",
   "name": "python3"
  },
  "language_info": {
   "codemirror_mode": {
    "name": "ipython",
    "version": 3
   },
   "file_extension": ".py",
   "mimetype": "text/x-python",
   "name": "python",
   "nbconvert_exporter": "python",
   "pygments_lexer": "ipython3",
   "version": "3.11.5"
  }
 },
 "nbformat": 4,
 "nbformat_minor": 5
}
